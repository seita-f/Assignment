{
 "cells": [
  {
   "cell_type": "markdown",
   "metadata": {
    "colab_type": "text",
    "id": "Kw0fIYKmolzm"
   },
   "source": [
    "## General description <a name=\"general_description\"></a>\n"
   ]
  },
  {
   "cell_type": "markdown",
   "metadata": {
    "colab_type": "text",
    "id": "CcL1lG4kjNhC"
   },
   "source": [
    "## Install and import necessary packages\n"
   ]
  },
  {
   "cell_type": "code",
   "execution_count": 1,
   "metadata": {
    "colab": {
     "base_uri": "https://localhost:8080/",
     "height": 678
    },
    "colab_type": "code",
    "id": "IrFU3KqUjYf-",
    "outputId": "9f7026c0-47f5-4cbe-fbb3-2a38c1d3e8f8"
   },
   "outputs": [
    {
     "ename": "ModuleNotFoundError",
     "evalue": "No module named 'geopy'",
     "output_type": "error",
     "traceback": [
      "\u001b[31m---------------------------------------------------------------------------\u001b[39m",
      "\u001b[31mModuleNotFoundError\u001b[39m                       Traceback (most recent call last)",
      "\u001b[36mCell\u001b[39m\u001b[36m \u001b[39m\u001b[32mIn[1]\u001b[39m\u001b[32m, line 8\u001b[39m\n\u001b[32m      5\u001b[39m \u001b[38;5;28;01mimport\u001b[39;00m \u001b[34;01mpandas\u001b[39;00m \u001b[38;5;28;01mas\u001b[39;00m \u001b[34;01mpd\u001b[39;00m\n\u001b[32m      6\u001b[39m \u001b[38;5;28;01mimport\u001b[39;00m \u001b[34;01msklearn\u001b[39;00m\u001b[34;01m.\u001b[39;00m\u001b[34;01mpreprocessing\u001b[39;00m\n\u001b[32m----> \u001b[39m\u001b[32m8\u001b[39m \u001b[38;5;28;01mimport\u001b[39;00m \u001b[34;01mgeopy\u001b[39;00m\u001b[34;01m.\u001b[39;00m\u001b[34;01mdistance\u001b[39;00m\n\u001b[32m     10\u001b[39m \u001b[38;5;28;01mimport\u001b[39;00m \u001b[34;01mcatboost\u001b[39;00m \u001b[38;5;28;01mas\u001b[39;00m \u001b[34;01mcb\u001b[39;00m\n\u001b[32m     12\u001b[39m \u001b[38;5;28;01mimport\u001b[39;00m \u001b[34;01mxgboost\u001b[39;00m \u001b[38;5;28;01mas\u001b[39;00m \u001b[34;01mxgb\u001b[39;00m\n",
      "\u001b[31mModuleNotFoundError\u001b[39m: No module named 'geopy'"
     ]
    }
   ],
   "source": [
    "import os\n",
    "import re\n",
    "\n",
    "import numpy as np\n",
    "import pandas as pd\n",
    "import sklearn.preprocessing\n",
    "\n",
    "import geopy.distance\n",
    "\n",
    "import catboost as cb\n",
    "\n",
    "import xgboost as xgb\n",
    "import tensorflow as tf\n",
    "import matplotlib.pyplot as plt\n",
    "import seaborn as sns\n",
    "import warnings\n"
   ]
  },
  {
   "cell_type": "markdown",
   "metadata": {
    "colab_type": "text",
    "id": "OiEegEHdiC4Y"
   },
   "source": [
    "## Load data\n"
   ]
  },
  {
   "cell_type": "code",
   "execution_count": 2,
   "metadata": {
    "colab": {
     "base_uri": "https://localhost:8080/",
     "height": 206
    },
    "colab_type": "code",
    "id": "7X0mwipNgJ7t",
    "outputId": "367366c9-e71c-4721-d656-41bb231813e1"
   },
   "outputs": [],
   "source": [
    "kaggle_data_name = 'covid19-global-forecasting-week-1'\n",
    "data_folder = os.path.join(os.getcwd(), 'datasets', kaggle_data_name)"
   ]
  },
  {
   "cell_type": "code",
   "execution_count": 3,
   "metadata": {
    "colab": {
     "base_uri": "https://localhost:8080/",
     "height": 206
    },
    "colab_type": "code",
    "id": "3EAspteQlnyI",
    "outputId": "3c754fd7-bdee-4088-f10a-1bd703506d16"
   },
   "outputs": [
    {
     "name": "stdout",
     "output_type": "stream",
     "text": [
      "Data loaded: unknown shape\n"
     ]
    },
    {
     "data": {
      "application/vnd.microsoft.datawrangler.viewer.v0+json": {
       "columns": [
        {
         "name": "index",
         "rawType": "int64",
         "type": "integer"
        },
        {
         "name": "Id",
         "rawType": "int64",
         "type": "integer"
        },
        {
         "name": "Province/State",
         "rawType": "object",
         "type": "unknown"
        },
        {
         "name": "Country/Region",
         "rawType": "object",
         "type": "string"
        },
        {
         "name": "Lat",
         "rawType": "float64",
         "type": "float"
        },
        {
         "name": "Long",
         "rawType": "float64",
         "type": "float"
        },
        {
         "name": "Date",
         "rawType": "datetime64[ns]",
         "type": "datetime"
        },
        {
         "name": "ConfirmedCases",
         "rawType": "float64",
         "type": "float"
        },
        {
         "name": "Fatalities",
         "rawType": "float64",
         "type": "float"
        }
       ],
       "ref": "1ac82567-db22-4e87-b966-1113339791a3",
       "rows": [
        [
         "0",
         "1",
         null,
         "Afghanistan",
         "33.0",
         "65.0",
         "2020-01-22 00:00:00",
         "0.0",
         "0.0"
        ],
        [
         "1",
         "2",
         null,
         "Afghanistan",
         "33.0",
         "65.0",
         "2020-01-23 00:00:00",
         "0.0",
         "0.0"
        ],
        [
         "2",
         "3",
         null,
         "Afghanistan",
         "33.0",
         "65.0",
         "2020-01-24 00:00:00",
         "0.0",
         "0.0"
        ],
        [
         "3",
         "4",
         null,
         "Afghanistan",
         "33.0",
         "65.0",
         "2020-01-25 00:00:00",
         "0.0",
         "0.0"
        ],
        [
         "4",
         "5",
         null,
         "Afghanistan",
         "33.0",
         "65.0",
         "2020-01-26 00:00:00",
         "0.0",
         "0.0"
        ]
       ],
       "shape": {
        "columns": 8,
        "rows": 5
       }
      },
      "text/html": [
       "<div>\n",
       "<style scoped>\n",
       "    .dataframe tbody tr th:only-of-type {\n",
       "        vertical-align: middle;\n",
       "    }\n",
       "\n",
       "    .dataframe tbody tr th {\n",
       "        vertical-align: top;\n",
       "    }\n",
       "\n",
       "    .dataframe thead th {\n",
       "        text-align: right;\n",
       "    }\n",
       "</style>\n",
       "<table border=\"1\" class=\"dataframe\">\n",
       "  <thead>\n",
       "    <tr style=\"text-align: right;\">\n",
       "      <th></th>\n",
       "      <th>Id</th>\n",
       "      <th>Province/State</th>\n",
       "      <th>Country/Region</th>\n",
       "      <th>Lat</th>\n",
       "      <th>Long</th>\n",
       "      <th>Date</th>\n",
       "      <th>ConfirmedCases</th>\n",
       "      <th>Fatalities</th>\n",
       "    </tr>\n",
       "  </thead>\n",
       "  <tbody>\n",
       "    <tr>\n",
       "      <th>0</th>\n",
       "      <td>1</td>\n",
       "      <td>NaN</td>\n",
       "      <td>Afghanistan</td>\n",
       "      <td>33.0</td>\n",
       "      <td>65.0</td>\n",
       "      <td>2020-01-22</td>\n",
       "      <td>0.0</td>\n",
       "      <td>0.0</td>\n",
       "    </tr>\n",
       "    <tr>\n",
       "      <th>1</th>\n",
       "      <td>2</td>\n",
       "      <td>NaN</td>\n",
       "      <td>Afghanistan</td>\n",
       "      <td>33.0</td>\n",
       "      <td>65.0</td>\n",
       "      <td>2020-01-23</td>\n",
       "      <td>0.0</td>\n",
       "      <td>0.0</td>\n",
       "    </tr>\n",
       "    <tr>\n",
       "      <th>2</th>\n",
       "      <td>3</td>\n",
       "      <td>NaN</td>\n",
       "      <td>Afghanistan</td>\n",
       "      <td>33.0</td>\n",
       "      <td>65.0</td>\n",
       "      <td>2020-01-24</td>\n",
       "      <td>0.0</td>\n",
       "      <td>0.0</td>\n",
       "    </tr>\n",
       "    <tr>\n",
       "      <th>3</th>\n",
       "      <td>4</td>\n",
       "      <td>NaN</td>\n",
       "      <td>Afghanistan</td>\n",
       "      <td>33.0</td>\n",
       "      <td>65.0</td>\n",
       "      <td>2020-01-25</td>\n",
       "      <td>0.0</td>\n",
       "      <td>0.0</td>\n",
       "    </tr>\n",
       "    <tr>\n",
       "      <th>4</th>\n",
       "      <td>5</td>\n",
       "      <td>NaN</td>\n",
       "      <td>Afghanistan</td>\n",
       "      <td>33.0</td>\n",
       "      <td>65.0</td>\n",
       "      <td>2020-01-26</td>\n",
       "      <td>0.0</td>\n",
       "      <td>0.0</td>\n",
       "    </tr>\n",
       "  </tbody>\n",
       "</table>\n",
       "</div>"
      ],
      "text/plain": [
       "   Id Province/State Country/Region   Lat  Long       Date  ConfirmedCases  \\\n",
       "0   1            NaN    Afghanistan  33.0  65.0 2020-01-22             0.0   \n",
       "1   2            NaN    Afghanistan  33.0  65.0 2020-01-23             0.0   \n",
       "2   3            NaN    Afghanistan  33.0  65.0 2020-01-24             0.0   \n",
       "3   4            NaN    Afghanistan  33.0  65.0 2020-01-25             0.0   \n",
       "4   5            NaN    Afghanistan  33.0  65.0 2020-01-26             0.0   \n",
       "\n",
       "   Fatalities  \n",
       "0         0.0  \n",
       "1         0.0  \n",
       "2         0.0  \n",
       "3         0.0  \n",
       "4         0.0  "
      ]
     },
     "execution_count": 3,
     "metadata": {},
     "output_type": "execute_result"
    }
   ],
   "source": [
    "original_train_df = pd.read_csv(os.path.join(data_folder,'train.csv'), parse_dates=['Date'])\n",
    "\n",
    "original_train_df.head()"
   ]
  },
  {
   "cell_type": "code",
   "execution_count": 4,
   "metadata": {
    "colab": {
     "base_uri": "https://localhost:8080/",
     "height": 206
    },
    "colab_type": "code",
    "id": "pISO62b-g4jt",
    "outputId": "4aa1ee86-143d-4723-d86f-f26a7fe47765"
   },
   "outputs": [
    {
     "name": "stdout",
     "output_type": "stream",
     "text": [
      "Data loaded: unknown shape\n"
     ]
    },
    {
     "data": {
      "application/vnd.microsoft.datawrangler.viewer.v0+json": {
       "columns": [
        {
         "name": "index",
         "rawType": "int64",
         "type": "integer"
        },
        {
         "name": "ForecastId",
         "rawType": "int64",
         "type": "integer"
        },
        {
         "name": "Province/State",
         "rawType": "object",
         "type": "unknown"
        },
        {
         "name": "Country/Region",
         "rawType": "object",
         "type": "string"
        },
        {
         "name": "Lat",
         "rawType": "float64",
         "type": "float"
        },
        {
         "name": "Long",
         "rawType": "float64",
         "type": "float"
        },
        {
         "name": "Date",
         "rawType": "datetime64[ns]",
         "type": "datetime"
        }
       ],
       "ref": "cf3f3d6a-15ca-418c-914c-708003e256f8",
       "rows": [
        [
         "0",
         "1",
         null,
         "Afghanistan",
         "33.0",
         "65.0",
         "2020-03-12 00:00:00"
        ],
        [
         "1",
         "2",
         null,
         "Afghanistan",
         "33.0",
         "65.0",
         "2020-03-13 00:00:00"
        ],
        [
         "2",
         "3",
         null,
         "Afghanistan",
         "33.0",
         "65.0",
         "2020-03-14 00:00:00"
        ],
        [
         "3",
         "4",
         null,
         "Afghanistan",
         "33.0",
         "65.0",
         "2020-03-15 00:00:00"
        ],
        [
         "4",
         "5",
         null,
         "Afghanistan",
         "33.0",
         "65.0",
         "2020-03-16 00:00:00"
        ]
       ],
       "shape": {
        "columns": 6,
        "rows": 5
       }
      },
      "text/html": [
       "<div>\n",
       "<style scoped>\n",
       "    .dataframe tbody tr th:only-of-type {\n",
       "        vertical-align: middle;\n",
       "    }\n",
       "\n",
       "    .dataframe tbody tr th {\n",
       "        vertical-align: top;\n",
       "    }\n",
       "\n",
       "    .dataframe thead th {\n",
       "        text-align: right;\n",
       "    }\n",
       "</style>\n",
       "<table border=\"1\" class=\"dataframe\">\n",
       "  <thead>\n",
       "    <tr style=\"text-align: right;\">\n",
       "      <th></th>\n",
       "      <th>ForecastId</th>\n",
       "      <th>Province/State</th>\n",
       "      <th>Country/Region</th>\n",
       "      <th>Lat</th>\n",
       "      <th>Long</th>\n",
       "      <th>Date</th>\n",
       "    </tr>\n",
       "  </thead>\n",
       "  <tbody>\n",
       "    <tr>\n",
       "      <th>0</th>\n",
       "      <td>1</td>\n",
       "      <td>NaN</td>\n",
       "      <td>Afghanistan</td>\n",
       "      <td>33.0</td>\n",
       "      <td>65.0</td>\n",
       "      <td>2020-03-12</td>\n",
       "    </tr>\n",
       "    <tr>\n",
       "      <th>1</th>\n",
       "      <td>2</td>\n",
       "      <td>NaN</td>\n",
       "      <td>Afghanistan</td>\n",
       "      <td>33.0</td>\n",
       "      <td>65.0</td>\n",
       "      <td>2020-03-13</td>\n",
       "    </tr>\n",
       "    <tr>\n",
       "      <th>2</th>\n",
       "      <td>3</td>\n",
       "      <td>NaN</td>\n",
       "      <td>Afghanistan</td>\n",
       "      <td>33.0</td>\n",
       "      <td>65.0</td>\n",
       "      <td>2020-03-14</td>\n",
       "    </tr>\n",
       "    <tr>\n",
       "      <th>3</th>\n",
       "      <td>4</td>\n",
       "      <td>NaN</td>\n",
       "      <td>Afghanistan</td>\n",
       "      <td>33.0</td>\n",
       "      <td>65.0</td>\n",
       "      <td>2020-03-15</td>\n",
       "    </tr>\n",
       "    <tr>\n",
       "      <th>4</th>\n",
       "      <td>5</td>\n",
       "      <td>NaN</td>\n",
       "      <td>Afghanistan</td>\n",
       "      <td>33.0</td>\n",
       "      <td>65.0</td>\n",
       "      <td>2020-03-16</td>\n",
       "    </tr>\n",
       "  </tbody>\n",
       "</table>\n",
       "</div>"
      ],
      "text/plain": [
       "   ForecastId Province/State Country/Region   Lat  Long       Date\n",
       "0           1            NaN    Afghanistan  33.0  65.0 2020-03-12\n",
       "1           2            NaN    Afghanistan  33.0  65.0 2020-03-13\n",
       "2           3            NaN    Afghanistan  33.0  65.0 2020-03-14\n",
       "3           4            NaN    Afghanistan  33.0  65.0 2020-03-15\n",
       "4           5            NaN    Afghanistan  33.0  65.0 2020-03-16"
      ]
     },
     "execution_count": 4,
     "metadata": {},
     "output_type": "execute_result"
    }
   ],
   "source": [
    "original_test_df = pd.read_csv(os.path.join(data_folder,'test.csv'), parse_dates=['Date'])\n",
    "\n",
    "original_test_df.head()"
   ]
  },
  {
   "cell_type": "code",
   "execution_count": 5,
   "metadata": {
    "colab": {
     "base_uri": "https://localhost:8080/",
     "height": 74
    },
    "colab_type": "code",
    "id": "4FCBHJhepLw7",
    "outputId": "bdc9816f-7174-4bcd-caca-2788fdfc097a"
   },
   "outputs": [
    {
     "name": "stdout",
     "output_type": "stream",
     "text": [
      "last_original_train_date =  2020-03-24 00:00:00\n",
      "original_test_df.shape = (12212, 6)\n",
      "original_test_wo_train_df.shape = (8520, 6)\n"
     ]
    }
   ],
   "source": [
    "last_original_train_date = original_train_df['Date'].max()\n",
    "print ('last_original_train_date = ', last_original_train_date)\n",
    "\n",
    "print ('original_test_df.shape =', original_test_df.shape)\n",
    "\n",
    "original_test_wo_train_df = original_test_df.drop(\n",
    "    index=original_test_df[original_test_df['Date'] <= last_original_train_date].index\n",
    ")\n",
    "\n",
    "print ('original_test_wo_train_df.shape =', original_test_wo_train_df.shape)\n",
    "\n",
    "# recreate index bacause we will need unique index values later \n",
    "main_df = pd.concat([original_train_df, original_test_wo_train_df], ignore_index=True)"
   ]
  },
  {
   "cell_type": "code",
   "execution_count": 6,
   "metadata": {
    "colab": {
     "base_uri": "https://localhost:8080/",
     "height": 424
    },
    "colab_type": "code",
    "id": "shg5-Qk4sSMS",
    "outputId": "4e99bbdc-bc5f-42c0-8144-b4312f6e011d"
   },
   "outputs": [
    {
     "data": {
      "application/vnd.microsoft.datawrangler.viewer.v0+json": {
       "columns": [
        {
         "name": "index",
         "rawType": "int64",
         "type": "integer"
        },
        {
         "name": "Id",
         "rawType": "float64",
         "type": "float"
        },
        {
         "name": "Province/State",
         "rawType": "object",
         "type": "string"
        },
        {
         "name": "Country/Region",
         "rawType": "object",
         "type": "string"
        },
        {
         "name": "Lat",
         "rawType": "float64",
         "type": "float"
        },
        {
         "name": "Long",
         "rawType": "float64",
         "type": "float"
        },
        {
         "name": "Date",
         "rawType": "datetime64[ns]",
         "type": "datetime"
        },
        {
         "name": "ConfirmedCases",
         "rawType": "float64",
         "type": "float"
        },
        {
         "name": "Fatalities",
         "rawType": "float64",
         "type": "float"
        },
        {
         "name": "ForecastId",
         "rawType": "float64",
         "type": "float"
        }
       ],
       "ref": "11255724-b5b2-41b7-a619-d230bab2b44d",
       "rows": [
        [
         "567",
         "838.0",
         "Australia",
         "From Diamond Princess",
         "35.4437",
         "139.638",
         "2020-01-22 00:00:00",
         "0.0",
         "0.0",
         null
        ],
        [
         "568",
         "839.0",
         "Australia",
         "From Diamond Princess",
         "35.4437",
         "139.638",
         "2020-01-23 00:00:00",
         "0.0",
         "0.0",
         null
        ],
        [
         "569",
         "840.0",
         "Australia",
         "From Diamond Princess",
         "35.4437",
         "139.638",
         "2020-01-24 00:00:00",
         "0.0",
         "0.0",
         null
        ],
        [
         "570",
         "841.0",
         "Australia",
         "From Diamond Princess",
         "35.4437",
         "139.638",
         "2020-01-25 00:00:00",
         "0.0",
         "0.0",
         null
        ],
        [
         "571",
         "842.0",
         "Australia",
         "From Diamond Princess",
         "35.4437",
         "139.638",
         "2020-01-26 00:00:00",
         "0.0",
         "0.0",
         null
        ],
        [
         "572",
         "843.0",
         "Australia",
         "From Diamond Princess",
         "35.4437",
         "139.638",
         "2020-01-27 00:00:00",
         "0.0",
         "0.0",
         null
        ],
        [
         "573",
         "844.0",
         "Australia",
         "From Diamond Princess",
         "35.4437",
         "139.638",
         "2020-01-28 00:00:00",
         "0.0",
         "0.0",
         null
        ],
        [
         "574",
         "845.0",
         "Australia",
         "From Diamond Princess",
         "35.4437",
         "139.638",
         "2020-01-29 00:00:00",
         "0.0",
         "0.0",
         null
        ],
        [
         "575",
         "846.0",
         "Australia",
         "From Diamond Princess",
         "35.4437",
         "139.638",
         "2020-01-30 00:00:00",
         "0.0",
         "0.0",
         null
        ],
        [
         "576",
         "847.0",
         "Australia",
         "From Diamond Princess",
         "35.4437",
         "139.638",
         "2020-01-31 00:00:00",
         "0.0",
         "0.0",
         null
        ],
        [
         "577",
         "848.0",
         "Australia",
         "From Diamond Princess",
         "35.4437",
         "139.638",
         "2020-02-01 00:00:00",
         "0.0",
         "0.0",
         null
        ],
        [
         "578",
         "849.0",
         "Australia",
         "From Diamond Princess",
         "35.4437",
         "139.638",
         "2020-02-02 00:00:00",
         "0.0",
         "0.0",
         null
        ],
        [
         "579",
         "850.0",
         "Australia",
         "From Diamond Princess",
         "35.4437",
         "139.638",
         "2020-02-03 00:00:00",
         "0.0",
         "0.0",
         null
        ],
        [
         "580",
         "851.0",
         "Australia",
         "From Diamond Princess",
         "35.4437",
         "139.638",
         "2020-02-04 00:00:00",
         "0.0",
         "0.0",
         null
        ],
        [
         "581",
         "852.0",
         "Australia",
         "From Diamond Princess",
         "35.4437",
         "139.638",
         "2020-02-05 00:00:00",
         "0.0",
         "0.0",
         null
        ],
        [
         "582",
         "853.0",
         "Australia",
         "From Diamond Princess",
         "35.4437",
         "139.638",
         "2020-02-06 00:00:00",
         "0.0",
         "0.0",
         null
        ],
        [
         "583",
         "854.0",
         "Australia",
         "From Diamond Princess",
         "35.4437",
         "139.638",
         "2020-02-07 00:00:00",
         "0.0",
         "0.0",
         null
        ],
        [
         "584",
         "855.0",
         "Australia",
         "From Diamond Princess",
         "35.4437",
         "139.638",
         "2020-02-08 00:00:00",
         "0.0",
         "0.0",
         null
        ],
        [
         "585",
         "856.0",
         "Australia",
         "From Diamond Princess",
         "35.4437",
         "139.638",
         "2020-02-09 00:00:00",
         "0.0",
         "0.0",
         null
        ],
        [
         "586",
         "857.0",
         "Australia",
         "From Diamond Princess",
         "35.4437",
         "139.638",
         "2020-02-10 00:00:00",
         "0.0",
         "0.0",
         null
        ],
        [
         "587",
         "858.0",
         "Australia",
         "From Diamond Princess",
         "35.4437",
         "139.638",
         "2020-02-11 00:00:00",
         "0.0",
         "0.0",
         null
        ],
        [
         "588",
         "859.0",
         "Australia",
         "From Diamond Princess",
         "35.4437",
         "139.638",
         "2020-02-12 00:00:00",
         "0.0",
         "0.0",
         null
        ],
        [
         "589",
         "860.0",
         "Australia",
         "From Diamond Princess",
         "35.4437",
         "139.638",
         "2020-02-13 00:00:00",
         "0.0",
         "0.0",
         null
        ],
        [
         "590",
         "861.0",
         "Australia",
         "From Diamond Princess",
         "35.4437",
         "139.638",
         "2020-02-14 00:00:00",
         "0.0",
         "0.0",
         null
        ],
        [
         "591",
         "862.0",
         "Australia",
         "From Diamond Princess",
         "35.4437",
         "139.638",
         "2020-02-15 00:00:00",
         "0.0",
         "0.0",
         null
        ],
        [
         "592",
         "863.0",
         "Australia",
         "From Diamond Princess",
         "35.4437",
         "139.638",
         "2020-02-16 00:00:00",
         "0.0",
         "0.0",
         null
        ],
        [
         "593",
         "864.0",
         "Australia",
         "From Diamond Princess",
         "35.4437",
         "139.638",
         "2020-02-17 00:00:00",
         "0.0",
         "0.0",
         null
        ],
        [
         "594",
         "865.0",
         "Australia",
         "From Diamond Princess",
         "35.4437",
         "139.638",
         "2020-02-18 00:00:00",
         "0.0",
         "0.0",
         null
        ],
        [
         "595",
         "866.0",
         "Australia",
         "From Diamond Princess",
         "35.4437",
         "139.638",
         "2020-02-19 00:00:00",
         "0.0",
         "0.0",
         null
        ],
        [
         "596",
         "867.0",
         "Australia",
         "From Diamond Princess",
         "35.4437",
         "139.638",
         "2020-02-20 00:00:00",
         "0.0",
         "0.0",
         null
        ],
        [
         "597",
         "868.0",
         "Australia",
         "From Diamond Princess",
         "35.4437",
         "139.638",
         "2020-02-21 00:00:00",
         "0.0",
         "0.0",
         null
        ],
        [
         "598",
         "869.0",
         "Australia",
         "From Diamond Princess",
         "35.4437",
         "139.638",
         "2020-02-22 00:00:00",
         "0.0",
         "0.0",
         null
        ],
        [
         "599",
         "870.0",
         "Australia",
         "From Diamond Princess",
         "35.4437",
         "139.638",
         "2020-02-23 00:00:00",
         "0.0",
         "0.0",
         null
        ],
        [
         "600",
         "871.0",
         "Australia",
         "From Diamond Princess",
         "35.4437",
         "139.638",
         "2020-02-24 00:00:00",
         "0.0",
         "0.0",
         null
        ],
        [
         "601",
         "872.0",
         "Australia",
         "From Diamond Princess",
         "35.4437",
         "139.638",
         "2020-02-25 00:00:00",
         "0.0",
         "0.0",
         null
        ],
        [
         "602",
         "873.0",
         "Australia",
         "From Diamond Princess",
         "35.4437",
         "139.638",
         "2020-02-26 00:00:00",
         "0.0",
         "0.0",
         null
        ],
        [
         "603",
         "874.0",
         "Australia",
         "From Diamond Princess",
         "35.4437",
         "139.638",
         "2020-02-27 00:00:00",
         "0.0",
         "0.0",
         null
        ],
        [
         "604",
         "875.0",
         "Australia",
         "From Diamond Princess",
         "35.4437",
         "139.638",
         "2020-02-28 00:00:00",
         "0.0",
         "0.0",
         null
        ],
        [
         "605",
         "876.0",
         "Australia",
         "From Diamond Princess",
         "35.4437",
         "139.638",
         "2020-02-29 00:00:00",
         "0.0",
         "0.0",
         null
        ],
        [
         "606",
         "877.0",
         "Australia",
         "From Diamond Princess",
         "35.4437",
         "139.638",
         "2020-03-01 00:00:00",
         "0.0",
         "0.0",
         null
        ],
        [
         "607",
         "878.0",
         "Australia",
         "From Diamond Princess",
         "35.4437",
         "139.638",
         "2020-03-02 00:00:00",
         "0.0",
         "0.0",
         null
        ],
        [
         "608",
         "879.0",
         "Australia",
         "From Diamond Princess",
         "35.4437",
         "139.638",
         "2020-03-03 00:00:00",
         "0.0",
         "0.0",
         null
        ],
        [
         "609",
         "880.0",
         "Australia",
         "From Diamond Princess",
         "35.4437",
         "139.638",
         "2020-03-04 00:00:00",
         "0.0",
         "0.0",
         null
        ],
        [
         "610",
         "881.0",
         "Australia",
         "From Diamond Princess",
         "35.4437",
         "139.638",
         "2020-03-05 00:00:00",
         "0.0",
         "0.0",
         null
        ],
        [
         "611",
         "882.0",
         "Australia",
         "From Diamond Princess",
         "35.4437",
         "139.638",
         "2020-03-06 00:00:00",
         "0.0",
         "0.0",
         null
        ],
        [
         "612",
         "883.0",
         "Australia",
         "From Diamond Princess",
         "35.4437",
         "139.638",
         "2020-03-07 00:00:00",
         "0.0",
         "0.0",
         null
        ],
        [
         "613",
         "884.0",
         "Australia",
         "From Diamond Princess",
         "35.4437",
         "139.638",
         "2020-03-08 00:00:00",
         "0.0",
         "0.0",
         null
        ],
        [
         "614",
         "885.0",
         "Australia",
         "From Diamond Princess",
         "35.4437",
         "139.638",
         "2020-03-09 00:00:00",
         "0.0",
         "0.0",
         null
        ],
        [
         "615",
         "886.0",
         "Australia",
         "From Diamond Princess",
         "35.4437",
         "139.638",
         "2020-03-10 00:00:00",
         "0.0",
         "0.0",
         null
        ],
        [
         "616",
         "887.0",
         "Australia",
         "From Diamond Princess",
         "35.4437",
         "139.638",
         "2020-03-11 00:00:00",
         "0.0",
         "0.0",
         null
        ]
       ],
       "shape": {
        "columns": 9,
        "rows": 279
       }
      },
      "text/html": [
       "<div>\n",
       "<style scoped>\n",
       "    .dataframe tbody tr th:only-of-type {\n",
       "        vertical-align: middle;\n",
       "    }\n",
       "\n",
       "    .dataframe tbody tr th {\n",
       "        vertical-align: top;\n",
       "    }\n",
       "\n",
       "    .dataframe thead th {\n",
       "        text-align: right;\n",
       "    }\n",
       "</style>\n",
       "<table border=\"1\" class=\"dataframe\">\n",
       "  <thead>\n",
       "    <tr style=\"text-align: right;\">\n",
       "      <th></th>\n",
       "      <th>Id</th>\n",
       "      <th>Province/State</th>\n",
       "      <th>Country/Region</th>\n",
       "      <th>Lat</th>\n",
       "      <th>Long</th>\n",
       "      <th>Date</th>\n",
       "      <th>ConfirmedCases</th>\n",
       "      <th>Fatalities</th>\n",
       "      <th>ForecastId</th>\n",
       "    </tr>\n",
       "  </thead>\n",
       "  <tbody>\n",
       "    <tr>\n",
       "      <th>567</th>\n",
       "      <td>838.0</td>\n",
       "      <td>Australia</td>\n",
       "      <td>From Diamond Princess</td>\n",
       "      <td>35.4437</td>\n",
       "      <td>139.6380</td>\n",
       "      <td>2020-01-22</td>\n",
       "      <td>0.0</td>\n",
       "      <td>0.0</td>\n",
       "      <td>NaN</td>\n",
       "    </tr>\n",
       "    <tr>\n",
       "      <th>568</th>\n",
       "      <td>839.0</td>\n",
       "      <td>Australia</td>\n",
       "      <td>From Diamond Princess</td>\n",
       "      <td>35.4437</td>\n",
       "      <td>139.6380</td>\n",
       "      <td>2020-01-23</td>\n",
       "      <td>0.0</td>\n",
       "      <td>0.0</td>\n",
       "      <td>NaN</td>\n",
       "    </tr>\n",
       "    <tr>\n",
       "      <th>569</th>\n",
       "      <td>840.0</td>\n",
       "      <td>Australia</td>\n",
       "      <td>From Diamond Princess</td>\n",
       "      <td>35.4437</td>\n",
       "      <td>139.6380</td>\n",
       "      <td>2020-01-24</td>\n",
       "      <td>0.0</td>\n",
       "      <td>0.0</td>\n",
       "      <td>NaN</td>\n",
       "    </tr>\n",
       "    <tr>\n",
       "      <th>570</th>\n",
       "      <td>841.0</td>\n",
       "      <td>Australia</td>\n",
       "      <td>From Diamond Princess</td>\n",
       "      <td>35.4437</td>\n",
       "      <td>139.6380</td>\n",
       "      <td>2020-01-25</td>\n",
       "      <td>0.0</td>\n",
       "      <td>0.0</td>\n",
       "      <td>NaN</td>\n",
       "    </tr>\n",
       "    <tr>\n",
       "      <th>571</th>\n",
       "      <td>842.0</td>\n",
       "      <td>Australia</td>\n",
       "      <td>From Diamond Princess</td>\n",
       "      <td>35.4437</td>\n",
       "      <td>139.6380</td>\n",
       "      <td>2020-01-26</td>\n",
       "      <td>0.0</td>\n",
       "      <td>0.0</td>\n",
       "      <td>NaN</td>\n",
       "    </tr>\n",
       "    <tr>\n",
       "      <th>...</th>\n",
       "      <td>...</td>\n",
       "      <td>...</td>\n",
       "      <td>...</td>\n",
       "      <td>...</td>\n",
       "      <td>...</td>\n",
       "      <td>...</td>\n",
       "      <td>...</td>\n",
       "      <td>...</td>\n",
       "      <td>...</td>\n",
       "    </tr>\n",
       "    <tr>\n",
       "      <th>24697</th>\n",
       "      <td>NaN</td>\n",
       "      <td>US</td>\n",
       "      <td>Grand Princess</td>\n",
       "      <td>37.6489</td>\n",
       "      <td>-122.6655</td>\n",
       "      <td>2020-04-19</td>\n",
       "      <td>NaN</td>\n",
       "      <td>NaN</td>\n",
       "      <td>9757.0</td>\n",
       "    </tr>\n",
       "    <tr>\n",
       "      <th>24698</th>\n",
       "      <td>NaN</td>\n",
       "      <td>US</td>\n",
       "      <td>Grand Princess</td>\n",
       "      <td>37.6489</td>\n",
       "      <td>-122.6655</td>\n",
       "      <td>2020-04-20</td>\n",
       "      <td>NaN</td>\n",
       "      <td>NaN</td>\n",
       "      <td>9758.0</td>\n",
       "    </tr>\n",
       "    <tr>\n",
       "      <th>24699</th>\n",
       "      <td>NaN</td>\n",
       "      <td>US</td>\n",
       "      <td>Grand Princess</td>\n",
       "      <td>37.6489</td>\n",
       "      <td>-122.6655</td>\n",
       "      <td>2020-04-21</td>\n",
       "      <td>NaN</td>\n",
       "      <td>NaN</td>\n",
       "      <td>9759.0</td>\n",
       "    </tr>\n",
       "    <tr>\n",
       "      <th>24700</th>\n",
       "      <td>NaN</td>\n",
       "      <td>US</td>\n",
       "      <td>Grand Princess</td>\n",
       "      <td>37.6489</td>\n",
       "      <td>-122.6655</td>\n",
       "      <td>2020-04-22</td>\n",
       "      <td>NaN</td>\n",
       "      <td>NaN</td>\n",
       "      <td>9760.0</td>\n",
       "    </tr>\n",
       "    <tr>\n",
       "      <th>24701</th>\n",
       "      <td>NaN</td>\n",
       "      <td>US</td>\n",
       "      <td>Grand Princess</td>\n",
       "      <td>37.6489</td>\n",
       "      <td>-122.6655</td>\n",
       "      <td>2020-04-23</td>\n",
       "      <td>NaN</td>\n",
       "      <td>NaN</td>\n",
       "      <td>9761.0</td>\n",
       "    </tr>\n",
       "  </tbody>\n",
       "</table>\n",
       "<p>279 rows × 9 columns</p>\n",
       "</div>"
      ],
      "text/plain": [
       "          Id Province/State         Country/Region      Lat      Long  \\\n",
       "567    838.0      Australia  From Diamond Princess  35.4437  139.6380   \n",
       "568    839.0      Australia  From Diamond Princess  35.4437  139.6380   \n",
       "569    840.0      Australia  From Diamond Princess  35.4437  139.6380   \n",
       "570    841.0      Australia  From Diamond Princess  35.4437  139.6380   \n",
       "571    842.0      Australia  From Diamond Princess  35.4437  139.6380   \n",
       "...      ...            ...                    ...      ...       ...   \n",
       "24697    NaN             US         Grand Princess  37.6489 -122.6655   \n",
       "24698    NaN             US         Grand Princess  37.6489 -122.6655   \n",
       "24699    NaN             US         Grand Princess  37.6489 -122.6655   \n",
       "24700    NaN             US         Grand Princess  37.6489 -122.6655   \n",
       "24701    NaN             US         Grand Princess  37.6489 -122.6655   \n",
       "\n",
       "            Date  ConfirmedCases  Fatalities  ForecastId  \n",
       "567   2020-01-22             0.0         0.0         NaN  \n",
       "568   2020-01-23             0.0         0.0         NaN  \n",
       "569   2020-01-24             0.0         0.0         NaN  \n",
       "570   2020-01-25             0.0         0.0         NaN  \n",
       "571   2020-01-26             0.0         0.0         NaN  \n",
       "...          ...             ...         ...         ...  \n",
       "24697 2020-04-19             NaN         NaN      9757.0  \n",
       "24698 2020-04-20             NaN         NaN      9758.0  \n",
       "24699 2020-04-21             NaN         NaN      9759.0  \n",
       "24700 2020-04-22             NaN         NaN      9760.0  \n",
       "24701 2020-04-23             NaN         NaN      9761.0  \n",
       "\n",
       "[279 rows x 9 columns]"
      ]
     },
     "execution_count": 6,
     "metadata": {},
     "output_type": "execute_result"
    }
   ],
   "source": [
    "from_cruise_ships = main_df['Province/State'].isin(['From Diamond Princess', 'Grand Princess'])\n",
    "main_df.loc[from_cruise_ships, ['Province/State','Country/Region']] = main_df.loc[from_cruise_ships, ['Country/Region','Province/State']].values\n",
    "main_df[main_df['Country/Region'].isin(['From Diamond Princess', 'Grand Princess'])]"
   ]
  },
  {
   "cell_type": "markdown",
   "metadata": {
    "colab_type": "text",
    "id": "88Fupigl0Nin"
   },
   "source": [
    "## Feature engineering <a name=\"features\"></a>\n",
    "### Time delay embedding features <a name=\"time_delay_embedding_features\"></a>\n"
   ]
  },
  {
   "cell_type": "code",
   "execution_count": 7,
   "metadata": {
    "colab": {
     "base_uri": "https://localhost:8080/",
     "height": 679
    },
    "colab_type": "code",
    "id": "Eftr6BCP0M6y",
    "outputId": "e183edfc-289b-4ae0-a009-32a950a05a87"
   },
   "outputs": [
    {
     "name": "stdout",
     "output_type": "stream",
     "text": [
      "data size before removing bad data =  26412\n"
     ]
    },
    {
     "name": "stderr",
     "output_type": "stream",
     "text": [
      "C:\\Users\\kkoh\\AppData\\Local\\Temp\\ipykernel_16520\\1757444441.py:7: FutureWarning: A value is trying to be set on a copy of a DataFrame or Series through chained assignment using an inplace method.\n",
      "The behavior will change in pandas 3.0. This inplace method will never work because the intermediate object on which we are setting values always behaves as a copy.\n",
      "\n",
      "For example, when doing 'df[col].method(value, inplace=True)', try using 'df.method({col: value}, inplace=True)' or df[col] = df[col].method(value) instead, to perform the operation inplace on the original object.\n",
      "\n",
      "\n",
      "  main_df[column].fillna('', inplace=True)\n"
     ]
    },
    {
     "name": "stdout",
     "output_type": "stream",
     "text": [
      "ConfirmedCases for Australia, Northern Territory is not valid cumulative series, drop it\n",
      "ConfirmedCases for Australia, Queensland is not valid cumulative series, drop it\n",
      "ConfirmedCases for Azerbaijan,  is not valid cumulative series, drop it\n",
      "ConfirmedCases for Bahrain,  is not valid cumulative series, drop it\n",
      "Fatalities for Canada, Quebec is not valid cumulative series, drop it\n",
      "ConfirmedCases for China, Guizhou is not valid cumulative series, drop it\n",
      "ConfirmedCases for France, France is not valid cumulative series, drop it\n",
      "ConfirmedCases for France, Saint Barthelemy is not valid cumulative series, drop it\n",
      "ConfirmedCases for Grand Princess, US is not valid cumulative series, drop it\n",
      "ConfirmedCases for Guyana,  is not valid cumulative series, drop it\n",
      "Fatalities for Iceland,  is not valid cumulative series, drop it\n",
      "Fatalities for India,  is not valid cumulative series, drop it\n",
      "ConfirmedCases for Japan,  is not valid cumulative series, drop it\n",
      "Fatalities for Kazakhstan,  is not valid cumulative series, drop it\n",
      "ConfirmedCases for Lebanon,  is not valid cumulative series, drop it\n",
      "ConfirmedCases for Montenegro,  is not valid cumulative series, drop it\n",
      "Fatalities for Philippines,  is not valid cumulative series, drop it\n",
      "Fatalities for Russia,  is not valid cumulative series, drop it\n",
      "Fatalities for Slovakia,  is not valid cumulative series, drop it\n",
      "ConfirmedCases for US, Nevada is not valid cumulative series, drop it\n",
      "ConfirmedCases for US, Utah is not valid cumulative series, drop it\n",
      "ConfirmedCases for US, Washington is not valid cumulative series, drop it\n",
      "data size after removing bad data =  24366\n"
     ]
    },
    {
     "data": {
      "application/vnd.microsoft.datawrangler.viewer.v0+json": {
       "columns": [
        {
         "name": "index",
         "rawType": "int64",
         "type": "integer"
        },
        {
         "name": "Id",
         "rawType": "float64",
         "type": "float"
        },
        {
         "name": "Province/State",
         "rawType": "object",
         "type": "string"
        },
        {
         "name": "Country/Region",
         "rawType": "object",
         "type": "string"
        },
        {
         "name": "Lat",
         "rawType": "float64",
         "type": "float"
        },
        {
         "name": "Long",
         "rawType": "float64",
         "type": "float"
        },
        {
         "name": "Date",
         "rawType": "datetime64[ns]",
         "type": "datetime"
        },
        {
         "name": "ConfirmedCases",
         "rawType": "float64",
         "type": "float"
        },
        {
         "name": "Fatalities",
         "rawType": "float64",
         "type": "float"
        },
        {
         "name": "ForecastId",
         "rawType": "float64",
         "type": "float"
        },
        {
         "name": "LogNewConfirmedCases",
         "rawType": "float64",
         "type": "float"
        },
        {
         "name": "LogNewConfirmedCases_prev_day_1",
         "rawType": "float64",
         "type": "float"
        },
        {
         "name": "LogNewConfirmedCases_prev_day_2",
         "rawType": "float64",
         "type": "float"
        },
        {
         "name": "LogNewConfirmedCases_prev_day_3",
         "rawType": "float64",
         "type": "float"
        },
        {
         "name": "LogNewConfirmedCases_prev_day_4",
         "rawType": "float64",
         "type": "float"
        },
        {
         "name": "LogNewConfirmedCases_prev_day_5",
         "rawType": "float64",
         "type": "float"
        },
        {
         "name": "LogNewConfirmedCases_prev_day_6",
         "rawType": "float64",
         "type": "float"
        },
        {
         "name": "LogNewConfirmedCases_prev_day_7",
         "rawType": "float64",
         "type": "float"
        },
        {
         "name": "LogNewConfirmedCases_prev_day_8",
         "rawType": "float64",
         "type": "float"
        },
        {
         "name": "LogNewConfirmedCases_prev_day_9",
         "rawType": "float64",
         "type": "float"
        },
        {
         "name": "LogNewConfirmedCases_prev_day_10",
         "rawType": "float64",
         "type": "float"
        },
        {
         "name": "LogNewConfirmedCases_prev_day_11",
         "rawType": "float64",
         "type": "float"
        },
        {
         "name": "LogNewConfirmedCases_prev_day_12",
         "rawType": "float64",
         "type": "float"
        },
        {
         "name": "LogNewConfirmedCases_prev_day_13",
         "rawType": "float64",
         "type": "float"
        },
        {
         "name": "LogNewConfirmedCases_prev_day_14",
         "rawType": "float64",
         "type": "float"
        },
        {
         "name": "LogNewConfirmedCases_prev_day_15",
         "rawType": "float64",
         "type": "float"
        },
        {
         "name": "LogNewConfirmedCases_prev_day_16",
         "rawType": "float64",
         "type": "float"
        },
        {
         "name": "LogNewConfirmedCases_prev_day_17",
         "rawType": "float64",
         "type": "float"
        },
        {
         "name": "LogNewConfirmedCases_prev_day_18",
         "rawType": "float64",
         "type": "float"
        },
        {
         "name": "LogNewConfirmedCases_prev_day_19",
         "rawType": "float64",
         "type": "float"
        },
        {
         "name": "LogNewConfirmedCases_prev_day_20",
         "rawType": "float64",
         "type": "float"
        },
        {
         "name": "LogNewConfirmedCases_prev_day_21",
         "rawType": "float64",
         "type": "float"
        },
        {
         "name": "LogNewConfirmedCases_prev_day_22",
         "rawType": "float64",
         "type": "float"
        },
        {
         "name": "LogNewConfirmedCases_prev_day_23",
         "rawType": "float64",
         "type": "float"
        },
        {
         "name": "LogNewConfirmedCases_prev_day_24",
         "rawType": "float64",
         "type": "float"
        },
        {
         "name": "LogNewConfirmedCases_prev_day_25",
         "rawType": "float64",
         "type": "float"
        },
        {
         "name": "LogNewConfirmedCases_prev_day_26",
         "rawType": "float64",
         "type": "float"
        },
        {
         "name": "LogNewConfirmedCases_prev_day_27",
         "rawType": "float64",
         "type": "float"
        },
        {
         "name": "LogNewConfirmedCases_prev_day_28",
         "rawType": "float64",
         "type": "float"
        },
        {
         "name": "LogNewConfirmedCases_prev_day_29",
         "rawType": "float64",
         "type": "float"
        },
        {
         "name": "LogNewConfirmedCases_prev_day_30",
         "rawType": "float64",
         "type": "float"
        },
        {
         "name": "LogNewFatalities",
         "rawType": "float64",
         "type": "float"
        },
        {
         "name": "LogNewFatalities_prev_day_1",
         "rawType": "float64",
         "type": "float"
        },
        {
         "name": "LogNewFatalities_prev_day_2",
         "rawType": "float64",
         "type": "float"
        },
        {
         "name": "LogNewFatalities_prev_day_3",
         "rawType": "float64",
         "type": "float"
        },
        {
         "name": "LogNewFatalities_prev_day_4",
         "rawType": "float64",
         "type": "float"
        },
        {
         "name": "LogNewFatalities_prev_day_5",
         "rawType": "float64",
         "type": "float"
        },
        {
         "name": "LogNewFatalities_prev_day_6",
         "rawType": "float64",
         "type": "float"
        },
        {
         "name": "LogNewFatalities_prev_day_7",
         "rawType": "float64",
         "type": "float"
        },
        {
         "name": "LogNewFatalities_prev_day_8",
         "rawType": "float64",
         "type": "float"
        },
        {
         "name": "LogNewFatalities_prev_day_9",
         "rawType": "float64",
         "type": "float"
        },
        {
         "name": "LogNewFatalities_prev_day_10",
         "rawType": "float64",
         "type": "float"
        },
        {
         "name": "LogNewFatalities_prev_day_11",
         "rawType": "float64",
         "type": "float"
        },
        {
         "name": "LogNewFatalities_prev_day_12",
         "rawType": "float64",
         "type": "float"
        },
        {
         "name": "LogNewFatalities_prev_day_13",
         "rawType": "float64",
         "type": "float"
        },
        {
         "name": "LogNewFatalities_prev_day_14",
         "rawType": "float64",
         "type": "float"
        },
        {
         "name": "LogNewFatalities_prev_day_15",
         "rawType": "float64",
         "type": "float"
        },
        {
         "name": "LogNewFatalities_prev_day_16",
         "rawType": "float64",
         "type": "float"
        },
        {
         "name": "LogNewFatalities_prev_day_17",
         "rawType": "float64",
         "type": "float"
        },
        {
         "name": "LogNewFatalities_prev_day_18",
         "rawType": "float64",
         "type": "float"
        },
        {
         "name": "LogNewFatalities_prev_day_19",
         "rawType": "float64",
         "type": "float"
        },
        {
         "name": "LogNewFatalities_prev_day_20",
         "rawType": "float64",
         "type": "float"
        },
        {
         "name": "LogNewFatalities_prev_day_21",
         "rawType": "float64",
         "type": "float"
        },
        {
         "name": "LogNewFatalities_prev_day_22",
         "rawType": "float64",
         "type": "float"
        },
        {
         "name": "LogNewFatalities_prev_day_23",
         "rawType": "float64",
         "type": "float"
        },
        {
         "name": "LogNewFatalities_prev_day_24",
         "rawType": "float64",
         "type": "float"
        },
        {
         "name": "LogNewFatalities_prev_day_25",
         "rawType": "float64",
         "type": "float"
        },
        {
         "name": "LogNewFatalities_prev_day_26",
         "rawType": "float64",
         "type": "float"
        },
        {
         "name": "LogNewFatalities_prev_day_27",
         "rawType": "float64",
         "type": "float"
        },
        {
         "name": "LogNewFatalities_prev_day_28",
         "rawType": "float64",
         "type": "float"
        },
        {
         "name": "LogNewFatalities_prev_day_29",
         "rawType": "float64",
         "type": "float"
        },
        {
         "name": "LogNewFatalities_prev_day_30",
         "rawType": "float64",
         "type": "float"
        }
       ],
       "ref": "d7ca952b-74cc-4652-9f73-6346db0c3461",
       "rows": [
        [
         "0",
         "1.0",
         "",
         "Afghanistan",
         "33.0",
         "65.0",
         "2020-01-22 00:00:00",
         "0.0",
         "0.0",
         null,
         "0.0",
         null,
         null,
         null,
         null,
         null,
         null,
         null,
         null,
         null,
         null,
         null,
         null,
         null,
         null,
         null,
         null,
         null,
         null,
         null,
         null,
         null,
         null,
         null,
         null,
         null,
         null,
         null,
         null,
         null,
         null,
         "0.0",
         null,
         null,
         null,
         null,
         null,
         null,
         null,
         null,
         null,
         null,
         null,
         null,
         null,
         null,
         null,
         null,
         null,
         null,
         null,
         null,
         null,
         null,
         null,
         null,
         null,
         null,
         null,
         null,
         null,
         null
        ],
        [
         "5544",
         "8185.0",
         "",
         "Cyprus",
         "35.1264",
         "33.4299",
         "2020-01-22 00:00:00",
         "0.0",
         "0.0",
         null,
         "0.0",
         null,
         null,
         null,
         null,
         null,
         null,
         null,
         null,
         null,
         null,
         null,
         null,
         null,
         null,
         null,
         null,
         null,
         null,
         null,
         null,
         null,
         null,
         null,
         null,
         null,
         null,
         null,
         null,
         null,
         null,
         "0.0",
         null,
         null,
         null,
         null,
         null,
         null,
         null,
         null,
         null,
         null,
         null,
         null,
         null,
         null,
         null,
         null,
         null,
         null,
         null,
         null,
         null,
         null,
         null,
         null,
         null,
         null,
         null,
         null,
         null,
         null
        ],
        [
         "14301",
         "21112.0",
         "Guam",
         "US",
         "13.4443",
         "144.7937",
         "2020-01-22 00:00:00",
         "0.0",
         "0.0",
         null,
         "0.0",
         null,
         null,
         null,
         null,
         null,
         null,
         null,
         null,
         null,
         null,
         null,
         null,
         null,
         null,
         null,
         null,
         null,
         null,
         null,
         null,
         null,
         null,
         null,
         null,
         null,
         null,
         null,
         null,
         null,
         null,
         "0.0",
         null,
         null,
         null,
         null,
         null,
         null,
         null,
         null,
         null,
         null,
         null,
         null,
         null,
         null,
         null,
         null,
         null,
         null,
         null,
         null,
         null,
         null,
         null,
         null,
         null,
         null,
         null,
         null,
         null,
         null
        ],
        [
         "5607",
         "8278.0",
         "",
         "Czechia",
         "49.8175",
         "15.473",
         "2020-01-22 00:00:00",
         "0.0",
         "0.0",
         null,
         "0.0",
         null,
         null,
         null,
         null,
         null,
         null,
         null,
         null,
         null,
         null,
         null,
         null,
         null,
         null,
         null,
         null,
         null,
         null,
         null,
         null,
         null,
         null,
         null,
         null,
         null,
         null,
         null,
         null,
         null,
         null,
         "0.0",
         null,
         null,
         null,
         null,
         null,
         null,
         null,
         null,
         null,
         null,
         null,
         null,
         null,
         null,
         null,
         null,
         null,
         null,
         null,
         null,
         null,
         null,
         null,
         null,
         null,
         null,
         null,
         null,
         null,
         null
        ],
        [
         "5670",
         "8371.0",
         "Denmark",
         "Denmark",
         "56.2639",
         "9.5018",
         "2020-01-22 00:00:00",
         "0.0",
         "0.0",
         null,
         "0.0",
         null,
         null,
         null,
         null,
         null,
         null,
         null,
         null,
         null,
         null,
         null,
         null,
         null,
         null,
         null,
         null,
         null,
         null,
         null,
         null,
         null,
         null,
         null,
         null,
         null,
         null,
         null,
         null,
         null,
         null,
         "0.0",
         null,
         null,
         null,
         null,
         null,
         null,
         null,
         null,
         null,
         null,
         null,
         null,
         null,
         null,
         null,
         null,
         null,
         null,
         null,
         null,
         null,
         null,
         null,
         null,
         null,
         null,
         null,
         null,
         null,
         null
        ]
       ],
       "shape": {
        "columns": 71,
        "rows": 5
       }
      },
      "text/html": [
       "<div>\n",
       "<style scoped>\n",
       "    .dataframe tbody tr th:only-of-type {\n",
       "        vertical-align: middle;\n",
       "    }\n",
       "\n",
       "    .dataframe tbody tr th {\n",
       "        vertical-align: top;\n",
       "    }\n",
       "\n",
       "    .dataframe thead th {\n",
       "        text-align: right;\n",
       "    }\n",
       "</style>\n",
       "<table border=\"1\" class=\"dataframe\">\n",
       "  <thead>\n",
       "    <tr style=\"text-align: right;\">\n",
       "      <th></th>\n",
       "      <th>Id</th>\n",
       "      <th>Province/State</th>\n",
       "      <th>Country/Region</th>\n",
       "      <th>Lat</th>\n",
       "      <th>Long</th>\n",
       "      <th>Date</th>\n",
       "      <th>ConfirmedCases</th>\n",
       "      <th>Fatalities</th>\n",
       "      <th>ForecastId</th>\n",
       "      <th>LogNewConfirmedCases</th>\n",
       "      <th>...</th>\n",
       "      <th>LogNewFatalities_prev_day_21</th>\n",
       "      <th>LogNewFatalities_prev_day_22</th>\n",
       "      <th>LogNewFatalities_prev_day_23</th>\n",
       "      <th>LogNewFatalities_prev_day_24</th>\n",
       "      <th>LogNewFatalities_prev_day_25</th>\n",
       "      <th>LogNewFatalities_prev_day_26</th>\n",
       "      <th>LogNewFatalities_prev_day_27</th>\n",
       "      <th>LogNewFatalities_prev_day_28</th>\n",
       "      <th>LogNewFatalities_prev_day_29</th>\n",
       "      <th>LogNewFatalities_prev_day_30</th>\n",
       "    </tr>\n",
       "  </thead>\n",
       "  <tbody>\n",
       "    <tr>\n",
       "      <th>0</th>\n",
       "      <td>1.0</td>\n",
       "      <td></td>\n",
       "      <td>Afghanistan</td>\n",
       "      <td>33.0000</td>\n",
       "      <td>65.0000</td>\n",
       "      <td>2020-01-22</td>\n",
       "      <td>0.0</td>\n",
       "      <td>0.0</td>\n",
       "      <td>NaN</td>\n",
       "      <td>0.0</td>\n",
       "      <td>...</td>\n",
       "      <td>NaN</td>\n",
       "      <td>NaN</td>\n",
       "      <td>NaN</td>\n",
       "      <td>NaN</td>\n",
       "      <td>NaN</td>\n",
       "      <td>NaN</td>\n",
       "      <td>NaN</td>\n",
       "      <td>NaN</td>\n",
       "      <td>NaN</td>\n",
       "      <td>NaN</td>\n",
       "    </tr>\n",
       "    <tr>\n",
       "      <th>5544</th>\n",
       "      <td>8185.0</td>\n",
       "      <td></td>\n",
       "      <td>Cyprus</td>\n",
       "      <td>35.1264</td>\n",
       "      <td>33.4299</td>\n",
       "      <td>2020-01-22</td>\n",
       "      <td>0.0</td>\n",
       "      <td>0.0</td>\n",
       "      <td>NaN</td>\n",
       "      <td>0.0</td>\n",
       "      <td>...</td>\n",
       "      <td>NaN</td>\n",
       "      <td>NaN</td>\n",
       "      <td>NaN</td>\n",
       "      <td>NaN</td>\n",
       "      <td>NaN</td>\n",
       "      <td>NaN</td>\n",
       "      <td>NaN</td>\n",
       "      <td>NaN</td>\n",
       "      <td>NaN</td>\n",
       "      <td>NaN</td>\n",
       "    </tr>\n",
       "    <tr>\n",
       "      <th>14301</th>\n",
       "      <td>21112.0</td>\n",
       "      <td>Guam</td>\n",
       "      <td>US</td>\n",
       "      <td>13.4443</td>\n",
       "      <td>144.7937</td>\n",
       "      <td>2020-01-22</td>\n",
       "      <td>0.0</td>\n",
       "      <td>0.0</td>\n",
       "      <td>NaN</td>\n",
       "      <td>0.0</td>\n",
       "      <td>...</td>\n",
       "      <td>NaN</td>\n",
       "      <td>NaN</td>\n",
       "      <td>NaN</td>\n",
       "      <td>NaN</td>\n",
       "      <td>NaN</td>\n",
       "      <td>NaN</td>\n",
       "      <td>NaN</td>\n",
       "      <td>NaN</td>\n",
       "      <td>NaN</td>\n",
       "      <td>NaN</td>\n",
       "    </tr>\n",
       "    <tr>\n",
       "      <th>5607</th>\n",
       "      <td>8278.0</td>\n",
       "      <td></td>\n",
       "      <td>Czechia</td>\n",
       "      <td>49.8175</td>\n",
       "      <td>15.4730</td>\n",
       "      <td>2020-01-22</td>\n",
       "      <td>0.0</td>\n",
       "      <td>0.0</td>\n",
       "      <td>NaN</td>\n",
       "      <td>0.0</td>\n",
       "      <td>...</td>\n",
       "      <td>NaN</td>\n",
       "      <td>NaN</td>\n",
       "      <td>NaN</td>\n",
       "      <td>NaN</td>\n",
       "      <td>NaN</td>\n",
       "      <td>NaN</td>\n",
       "      <td>NaN</td>\n",
       "      <td>NaN</td>\n",
       "      <td>NaN</td>\n",
       "      <td>NaN</td>\n",
       "    </tr>\n",
       "    <tr>\n",
       "      <th>5670</th>\n",
       "      <td>8371.0</td>\n",
       "      <td>Denmark</td>\n",
       "      <td>Denmark</td>\n",
       "      <td>56.2639</td>\n",
       "      <td>9.5018</td>\n",
       "      <td>2020-01-22</td>\n",
       "      <td>0.0</td>\n",
       "      <td>0.0</td>\n",
       "      <td>NaN</td>\n",
       "      <td>0.0</td>\n",
       "      <td>...</td>\n",
       "      <td>NaN</td>\n",
       "      <td>NaN</td>\n",
       "      <td>NaN</td>\n",
       "      <td>NaN</td>\n",
       "      <td>NaN</td>\n",
       "      <td>NaN</td>\n",
       "      <td>NaN</td>\n",
       "      <td>NaN</td>\n",
       "      <td>NaN</td>\n",
       "      <td>NaN</td>\n",
       "    </tr>\n",
       "  </tbody>\n",
       "</table>\n",
       "<p>5 rows × 71 columns</p>\n",
       "</div>"
      ],
      "text/plain": [
       "            Id Province/State Country/Region      Lat      Long       Date  \\\n",
       "0          1.0                   Afghanistan  33.0000   65.0000 2020-01-22   \n",
       "5544    8185.0                        Cyprus  35.1264   33.4299 2020-01-22   \n",
       "14301  21112.0           Guam             US  13.4443  144.7937 2020-01-22   \n",
       "5607    8278.0                       Czechia  49.8175   15.4730 2020-01-22   \n",
       "5670    8371.0        Denmark        Denmark  56.2639    9.5018 2020-01-22   \n",
       "\n",
       "       ConfirmedCases  Fatalities  ForecastId  LogNewConfirmedCases  ...  \\\n",
       "0                 0.0         0.0         NaN                   0.0  ...   \n",
       "5544              0.0         0.0         NaN                   0.0  ...   \n",
       "14301             0.0         0.0         NaN                   0.0  ...   \n",
       "5607              0.0         0.0         NaN                   0.0  ...   \n",
       "5670              0.0         0.0         NaN                   0.0  ...   \n",
       "\n",
       "       LogNewFatalities_prev_day_21  LogNewFatalities_prev_day_22  \\\n",
       "0                               NaN                           NaN   \n",
       "5544                            NaN                           NaN   \n",
       "14301                           NaN                           NaN   \n",
       "5607                            NaN                           NaN   \n",
       "5670                            NaN                           NaN   \n",
       "\n",
       "       LogNewFatalities_prev_day_23  LogNewFatalities_prev_day_24  \\\n",
       "0                               NaN                           NaN   \n",
       "5544                            NaN                           NaN   \n",
       "14301                           NaN                           NaN   \n",
       "5607                            NaN                           NaN   \n",
       "5670                            NaN                           NaN   \n",
       "\n",
       "       LogNewFatalities_prev_day_25  LogNewFatalities_prev_day_26  \\\n",
       "0                               NaN                           NaN   \n",
       "5544                            NaN                           NaN   \n",
       "14301                           NaN                           NaN   \n",
       "5607                            NaN                           NaN   \n",
       "5670                            NaN                           NaN   \n",
       "\n",
       "       LogNewFatalities_prev_day_27  LogNewFatalities_prev_day_28  \\\n",
       "0                               NaN                           NaN   \n",
       "5544                            NaN                           NaN   \n",
       "14301                           NaN                           NaN   \n",
       "5607                            NaN                           NaN   \n",
       "5670                            NaN                           NaN   \n",
       "\n",
       "       LogNewFatalities_prev_day_29  LogNewFatalities_prev_day_30  \n",
       "0                               NaN                           NaN  \n",
       "5544                            NaN                           NaN  \n",
       "14301                           NaN                           NaN  \n",
       "5607                            NaN                           NaN  \n",
       "5670                            NaN                           NaN  \n",
       "\n",
       "[5 rows x 71 columns]"
      ]
     },
     "execution_count": 7,
     "metadata": {},
     "output_type": "execute_result"
    }
   ],
   "source": [
    "main_df.sort_values(by='Date', inplace=True)\n",
    "\n",
    "location_columns = ['Country/Region','Province/State']\n",
    "\n",
    "# row selection functions in pandas do not like nans\n",
    "for column in location_columns:\n",
    "    main_df[column].fillna('', inplace=True)\n",
    "\n",
    "\n",
    "days_history_size = 30\n",
    "\n",
    "\n",
    "def is_cumulative(increment_series):\n",
    "    for v in increment_series:\n",
    "        if (not np.isnan(v)) and (v < 0):\n",
    "            return False\n",
    "    return True\n",
    "\n",
    "print ('data size before removing bad data = ', len(main_df))\n",
    "\n",
    "for field in ['LogNewConfirmedCases', 'LogNewFatalities']:\n",
    "    main_df[field] = np.nan\n",
    "\n",
    "    for prev_day in range(1, days_history_size + 1):\n",
    "        main_df[field + '_prev_day_%s' % prev_day] = np.nan\n",
    "\n",
    "\n",
    "for location_name, location_df in main_df.groupby(['Country/Region', 'Province/State']):\n",
    "    for field in ['ConfirmedCases', 'Fatalities']:\n",
    "        new_values = location_df[field].values\n",
    "        new_values[1:] -= new_values[:-1]\n",
    "        if not is_cumulative(new_values):\n",
    "            print ('%s for %s, %s is not valid cumulative series, drop it' % ((field,) + location_name))\n",
    "            main_df.drop(index=location_df.index, inplace=True)\n",
    "            break\n",
    "        log_new_values = np.log1p(new_values)\n",
    "        main_df.loc[location_df.index, 'LogNew' + field] = log_new_values\n",
    "\n",
    "        for prev_day in range(1, days_history_size + 1):\n",
    "            main_df.loc[location_df.index[prev_day:], 'LogNew%s_prev_day_%s' % (field, prev_day)] = (\n",
    "                log_new_values[:-prev_day]\n",
    "            )\n",
    "\n",
    "print ('data size after removing bad data = ', len(main_df))\n",
    "main_df.head()"
   ]
  },
  {
   "cell_type": "markdown",
   "metadata": {
    "colab_type": "text",
    "id": "GuxemylRhgSW"
   },
   "source": [
    "### Day feature\n"
   ]
  },
  {
   "cell_type": "code",
   "execution_count": 8,
   "metadata": {
    "colab": {},
    "colab_type": "code",
    "id": "qz8fWHG6QZdu"
   },
   "outputs": [],
   "source": [
    "first_date = min(main_df['Date'])\n",
    "    \n",
    "main_df['Day'] = (main_df['Date'] - first_date).dt.days.astype('int32')"
   ]
  },
  {
   "cell_type": "markdown",
   "metadata": {
    "colab_type": "text",
    "id": "yEWL2GAn58II"
   },
   "source": [
    "### WeekDay feature\n"
   ]
  },
  {
   "cell_type": "code",
   "execution_count": 9,
   "metadata": {
    "colab": {},
    "colab_type": "code",
    "id": "Z7wNg-zD6BPn"
   },
   "outputs": [],
   "source": [
    "main_df['WeekDay'] = main_df['Date'].transform(lambda d: d.weekday())"
   ]
  },
  {
   "cell_type": "markdown",
   "metadata": {
    "colab_type": "text",
    "id": "esXELzAHj77X"
   },
   "source": [
    "### Days since Xth Confirmed case and Xth Fatality features\n"
   ]
  },
  {
   "cell_type": "code",
   "execution_count": 10,
   "metadata": {
    "colab": {},
    "colab_type": "code",
    "id": "WUlHXEpRu0L1"
   },
   "outputs": [],
   "source": [
    "thresholds = [1, 10, 100]\n",
    "\n",
    "for threshold in thresholds:\n",
    "    main_df['Days_since_ConfirmedCases=%s' % threshold] = np.nan\n",
    "    main_df['Days_since_Fatalities=%s' % threshold] = np.nan\n",
    "\n",
    "for location_name, location_df in main_df.groupby(['Country/Region', 'Province/State']):\n",
    "    for field in ['ConfirmedCases', 'Fatalities']:\n",
    "        for threshold in thresholds:\n",
    "            first_day = location_df['Day'].loc[location_df[field] >= threshold].min()\n",
    "            if not np.isnan(first_day):\n",
    "                main_df.loc[location_df.index, 'Days_since_%s=%s' % (field, threshold)] = (\n",
    "                    location_df['Day'].transform(lambda day: -1 if (day < first_day) else (day - first_day))\n",
    "                )"
   ]
  },
  {
   "cell_type": "markdown",
   "metadata": {
    "colab_type": "text",
    "id": "znNwtyobuiYv"
   },
   "source": [
    "### 'Distance to Origin' feature.\n"
   ]
  },
  {
   "cell_type": "code",
   "execution_count": 11,
   "metadata": {
    "colab": {},
    "colab_type": "code",
    "id": "SpdzCOMzu8GV"
   },
   "outputs": [],
   "source": [
    "def get_hubei_coords(df):\n",
    "    for index, row in df.iterrows():\n",
    "        if row['Province/State'] == 'Hubei':\n",
    "            return (row['Lat'], row['Long'])\n",
    "\n",
    "    raise Exception('Hubei not found in data')\n",
    "\n",
    "\n",
    "origin_coords = get_hubei_coords(main_df)\n",
    "\n",
    "main_df['Distance_to_origin'] = main_df.apply(\n",
    "    lambda row: geopy.distance.distance((row['Lat'], row['Long']), origin_coords).km,\n",
    "    axis='columns'\n",
    ")\n"
   ]
  },
  {
   "cell_type": "markdown",
   "metadata": {
    "colab_type": "text",
    "id": "gQD43i1oyMZN"
   },
   "source": [
    "### Functions for merging external data \n"
   ]
  },
  {
   "cell_type": "code",
   "execution_count": null,
   "metadata": {
    "colab": {},
    "colab_type": "code",
    "id": "ZLcmIiTOydcJ"
   },
   "outputs": [
    {
     "name": "stdout",
     "output_type": "stream",
     "text": [
      "Data loaded: unknown shape\n"
     ]
    }
   ],
   "source": [
    "def merge_with_column_drop(left_df, right_df, right_df_column='Country'):\n",
    "    df = pd.merge(\n",
    "        left=left_df,\n",
    "        right=right_df,\n",
    "        how='left',\n",
    "        left_on='Country/Region',\n",
    "        right_on=right_df_column\n",
    "    )\n",
    "    df.drop(columns=right_df_column, inplace=True)\n",
    "    \n",
    "    return df\n",
    "\n",
    "def remap_country_name_from_world_bank_to_main_df_name(country):\n",
    "    return {\n",
    "        'Bahamas, The': 'The Bahamas',\n",
    "        'Brunei Darussalam': 'Brunei',\n",
    "        'Congo, Rep.': 'Congo (Brazzaville)',\n",
    "        'Congo, Dem. Rep.': 'Congo (Kinshasa)',\n",
    "        'Czech Republic': 'Czechia',\n",
    "        'Egypt, Arab Rep.': 'Egypt',\n",
    "        'Iran, Islamic Rep.': 'Iran',\n",
    "        'Korea, Rep.': 'Korea, South',\n",
    "        'Kyrgyz Republic': 'Kyrgyzstan',\n",
    "        'Russian Federation': 'Russia',\n",
    "        'Slovak Republic': 'Slovakia',\n",
    "        'St. Lucia': 'Saint Lucia',\n",
    "        'St. Vincent and the Grenadines': 'Saint Vincent and the Grenadines',\n",
    "        'United States': 'US',\n",
    "        'Venezuela, RB': 'Venezuela',\n",
    "    }.get(country, country)\n",
    "\n",
    "def remap_country_name_from_un_wpp_to_main_df_name(country):\n",
    "    return {\n",
    "        'Bahamas': 'The Bahamas',\n",
    "        'Bolivia (Plurinational State of)': 'Bolivia',\n",
    "        'Brunei Darussalam': 'Brunei',\n",
    "        'China, Taiwan Province of China': 'Taiwan*',\n",
    "        'Congo' : 'Congo (Brazzaville)',\n",
    "        'Côte d\\'Ivoire': 'Cote d\\'Ivoire',\n",
    "        'Democratic Republic of the Congo': 'Congo (Kinshasa)',\n",
    "        'Gambia': 'The Gambia',\n",
    "        'Iran (Islamic Republic of)': 'Iran',\n",
    "        'Republic of Korea': 'Korea, South',\n",
    "        'Republic of Moldova': 'Moldova',\n",
    "        'Réunion': 'Reunion',\n",
    "        'Russian Federation': 'Russia',\n",
    "        'United Republic of Tanzania': 'Tanzania',\n",
    "        'United States of America': 'US',\n",
    "        'Venezuela (Bolivarian Republic of)': 'Venezuela',\n",
    "        'Viet Nam': 'Vietnam'\n",
    "    }.get(country, country)\n",
    "\n",
    "# for read_csv\n",
    "\n",
    "world_bank_converters={'Country Name': remap_country_name_from_world_bank_to_main_df_name}\n",
    "un_wpp_converters={'Location': remap_country_name_from_un_wpp_to_main_df_name}"
   ]
  },
  {
   "cell_type": "markdown",
   "metadata": {
    "colab_type": "text",
    "id": "RZrD5vlexX7_"
   },
   "source": [
    "### Country Area\n"
   ]
  },
  {
   "cell_type": "code",
   "execution_count": 13,
   "metadata": {
    "colab": {
     "base_uri": "https://localhost:8080/",
     "height": 394
    },
    "colab_type": "code",
    "id": "Yi6xbUz4qMP2",
    "outputId": "cfff6fd6-95da-4b9e-f47e-ac75eed0a948"
   },
   "outputs": [
    {
     "name": "stdout",
     "output_type": "stream",
     "text": [
      "area.zip already exists, skipping download.\n",
      "Skipped (already exists): Metadata_Indicator_API_AG.LND.TOTL.K2_DS2_en_csv_v2_21556.csv\n",
      "Skipped (already exists): API_AG.LND.TOTL.K2_DS2_en_csv_v2_21556.csv\n",
      "Skipped (already exists): Metadata_Country_API_AG.LND.TOTL.K2_DS2_en_csv_v2_21556.csv\n",
      "Directory contents:\n",
      "API_AG.LND.TOTL.K2_DS2_en_csv_v2_21556.csv\n",
      "area.zip\n",
      "Metadata_Country_API_AG.LND.TOTL.K2_DS2_en_csv_v2_21556.csv\n",
      "Metadata_Indicator_API_AG.LND.TOTL.K2_DS2_en_csv_v2_21556.csv\n"
     ]
    }
   ],
   "source": [
    "import os\n",
    "import urllib.request\n",
    "import zipfile\n",
    "\n",
    "# Create directory if it doesn't exist\n",
    "area_dir = 'area'\n",
    "os.makedirs(area_dir, exist_ok=True)\n",
    "os.chdir(area_dir)\n",
    "\n",
    "# Download the file if it doesn't exist\n",
    "url = 'http://api.worldbank.org/v2/en/indicator/AG.LND.TOTL.K2?downloadformat=csv'\n",
    "zip_filename = 'area.zip'\n",
    "if not os.path.exists(zip_filename):\n",
    "    urllib.request.urlretrieve(url, zip_filename)\n",
    "    print(f\"Downloaded {zip_filename}\")\n",
    "else:\n",
    "    print(f\"{zip_filename} already exists, skipping download.\")\n",
    "\n",
    "# Unzip without overwriting existing files\n",
    "with zipfile.ZipFile(zip_filename, 'r') as zip_ref:\n",
    "    for file in zip_ref.namelist():\n",
    "        if not os.path.exists(file):\n",
    "            zip_ref.extract(file)\n",
    "            print(f\"Extracted: {file}\")\n",
    "        else:\n",
    "            print(f\"Skipped (already exists): {file}\")\n",
    "\n",
    "# List contents of current directory\n",
    "print(\"Directory contents:\")\n",
    "for file in os.listdir('.'):\n",
    "    print(file)\n"
   ]
  },
  {
   "cell_type": "code",
   "execution_count": 14,
   "metadata": {
    "colab": {
     "base_uri": "https://localhost:8080/",
     "height": 330
    },
    "colab_type": "code",
    "id": "-bGeu_fzr5Wp",
    "outputId": "9501aff1-64ef-4666-cec2-70949c990311"
   },
   "outputs": [
    {
     "name": "stdout",
     "output_type": "stream",
     "text": [
      "Data loaded: unknown shape\n"
     ]
    },
    {
     "data": {
      "application/vnd.microsoft.datawrangler.viewer.v0+json": {
       "columns": [
        {
         "name": "index",
         "rawType": "int64",
         "type": "integer"
        },
        {
         "name": "Country Name",
         "rawType": "object",
         "type": "string"
        },
        {
         "name": "Country Code",
         "rawType": "object",
         "type": "string"
        },
        {
         "name": "Indicator Name",
         "rawType": "object",
         "type": "string"
        },
        {
         "name": "Indicator Code",
         "rawType": "object",
         "type": "string"
        },
        {
         "name": "1960",
         "rawType": "float64",
         "type": "float"
        },
        {
         "name": "1961",
         "rawType": "float64",
         "type": "float"
        },
        {
         "name": "1962",
         "rawType": "float64",
         "type": "float"
        },
        {
         "name": "1963",
         "rawType": "float64",
         "type": "float"
        },
        {
         "name": "1964",
         "rawType": "float64",
         "type": "float"
        },
        {
         "name": "1965",
         "rawType": "float64",
         "type": "float"
        },
        {
         "name": "1966",
         "rawType": "float64",
         "type": "float"
        },
        {
         "name": "1967",
         "rawType": "float64",
         "type": "float"
        },
        {
         "name": "1968",
         "rawType": "float64",
         "type": "float"
        },
        {
         "name": "1969",
         "rawType": "float64",
         "type": "float"
        },
        {
         "name": "1970",
         "rawType": "float64",
         "type": "float"
        },
        {
         "name": "1971",
         "rawType": "float64",
         "type": "float"
        },
        {
         "name": "1972",
         "rawType": "float64",
         "type": "float"
        },
        {
         "name": "1973",
         "rawType": "float64",
         "type": "float"
        },
        {
         "name": "1974",
         "rawType": "float64",
         "type": "float"
        },
        {
         "name": "1975",
         "rawType": "float64",
         "type": "float"
        },
        {
         "name": "1976",
         "rawType": "float64",
         "type": "float"
        },
        {
         "name": "1977",
         "rawType": "float64",
         "type": "float"
        },
        {
         "name": "1978",
         "rawType": "float64",
         "type": "float"
        },
        {
         "name": "1979",
         "rawType": "float64",
         "type": "float"
        },
        {
         "name": "1980",
         "rawType": "float64",
         "type": "float"
        },
        {
         "name": "1981",
         "rawType": "float64",
         "type": "float"
        },
        {
         "name": "1982",
         "rawType": "float64",
         "type": "float"
        },
        {
         "name": "1983",
         "rawType": "float64",
         "type": "float"
        },
        {
         "name": "1984",
         "rawType": "float64",
         "type": "float"
        },
        {
         "name": "1985",
         "rawType": "float64",
         "type": "float"
        },
        {
         "name": "1986",
         "rawType": "float64",
         "type": "float"
        },
        {
         "name": "1987",
         "rawType": "float64",
         "type": "float"
        },
        {
         "name": "1988",
         "rawType": "float64",
         "type": "float"
        },
        {
         "name": "1989",
         "rawType": "float64",
         "type": "float"
        },
        {
         "name": "1990",
         "rawType": "float64",
         "type": "float"
        },
        {
         "name": "1991",
         "rawType": "float64",
         "type": "float"
        },
        {
         "name": "1992",
         "rawType": "float64",
         "type": "float"
        },
        {
         "name": "1993",
         "rawType": "float64",
         "type": "float"
        },
        {
         "name": "1994",
         "rawType": "float64",
         "type": "float"
        },
        {
         "name": "1995",
         "rawType": "float64",
         "type": "float"
        },
        {
         "name": "1996",
         "rawType": "float64",
         "type": "float"
        },
        {
         "name": "1997",
         "rawType": "float64",
         "type": "float"
        },
        {
         "name": "1998",
         "rawType": "float64",
         "type": "float"
        },
        {
         "name": "1999",
         "rawType": "float64",
         "type": "float"
        },
        {
         "name": "2000",
         "rawType": "float64",
         "type": "float"
        },
        {
         "name": "2001",
         "rawType": "float64",
         "type": "float"
        },
        {
         "name": "2002",
         "rawType": "float64",
         "type": "float"
        },
        {
         "name": "2003",
         "rawType": "float64",
         "type": "float"
        },
        {
         "name": "2004",
         "rawType": "float64",
         "type": "float"
        },
        {
         "name": "2005",
         "rawType": "float64",
         "type": "float"
        },
        {
         "name": "2006",
         "rawType": "float64",
         "type": "float"
        },
        {
         "name": "2007",
         "rawType": "float64",
         "type": "float"
        },
        {
         "name": "2008",
         "rawType": "float64",
         "type": "float"
        },
        {
         "name": "2009",
         "rawType": "float64",
         "type": "float"
        },
        {
         "name": "2010",
         "rawType": "float64",
         "type": "float"
        },
        {
         "name": "2011",
         "rawType": "float64",
         "type": "float"
        },
        {
         "name": "2012",
         "rawType": "float64",
         "type": "float"
        },
        {
         "name": "2013",
         "rawType": "float64",
         "type": "float"
        },
        {
         "name": "2014",
         "rawType": "float64",
         "type": "float"
        },
        {
         "name": "2015",
         "rawType": "float64",
         "type": "float"
        },
        {
         "name": "2016",
         "rawType": "float64",
         "type": "float"
        },
        {
         "name": "2017",
         "rawType": "float64",
         "type": "float"
        },
        {
         "name": "2018",
         "rawType": "float64",
         "type": "float"
        },
        {
         "name": "2019",
         "rawType": "float64",
         "type": "float"
        },
        {
         "name": "2020",
         "rawType": "float64",
         "type": "float"
        },
        {
         "name": "2021",
         "rawType": "float64",
         "type": "float"
        },
        {
         "name": "2022",
         "rawType": "float64",
         "type": "float"
        },
        {
         "name": "2023",
         "rawType": "float64",
         "type": "float"
        },
        {
         "name": "2024",
         "rawType": "float64",
         "type": "float"
        },
        {
         "name": "Unnamed: 69",
         "rawType": "float64",
         "type": "float"
        }
       ],
       "ref": "a7996f09-7c03-47d3-abef-0565798e9c9c",
       "rows": [
        [
         "0",
         "Aruba",
         "ABW",
         "Land area (sq. km)",
         "AG.LND.TOTL.K2",
         null,
         "180.0",
         "180.0",
         "180.0",
         "180.0",
         "180.0",
         "180.0",
         "180.0",
         "180.0",
         "180.0",
         "180.0",
         "180.0",
         "180.0",
         "180.0",
         "180.0",
         "180.0",
         "180.0",
         "180.0",
         "180.0",
         "180.0",
         "180.0",
         "180.0",
         "180.0",
         "180.0",
         "180.0",
         "180.0",
         "180.0",
         "180.0",
         "180.0",
         "180.0",
         "180.0",
         "180.0",
         "180.0",
         "180.0",
         "180.0",
         "180.0",
         "180.0",
         "180.0",
         "180.0",
         "180.0",
         "180.0",
         "180.0",
         "180.0",
         "180.0",
         "180.0",
         "180.0",
         "180.0",
         "180.0",
         "180.0",
         "180.0",
         "180.0",
         "180.0",
         "180.0",
         "180.0",
         "180.0",
         "180.0",
         "180.0",
         "180.0",
         "180.0",
         "180.0",
         "180.0",
         "180.0",
         "180.0",
         null,
         null,
         null
        ],
        [
         "1",
         "Africa Eastern and Southern",
         "AFE",
         "Land area (sq. km)",
         "AG.LND.TOTL.K2",
         null,
         "11094611.0",
         "11094611.0",
         "11094611.0",
         "11094611.0",
         "11094611.0",
         "11094611.0",
         "11094611.0",
         "11094611.0",
         "11094611.0",
         "11094611.0",
         "11094611.0",
         "11094611.0",
         "11094611.0",
         "11094611.0",
         "11094611.0",
         "11094611.0",
         "11094611.0",
         "11094611.0",
         "11094611.0",
         "11094611.0",
         "11094611.0",
         "11094611.0",
         "11094611.0",
         "11094611.0",
         "11094611.0",
         "11094611.0",
         "11094611.0",
         "11094611.0",
         "11094611.0",
         "11094611.0",
         "11094611.0",
         "11094611.0",
         "12195611.0",
         "12195611.0",
         "12195611.0",
         "12195611.0",
         "12195611.0",
         "12195611.0",
         "12195611.0",
         "12195611.0",
         "12195611.0",
         "12195611.0",
         "12195611.0",
         "12344190.925",
         "12344236.126",
         "12344228.231",
         "12344274.806",
         "12344236.794",
         "12344269.192",
         "12344957.103",
         "12345207.089",
         "14845137.22",
         "14845099.378",
         "14845052.485",
         "14845106.175",
         "14845113.959",
         "14845102.033",
         "14845117.114",
         "14845129.446",
         "14845090.229",
         "14845090.229",
         "14845090.229",
         null,
         null,
         null
        ],
        [
         "2",
         "Afghanistan",
         "AFG",
         "Land area (sq. km)",
         "AG.LND.TOTL.K2",
         null,
         "652230.0",
         "652230.0",
         "652230.0",
         "652230.0",
         "652230.0",
         "652230.0",
         "652230.0",
         "652230.0",
         "652230.0",
         "652230.0",
         "652230.0",
         "652230.0",
         "652230.0",
         "652230.0",
         "652230.0",
         "652230.0",
         "652230.0",
         "652230.0",
         "652230.0",
         "652230.0",
         "652230.0",
         "652230.0",
         "652230.0",
         "652230.0",
         "652230.0",
         "652230.0",
         "652230.0",
         "652230.0",
         "652230.0",
         "652230.0",
         "652230.0",
         "652230.0",
         "652230.0",
         "652230.0",
         "652230.0",
         "652230.0",
         "652230.0",
         "652230.0",
         "652230.0",
         "652230.0",
         "652230.0",
         "652230.0",
         "652230.0",
         "652230.0",
         "652230.0",
         "652230.0",
         "652230.0",
         "652230.0",
         "652230.0",
         "652230.0",
         "652230.0",
         "652230.0",
         "652230.0",
         "652230.0",
         "652230.0",
         "652230.0",
         "652230.0",
         "652230.0",
         "652230.0",
         "652230.0",
         "652230.0",
         "652230.0",
         null,
         null,
         null
        ],
        [
         "3",
         "Africa Western and Central",
         "AFW",
         "Land area (sq. km)",
         "AG.LND.TOTL.K2",
         null,
         "9046580.0",
         "9046580.0",
         "9046580.0",
         "9046580.0",
         "9046580.0",
         "9046580.0",
         "9046580.0",
         "9046580.0",
         "9046580.0",
         "9046580.0",
         "9046580.0",
         "9046580.0",
         "9046580.0",
         "9046180.0",
         "9045780.0",
         "9045780.0",
         "9045780.0",
         "9045780.0",
         "9045780.0",
         "9045780.0",
         "9045780.0",
         "9045780.0",
         "9045780.0",
         "9045780.0",
         "9045780.0",
         "9045780.0",
         "9045780.0",
         "9045780.0",
         "9045780.0",
         "9045780.0",
         "9045780.0",
         "9045780.0",
         "9045780.0",
         "9045780.0",
         "9045780.0",
         "9045780.0",
         "9045780.0",
         "9045780.0",
         "9045780.0",
         "9045780.0",
         "9045780.0",
         "9045780.0",
         "9045780.0",
         "9045780.0",
         "9045780.0",
         "9045780.0",
         "9045780.0",
         "9045780.0",
         "9045780.0",
         "9045780.0",
         "9045780.0",
         "9045780.0",
         "9045780.0",
         "9045780.0",
         "9045780.0",
         "9045780.0",
         "9045780.0",
         "9045780.0",
         "9045773.0",
         "9045770.0",
         "9045773.0",
         "9045773.0",
         null,
         null,
         null
        ],
        [
         "4",
         "Angola",
         "AGO",
         "Land area (sq. km)",
         "AG.LND.TOTL.K2",
         null,
         "1246700.0",
         "1246700.0",
         "1246700.0",
         "1246700.0",
         "1246700.0",
         "1246700.0",
         "1246700.0",
         "1246700.0",
         "1246700.0",
         "1246700.0",
         "1246700.0",
         "1246700.0",
         "1246700.0",
         "1246700.0",
         "1246700.0",
         "1246700.0",
         "1246700.0",
         "1246700.0",
         "1246700.0",
         "1246700.0",
         "1246700.0",
         "1246700.0",
         "1246700.0",
         "1246700.0",
         "1246700.0",
         "1246700.0",
         "1246700.0",
         "1246700.0",
         "1246700.0",
         "1246700.0",
         "1246700.0",
         "1246700.0",
         "1246700.0",
         "1246700.0",
         "1246700.0",
         "1246700.0",
         "1246700.0",
         "1246700.0",
         "1246700.0",
         "1246700.0",
         "1246700.0",
         "1246700.0",
         "1246700.0",
         "1246700.0",
         "1246700.0",
         "1246700.0",
         "1246700.0",
         "1246700.0",
         "1246700.0",
         "1246700.0",
         "1246700.0",
         "1246700.0",
         "1246700.0",
         "1246700.0",
         "1246700.0",
         "1246700.0",
         "1246700.0",
         "1246700.0",
         "1246700.0",
         "1246700.0",
         "1246700.0",
         "1246700.0",
         null,
         null,
         null
        ]
       ],
       "shape": {
        "columns": 70,
        "rows": 5
       }
      },
      "text/html": [
       "<div>\n",
       "<style scoped>\n",
       "    .dataframe tbody tr th:only-of-type {\n",
       "        vertical-align: middle;\n",
       "    }\n",
       "\n",
       "    .dataframe tbody tr th {\n",
       "        vertical-align: top;\n",
       "    }\n",
       "\n",
       "    .dataframe thead th {\n",
       "        text-align: right;\n",
       "    }\n",
       "</style>\n",
       "<table border=\"1\" class=\"dataframe\">\n",
       "  <thead>\n",
       "    <tr style=\"text-align: right;\">\n",
       "      <th></th>\n",
       "      <th>Country Name</th>\n",
       "      <th>Country Code</th>\n",
       "      <th>Indicator Name</th>\n",
       "      <th>Indicator Code</th>\n",
       "      <th>1960</th>\n",
       "      <th>1961</th>\n",
       "      <th>1962</th>\n",
       "      <th>1963</th>\n",
       "      <th>1964</th>\n",
       "      <th>1965</th>\n",
       "      <th>...</th>\n",
       "      <th>2016</th>\n",
       "      <th>2017</th>\n",
       "      <th>2018</th>\n",
       "      <th>2019</th>\n",
       "      <th>2020</th>\n",
       "      <th>2021</th>\n",
       "      <th>2022</th>\n",
       "      <th>2023</th>\n",
       "      <th>2024</th>\n",
       "      <th>Unnamed: 69</th>\n",
       "    </tr>\n",
       "  </thead>\n",
       "  <tbody>\n",
       "    <tr>\n",
       "      <th>0</th>\n",
       "      <td>Aruba</td>\n",
       "      <td>ABW</td>\n",
       "      <td>Land area (sq. km)</td>\n",
       "      <td>AG.LND.TOTL.K2</td>\n",
       "      <td>NaN</td>\n",
       "      <td>180.0</td>\n",
       "      <td>180.0</td>\n",
       "      <td>180.0</td>\n",
       "      <td>180.0</td>\n",
       "      <td>180.0</td>\n",
       "      <td>...</td>\n",
       "      <td>1.800000e+02</td>\n",
       "      <td>1.800000e+02</td>\n",
       "      <td>1.800000e+02</td>\n",
       "      <td>1.800000e+02</td>\n",
       "      <td>1.800000e+02</td>\n",
       "      <td>1.800000e+02</td>\n",
       "      <td>1.800000e+02</td>\n",
       "      <td>NaN</td>\n",
       "      <td>NaN</td>\n",
       "      <td>NaN</td>\n",
       "    </tr>\n",
       "    <tr>\n",
       "      <th>1</th>\n",
       "      <td>Africa Eastern and Southern</td>\n",
       "      <td>AFE</td>\n",
       "      <td>Land area (sq. km)</td>\n",
       "      <td>AG.LND.TOTL.K2</td>\n",
       "      <td>NaN</td>\n",
       "      <td>11094611.0</td>\n",
       "      <td>11094611.0</td>\n",
       "      <td>11094611.0</td>\n",
       "      <td>11094611.0</td>\n",
       "      <td>11094611.0</td>\n",
       "      <td>...</td>\n",
       "      <td>1.484511e+07</td>\n",
       "      <td>1.484510e+07</td>\n",
       "      <td>1.484512e+07</td>\n",
       "      <td>1.484513e+07</td>\n",
       "      <td>1.484509e+07</td>\n",
       "      <td>1.484509e+07</td>\n",
       "      <td>1.484509e+07</td>\n",
       "      <td>NaN</td>\n",
       "      <td>NaN</td>\n",
       "      <td>NaN</td>\n",
       "    </tr>\n",
       "    <tr>\n",
       "      <th>2</th>\n",
       "      <td>Afghanistan</td>\n",
       "      <td>AFG</td>\n",
       "      <td>Land area (sq. km)</td>\n",
       "      <td>AG.LND.TOTL.K2</td>\n",
       "      <td>NaN</td>\n",
       "      <td>652230.0</td>\n",
       "      <td>652230.0</td>\n",
       "      <td>652230.0</td>\n",
       "      <td>652230.0</td>\n",
       "      <td>652230.0</td>\n",
       "      <td>...</td>\n",
       "      <td>6.522300e+05</td>\n",
       "      <td>6.522300e+05</td>\n",
       "      <td>6.522300e+05</td>\n",
       "      <td>6.522300e+05</td>\n",
       "      <td>6.522300e+05</td>\n",
       "      <td>6.522300e+05</td>\n",
       "      <td>6.522300e+05</td>\n",
       "      <td>NaN</td>\n",
       "      <td>NaN</td>\n",
       "      <td>NaN</td>\n",
       "    </tr>\n",
       "    <tr>\n",
       "      <th>3</th>\n",
       "      <td>Africa Western and Central</td>\n",
       "      <td>AFW</td>\n",
       "      <td>Land area (sq. km)</td>\n",
       "      <td>AG.LND.TOTL.K2</td>\n",
       "      <td>NaN</td>\n",
       "      <td>9046580.0</td>\n",
       "      <td>9046580.0</td>\n",
       "      <td>9046580.0</td>\n",
       "      <td>9046580.0</td>\n",
       "      <td>9046580.0</td>\n",
       "      <td>...</td>\n",
       "      <td>9.045780e+06</td>\n",
       "      <td>9.045780e+06</td>\n",
       "      <td>9.045780e+06</td>\n",
       "      <td>9.045773e+06</td>\n",
       "      <td>9.045770e+06</td>\n",
       "      <td>9.045773e+06</td>\n",
       "      <td>9.045773e+06</td>\n",
       "      <td>NaN</td>\n",
       "      <td>NaN</td>\n",
       "      <td>NaN</td>\n",
       "    </tr>\n",
       "    <tr>\n",
       "      <th>4</th>\n",
       "      <td>Angola</td>\n",
       "      <td>AGO</td>\n",
       "      <td>Land area (sq. km)</td>\n",
       "      <td>AG.LND.TOTL.K2</td>\n",
       "      <td>NaN</td>\n",
       "      <td>1246700.0</td>\n",
       "      <td>1246700.0</td>\n",
       "      <td>1246700.0</td>\n",
       "      <td>1246700.0</td>\n",
       "      <td>1246700.0</td>\n",
       "      <td>...</td>\n",
       "      <td>1.246700e+06</td>\n",
       "      <td>1.246700e+06</td>\n",
       "      <td>1.246700e+06</td>\n",
       "      <td>1.246700e+06</td>\n",
       "      <td>1.246700e+06</td>\n",
       "      <td>1.246700e+06</td>\n",
       "      <td>1.246700e+06</td>\n",
       "      <td>NaN</td>\n",
       "      <td>NaN</td>\n",
       "      <td>NaN</td>\n",
       "    </tr>\n",
       "  </tbody>\n",
       "</table>\n",
       "<p>5 rows × 70 columns</p>\n",
       "</div>"
      ],
      "text/plain": [
       "                  Country Name Country Code      Indicator Name  \\\n",
       "0                        Aruba          ABW  Land area (sq. km)   \n",
       "1  Africa Eastern and Southern          AFE  Land area (sq. km)   \n",
       "2                  Afghanistan          AFG  Land area (sq. km)   \n",
       "3   Africa Western and Central          AFW  Land area (sq. km)   \n",
       "4                       Angola          AGO  Land area (sq. km)   \n",
       "\n",
       "   Indicator Code  1960        1961        1962        1963        1964  \\\n",
       "0  AG.LND.TOTL.K2   NaN       180.0       180.0       180.0       180.0   \n",
       "1  AG.LND.TOTL.K2   NaN  11094611.0  11094611.0  11094611.0  11094611.0   \n",
       "2  AG.LND.TOTL.K2   NaN    652230.0    652230.0    652230.0    652230.0   \n",
       "3  AG.LND.TOTL.K2   NaN   9046580.0   9046580.0   9046580.0   9046580.0   \n",
       "4  AG.LND.TOTL.K2   NaN   1246700.0   1246700.0   1246700.0   1246700.0   \n",
       "\n",
       "         1965  ...          2016          2017          2018          2019  \\\n",
       "0       180.0  ...  1.800000e+02  1.800000e+02  1.800000e+02  1.800000e+02   \n",
       "1  11094611.0  ...  1.484511e+07  1.484510e+07  1.484512e+07  1.484513e+07   \n",
       "2    652230.0  ...  6.522300e+05  6.522300e+05  6.522300e+05  6.522300e+05   \n",
       "3   9046580.0  ...  9.045780e+06  9.045780e+06  9.045780e+06  9.045773e+06   \n",
       "4   1246700.0  ...  1.246700e+06  1.246700e+06  1.246700e+06  1.246700e+06   \n",
       "\n",
       "           2020          2021          2022  2023  2024  Unnamed: 69  \n",
       "0  1.800000e+02  1.800000e+02  1.800000e+02   NaN   NaN          NaN  \n",
       "1  1.484509e+07  1.484509e+07  1.484509e+07   NaN   NaN          NaN  \n",
       "2  6.522300e+05  6.522300e+05  6.522300e+05   NaN   NaN          NaN  \n",
       "3  9.045770e+06  9.045773e+06  9.045773e+06   NaN   NaN          NaN  \n",
       "4  1.246700e+06  1.246700e+06  1.246700e+06   NaN   NaN          NaN  \n",
       "\n",
       "[5 rows x 70 columns]"
      ]
     },
     "execution_count": 14,
     "metadata": {},
     "output_type": "execute_result"
    }
   ],
   "source": [
    "area_df = pd.read_csv('./API_AG.LND.TOTL.K2_DS2_en_csv_v2_21556.csv', skiprows=4, converters=world_bank_converters)\n",
    "\n",
    "os.chdir('..')\n",
    "area_df.head()"
   ]
  },
  {
   "cell_type": "code",
   "execution_count": 15,
   "metadata": {
    "colab": {},
    "colab_type": "code",
    "id": "7usYQo_RuDCq"
   },
   "outputs": [],
   "source": [
    "year_columns = [str(year) for year in range(1960, 2020)]\n",
    "\n",
    "area_df['CountryArea'] = area_df[year_columns].apply(\n",
    "    lambda row: row[row.last_valid_index()] if row.last_valid_index() else np.nan,\n",
    "    axis='columns'    \n",
    ")"
   ]
  },
  {
   "cell_type": "code",
   "execution_count": 16,
   "metadata": {
    "colab": {
     "base_uri": "https://localhost:8080/",
     "height": 206
    },
    "colab_type": "code",
    "id": "IUbGQTqJyw1g",
    "outputId": "5bb7eee3-d22e-45a6-e265-5ef2be8231fc"
   },
   "outputs": [
    {
     "data": {
      "application/vnd.microsoft.datawrangler.viewer.v0+json": {
       "columns": [
        {
         "name": "index",
         "rawType": "int64",
         "type": "integer"
        },
        {
         "name": "Country Name",
         "rawType": "object",
         "type": "string"
        },
        {
         "name": "CountryArea",
         "rawType": "float64",
         "type": "float"
        }
       ],
       "ref": "8031e163-41f8-4653-8c9e-33818914db43",
       "rows": [
        [
         "0",
         "Aruba",
         "180.0"
        ],
        [
         "1",
         "Africa Eastern and Southern",
         "14845129.446"
        ],
        [
         "2",
         "Afghanistan",
         "652230.0"
        ],
        [
         "3",
         "Africa Western and Central",
         "9045773.0"
        ],
        [
         "4",
         "Angola",
         "1246700.0"
        ]
       ],
       "shape": {
        "columns": 2,
        "rows": 5
       }
      },
      "text/html": [
       "<div>\n",
       "<style scoped>\n",
       "    .dataframe tbody tr th:only-of-type {\n",
       "        vertical-align: middle;\n",
       "    }\n",
       "\n",
       "    .dataframe tbody tr th {\n",
       "        vertical-align: top;\n",
       "    }\n",
       "\n",
       "    .dataframe thead th {\n",
       "        text-align: right;\n",
       "    }\n",
       "</style>\n",
       "<table border=\"1\" class=\"dataframe\">\n",
       "  <thead>\n",
       "    <tr style=\"text-align: right;\">\n",
       "      <th></th>\n",
       "      <th>Country Name</th>\n",
       "      <th>CountryArea</th>\n",
       "    </tr>\n",
       "  </thead>\n",
       "  <tbody>\n",
       "    <tr>\n",
       "      <th>0</th>\n",
       "      <td>Aruba</td>\n",
       "      <td>1.800000e+02</td>\n",
       "    </tr>\n",
       "    <tr>\n",
       "      <th>1</th>\n",
       "      <td>Africa Eastern and Southern</td>\n",
       "      <td>1.484513e+07</td>\n",
       "    </tr>\n",
       "    <tr>\n",
       "      <th>2</th>\n",
       "      <td>Afghanistan</td>\n",
       "      <td>6.522300e+05</td>\n",
       "    </tr>\n",
       "    <tr>\n",
       "      <th>3</th>\n",
       "      <td>Africa Western and Central</td>\n",
       "      <td>9.045773e+06</td>\n",
       "    </tr>\n",
       "    <tr>\n",
       "      <th>4</th>\n",
       "      <td>Angola</td>\n",
       "      <td>1.246700e+06</td>\n",
       "    </tr>\n",
       "  </tbody>\n",
       "</table>\n",
       "</div>"
      ],
      "text/plain": [
       "                  Country Name   CountryArea\n",
       "0                        Aruba  1.800000e+02\n",
       "1  Africa Eastern and Southern  1.484513e+07\n",
       "2                  Afghanistan  6.522300e+05\n",
       "3   Africa Western and Central  9.045773e+06\n",
       "4                       Angola  1.246700e+06"
      ]
     },
     "execution_count": 16,
     "metadata": {},
     "output_type": "execute_result"
    }
   ],
   "source": [
    "area_df = area_df[['Country Name', 'CountryArea']]\n",
    "area_df.head()"
   ]
  },
  {
   "cell_type": "code",
   "execution_count": 17,
   "metadata": {
    "colab": {
     "base_uri": "https://localhost:8080/",
     "height": 256
    },
    "colab_type": "code",
    "id": "H1XPT-_OyjV4",
    "outputId": "5aec2481-30bd-40e2-fa57-afc32ae3ae42"
   },
   "outputs": [
    {
     "data": {
      "application/vnd.microsoft.datawrangler.viewer.v0+json": {
       "columns": [
        {
         "name": "index",
         "rawType": "int64",
         "type": "integer"
        },
        {
         "name": "Id",
         "rawType": "float64",
         "type": "float"
        },
        {
         "name": "Province/State",
         "rawType": "object",
         "type": "string"
        },
        {
         "name": "Country/Region",
         "rawType": "object",
         "type": "string"
        },
        {
         "name": "Lat",
         "rawType": "float64",
         "type": "float"
        },
        {
         "name": "Long",
         "rawType": "float64",
         "type": "float"
        },
        {
         "name": "Date",
         "rawType": "datetime64[ns]",
         "type": "datetime"
        },
        {
         "name": "ConfirmedCases",
         "rawType": "float64",
         "type": "float"
        },
        {
         "name": "Fatalities",
         "rawType": "float64",
         "type": "float"
        },
        {
         "name": "ForecastId",
         "rawType": "float64",
         "type": "float"
        },
        {
         "name": "LogNewConfirmedCases",
         "rawType": "float64",
         "type": "float"
        },
        {
         "name": "LogNewConfirmedCases_prev_day_1",
         "rawType": "float64",
         "type": "float"
        },
        {
         "name": "LogNewConfirmedCases_prev_day_2",
         "rawType": "float64",
         "type": "float"
        },
        {
         "name": "LogNewConfirmedCases_prev_day_3",
         "rawType": "float64",
         "type": "float"
        },
        {
         "name": "LogNewConfirmedCases_prev_day_4",
         "rawType": "float64",
         "type": "float"
        },
        {
         "name": "LogNewConfirmedCases_prev_day_5",
         "rawType": "float64",
         "type": "float"
        },
        {
         "name": "LogNewConfirmedCases_prev_day_6",
         "rawType": "float64",
         "type": "float"
        },
        {
         "name": "LogNewConfirmedCases_prev_day_7",
         "rawType": "float64",
         "type": "float"
        },
        {
         "name": "LogNewConfirmedCases_prev_day_8",
         "rawType": "float64",
         "type": "float"
        },
        {
         "name": "LogNewConfirmedCases_prev_day_9",
         "rawType": "float64",
         "type": "float"
        },
        {
         "name": "LogNewConfirmedCases_prev_day_10",
         "rawType": "float64",
         "type": "float"
        },
        {
         "name": "LogNewConfirmedCases_prev_day_11",
         "rawType": "float64",
         "type": "float"
        },
        {
         "name": "LogNewConfirmedCases_prev_day_12",
         "rawType": "float64",
         "type": "float"
        },
        {
         "name": "LogNewConfirmedCases_prev_day_13",
         "rawType": "float64",
         "type": "float"
        },
        {
         "name": "LogNewConfirmedCases_prev_day_14",
         "rawType": "float64",
         "type": "float"
        },
        {
         "name": "LogNewConfirmedCases_prev_day_15",
         "rawType": "float64",
         "type": "float"
        },
        {
         "name": "LogNewConfirmedCases_prev_day_16",
         "rawType": "float64",
         "type": "float"
        },
        {
         "name": "LogNewConfirmedCases_prev_day_17",
         "rawType": "float64",
         "type": "float"
        },
        {
         "name": "LogNewConfirmedCases_prev_day_18",
         "rawType": "float64",
         "type": "float"
        },
        {
         "name": "LogNewConfirmedCases_prev_day_19",
         "rawType": "float64",
         "type": "float"
        },
        {
         "name": "LogNewConfirmedCases_prev_day_20",
         "rawType": "float64",
         "type": "float"
        },
        {
         "name": "LogNewConfirmedCases_prev_day_21",
         "rawType": "float64",
         "type": "float"
        },
        {
         "name": "LogNewConfirmedCases_prev_day_22",
         "rawType": "float64",
         "type": "float"
        },
        {
         "name": "LogNewConfirmedCases_prev_day_23",
         "rawType": "float64",
         "type": "float"
        },
        {
         "name": "LogNewConfirmedCases_prev_day_24",
         "rawType": "float64",
         "type": "float"
        },
        {
         "name": "LogNewConfirmedCases_prev_day_25",
         "rawType": "float64",
         "type": "float"
        },
        {
         "name": "LogNewConfirmedCases_prev_day_26",
         "rawType": "float64",
         "type": "float"
        },
        {
         "name": "LogNewConfirmedCases_prev_day_27",
         "rawType": "float64",
         "type": "float"
        },
        {
         "name": "LogNewConfirmedCases_prev_day_28",
         "rawType": "float64",
         "type": "float"
        },
        {
         "name": "LogNewConfirmedCases_prev_day_29",
         "rawType": "float64",
         "type": "float"
        },
        {
         "name": "LogNewConfirmedCases_prev_day_30",
         "rawType": "float64",
         "type": "float"
        },
        {
         "name": "LogNewFatalities",
         "rawType": "float64",
         "type": "float"
        },
        {
         "name": "LogNewFatalities_prev_day_1",
         "rawType": "float64",
         "type": "float"
        },
        {
         "name": "LogNewFatalities_prev_day_2",
         "rawType": "float64",
         "type": "float"
        },
        {
         "name": "LogNewFatalities_prev_day_3",
         "rawType": "float64",
         "type": "float"
        },
        {
         "name": "LogNewFatalities_prev_day_4",
         "rawType": "float64",
         "type": "float"
        },
        {
         "name": "LogNewFatalities_prev_day_5",
         "rawType": "float64",
         "type": "float"
        },
        {
         "name": "LogNewFatalities_prev_day_6",
         "rawType": "float64",
         "type": "float"
        },
        {
         "name": "LogNewFatalities_prev_day_7",
         "rawType": "float64",
         "type": "float"
        },
        {
         "name": "LogNewFatalities_prev_day_8",
         "rawType": "float64",
         "type": "float"
        },
        {
         "name": "LogNewFatalities_prev_day_9",
         "rawType": "float64",
         "type": "float"
        },
        {
         "name": "LogNewFatalities_prev_day_10",
         "rawType": "float64",
         "type": "float"
        },
        {
         "name": "LogNewFatalities_prev_day_11",
         "rawType": "float64",
         "type": "float"
        },
        {
         "name": "LogNewFatalities_prev_day_12",
         "rawType": "float64",
         "type": "float"
        },
        {
         "name": "LogNewFatalities_prev_day_13",
         "rawType": "float64",
         "type": "float"
        },
        {
         "name": "LogNewFatalities_prev_day_14",
         "rawType": "float64",
         "type": "float"
        },
        {
         "name": "LogNewFatalities_prev_day_15",
         "rawType": "float64",
         "type": "float"
        },
        {
         "name": "LogNewFatalities_prev_day_16",
         "rawType": "float64",
         "type": "float"
        },
        {
         "name": "LogNewFatalities_prev_day_17",
         "rawType": "float64",
         "type": "float"
        },
        {
         "name": "LogNewFatalities_prev_day_18",
         "rawType": "float64",
         "type": "float"
        },
        {
         "name": "LogNewFatalities_prev_day_19",
         "rawType": "float64",
         "type": "float"
        },
        {
         "name": "LogNewFatalities_prev_day_20",
         "rawType": "float64",
         "type": "float"
        },
        {
         "name": "LogNewFatalities_prev_day_21",
         "rawType": "float64",
         "type": "float"
        },
        {
         "name": "LogNewFatalities_prev_day_22",
         "rawType": "float64",
         "type": "float"
        },
        {
         "name": "LogNewFatalities_prev_day_23",
         "rawType": "float64",
         "type": "float"
        },
        {
         "name": "LogNewFatalities_prev_day_24",
         "rawType": "float64",
         "type": "float"
        },
        {
         "name": "LogNewFatalities_prev_day_25",
         "rawType": "float64",
         "type": "float"
        },
        {
         "name": "LogNewFatalities_prev_day_26",
         "rawType": "float64",
         "type": "float"
        },
        {
         "name": "LogNewFatalities_prev_day_27",
         "rawType": "float64",
         "type": "float"
        },
        {
         "name": "LogNewFatalities_prev_day_28",
         "rawType": "float64",
         "type": "float"
        },
        {
         "name": "LogNewFatalities_prev_day_29",
         "rawType": "float64",
         "type": "float"
        },
        {
         "name": "LogNewFatalities_prev_day_30",
         "rawType": "float64",
         "type": "float"
        },
        {
         "name": "Day",
         "rawType": "int32",
         "type": "integer"
        },
        {
         "name": "WeekDay",
         "rawType": "int64",
         "type": "integer"
        },
        {
         "name": "Days_since_ConfirmedCases=1",
         "rawType": "float64",
         "type": "float"
        },
        {
         "name": "Days_since_Fatalities=1",
         "rawType": "float64",
         "type": "float"
        },
        {
         "name": "Days_since_ConfirmedCases=10",
         "rawType": "float64",
         "type": "float"
        },
        {
         "name": "Days_since_Fatalities=10",
         "rawType": "float64",
         "type": "float"
        },
        {
         "name": "Days_since_ConfirmedCases=100",
         "rawType": "float64",
         "type": "float"
        },
        {
         "name": "Days_since_Fatalities=100",
         "rawType": "float64",
         "type": "float"
        },
        {
         "name": "Distance_to_origin",
         "rawType": "float64",
         "type": "float"
        },
        {
         "name": "CountryArea",
         "rawType": "float64",
         "type": "float"
        }
       ],
       "ref": "38b0cbc2-fbfb-4857-accc-7dec199b6f0a",
       "rows": [
        [
         "0",
         "1.0",
         "",
         "Afghanistan",
         "33.0",
         "65.0",
         "2020-01-22 00:00:00",
         "0.0",
         "0.0",
         null,
         "0.0",
         null,
         null,
         null,
         null,
         null,
         null,
         null,
         null,
         null,
         null,
         null,
         null,
         null,
         null,
         null,
         null,
         null,
         null,
         null,
         null,
         null,
         null,
         null,
         null,
         null,
         null,
         null,
         null,
         null,
         null,
         "0.0",
         null,
         null,
         null,
         null,
         null,
         null,
         null,
         null,
         null,
         null,
         null,
         null,
         null,
         null,
         null,
         null,
         null,
         null,
         null,
         null,
         null,
         null,
         null,
         null,
         null,
         null,
         null,
         null,
         null,
         null,
         "0",
         "2",
         "-1.0",
         "-1.0",
         "-1.0",
         null,
         null,
         null,
         "4435.23261787452",
         "652230.0"
        ],
        [
         "1",
         "8185.0",
         "",
         "Cyprus",
         "35.1264",
         "33.4299",
         "2020-01-22 00:00:00",
         "0.0",
         "0.0",
         null,
         "0.0",
         null,
         null,
         null,
         null,
         null,
         null,
         null,
         null,
         null,
         null,
         null,
         null,
         null,
         null,
         null,
         null,
         null,
         null,
         null,
         null,
         null,
         null,
         null,
         null,
         null,
         null,
         null,
         null,
         null,
         null,
         "0.0",
         null,
         null,
         null,
         null,
         null,
         null,
         null,
         null,
         null,
         null,
         null,
         null,
         null,
         null,
         null,
         null,
         null,
         null,
         null,
         null,
         null,
         null,
         null,
         null,
         null,
         null,
         null,
         null,
         null,
         null,
         "0",
         "2",
         "-1.0",
         "-1.0",
         "-1.0",
         null,
         "-1.0",
         null,
         "7177.52919479716",
         "9240.0"
        ],
        [
         "2",
         "21112.0",
         "Guam",
         "US",
         "13.4443",
         "144.7937",
         "2020-01-22 00:00:00",
         "0.0",
         "0.0",
         null,
         "0.0",
         null,
         null,
         null,
         null,
         null,
         null,
         null,
         null,
         null,
         null,
         null,
         null,
         null,
         null,
         null,
         null,
         null,
         null,
         null,
         null,
         null,
         null,
         null,
         null,
         null,
         null,
         null,
         null,
         null,
         null,
         "0.0",
         null,
         null,
         null,
         null,
         null,
         null,
         null,
         null,
         null,
         null,
         null,
         null,
         null,
         null,
         null,
         null,
         null,
         null,
         null,
         null,
         null,
         null,
         null,
         null,
         null,
         null,
         null,
         null,
         null,
         null,
         "0",
         "2",
         "-1.0",
         "-1.0",
         "-1.0",
         null,
         null,
         null,
         "3851.942688846099",
         "9147420.0"
        ],
        [
         "3",
         "8278.0",
         "",
         "Czechia",
         "49.8175",
         "15.473",
         "2020-01-22 00:00:00",
         "0.0",
         "0.0",
         null,
         "0.0",
         null,
         null,
         null,
         null,
         null,
         null,
         null,
         null,
         null,
         null,
         null,
         null,
         null,
         null,
         null,
         null,
         null,
         null,
         null,
         null,
         null,
         null,
         null,
         null,
         null,
         null,
         null,
         null,
         null,
         null,
         "0.0",
         null,
         null,
         null,
         null,
         null,
         null,
         null,
         null,
         null,
         null,
         null,
         null,
         null,
         null,
         null,
         null,
         null,
         null,
         null,
         null,
         null,
         null,
         null,
         null,
         null,
         null,
         null,
         null,
         null,
         null,
         "0",
         "2",
         null,
         null,
         null,
         null,
         null,
         null,
         "7897.6240377791955",
         "77205.5"
        ],
        [
         "4",
         "8371.0",
         "Denmark",
         "Denmark",
         "56.2639",
         "9.5018",
         "2020-01-22 00:00:00",
         "0.0",
         "0.0",
         null,
         "0.0",
         null,
         null,
         null,
         null,
         null,
         null,
         null,
         null,
         null,
         null,
         null,
         null,
         null,
         null,
         null,
         null,
         null,
         null,
         null,
         null,
         null,
         null,
         null,
         null,
         null,
         null,
         null,
         null,
         null,
         null,
         "0.0",
         null,
         null,
         null,
         null,
         null,
         null,
         null,
         null,
         null,
         null,
         null,
         null,
         null,
         null,
         null,
         null,
         null,
         null,
         null,
         null,
         null,
         null,
         null,
         null,
         null,
         null,
         null,
         null,
         null,
         null,
         "0",
         "2",
         "-1.0",
         "-1.0",
         "-1.0",
         "-1.0",
         "-1.0",
         null,
         "7931.069186113015",
         "40000.0"
        ]
       ],
       "shape": {
        "columns": 81,
        "rows": 5
       }
      },
      "text/html": [
       "<div>\n",
       "<style scoped>\n",
       "    .dataframe tbody tr th:only-of-type {\n",
       "        vertical-align: middle;\n",
       "    }\n",
       "\n",
       "    .dataframe tbody tr th {\n",
       "        vertical-align: top;\n",
       "    }\n",
       "\n",
       "    .dataframe thead th {\n",
       "        text-align: right;\n",
       "    }\n",
       "</style>\n",
       "<table border=\"1\" class=\"dataframe\">\n",
       "  <thead>\n",
       "    <tr style=\"text-align: right;\">\n",
       "      <th></th>\n",
       "      <th>Id</th>\n",
       "      <th>Province/State</th>\n",
       "      <th>Country/Region</th>\n",
       "      <th>Lat</th>\n",
       "      <th>Long</th>\n",
       "      <th>Date</th>\n",
       "      <th>ConfirmedCases</th>\n",
       "      <th>Fatalities</th>\n",
       "      <th>ForecastId</th>\n",
       "      <th>LogNewConfirmedCases</th>\n",
       "      <th>...</th>\n",
       "      <th>Day</th>\n",
       "      <th>WeekDay</th>\n",
       "      <th>Days_since_ConfirmedCases=1</th>\n",
       "      <th>Days_since_Fatalities=1</th>\n",
       "      <th>Days_since_ConfirmedCases=10</th>\n",
       "      <th>Days_since_Fatalities=10</th>\n",
       "      <th>Days_since_ConfirmedCases=100</th>\n",
       "      <th>Days_since_Fatalities=100</th>\n",
       "      <th>Distance_to_origin</th>\n",
       "      <th>CountryArea</th>\n",
       "    </tr>\n",
       "  </thead>\n",
       "  <tbody>\n",
       "    <tr>\n",
       "      <th>0</th>\n",
       "      <td>1.0</td>\n",
       "      <td></td>\n",
       "      <td>Afghanistan</td>\n",
       "      <td>33.0000</td>\n",
       "      <td>65.0000</td>\n",
       "      <td>2020-01-22</td>\n",
       "      <td>0.0</td>\n",
       "      <td>0.0</td>\n",
       "      <td>NaN</td>\n",
       "      <td>0.0</td>\n",
       "      <td>...</td>\n",
       "      <td>0</td>\n",
       "      <td>2</td>\n",
       "      <td>-1.0</td>\n",
       "      <td>-1.0</td>\n",
       "      <td>-1.0</td>\n",
       "      <td>NaN</td>\n",
       "      <td>NaN</td>\n",
       "      <td>NaN</td>\n",
       "      <td>4435.232618</td>\n",
       "      <td>652230.0</td>\n",
       "    </tr>\n",
       "    <tr>\n",
       "      <th>1</th>\n",
       "      <td>8185.0</td>\n",
       "      <td></td>\n",
       "      <td>Cyprus</td>\n",
       "      <td>35.1264</td>\n",
       "      <td>33.4299</td>\n",
       "      <td>2020-01-22</td>\n",
       "      <td>0.0</td>\n",
       "      <td>0.0</td>\n",
       "      <td>NaN</td>\n",
       "      <td>0.0</td>\n",
       "      <td>...</td>\n",
       "      <td>0</td>\n",
       "      <td>2</td>\n",
       "      <td>-1.0</td>\n",
       "      <td>-1.0</td>\n",
       "      <td>-1.0</td>\n",
       "      <td>NaN</td>\n",
       "      <td>-1.0</td>\n",
       "      <td>NaN</td>\n",
       "      <td>7177.529195</td>\n",
       "      <td>9240.0</td>\n",
       "    </tr>\n",
       "    <tr>\n",
       "      <th>2</th>\n",
       "      <td>21112.0</td>\n",
       "      <td>Guam</td>\n",
       "      <td>US</td>\n",
       "      <td>13.4443</td>\n",
       "      <td>144.7937</td>\n",
       "      <td>2020-01-22</td>\n",
       "      <td>0.0</td>\n",
       "      <td>0.0</td>\n",
       "      <td>NaN</td>\n",
       "      <td>0.0</td>\n",
       "      <td>...</td>\n",
       "      <td>0</td>\n",
       "      <td>2</td>\n",
       "      <td>-1.0</td>\n",
       "      <td>-1.0</td>\n",
       "      <td>-1.0</td>\n",
       "      <td>NaN</td>\n",
       "      <td>NaN</td>\n",
       "      <td>NaN</td>\n",
       "      <td>3851.942689</td>\n",
       "      <td>9147420.0</td>\n",
       "    </tr>\n",
       "    <tr>\n",
       "      <th>3</th>\n",
       "      <td>8278.0</td>\n",
       "      <td></td>\n",
       "      <td>Czechia</td>\n",
       "      <td>49.8175</td>\n",
       "      <td>15.4730</td>\n",
       "      <td>2020-01-22</td>\n",
       "      <td>0.0</td>\n",
       "      <td>0.0</td>\n",
       "      <td>NaN</td>\n",
       "      <td>0.0</td>\n",
       "      <td>...</td>\n",
       "      <td>0</td>\n",
       "      <td>2</td>\n",
       "      <td>NaN</td>\n",
       "      <td>NaN</td>\n",
       "      <td>NaN</td>\n",
       "      <td>NaN</td>\n",
       "      <td>NaN</td>\n",
       "      <td>NaN</td>\n",
       "      <td>7897.624038</td>\n",
       "      <td>77205.5</td>\n",
       "    </tr>\n",
       "    <tr>\n",
       "      <th>4</th>\n",
       "      <td>8371.0</td>\n",
       "      <td>Denmark</td>\n",
       "      <td>Denmark</td>\n",
       "      <td>56.2639</td>\n",
       "      <td>9.5018</td>\n",
       "      <td>2020-01-22</td>\n",
       "      <td>0.0</td>\n",
       "      <td>0.0</td>\n",
       "      <td>NaN</td>\n",
       "      <td>0.0</td>\n",
       "      <td>...</td>\n",
       "      <td>0</td>\n",
       "      <td>2</td>\n",
       "      <td>-1.0</td>\n",
       "      <td>-1.0</td>\n",
       "      <td>-1.0</td>\n",
       "      <td>-1.0</td>\n",
       "      <td>-1.0</td>\n",
       "      <td>NaN</td>\n",
       "      <td>7931.069186</td>\n",
       "      <td>40000.0</td>\n",
       "    </tr>\n",
       "  </tbody>\n",
       "</table>\n",
       "<p>5 rows × 81 columns</p>\n",
       "</div>"
      ],
      "text/plain": [
       "        Id Province/State Country/Region      Lat      Long       Date  \\\n",
       "0      1.0                   Afghanistan  33.0000   65.0000 2020-01-22   \n",
       "1   8185.0                        Cyprus  35.1264   33.4299 2020-01-22   \n",
       "2  21112.0           Guam             US  13.4443  144.7937 2020-01-22   \n",
       "3   8278.0                       Czechia  49.8175   15.4730 2020-01-22   \n",
       "4   8371.0        Denmark        Denmark  56.2639    9.5018 2020-01-22   \n",
       "\n",
       "   ConfirmedCases  Fatalities  ForecastId  LogNewConfirmedCases  ...  Day  \\\n",
       "0             0.0         0.0         NaN                   0.0  ...    0   \n",
       "1             0.0         0.0         NaN                   0.0  ...    0   \n",
       "2             0.0         0.0         NaN                   0.0  ...    0   \n",
       "3             0.0         0.0         NaN                   0.0  ...    0   \n",
       "4             0.0         0.0         NaN                   0.0  ...    0   \n",
       "\n",
       "   WeekDay  Days_since_ConfirmedCases=1  Days_since_Fatalities=1  \\\n",
       "0        2                         -1.0                     -1.0   \n",
       "1        2                         -1.0                     -1.0   \n",
       "2        2                         -1.0                     -1.0   \n",
       "3        2                          NaN                      NaN   \n",
       "4        2                         -1.0                     -1.0   \n",
       "\n",
       "   Days_since_ConfirmedCases=10  Days_since_Fatalities=10  \\\n",
       "0                          -1.0                       NaN   \n",
       "1                          -1.0                       NaN   \n",
       "2                          -1.0                       NaN   \n",
       "3                           NaN                       NaN   \n",
       "4                          -1.0                      -1.0   \n",
       "\n",
       "   Days_since_ConfirmedCases=100  Days_since_Fatalities=100  \\\n",
       "0                            NaN                        NaN   \n",
       "1                           -1.0                        NaN   \n",
       "2                            NaN                        NaN   \n",
       "3                            NaN                        NaN   \n",
       "4                           -1.0                        NaN   \n",
       "\n",
       "   Distance_to_origin  CountryArea  \n",
       "0         4435.232618     652230.0  \n",
       "1         7177.529195       9240.0  \n",
       "2         3851.942689    9147420.0  \n",
       "3         7897.624038      77205.5  \n",
       "4         7931.069186      40000.0  \n",
       "\n",
       "[5 rows x 81 columns]"
      ]
     },
     "execution_count": 17,
     "metadata": {},
     "output_type": "execute_result"
    }
   ],
   "source": [
    "main_df = merge_with_column_drop(\n",
    "    main_df,\n",
    "    area_df,\n",
    "    right_df_column='Country Name'\n",
    ")\n",
    "main_df.head()"
   ]
  },
  {
   "cell_type": "markdown",
   "metadata": {
    "colab_type": "text",
    "id": "qLqnNUL5zriP"
   },
   "source": [
    "### Country population features\n"
   ]
  },
  {
   "cell_type": "code",
   "execution_count": 18,
   "metadata": {
    "colab": {
     "base_uri": "https://localhost:8080/",
     "height": 206
    },
    "colab_type": "code",
    "id": "BS9ypYhoYndR",
    "outputId": "bcec3c06-0991-4269-936b-92a464fef85e"
   },
   "outputs": [
    {
     "data": {
      "application/vnd.microsoft.datawrangler.viewer.v0+json": {
       "columns": [
        {
         "name": "index",
         "rawType": "int64",
         "type": "integer"
        },
        {
         "name": "Location",
         "rawType": "object",
         "type": "string"
        },
        {
         "name": "Time",
         "rawType": "datetime64[ns]",
         "type": "datetime"
        },
        {
         "name": "AgeGrp",
         "rawType": "object",
         "type": "string"
        },
        {
         "name": "PopMale",
         "rawType": "float64",
         "type": "float"
        },
        {
         "name": "PopFemale",
         "rawType": "float64",
         "type": "float"
        },
        {
         "name": "PopTotal",
         "rawType": "float64",
         "type": "float"
        }
       ],
       "ref": "a29dc27b-e8da-4322-b24f-c85e59ca8b09",
       "rows": [
        [
         "0",
         "Afghanistan",
         "1950-01-01 00:00:00",
         "0-4",
         "630.044",
         "661.578",
         "1291.622"
        ],
        [
         "1",
         "Afghanistan",
         "1950-01-01 00:00:00",
         "5-9",
         "516.206",
         "487.335",
         "1003.541"
        ],
        [
         "2",
         "Afghanistan",
         "1950-01-01 00:00:00",
         "10-14",
         "461.378",
         "423.326",
         "884.704"
        ],
        [
         "3",
         "Afghanistan",
         "1950-01-01 00:00:00",
         "15-19",
         "414.369",
         "369.363",
         "783.732"
        ],
        [
         "4",
         "Afghanistan",
         "1950-01-01 00:00:00",
         "20-24",
         "374.109",
         "318.392",
         "692.501"
        ]
       ],
       "shape": {
        "columns": 6,
        "rows": 5
       }
      },
      "text/html": [
       "<div>\n",
       "<style scoped>\n",
       "    .dataframe tbody tr th:only-of-type {\n",
       "        vertical-align: middle;\n",
       "    }\n",
       "\n",
       "    .dataframe tbody tr th {\n",
       "        vertical-align: top;\n",
       "    }\n",
       "\n",
       "    .dataframe thead th {\n",
       "        text-align: right;\n",
       "    }\n",
       "</style>\n",
       "<table border=\"1\" class=\"dataframe\">\n",
       "  <thead>\n",
       "    <tr style=\"text-align: right;\">\n",
       "      <th></th>\n",
       "      <th>Location</th>\n",
       "      <th>Time</th>\n",
       "      <th>AgeGrp</th>\n",
       "      <th>PopMale</th>\n",
       "      <th>PopFemale</th>\n",
       "      <th>PopTotal</th>\n",
       "    </tr>\n",
       "  </thead>\n",
       "  <tbody>\n",
       "    <tr>\n",
       "      <th>0</th>\n",
       "      <td>Afghanistan</td>\n",
       "      <td>1950-01-01</td>\n",
       "      <td>0-4</td>\n",
       "      <td>630.044</td>\n",
       "      <td>661.578</td>\n",
       "      <td>1291.622</td>\n",
       "    </tr>\n",
       "    <tr>\n",
       "      <th>1</th>\n",
       "      <td>Afghanistan</td>\n",
       "      <td>1950-01-01</td>\n",
       "      <td>5-9</td>\n",
       "      <td>516.206</td>\n",
       "      <td>487.335</td>\n",
       "      <td>1003.541</td>\n",
       "    </tr>\n",
       "    <tr>\n",
       "      <th>2</th>\n",
       "      <td>Afghanistan</td>\n",
       "      <td>1950-01-01</td>\n",
       "      <td>10-14</td>\n",
       "      <td>461.378</td>\n",
       "      <td>423.326</td>\n",
       "      <td>884.704</td>\n",
       "    </tr>\n",
       "    <tr>\n",
       "      <th>3</th>\n",
       "      <td>Afghanistan</td>\n",
       "      <td>1950-01-01</td>\n",
       "      <td>15-19</td>\n",
       "      <td>414.369</td>\n",
       "      <td>369.363</td>\n",
       "      <td>783.732</td>\n",
       "    </tr>\n",
       "    <tr>\n",
       "      <th>4</th>\n",
       "      <td>Afghanistan</td>\n",
       "      <td>1950-01-01</td>\n",
       "      <td>20-24</td>\n",
       "      <td>374.109</td>\n",
       "      <td>318.392</td>\n",
       "      <td>692.501</td>\n",
       "    </tr>\n",
       "  </tbody>\n",
       "</table>\n",
       "</div>"
      ],
      "text/plain": [
       "      Location       Time AgeGrp  PopMale  PopFemale  PopTotal\n",
       "0  Afghanistan 1950-01-01    0-4  630.044    661.578  1291.622\n",
       "1  Afghanistan 1950-01-01    5-9  516.206    487.335  1003.541\n",
       "2  Afghanistan 1950-01-01  10-14  461.378    423.326   884.704\n",
       "3  Afghanistan 1950-01-01  15-19  414.369    369.363   783.732\n",
       "4  Afghanistan 1950-01-01  20-24  374.109    318.392   692.501"
      ]
     },
     "execution_count": 18,
     "metadata": {},
     "output_type": "execute_result"
    }
   ],
   "source": [
    "\n",
    "population_df = pd.read_csv(\n",
    "    'datasets/WPP2019_PopulationByAgeSex_Medium.csv',\n",
    "     usecols=['Location', 'Time', 'AgeGrp', 'PopMale', 'PopFemale', 'PopTotal'],\n",
    "    parse_dates=['Time'],\n",
    "    converters=un_wpp_converters\n",
    ")\n",
    "population_df.head()"
   ]
  },
  {
   "cell_type": "code",
   "execution_count": 19,
   "metadata": {
    "colab": {
     "base_uri": "https://localhost:8080/",
     "height": 206
    },
    "colab_type": "code",
    "id": "C5Hq9KMHhBQy",
    "outputId": "4cfb40b8-dc76-46a9-ec31-7e0af4d39b45"
   },
   "outputs": [
    {
     "data": {
      "application/vnd.microsoft.datawrangler.viewer.v0+json": {
       "columns": [
        {
         "name": "index",
         "rawType": "int64",
         "type": "integer"
        },
        {
         "name": "Location",
         "rawType": "object",
         "type": "string"
        },
        {
         "name": "Time",
         "rawType": "datetime64[ns]",
         "type": "datetime"
        },
        {
         "name": "AgeGrp",
         "rawType": "object",
         "type": "string"
        },
        {
         "name": "PopMale",
         "rawType": "float64",
         "type": "float"
        },
        {
         "name": "PopFemale",
         "rawType": "float64",
         "type": "float"
        },
        {
         "name": "PopTotal",
         "rawType": "float64",
         "type": "float"
        }
       ],
       "ref": "1156d2dc-6459-4eca-878f-9b678b684033",
       "rows": [
        [
         "1344",
         "Afghanistan",
         "2014-01-01 00:00:00",
         "0-4",
         "2803.677",
         "2671.583",
         "5475.26"
        ],
        [
         "1345",
         "Afghanistan",
         "2014-01-01 00:00:00",
         "5-9",
         "2635.812",
         "2520.84",
         "5156.652"
        ],
        [
         "1346",
         "Afghanistan",
         "2014-01-01 00:00:00",
         "10-14",
         "2356.524",
         "2242.185",
         "4598.709"
        ],
        [
         "1347",
         "Afghanistan",
         "2014-01-01 00:00:00",
         "15-19",
         "1995.824",
         "1894.38",
         "3890.204"
        ],
        [
         "1348",
         "Afghanistan",
         "2014-01-01 00:00:00",
         "20-24",
         "1580.881",
         "1458.199",
         "3039.08"
        ]
       ],
       "shape": {
        "columns": 6,
        "rows": 5
       }
      },
      "text/html": [
       "<div>\n",
       "<style scoped>\n",
       "    .dataframe tbody tr th:only-of-type {\n",
       "        vertical-align: middle;\n",
       "    }\n",
       "\n",
       "    .dataframe tbody tr th {\n",
       "        vertical-align: top;\n",
       "    }\n",
       "\n",
       "    .dataframe thead th {\n",
       "        text-align: right;\n",
       "    }\n",
       "</style>\n",
       "<table border=\"1\" class=\"dataframe\">\n",
       "  <thead>\n",
       "    <tr style=\"text-align: right;\">\n",
       "      <th></th>\n",
       "      <th>Location</th>\n",
       "      <th>Time</th>\n",
       "      <th>AgeGrp</th>\n",
       "      <th>PopMale</th>\n",
       "      <th>PopFemale</th>\n",
       "      <th>PopTotal</th>\n",
       "    </tr>\n",
       "  </thead>\n",
       "  <tbody>\n",
       "    <tr>\n",
       "      <th>1344</th>\n",
       "      <td>Afghanistan</td>\n",
       "      <td>2014-01-01</td>\n",
       "      <td>0-4</td>\n",
       "      <td>2803.677</td>\n",
       "      <td>2671.583</td>\n",
       "      <td>5475.260</td>\n",
       "    </tr>\n",
       "    <tr>\n",
       "      <th>1345</th>\n",
       "      <td>Afghanistan</td>\n",
       "      <td>2014-01-01</td>\n",
       "      <td>5-9</td>\n",
       "      <td>2635.812</td>\n",
       "      <td>2520.840</td>\n",
       "      <td>5156.652</td>\n",
       "    </tr>\n",
       "    <tr>\n",
       "      <th>1346</th>\n",
       "      <td>Afghanistan</td>\n",
       "      <td>2014-01-01</td>\n",
       "      <td>10-14</td>\n",
       "      <td>2356.524</td>\n",
       "      <td>2242.185</td>\n",
       "      <td>4598.709</td>\n",
       "    </tr>\n",
       "    <tr>\n",
       "      <th>1347</th>\n",
       "      <td>Afghanistan</td>\n",
       "      <td>2014-01-01</td>\n",
       "      <td>15-19</td>\n",
       "      <td>1995.824</td>\n",
       "      <td>1894.380</td>\n",
       "      <td>3890.204</td>\n",
       "    </tr>\n",
       "    <tr>\n",
       "      <th>1348</th>\n",
       "      <td>Afghanistan</td>\n",
       "      <td>2014-01-01</td>\n",
       "      <td>20-24</td>\n",
       "      <td>1580.881</td>\n",
       "      <td>1458.199</td>\n",
       "      <td>3039.080</td>\n",
       "    </tr>\n",
       "  </tbody>\n",
       "</table>\n",
       "</div>"
      ],
      "text/plain": [
       "         Location       Time AgeGrp   PopMale  PopFemale  PopTotal\n",
       "1344  Afghanistan 2014-01-01    0-4  2803.677   2671.583  5475.260\n",
       "1345  Afghanistan 2014-01-01    5-9  2635.812   2520.840  5156.652\n",
       "1346  Afghanistan 2014-01-01  10-14  2356.524   2242.185  4598.709\n",
       "1347  Afghanistan 2014-01-01  15-19  1995.824   1894.380  3890.204\n",
       "1348  Afghanistan 2014-01-01  20-24  1580.881   1458.199  3039.080"
      ]
     },
     "execution_count": 19,
     "metadata": {},
     "output_type": "execute_result"
    }
   ],
   "source": [
    "population_df = population_df.loc[\n",
    "    (population_df['Time'] >= pd.Timestamp(2014,1,1))\n",
    "    & (population_df['Time'] <= pd.Timestamp(2019,1,1))\n",
    "]\n",
    "population_df.head()"
   ]
  },
  {
   "cell_type": "code",
   "execution_count": null,
   "metadata": {
    "colab": {
     "base_uri": "https://localhost:8080/",
     "height": 226
    },
    "colab_type": "code",
    "id": "U-AxHnOehRXS",
    "outputId": "b49f8a53-9b6e-4133-eb6f-5af7f90efb1e"
   },
   "outputs": [],
   "source": [
    "aggregated_population_df = pd.DataFrame()\n",
    "\n",
    "for (location, time), group_df in population_df.groupby([\"Location\", \"Time\"]):\n",
    "    # by ['Pop_0-20', 'Pop_20-40', 'Pop_40-60', 'Pop_60-80', 'Pop_80+']\n",
    "    pop_by_age_groups = [0] * 5\n",
    "\n",
    "    pop_male = 0\n",
    "    pop_female = 0\n",
    "\n",
    "    for _, row in group_df.iterrows():\n",
    "        age_grp_start = int(re.split(r\"[\\-\\+]\", row[\"AgeGrp\"])[0])\n",
    "        pop_by_age_groups[min(age_grp_start // 20, 4)] += (\n",
    "            row[\"PopMale\"] + row[\"PopFemale\"]\n",
    "        )\n",
    "        pop_male += row[\"PopMale\"]\n",
    "        pop_female += row[\"PopFemale\"]\n",
    "\n",
    "        print(\n",
    "            {\n",
    "                \"Location\": location,\n",
    "                \"Time\": time,\n",
    "                \"CountryPop_0-20\": pop_by_age_groups[0],\n",
    "                \"CountryPop_20-40\": pop_by_age_groups[1],\n",
    "                \"CountryPop_40-60\": pop_by_age_groups[2],\n",
    "                \"CountryPop_60-80\": pop_by_age_groups[3],\n",
    "                \"CountryPop_80+\": pop_by_age_groups[4],\n",
    "                \"CountryPopMale\": pop_male,\n",
    "                \"CountryPopFemale\": pop_female,\n",
    "                \"CountryPopTotal\": pop_male + pop_female,\n",
    "            }\n",
    "        )\n",
    "    aggregated_population_df = aggregated_population_df.append(\n",
    "        {\n",
    "            \"Location\": location,\n",
    "            \"Time\": time,\n",
    "            \"CountryPop_0-20\": pop_by_age_groups[0],\n",
    "            \"CountryPop_20-40\": pop_by_age_groups[1],\n",
    "            \"CountryPop_40-60\": pop_by_age_groups[2],\n",
    "            \"CountryPop_60-80\": pop_by_age_groups[3],\n",
    "            \"CountryPop_80+\": pop_by_age_groups[4],\n",
    "            \"CountryPopMale\": pop_male,\n",
    "            \"CountryPopFemale\": pop_female,\n",
    "            \"CountryPopTotal\": pop_male + pop_female,\n",
    "        },\n",
    "        ignore_index=True,\n",
    "    )\n",
    "\n",
    "aggregated_population_df.head()"
   ]
  },
  {
   "cell_type": "code",
   "execution_count": 22,
   "metadata": {
    "colab": {
     "base_uri": "https://localhost:8080/",
     "height": 417
    },
    "colab_type": "code",
    "id": "rNLu6PiBAxDM",
    "outputId": "3acde16d-fcd9-477b-c027-b56b9d897c94"
   },
   "outputs": [
    {
     "data": {
      "application/vnd.microsoft.datawrangler.viewer.v0+json": {
       "columns": [
        {
         "name": "index",
         "rawType": "int64",
         "type": "integer"
        },
        {
         "name": "Location",
         "rawType": "object",
         "type": "string"
        },
        {
         "name": "Time",
         "rawType": "datetime64[ns]",
         "type": "datetime"
        },
        {
         "name": "CountryPop_0-20",
         "rawType": "float64",
         "type": "float"
        },
        {
         "name": "CountryPop_20-40",
         "rawType": "float64",
         "type": "float"
        },
        {
         "name": "CountryPop_40-60",
         "rawType": "float64",
         "type": "float"
        },
        {
         "name": "CountryPop_60-80",
         "rawType": "float64",
         "type": "float"
        },
        {
         "name": "CountryPop_80+",
         "rawType": "float64",
         "type": "float"
        },
        {
         "name": "CountryPopMale",
         "rawType": "float64",
         "type": "float"
        },
        {
         "name": "CountryPopFemale",
         "rawType": "float64",
         "type": "float"
        },
        {
         "name": "CountryPopTotal",
         "rawType": "float64",
         "type": "float"
        }
       ],
       "ref": "1f947c28-c5fb-4408-9789-c0fa3a06cb26",
       "rows": [
        [
         "2417",
         "United Kingdom",
         "2019-01-01 00:00:00",
         "15634.443",
         "17834.183",
         "17763.044",
         "12879.932",
         "3418.559",
         "33351.435000000005",
         "34178.726",
         "67530.16100000001"
        ],
        [
         "2519",
         "WB region: Middle East and North Africa (excluding high income)",
         "2019-01-01 00:00:00",
         "153429.571",
         "127412.45",
         "75929.068",
         "29424.841999999997",
         "3557.26",
         "196415.22300000003",
         "193337.968",
         "389753.191"
        ],
        [
         "2375",
         "UNICEF Regions: West and Central Africa",
         "2019-01-01 00:00:00",
         "290642.723",
         "149895.255",
         "69210.04400000001",
         "22655.757999999998",
         "1519.4949999999997",
         "268213.49199999997",
         "265709.783",
         "533923.2749999999"
        ],
        [
         "2627",
         "Yemen",
         "2019-01-01 00:00:00",
         "14585.766",
         "9617.139",
         "3621.97",
         "1236.095",
         "100.95199999999998",
         "14692.284000000001",
         "14469.637999999999",
         "29161.922"
        ],
        [
         "2633",
         "Zambia",
         "2019-01-01 00:00:00",
         "9995.380000000001",
         "5186.637999999999",
         "2074.569",
         "559.2049999999999",
         "45.242000000000004",
         "8843.214000000004",
         "9017.820000000003",
         "17861.034000000007"
        ]
       ],
       "shape": {
        "columns": 10,
        "rows": 5
       }
      },
      "text/html": [
       "<div>\n",
       "<style scoped>\n",
       "    .dataframe tbody tr th:only-of-type {\n",
       "        vertical-align: middle;\n",
       "    }\n",
       "\n",
       "    .dataframe tbody tr th {\n",
       "        vertical-align: top;\n",
       "    }\n",
       "\n",
       "    .dataframe thead th {\n",
       "        text-align: right;\n",
       "    }\n",
       "</style>\n",
       "<table border=\"1\" class=\"dataframe\">\n",
       "  <thead>\n",
       "    <tr style=\"text-align: right;\">\n",
       "      <th></th>\n",
       "      <th>Location</th>\n",
       "      <th>Time</th>\n",
       "      <th>CountryPop_0-20</th>\n",
       "      <th>CountryPop_20-40</th>\n",
       "      <th>CountryPop_40-60</th>\n",
       "      <th>CountryPop_60-80</th>\n",
       "      <th>CountryPop_80+</th>\n",
       "      <th>CountryPopMale</th>\n",
       "      <th>CountryPopFemale</th>\n",
       "      <th>CountryPopTotal</th>\n",
       "    </tr>\n",
       "  </thead>\n",
       "  <tbody>\n",
       "    <tr>\n",
       "      <th>2417</th>\n",
       "      <td>United Kingdom</td>\n",
       "      <td>2019-01-01</td>\n",
       "      <td>15634.443</td>\n",
       "      <td>17834.183</td>\n",
       "      <td>17763.044</td>\n",
       "      <td>12879.932</td>\n",
       "      <td>3418.559</td>\n",
       "      <td>33351.435</td>\n",
       "      <td>34178.726</td>\n",
       "      <td>67530.161</td>\n",
       "    </tr>\n",
       "    <tr>\n",
       "      <th>2519</th>\n",
       "      <td>WB region: Middle East and North Africa (exclu...</td>\n",
       "      <td>2019-01-01</td>\n",
       "      <td>153429.571</td>\n",
       "      <td>127412.450</td>\n",
       "      <td>75929.068</td>\n",
       "      <td>29424.842</td>\n",
       "      <td>3557.260</td>\n",
       "      <td>196415.223</td>\n",
       "      <td>193337.968</td>\n",
       "      <td>389753.191</td>\n",
       "    </tr>\n",
       "    <tr>\n",
       "      <th>2375</th>\n",
       "      <td>UNICEF Regions: West and Central Africa</td>\n",
       "      <td>2019-01-01</td>\n",
       "      <td>290642.723</td>\n",
       "      <td>149895.255</td>\n",
       "      <td>69210.044</td>\n",
       "      <td>22655.758</td>\n",
       "      <td>1519.495</td>\n",
       "      <td>268213.492</td>\n",
       "      <td>265709.783</td>\n",
       "      <td>533923.275</td>\n",
       "    </tr>\n",
       "    <tr>\n",
       "      <th>2627</th>\n",
       "      <td>Yemen</td>\n",
       "      <td>2019-01-01</td>\n",
       "      <td>14585.766</td>\n",
       "      <td>9617.139</td>\n",
       "      <td>3621.970</td>\n",
       "      <td>1236.095</td>\n",
       "      <td>100.952</td>\n",
       "      <td>14692.284</td>\n",
       "      <td>14469.638</td>\n",
       "      <td>29161.922</td>\n",
       "    </tr>\n",
       "    <tr>\n",
       "      <th>2633</th>\n",
       "      <td>Zambia</td>\n",
       "      <td>2019-01-01</td>\n",
       "      <td>9995.380</td>\n",
       "      <td>5186.638</td>\n",
       "      <td>2074.569</td>\n",
       "      <td>559.205</td>\n",
       "      <td>45.242</td>\n",
       "      <td>8843.214</td>\n",
       "      <td>9017.820</td>\n",
       "      <td>17861.034</td>\n",
       "    </tr>\n",
       "  </tbody>\n",
       "</table>\n",
       "</div>"
      ],
      "text/plain": [
       "                                               Location       Time  \\\n",
       "2417                                     United Kingdom 2019-01-01   \n",
       "2519  WB region: Middle East and North Africa (exclu... 2019-01-01   \n",
       "2375            UNICEF Regions: West and Central Africa 2019-01-01   \n",
       "2627                                              Yemen 2019-01-01   \n",
       "2633                                             Zambia 2019-01-01   \n",
       "\n",
       "      CountryPop_0-20  CountryPop_20-40  CountryPop_40-60  CountryPop_60-80  \\\n",
       "2417        15634.443         17834.183         17763.044         12879.932   \n",
       "2519       153429.571        127412.450         75929.068         29424.842   \n",
       "2375       290642.723        149895.255         69210.044         22655.758   \n",
       "2627        14585.766          9617.139          3621.970          1236.095   \n",
       "2633         9995.380          5186.638          2074.569           559.205   \n",
       "\n",
       "      CountryPop_80+  CountryPopMale  CountryPopFemale  CountryPopTotal  \n",
       "2417        3418.559       33351.435         34178.726        67530.161  \n",
       "2519        3557.260      196415.223        193337.968       389753.191  \n",
       "2375        1519.495      268213.492        265709.783       533923.275  \n",
       "2627         100.952       14692.284         14469.638        29161.922  \n",
       "2633          45.242        8843.214          9017.820        17861.034  "
      ]
     },
     "execution_count": 22,
     "metadata": {},
     "output_type": "execute_result"
    }
   ],
   "source": [
    "aggregated_population_df = aggregated_population_df.sort_values('Time').drop_duplicates(['Location'], keep='last')\n",
    "aggregated_population_df.head()"
   ]
  },
  {
   "cell_type": "code",
   "execution_count": 23,
   "metadata": {
    "colab": {
     "base_uri": "https://localhost:8080/",
     "height": 256
    },
    "colab_type": "code",
    "id": "5BzM29dEhX0y",
    "outputId": "82de3201-d886-4e1b-e39f-b34cf10e3f04"
   },
   "outputs": [
    {
     "data": {
      "application/vnd.microsoft.datawrangler.viewer.v0+json": {
       "columns": [
        {
         "name": "index",
         "rawType": "int64",
         "type": "integer"
        },
        {
         "name": "Id",
         "rawType": "float64",
         "type": "float"
        },
        {
         "name": "Province/State",
         "rawType": "object",
         "type": "string"
        },
        {
         "name": "Country/Region",
         "rawType": "object",
         "type": "string"
        },
        {
         "name": "Lat",
         "rawType": "float64",
         "type": "float"
        },
        {
         "name": "Long",
         "rawType": "float64",
         "type": "float"
        },
        {
         "name": "Date",
         "rawType": "datetime64[ns]",
         "type": "datetime"
        },
        {
         "name": "ConfirmedCases",
         "rawType": "float64",
         "type": "float"
        },
        {
         "name": "Fatalities",
         "rawType": "float64",
         "type": "float"
        },
        {
         "name": "ForecastId",
         "rawType": "float64",
         "type": "float"
        },
        {
         "name": "LogNewConfirmedCases",
         "rawType": "float64",
         "type": "float"
        },
        {
         "name": "LogNewConfirmedCases_prev_day_1",
         "rawType": "float64",
         "type": "float"
        },
        {
         "name": "LogNewConfirmedCases_prev_day_2",
         "rawType": "float64",
         "type": "float"
        },
        {
         "name": "LogNewConfirmedCases_prev_day_3",
         "rawType": "float64",
         "type": "float"
        },
        {
         "name": "LogNewConfirmedCases_prev_day_4",
         "rawType": "float64",
         "type": "float"
        },
        {
         "name": "LogNewConfirmedCases_prev_day_5",
         "rawType": "float64",
         "type": "float"
        },
        {
         "name": "LogNewConfirmedCases_prev_day_6",
         "rawType": "float64",
         "type": "float"
        },
        {
         "name": "LogNewConfirmedCases_prev_day_7",
         "rawType": "float64",
         "type": "float"
        },
        {
         "name": "LogNewConfirmedCases_prev_day_8",
         "rawType": "float64",
         "type": "float"
        },
        {
         "name": "LogNewConfirmedCases_prev_day_9",
         "rawType": "float64",
         "type": "float"
        },
        {
         "name": "LogNewConfirmedCases_prev_day_10",
         "rawType": "float64",
         "type": "float"
        },
        {
         "name": "LogNewConfirmedCases_prev_day_11",
         "rawType": "float64",
         "type": "float"
        },
        {
         "name": "LogNewConfirmedCases_prev_day_12",
         "rawType": "float64",
         "type": "float"
        },
        {
         "name": "LogNewConfirmedCases_prev_day_13",
         "rawType": "float64",
         "type": "float"
        },
        {
         "name": "LogNewConfirmedCases_prev_day_14",
         "rawType": "float64",
         "type": "float"
        },
        {
         "name": "LogNewConfirmedCases_prev_day_15",
         "rawType": "float64",
         "type": "float"
        },
        {
         "name": "LogNewConfirmedCases_prev_day_16",
         "rawType": "float64",
         "type": "float"
        },
        {
         "name": "LogNewConfirmedCases_prev_day_17",
         "rawType": "float64",
         "type": "float"
        },
        {
         "name": "LogNewConfirmedCases_prev_day_18",
         "rawType": "float64",
         "type": "float"
        },
        {
         "name": "LogNewConfirmedCases_prev_day_19",
         "rawType": "float64",
         "type": "float"
        },
        {
         "name": "LogNewConfirmedCases_prev_day_20",
         "rawType": "float64",
         "type": "float"
        },
        {
         "name": "LogNewConfirmedCases_prev_day_21",
         "rawType": "float64",
         "type": "float"
        },
        {
         "name": "LogNewConfirmedCases_prev_day_22",
         "rawType": "float64",
         "type": "float"
        },
        {
         "name": "LogNewConfirmedCases_prev_day_23",
         "rawType": "float64",
         "type": "float"
        },
        {
         "name": "LogNewConfirmedCases_prev_day_24",
         "rawType": "float64",
         "type": "float"
        },
        {
         "name": "LogNewConfirmedCases_prev_day_25",
         "rawType": "float64",
         "type": "float"
        },
        {
         "name": "LogNewConfirmedCases_prev_day_26",
         "rawType": "float64",
         "type": "float"
        },
        {
         "name": "LogNewConfirmedCases_prev_day_27",
         "rawType": "float64",
         "type": "float"
        },
        {
         "name": "LogNewConfirmedCases_prev_day_28",
         "rawType": "float64",
         "type": "float"
        },
        {
         "name": "LogNewConfirmedCases_prev_day_29",
         "rawType": "float64",
         "type": "float"
        },
        {
         "name": "LogNewConfirmedCases_prev_day_30",
         "rawType": "float64",
         "type": "float"
        },
        {
         "name": "LogNewFatalities",
         "rawType": "float64",
         "type": "float"
        },
        {
         "name": "LogNewFatalities_prev_day_1",
         "rawType": "float64",
         "type": "float"
        },
        {
         "name": "LogNewFatalities_prev_day_2",
         "rawType": "float64",
         "type": "float"
        },
        {
         "name": "LogNewFatalities_prev_day_3",
         "rawType": "float64",
         "type": "float"
        },
        {
         "name": "LogNewFatalities_prev_day_4",
         "rawType": "float64",
         "type": "float"
        },
        {
         "name": "LogNewFatalities_prev_day_5",
         "rawType": "float64",
         "type": "float"
        },
        {
         "name": "LogNewFatalities_prev_day_6",
         "rawType": "float64",
         "type": "float"
        },
        {
         "name": "LogNewFatalities_prev_day_7",
         "rawType": "float64",
         "type": "float"
        },
        {
         "name": "LogNewFatalities_prev_day_8",
         "rawType": "float64",
         "type": "float"
        },
        {
         "name": "LogNewFatalities_prev_day_9",
         "rawType": "float64",
         "type": "float"
        },
        {
         "name": "LogNewFatalities_prev_day_10",
         "rawType": "float64",
         "type": "float"
        },
        {
         "name": "LogNewFatalities_prev_day_11",
         "rawType": "float64",
         "type": "float"
        },
        {
         "name": "LogNewFatalities_prev_day_12",
         "rawType": "float64",
         "type": "float"
        },
        {
         "name": "LogNewFatalities_prev_day_13",
         "rawType": "float64",
         "type": "float"
        },
        {
         "name": "LogNewFatalities_prev_day_14",
         "rawType": "float64",
         "type": "float"
        },
        {
         "name": "LogNewFatalities_prev_day_15",
         "rawType": "float64",
         "type": "float"
        },
        {
         "name": "LogNewFatalities_prev_day_16",
         "rawType": "float64",
         "type": "float"
        },
        {
         "name": "LogNewFatalities_prev_day_17",
         "rawType": "float64",
         "type": "float"
        },
        {
         "name": "LogNewFatalities_prev_day_18",
         "rawType": "float64",
         "type": "float"
        },
        {
         "name": "LogNewFatalities_prev_day_19",
         "rawType": "float64",
         "type": "float"
        },
        {
         "name": "LogNewFatalities_prev_day_20",
         "rawType": "float64",
         "type": "float"
        },
        {
         "name": "LogNewFatalities_prev_day_21",
         "rawType": "float64",
         "type": "float"
        },
        {
         "name": "LogNewFatalities_prev_day_22",
         "rawType": "float64",
         "type": "float"
        },
        {
         "name": "LogNewFatalities_prev_day_23",
         "rawType": "float64",
         "type": "float"
        },
        {
         "name": "LogNewFatalities_prev_day_24",
         "rawType": "float64",
         "type": "float"
        },
        {
         "name": "LogNewFatalities_prev_day_25",
         "rawType": "float64",
         "type": "float"
        },
        {
         "name": "LogNewFatalities_prev_day_26",
         "rawType": "float64",
         "type": "float"
        },
        {
         "name": "LogNewFatalities_prev_day_27",
         "rawType": "float64",
         "type": "float"
        },
        {
         "name": "LogNewFatalities_prev_day_28",
         "rawType": "float64",
         "type": "float"
        },
        {
         "name": "LogNewFatalities_prev_day_29",
         "rawType": "float64",
         "type": "float"
        },
        {
         "name": "LogNewFatalities_prev_day_30",
         "rawType": "float64",
         "type": "float"
        },
        {
         "name": "Day",
         "rawType": "int32",
         "type": "integer"
        },
        {
         "name": "WeekDay",
         "rawType": "int64",
         "type": "integer"
        },
        {
         "name": "Days_since_ConfirmedCases=1",
         "rawType": "float64",
         "type": "float"
        },
        {
         "name": "Days_since_Fatalities=1",
         "rawType": "float64",
         "type": "float"
        },
        {
         "name": "Days_since_ConfirmedCases=10",
         "rawType": "float64",
         "type": "float"
        },
        {
         "name": "Days_since_Fatalities=10",
         "rawType": "float64",
         "type": "float"
        },
        {
         "name": "Days_since_ConfirmedCases=100",
         "rawType": "float64",
         "type": "float"
        },
        {
         "name": "Days_since_Fatalities=100",
         "rawType": "float64",
         "type": "float"
        },
        {
         "name": "Distance_to_origin",
         "rawType": "float64",
         "type": "float"
        },
        {
         "name": "CountryArea",
         "rawType": "float64",
         "type": "float"
        },
        {
         "name": "CountryPop_0-20",
         "rawType": "float64",
         "type": "float"
        },
        {
         "name": "CountryPop_20-40",
         "rawType": "float64",
         "type": "float"
        },
        {
         "name": "CountryPop_40-60",
         "rawType": "float64",
         "type": "float"
        },
        {
         "name": "CountryPop_60-80",
         "rawType": "float64",
         "type": "float"
        },
        {
         "name": "CountryPop_80+",
         "rawType": "float64",
         "type": "float"
        },
        {
         "name": "CountryPopMale",
         "rawType": "float64",
         "type": "float"
        },
        {
         "name": "CountryPopFemale",
         "rawType": "float64",
         "type": "float"
        },
        {
         "name": "CountryPopTotal",
         "rawType": "float64",
         "type": "float"
        }
       ],
       "ref": "642b3d19-f262-43a6-9933-e0df006daf59",
       "rows": [
        [
         "0",
         "1.0",
         "",
         "Afghanistan",
         "33.0",
         "65.0",
         "2020-01-22 00:00:00",
         "0.0",
         "0.0",
         null,
         "0.0",
         null,
         null,
         null,
         null,
         null,
         null,
         null,
         null,
         null,
         null,
         null,
         null,
         null,
         null,
         null,
         null,
         null,
         null,
         null,
         null,
         null,
         null,
         null,
         null,
         null,
         null,
         null,
         null,
         null,
         null,
         "0.0",
         null,
         null,
         null,
         null,
         null,
         null,
         null,
         null,
         null,
         null,
         null,
         null,
         null,
         null,
         null,
         null,
         null,
         null,
         null,
         null,
         null,
         null,
         null,
         null,
         null,
         null,
         null,
         null,
         null,
         null,
         "0",
         "2",
         "-1.0",
         "-1.0",
         "-1.0",
         null,
         null,
         null,
         "4435.23261787452",
         "652230.0",
         "20676.364999999998",
         "11160.511",
         "4620.268",
         "1479.526",
         "105.087",
         "19529.727000000003",
         "18512.030000000002",
         "38041.757000000005"
        ],
        [
         "1",
         "8185.0",
         "",
         "Cyprus",
         "35.1264",
         "33.4299",
         "2020-01-22 00:00:00",
         "0.0",
         "0.0",
         null,
         "0.0",
         null,
         null,
         null,
         null,
         null,
         null,
         null,
         null,
         null,
         null,
         null,
         null,
         null,
         null,
         null,
         null,
         null,
         null,
         null,
         null,
         null,
         null,
         null,
         null,
         null,
         null,
         null,
         null,
         null,
         null,
         "0.0",
         null,
         null,
         null,
         null,
         null,
         null,
         null,
         null,
         null,
         null,
         null,
         null,
         null,
         null,
         null,
         null,
         null,
         null,
         null,
         null,
         null,
         null,
         null,
         null,
         null,
         null,
         null,
         null,
         null,
         null,
         "0",
         "2",
         "-1.0",
         "-1.0",
         "-1.0",
         null,
         "-1.0",
         null,
         "7177.52919479716",
         "9240.0",
         "275.284",
         "382.653",
         "308.911",
         "193.20200000000003",
         "38.52400000000001",
         "599.297",
         "599.2769999999999",
         "1198.574"
        ],
        [
         "2",
         "21112.0",
         "Guam",
         "US",
         "13.4443",
         "144.7937",
         "2020-01-22 00:00:00",
         "0.0",
         "0.0",
         null,
         "0.0",
         null,
         null,
         null,
         null,
         null,
         null,
         null,
         null,
         null,
         null,
         null,
         null,
         null,
         null,
         null,
         null,
         null,
         null,
         null,
         null,
         null,
         null,
         null,
         null,
         null,
         null,
         null,
         null,
         null,
         null,
         "0.0",
         null,
         null,
         null,
         null,
         null,
         null,
         null,
         null,
         null,
         null,
         null,
         null,
         null,
         null,
         null,
         null,
         null,
         null,
         null,
         null,
         null,
         null,
         null,
         null,
         null,
         null,
         null,
         null,
         null,
         null,
         "0",
         "2",
         "-1.0",
         "-1.0",
         "-1.0",
         null,
         null,
         null,
         "3851.942688846099",
         "9147420.0",
         "82289.916",
         "90159.134",
         "82846.126",
         "60854.331999999995",
         "12915.409",
         "162826.299",
         "166238.61800000002",
         "329064.917"
        ],
        [
         "3",
         "8278.0",
         "",
         "Czechia",
         "49.8175",
         "15.473",
         "2020-01-22 00:00:00",
         "0.0",
         "0.0",
         null,
         "0.0",
         null,
         null,
         null,
         null,
         null,
         null,
         null,
         null,
         null,
         null,
         null,
         null,
         null,
         null,
         null,
         null,
         null,
         null,
         null,
         null,
         null,
         null,
         null,
         null,
         null,
         null,
         null,
         null,
         null,
         null,
         "0.0",
         null,
         null,
         null,
         null,
         null,
         null,
         null,
         null,
         null,
         null,
         null,
         null,
         null,
         null,
         null,
         null,
         null,
         null,
         null,
         null,
         null,
         null,
         null,
         null,
         null,
         null,
         null,
         null,
         null,
         null,
         "0",
         "2",
         null,
         null,
         null,
         null,
         null,
         null,
         "7897.6240377791955",
         "77205.5",
         "2152.923",
         "2656.34",
         "3107.36",
         "2332.215",
         "440.375",
         "5260.628",
         "5428.585",
         "10689.213"
        ],
        [
         "4",
         "8371.0",
         "Denmark",
         "Denmark",
         "56.2639",
         "9.5018",
         "2020-01-22 00:00:00",
         "0.0",
         "0.0",
         null,
         "0.0",
         null,
         null,
         null,
         null,
         null,
         null,
         null,
         null,
         null,
         null,
         null,
         null,
         null,
         null,
         null,
         null,
         null,
         null,
         null,
         null,
         null,
         null,
         null,
         null,
         null,
         null,
         null,
         null,
         null,
         null,
         "0.0",
         null,
         null,
         null,
         null,
         null,
         null,
         null,
         null,
         null,
         null,
         null,
         null,
         null,
         null,
         null,
         null,
         null,
         null,
         null,
         null,
         null,
         null,
         null,
         null,
         null,
         null,
         null,
         null,
         null,
         null,
         "0",
         "2",
         "-1.0",
         "-1.0",
         "-1.0",
         "-1.0",
         "-1.0",
         null,
         "7931.069186113015",
         "40000.0",
         "1287.864",
         "1437.566",
         "1556.036",
         "1224.13",
         "266.28099999999995",
         "2869.672",
         "2902.205",
         "5771.877"
        ]
       ],
       "shape": {
        "columns": 89,
        "rows": 5
       }
      },
      "text/html": [
       "<div>\n",
       "<style scoped>\n",
       "    .dataframe tbody tr th:only-of-type {\n",
       "        vertical-align: middle;\n",
       "    }\n",
       "\n",
       "    .dataframe tbody tr th {\n",
       "        vertical-align: top;\n",
       "    }\n",
       "\n",
       "    .dataframe thead th {\n",
       "        text-align: right;\n",
       "    }\n",
       "</style>\n",
       "<table border=\"1\" class=\"dataframe\">\n",
       "  <thead>\n",
       "    <tr style=\"text-align: right;\">\n",
       "      <th></th>\n",
       "      <th>Id</th>\n",
       "      <th>Province/State</th>\n",
       "      <th>Country/Region</th>\n",
       "      <th>Lat</th>\n",
       "      <th>Long</th>\n",
       "      <th>Date</th>\n",
       "      <th>ConfirmedCases</th>\n",
       "      <th>Fatalities</th>\n",
       "      <th>ForecastId</th>\n",
       "      <th>LogNewConfirmedCases</th>\n",
       "      <th>...</th>\n",
       "      <th>Distance_to_origin</th>\n",
       "      <th>CountryArea</th>\n",
       "      <th>CountryPop_0-20</th>\n",
       "      <th>CountryPop_20-40</th>\n",
       "      <th>CountryPop_40-60</th>\n",
       "      <th>CountryPop_60-80</th>\n",
       "      <th>CountryPop_80+</th>\n",
       "      <th>CountryPopMale</th>\n",
       "      <th>CountryPopFemale</th>\n",
       "      <th>CountryPopTotal</th>\n",
       "    </tr>\n",
       "  </thead>\n",
       "  <tbody>\n",
       "    <tr>\n",
       "      <th>0</th>\n",
       "      <td>1.0</td>\n",
       "      <td></td>\n",
       "      <td>Afghanistan</td>\n",
       "      <td>33.0000</td>\n",
       "      <td>65.0000</td>\n",
       "      <td>2020-01-22</td>\n",
       "      <td>0.0</td>\n",
       "      <td>0.0</td>\n",
       "      <td>NaN</td>\n",
       "      <td>0.0</td>\n",
       "      <td>...</td>\n",
       "      <td>4435.232618</td>\n",
       "      <td>652230.0</td>\n",
       "      <td>20676.365</td>\n",
       "      <td>11160.511</td>\n",
       "      <td>4620.268</td>\n",
       "      <td>1479.526</td>\n",
       "      <td>105.087</td>\n",
       "      <td>19529.727</td>\n",
       "      <td>18512.030</td>\n",
       "      <td>38041.757</td>\n",
       "    </tr>\n",
       "    <tr>\n",
       "      <th>1</th>\n",
       "      <td>8185.0</td>\n",
       "      <td></td>\n",
       "      <td>Cyprus</td>\n",
       "      <td>35.1264</td>\n",
       "      <td>33.4299</td>\n",
       "      <td>2020-01-22</td>\n",
       "      <td>0.0</td>\n",
       "      <td>0.0</td>\n",
       "      <td>NaN</td>\n",
       "      <td>0.0</td>\n",
       "      <td>...</td>\n",
       "      <td>7177.529195</td>\n",
       "      <td>9240.0</td>\n",
       "      <td>275.284</td>\n",
       "      <td>382.653</td>\n",
       "      <td>308.911</td>\n",
       "      <td>193.202</td>\n",
       "      <td>38.524</td>\n",
       "      <td>599.297</td>\n",
       "      <td>599.277</td>\n",
       "      <td>1198.574</td>\n",
       "    </tr>\n",
       "    <tr>\n",
       "      <th>2</th>\n",
       "      <td>21112.0</td>\n",
       "      <td>Guam</td>\n",
       "      <td>US</td>\n",
       "      <td>13.4443</td>\n",
       "      <td>144.7937</td>\n",
       "      <td>2020-01-22</td>\n",
       "      <td>0.0</td>\n",
       "      <td>0.0</td>\n",
       "      <td>NaN</td>\n",
       "      <td>0.0</td>\n",
       "      <td>...</td>\n",
       "      <td>3851.942689</td>\n",
       "      <td>9147420.0</td>\n",
       "      <td>82289.916</td>\n",
       "      <td>90159.134</td>\n",
       "      <td>82846.126</td>\n",
       "      <td>60854.332</td>\n",
       "      <td>12915.409</td>\n",
       "      <td>162826.299</td>\n",
       "      <td>166238.618</td>\n",
       "      <td>329064.917</td>\n",
       "    </tr>\n",
       "    <tr>\n",
       "      <th>3</th>\n",
       "      <td>8278.0</td>\n",
       "      <td></td>\n",
       "      <td>Czechia</td>\n",
       "      <td>49.8175</td>\n",
       "      <td>15.4730</td>\n",
       "      <td>2020-01-22</td>\n",
       "      <td>0.0</td>\n",
       "      <td>0.0</td>\n",
       "      <td>NaN</td>\n",
       "      <td>0.0</td>\n",
       "      <td>...</td>\n",
       "      <td>7897.624038</td>\n",
       "      <td>77205.5</td>\n",
       "      <td>2152.923</td>\n",
       "      <td>2656.340</td>\n",
       "      <td>3107.360</td>\n",
       "      <td>2332.215</td>\n",
       "      <td>440.375</td>\n",
       "      <td>5260.628</td>\n",
       "      <td>5428.585</td>\n",
       "      <td>10689.213</td>\n",
       "    </tr>\n",
       "    <tr>\n",
       "      <th>4</th>\n",
       "      <td>8371.0</td>\n",
       "      <td>Denmark</td>\n",
       "      <td>Denmark</td>\n",
       "      <td>56.2639</td>\n",
       "      <td>9.5018</td>\n",
       "      <td>2020-01-22</td>\n",
       "      <td>0.0</td>\n",
       "      <td>0.0</td>\n",
       "      <td>NaN</td>\n",
       "      <td>0.0</td>\n",
       "      <td>...</td>\n",
       "      <td>7931.069186</td>\n",
       "      <td>40000.0</td>\n",
       "      <td>1287.864</td>\n",
       "      <td>1437.566</td>\n",
       "      <td>1556.036</td>\n",
       "      <td>1224.130</td>\n",
       "      <td>266.281</td>\n",
       "      <td>2869.672</td>\n",
       "      <td>2902.205</td>\n",
       "      <td>5771.877</td>\n",
       "    </tr>\n",
       "  </tbody>\n",
       "</table>\n",
       "<p>5 rows × 89 columns</p>\n",
       "</div>"
      ],
      "text/plain": [
       "        Id Province/State Country/Region      Lat      Long       Date  \\\n",
       "0      1.0                   Afghanistan  33.0000   65.0000 2020-01-22   \n",
       "1   8185.0                        Cyprus  35.1264   33.4299 2020-01-22   \n",
       "2  21112.0           Guam             US  13.4443  144.7937 2020-01-22   \n",
       "3   8278.0                       Czechia  49.8175   15.4730 2020-01-22   \n",
       "4   8371.0        Denmark        Denmark  56.2639    9.5018 2020-01-22   \n",
       "\n",
       "   ConfirmedCases  Fatalities  ForecastId  LogNewConfirmedCases  ...  \\\n",
       "0             0.0         0.0         NaN                   0.0  ...   \n",
       "1             0.0         0.0         NaN                   0.0  ...   \n",
       "2             0.0         0.0         NaN                   0.0  ...   \n",
       "3             0.0         0.0         NaN                   0.0  ...   \n",
       "4             0.0         0.0         NaN                   0.0  ...   \n",
       "\n",
       "   Distance_to_origin  CountryArea  CountryPop_0-20  CountryPop_20-40  \\\n",
       "0         4435.232618     652230.0        20676.365         11160.511   \n",
       "1         7177.529195       9240.0          275.284           382.653   \n",
       "2         3851.942689    9147420.0        82289.916         90159.134   \n",
       "3         7897.624038      77205.5         2152.923          2656.340   \n",
       "4         7931.069186      40000.0         1287.864          1437.566   \n",
       "\n",
       "   CountryPop_40-60  CountryPop_60-80  CountryPop_80+  CountryPopMale  \\\n",
       "0          4620.268          1479.526         105.087       19529.727   \n",
       "1           308.911           193.202          38.524         599.297   \n",
       "2         82846.126         60854.332       12915.409      162826.299   \n",
       "3          3107.360          2332.215         440.375        5260.628   \n",
       "4          1556.036          1224.130         266.281        2869.672   \n",
       "\n",
       "   CountryPopFemale  CountryPopTotal  \n",
       "0         18512.030        38041.757  \n",
       "1           599.277         1198.574  \n",
       "2        166238.618       329064.917  \n",
       "3          5428.585        10689.213  \n",
       "4          2902.205         5771.877  \n",
       "\n",
       "[5 rows x 89 columns]"
      ]
     },
     "execution_count": 23,
     "metadata": {},
     "output_type": "execute_result"
    }
   ],
   "source": [
    "aggregated_population_df.drop(columns='Time', inplace=True)\n",
    "\n",
    "main_df = merge_with_column_drop(\n",
    "    main_df,\n",
    "    aggregated_population_df,\n",
    "    right_df_column='Location'\n",
    ")\n",
    "main_df.head()"
   ]
  },
  {
   "cell_type": "markdown",
   "metadata": {
    "colab_type": "text",
    "id": "Qd3UQl7XHGkf"
   },
   "source": [
    "### Country Population density feature\n"
   ]
  },
  {
   "cell_type": "code",
   "execution_count": 24,
   "metadata": {
    "colab": {},
    "colab_type": "code",
    "id": "HlguvbyUHR77"
   },
   "outputs": [],
   "source": [
    "main_df['CountryPopDensity'] = main_df['CountryPopTotal'] / main_df['CountryArea']"
   ]
  },
  {
   "cell_type": "markdown",
   "metadata": {
    "colab_type": "text",
    "id": "17THKbaKIUot"
   },
   "source": [
    "### Country Smoking rate feature\n"
   ]
  },
  {
   "cell_type": "code",
   "execution_count": 25,
   "metadata": {
    "colab": {
     "base_uri": "https://localhost:8080/",
     "height": 394
    },
    "colab_type": "code",
    "id": "uK8RsydoJA4w",
    "outputId": "1c75995c-9a52-478c-82f2-a611a6fe6e16"
   },
   "outputs": [
    {
     "name": "stdout",
     "output_type": "stream",
     "text": [
      "Zip file already exists, skipping download.\n",
      "Skipped (already exists): Metadata_Indicator_API_SH.PRV.SMOK_DS2_en_csv_v2_31160.csv\n",
      "Skipped (already exists): API_SH.PRV.SMOK_DS2_en_csv_v2_31160.csv\n",
      "Skipped (already exists): Metadata_Country_API_SH.PRV.SMOK_DS2_en_csv_v2_31160.csv\n",
      "Directory contents:\n",
      "API_SH.PRV.SMOK_DS2_en_csv_v2_31160.csv\n",
      "Metadata_Country_API_SH.PRV.SMOK_DS2_en_csv_v2_31160.csv\n",
      "Metadata_Indicator_API_SH.PRV.SMOK_DS2_en_csv_v2_31160.csv\n",
      "smoking.zip\n"
     ]
    }
   ],
   "source": [
    "import os\n",
    "import urllib.request\n",
    "import zipfile\n",
    "\n",
    "# Create directory and change into it\n",
    "smoking_dir = 'smoking'\n",
    "os.makedirs(smoking_dir, exist_ok=True)\n",
    "os.chdir(smoking_dir)\n",
    "\n",
    "# Define download URL and filename\n",
    "url = 'http://api.worldbank.org/v2/en/indicator/SH.PRV.SMOK?downloadformat=csv'\n",
    "zip_filename = 'smoking.zip'\n",
    "\n",
    "# Download the file if it doesn't already exist\n",
    "if not os.path.exists(zip_filename):\n",
    "    print(\"Downloading...\")\n",
    "    urllib.request.urlretrieve(url, zip_filename)\n",
    "    print(\"Download complete.\")\n",
    "else:\n",
    "    print(\"Zip file already exists, skipping download.\")\n",
    "\n",
    "# Unzip without overwriting existing files\n",
    "with zipfile.ZipFile(zip_filename, 'r') as zip_ref:\n",
    "    for file in zip_ref.namelist():\n",
    "        if not os.path.exists(file):\n",
    "            zip_ref.extract(file)\n",
    "            print(f\"Extracted: {file}\")\n",
    "        else:\n",
    "            print(f\"Skipped (already exists): {file}\")\n",
    "\n",
    "# List directory contents\n",
    "print(\"Directory contents:\")\n",
    "for fname in os.listdir('.'):\n",
    "    print(fname)\n"
   ]
  },
  {
   "cell_type": "code",
   "execution_count": null,
   "metadata": {
    "colab": {
     "base_uri": "https://localhost:8080/",
     "height": 504
    },
    "colab_type": "code",
    "id": "DsUc9YiDJpER",
    "outputId": "0cfcb140-610b-4c8f-e5d3-75b910e11b42"
   },
   "outputs": [
    {
     "name": "stdout",
     "output_type": "stream",
     "text": [
      "Data loaded: unknown shape\n"
     ]
    },
    {
     "data": {
      "application/vnd.microsoft.datawrangler.viewer.v0+json": {
       "columns": [
        {
         "name": "index",
         "rawType": "int64",
         "type": "integer"
        },
        {
         "name": "Country Name",
         "rawType": "object",
         "type": "string"
        },
        {
         "name": "Country Code",
         "rawType": "object",
         "type": "string"
        },
        {
         "name": "Indicator Name",
         "rawType": "object",
         "type": "string"
        },
        {
         "name": "Indicator Code",
         "rawType": "object",
         "type": "string"
        },
        {
         "name": "1960",
         "rawType": "float64",
         "type": "float"
        },
        {
         "name": "1961",
         "rawType": "float64",
         "type": "float"
        },
        {
         "name": "1962",
         "rawType": "float64",
         "type": "float"
        },
        {
         "name": "1963",
         "rawType": "float64",
         "type": "float"
        },
        {
         "name": "1964",
         "rawType": "float64",
         "type": "float"
        },
        {
         "name": "1965",
         "rawType": "float64",
         "type": "float"
        },
        {
         "name": "1966",
         "rawType": "float64",
         "type": "float"
        },
        {
         "name": "1967",
         "rawType": "float64",
         "type": "float"
        },
        {
         "name": "1968",
         "rawType": "float64",
         "type": "float"
        },
        {
         "name": "1969",
         "rawType": "float64",
         "type": "float"
        },
        {
         "name": "1970",
         "rawType": "float64",
         "type": "float"
        },
        {
         "name": "1971",
         "rawType": "float64",
         "type": "float"
        },
        {
         "name": "1972",
         "rawType": "float64",
         "type": "float"
        },
        {
         "name": "1973",
         "rawType": "float64",
         "type": "float"
        },
        {
         "name": "1974",
         "rawType": "float64",
         "type": "float"
        },
        {
         "name": "1975",
         "rawType": "float64",
         "type": "float"
        },
        {
         "name": "1976",
         "rawType": "float64",
         "type": "float"
        },
        {
         "name": "1977",
         "rawType": "float64",
         "type": "float"
        },
        {
         "name": "1978",
         "rawType": "float64",
         "type": "float"
        },
        {
         "name": "1979",
         "rawType": "float64",
         "type": "float"
        },
        {
         "name": "1980",
         "rawType": "float64",
         "type": "float"
        },
        {
         "name": "1981",
         "rawType": "float64",
         "type": "float"
        },
        {
         "name": "1982",
         "rawType": "float64",
         "type": "float"
        },
        {
         "name": "1983",
         "rawType": "float64",
         "type": "float"
        },
        {
         "name": "1984",
         "rawType": "float64",
         "type": "float"
        },
        {
         "name": "1985",
         "rawType": "float64",
         "type": "float"
        },
        {
         "name": "1986",
         "rawType": "float64",
         "type": "float"
        },
        {
         "name": "1987",
         "rawType": "float64",
         "type": "float"
        },
        {
         "name": "1988",
         "rawType": "float64",
         "type": "float"
        },
        {
         "name": "1989",
         "rawType": "float64",
         "type": "float"
        },
        {
         "name": "1990",
         "rawType": "float64",
         "type": "float"
        },
        {
         "name": "1991",
         "rawType": "float64",
         "type": "float"
        },
        {
         "name": "1992",
         "rawType": "float64",
         "type": "float"
        },
        {
         "name": "1993",
         "rawType": "float64",
         "type": "float"
        },
        {
         "name": "1994",
         "rawType": "float64",
         "type": "float"
        },
        {
         "name": "1995",
         "rawType": "float64",
         "type": "float"
        },
        {
         "name": "1996",
         "rawType": "float64",
         "type": "float"
        },
        {
         "name": "1997",
         "rawType": "float64",
         "type": "float"
        },
        {
         "name": "1998",
         "rawType": "float64",
         "type": "float"
        },
        {
         "name": "1999",
         "rawType": "float64",
         "type": "float"
        },
        {
         "name": "2000",
         "rawType": "float64",
         "type": "float"
        },
        {
         "name": "2001",
         "rawType": "float64",
         "type": "float"
        },
        {
         "name": "2002",
         "rawType": "float64",
         "type": "float"
        },
        {
         "name": "2003",
         "rawType": "float64",
         "type": "float"
        },
        {
         "name": "2004",
         "rawType": "float64",
         "type": "float"
        },
        {
         "name": "2005",
         "rawType": "float64",
         "type": "float"
        },
        {
         "name": "2006",
         "rawType": "float64",
         "type": "float"
        },
        {
         "name": "2007",
         "rawType": "float64",
         "type": "float"
        },
        {
         "name": "2008",
         "rawType": "float64",
         "type": "float"
        },
        {
         "name": "2009",
         "rawType": "float64",
         "type": "float"
        },
        {
         "name": "2010",
         "rawType": "float64",
         "type": "float"
        },
        {
         "name": "2011",
         "rawType": "float64",
         "type": "float"
        },
        {
         "name": "2012",
         "rawType": "float64",
         "type": "float"
        },
        {
         "name": "2013",
         "rawType": "float64",
         "type": "float"
        },
        {
         "name": "2014",
         "rawType": "float64",
         "type": "float"
        },
        {
         "name": "2015",
         "rawType": "float64",
         "type": "float"
        },
        {
         "name": "2016",
         "rawType": "float64",
         "type": "float"
        },
        {
         "name": "2017",
         "rawType": "float64",
         "type": "float"
        },
        {
         "name": "2018",
         "rawType": "float64",
         "type": "float"
        },
        {
         "name": "2019",
         "rawType": "float64",
         "type": "float"
        },
        {
         "name": "2020",
         "rawType": "float64",
         "type": "float"
        },
        {
         "name": "2021",
         "rawType": "float64",
         "type": "float"
        },
        {
         "name": "2022",
         "rawType": "float64",
         "type": "float"
        },
        {
         "name": "2023",
         "rawType": "float64",
         "type": "float"
        },
        {
         "name": "2024",
         "rawType": "float64",
         "type": "float"
        },
        {
         "name": "Unnamed: 69",
         "rawType": "float64",
         "type": "float"
        }
       ],
       "ref": "af5946f2-c6f9-4834-8c51-2200ce0b3615",
       "rows": [
        [
         "0",
         "Aruba",
         "ABW",
         "Prevalence of current tobacco use (% of adults)",
         "SH.PRV.SMOK",
         null,
         null,
         null,
         null,
         null,
         null,
         null,
         null,
         null,
         null,
         null,
         null,
         null,
         null,
         null,
         null,
         null,
         null,
         null,
         null,
         null,
         null,
         null,
         null,
         null,
         null,
         null,
         null,
         null,
         null,
         null,
         null,
         null,
         null,
         null,
         null,
         null,
         null,
         null,
         null,
         null,
         null,
         null,
         null,
         null,
         null,
         null,
         null,
         null,
         null,
         null,
         null,
         null,
         null,
         null,
         null,
         null,
         null,
         null,
         null,
         null,
         null,
         null,
         null,
         null,
         null
        ],
        [
         "1",
         "Africa Eastern and Southern",
         "AFE",
         "Prevalence of current tobacco use (% of adults)",
         "SH.PRV.SMOK",
         null,
         null,
         null,
         null,
         null,
         null,
         null,
         null,
         null,
         null,
         null,
         null,
         null,
         null,
         null,
         null,
         null,
         null,
         null,
         null,
         null,
         null,
         null,
         null,
         null,
         null,
         null,
         null,
         null,
         null,
         null,
         null,
         null,
         null,
         null,
         null,
         null,
         null,
         null,
         null,
         "21.7579740108658",
         null,
         null,
         null,
         null,
         "18.5969761141652",
         null,
         "17.5388972270479",
         null,
         null,
         "16.113996353133",
         null,
         null,
         null,
         null,
         "14.0961597128605",
         null,
         null,
         null,
         null,
         "12.4448953421007",
         "12.1608327586397",
         "11.8819514401161",
         null,
         null,
         null
        ],
        [
         "2",
         "Afghanistan",
         "AFG",
         "Prevalence of current tobacco use (% of adults)",
         "SH.PRV.SMOK",
         null,
         null,
         null,
         null,
         null,
         null,
         null,
         null,
         null,
         null,
         null,
         null,
         null,
         null,
         null,
         null,
         null,
         null,
         null,
         null,
         null,
         null,
         null,
         null,
         null,
         null,
         null,
         null,
         null,
         null,
         null,
         null,
         null,
         null,
         null,
         null,
         null,
         null,
         null,
         null,
         "39.2",
         null,
         null,
         null,
         null,
         "34.2",
         null,
         "32.5",
         null,
         null,
         "30.2",
         null,
         null,
         null,
         null,
         "26.6",
         null,
         null,
         null,
         null,
         "23.7",
         "23.2",
         "22.7",
         null,
         null,
         null
        ],
        [
         "3",
         "Africa Western and Central",
         "AFW",
         "Prevalence of current tobacco use (% of adults)",
         "SH.PRV.SMOK",
         null,
         null,
         null,
         null,
         null,
         null,
         null,
         null,
         null,
         null,
         null,
         null,
         null,
         null,
         null,
         null,
         null,
         null,
         null,
         null,
         null,
         null,
         null,
         null,
         null,
         null,
         null,
         null,
         null,
         null,
         null,
         null,
         null,
         null,
         null,
         null,
         null,
         null,
         null,
         null,
         "13.7782731243322",
         null,
         null,
         null,
         null,
         "11.068666961924",
         null,
         "10.131047609148",
         null,
         null,
         "8.94775892585108",
         null,
         null,
         null,
         null,
         "7.35862709966676",
         null,
         null,
         null,
         null,
         "6.10938005554531",
         "5.88922037554223",
         "5.73415427820482",
         null,
         null,
         null
        ],
        [
         "4",
         "Angola",
         "AGO",
         "Prevalence of current tobacco use (% of adults)",
         "SH.PRV.SMOK",
         null,
         null,
         null,
         null,
         null,
         null,
         null,
         null,
         null,
         null,
         null,
         null,
         null,
         null,
         null,
         null,
         null,
         null,
         null,
         null,
         null,
         null,
         null,
         null,
         null,
         null,
         null,
         null,
         null,
         null,
         null,
         null,
         null,
         null,
         null,
         null,
         null,
         null,
         null,
         null,
         null,
         null,
         null,
         null,
         null,
         null,
         null,
         null,
         null,
         null,
         null,
         null,
         null,
         null,
         null,
         null,
         null,
         null,
         null,
         null,
         null,
         null,
         null,
         null,
         null,
         null
        ]
       ],
       "shape": {
        "columns": 70,
        "rows": 5
       }
      },
      "text/html": [
       "<div>\n",
       "<style scoped>\n",
       "    .dataframe tbody tr th:only-of-type {\n",
       "        vertical-align: middle;\n",
       "    }\n",
       "\n",
       "    .dataframe tbody tr th {\n",
       "        vertical-align: top;\n",
       "    }\n",
       "\n",
       "    .dataframe thead th {\n",
       "        text-align: right;\n",
       "    }\n",
       "</style>\n",
       "<table border=\"1\" class=\"dataframe\">\n",
       "  <thead>\n",
       "    <tr style=\"text-align: right;\">\n",
       "      <th></th>\n",
       "      <th>Country Name</th>\n",
       "      <th>Country Code</th>\n",
       "      <th>Indicator Name</th>\n",
       "      <th>Indicator Code</th>\n",
       "      <th>1960</th>\n",
       "      <th>1961</th>\n",
       "      <th>1962</th>\n",
       "      <th>1963</th>\n",
       "      <th>1964</th>\n",
       "      <th>1965</th>\n",
       "      <th>...</th>\n",
       "      <th>2016</th>\n",
       "      <th>2017</th>\n",
       "      <th>2018</th>\n",
       "      <th>2019</th>\n",
       "      <th>2020</th>\n",
       "      <th>2021</th>\n",
       "      <th>2022</th>\n",
       "      <th>2023</th>\n",
       "      <th>2024</th>\n",
       "      <th>Unnamed: 69</th>\n",
       "    </tr>\n",
       "  </thead>\n",
       "  <tbody>\n",
       "    <tr>\n",
       "      <th>0</th>\n",
       "      <td>Aruba</td>\n",
       "      <td>ABW</td>\n",
       "      <td>Prevalence of current tobacco use (% of adults)</td>\n",
       "      <td>SH.PRV.SMOK</td>\n",
       "      <td>NaN</td>\n",
       "      <td>NaN</td>\n",
       "      <td>NaN</td>\n",
       "      <td>NaN</td>\n",
       "      <td>NaN</td>\n",
       "      <td>NaN</td>\n",
       "      <td>...</td>\n",
       "      <td>NaN</td>\n",
       "      <td>NaN</td>\n",
       "      <td>NaN</td>\n",
       "      <td>NaN</td>\n",
       "      <td>NaN</td>\n",
       "      <td>NaN</td>\n",
       "      <td>NaN</td>\n",
       "      <td>NaN</td>\n",
       "      <td>NaN</td>\n",
       "      <td>NaN</td>\n",
       "    </tr>\n",
       "    <tr>\n",
       "      <th>1</th>\n",
       "      <td>Africa Eastern and Southern</td>\n",
       "      <td>AFE</td>\n",
       "      <td>Prevalence of current tobacco use (% of adults)</td>\n",
       "      <td>SH.PRV.SMOK</td>\n",
       "      <td>NaN</td>\n",
       "      <td>NaN</td>\n",
       "      <td>NaN</td>\n",
       "      <td>NaN</td>\n",
       "      <td>NaN</td>\n",
       "      <td>NaN</td>\n",
       "      <td>...</td>\n",
       "      <td>NaN</td>\n",
       "      <td>NaN</td>\n",
       "      <td>NaN</td>\n",
       "      <td>NaN</td>\n",
       "      <td>12.444895</td>\n",
       "      <td>12.160833</td>\n",
       "      <td>11.881951</td>\n",
       "      <td>NaN</td>\n",
       "      <td>NaN</td>\n",
       "      <td>NaN</td>\n",
       "    </tr>\n",
       "    <tr>\n",
       "      <th>2</th>\n",
       "      <td>Afghanistan</td>\n",
       "      <td>AFG</td>\n",
       "      <td>Prevalence of current tobacco use (% of adults)</td>\n",
       "      <td>SH.PRV.SMOK</td>\n",
       "      <td>NaN</td>\n",
       "      <td>NaN</td>\n",
       "      <td>NaN</td>\n",
       "      <td>NaN</td>\n",
       "      <td>NaN</td>\n",
       "      <td>NaN</td>\n",
       "      <td>...</td>\n",
       "      <td>NaN</td>\n",
       "      <td>NaN</td>\n",
       "      <td>NaN</td>\n",
       "      <td>NaN</td>\n",
       "      <td>23.700000</td>\n",
       "      <td>23.200000</td>\n",
       "      <td>22.700000</td>\n",
       "      <td>NaN</td>\n",
       "      <td>NaN</td>\n",
       "      <td>NaN</td>\n",
       "    </tr>\n",
       "    <tr>\n",
       "      <th>3</th>\n",
       "      <td>Africa Western and Central</td>\n",
       "      <td>AFW</td>\n",
       "      <td>Prevalence of current tobacco use (% of adults)</td>\n",
       "      <td>SH.PRV.SMOK</td>\n",
       "      <td>NaN</td>\n",
       "      <td>NaN</td>\n",
       "      <td>NaN</td>\n",
       "      <td>NaN</td>\n",
       "      <td>NaN</td>\n",
       "      <td>NaN</td>\n",
       "      <td>...</td>\n",
       "      <td>NaN</td>\n",
       "      <td>NaN</td>\n",
       "      <td>NaN</td>\n",
       "      <td>NaN</td>\n",
       "      <td>6.109380</td>\n",
       "      <td>5.889220</td>\n",
       "      <td>5.734154</td>\n",
       "      <td>NaN</td>\n",
       "      <td>NaN</td>\n",
       "      <td>NaN</td>\n",
       "    </tr>\n",
       "    <tr>\n",
       "      <th>4</th>\n",
       "      <td>Angola</td>\n",
       "      <td>AGO</td>\n",
       "      <td>Prevalence of current tobacco use (% of adults)</td>\n",
       "      <td>SH.PRV.SMOK</td>\n",
       "      <td>NaN</td>\n",
       "      <td>NaN</td>\n",
       "      <td>NaN</td>\n",
       "      <td>NaN</td>\n",
       "      <td>NaN</td>\n",
       "      <td>NaN</td>\n",
       "      <td>...</td>\n",
       "      <td>NaN</td>\n",
       "      <td>NaN</td>\n",
       "      <td>NaN</td>\n",
       "      <td>NaN</td>\n",
       "      <td>NaN</td>\n",
       "      <td>NaN</td>\n",
       "      <td>NaN</td>\n",
       "      <td>NaN</td>\n",
       "      <td>NaN</td>\n",
       "      <td>NaN</td>\n",
       "    </tr>\n",
       "  </tbody>\n",
       "</table>\n",
       "<p>5 rows × 70 columns</p>\n",
       "</div>"
      ],
      "text/plain": [
       "                  Country Name Country Code  \\\n",
       "0                        Aruba          ABW   \n",
       "1  Africa Eastern and Southern          AFE   \n",
       "2                  Afghanistan          AFG   \n",
       "3   Africa Western and Central          AFW   \n",
       "4                       Angola          AGO   \n",
       "\n",
       "                                    Indicator Name Indicator Code  1960  1961  \\\n",
       "0  Prevalence of current tobacco use (% of adults)    SH.PRV.SMOK   NaN   NaN   \n",
       "1  Prevalence of current tobacco use (% of adults)    SH.PRV.SMOK   NaN   NaN   \n",
       "2  Prevalence of current tobacco use (% of adults)    SH.PRV.SMOK   NaN   NaN   \n",
       "3  Prevalence of current tobacco use (% of adults)    SH.PRV.SMOK   NaN   NaN   \n",
       "4  Prevalence of current tobacco use (% of adults)    SH.PRV.SMOK   NaN   NaN   \n",
       "\n",
       "   1962  1963  1964  1965  ...  2016  2017  2018  2019       2020       2021  \\\n",
       "0   NaN   NaN   NaN   NaN  ...   NaN   NaN   NaN   NaN        NaN        NaN   \n",
       "1   NaN   NaN   NaN   NaN  ...   NaN   NaN   NaN   NaN  12.444895  12.160833   \n",
       "2   NaN   NaN   NaN   NaN  ...   NaN   NaN   NaN   NaN  23.700000  23.200000   \n",
       "3   NaN   NaN   NaN   NaN  ...   NaN   NaN   NaN   NaN   6.109380   5.889220   \n",
       "4   NaN   NaN   NaN   NaN  ...   NaN   NaN   NaN   NaN        NaN        NaN   \n",
       "\n",
       "        2022  2023  2024  Unnamed: 69  \n",
       "0        NaN   NaN   NaN          NaN  \n",
       "1  11.881951   NaN   NaN          NaN  \n",
       "2  22.700000   NaN   NaN          NaN  \n",
       "3   5.734154   NaN   NaN          NaN  \n",
       "4        NaN   NaN   NaN          NaN  \n",
       "\n",
       "[5 rows x 70 columns]"
      ]
     },
     "execution_count": 26,
     "metadata": {},
     "output_type": "execute_result"
    }
   ],
   "source": [
    "smoking_df = pd.read_csv('./API_SH.PRV.SMOK_DS2_en_csv_v2_31160.csv', skiprows=4)\n",
    "\n",
    "os.chdir('..')\n",
    "smoking_df.head()"
   ]
  },
  {
   "cell_type": "code",
   "execution_count": 27,
   "metadata": {
    "colab": {},
    "colab_type": "code",
    "id": "wqfNkQuwKGEh"
   },
   "outputs": [],
   "source": [
    "recent_year_columns = [str(year) for year in range(2010, 2020)]\n",
    "\n",
    "smoking_df['CountrySmokingRate'] = smoking_df[recent_year_columns].apply(\n",
    "    lambda row: row[row.last_valid_index()] if row.last_valid_index() else np.nan,\n",
    "    axis='columns'    \n",
    ")"
   ]
  },
  {
   "cell_type": "code",
   "execution_count": 28,
   "metadata": {
    "colab": {
     "base_uri": "https://localhost:8080/",
     "height": 206
    },
    "colab_type": "code",
    "id": "ZEMpoYp5Kqlk",
    "outputId": "d2cb66b5-c5d9-44d3-ed98-5230bf3539cc"
   },
   "outputs": [
    {
     "data": {
      "application/vnd.microsoft.datawrangler.viewer.v0+json": {
       "columns": [
        {
         "name": "index",
         "rawType": "int64",
         "type": "integer"
        },
        {
         "name": "Country Name",
         "rawType": "object",
         "type": "string"
        },
        {
         "name": "CountrySmokingRate",
         "rawType": "float64",
         "type": "float"
        }
       ],
       "ref": "a5d7cb75-87a1-49c7-91e5-aff718b2d4cd",
       "rows": [
        [
         "0",
         "Aruba",
         null
        ],
        [
         "1",
         "Africa Eastern and Southern",
         "14.0961597128605"
        ],
        [
         "2",
         "Afghanistan",
         "26.6"
        ],
        [
         "3",
         "Africa Western and Central",
         "7.35862709966676"
        ],
        [
         "4",
         "Angola",
         null
        ]
       ],
       "shape": {
        "columns": 2,
        "rows": 5
       }
      },
      "text/html": [
       "<div>\n",
       "<style scoped>\n",
       "    .dataframe tbody tr th:only-of-type {\n",
       "        vertical-align: middle;\n",
       "    }\n",
       "\n",
       "    .dataframe tbody tr th {\n",
       "        vertical-align: top;\n",
       "    }\n",
       "\n",
       "    .dataframe thead th {\n",
       "        text-align: right;\n",
       "    }\n",
       "</style>\n",
       "<table border=\"1\" class=\"dataframe\">\n",
       "  <thead>\n",
       "    <tr style=\"text-align: right;\">\n",
       "      <th></th>\n",
       "      <th>Country Name</th>\n",
       "      <th>CountrySmokingRate</th>\n",
       "    </tr>\n",
       "  </thead>\n",
       "  <tbody>\n",
       "    <tr>\n",
       "      <th>0</th>\n",
       "      <td>Aruba</td>\n",
       "      <td>NaN</td>\n",
       "    </tr>\n",
       "    <tr>\n",
       "      <th>1</th>\n",
       "      <td>Africa Eastern and Southern</td>\n",
       "      <td>14.096160</td>\n",
       "    </tr>\n",
       "    <tr>\n",
       "      <th>2</th>\n",
       "      <td>Afghanistan</td>\n",
       "      <td>26.600000</td>\n",
       "    </tr>\n",
       "    <tr>\n",
       "      <th>3</th>\n",
       "      <td>Africa Western and Central</td>\n",
       "      <td>7.358627</td>\n",
       "    </tr>\n",
       "    <tr>\n",
       "      <th>4</th>\n",
       "      <td>Angola</td>\n",
       "      <td>NaN</td>\n",
       "    </tr>\n",
       "  </tbody>\n",
       "</table>\n",
       "</div>"
      ],
      "text/plain": [
       "                  Country Name  CountrySmokingRate\n",
       "0                        Aruba                 NaN\n",
       "1  Africa Eastern and Southern           14.096160\n",
       "2                  Afghanistan           26.600000\n",
       "3   Africa Western and Central            7.358627\n",
       "4                       Angola                 NaN"
      ]
     },
     "execution_count": 28,
     "metadata": {},
     "output_type": "execute_result"
    }
   ],
   "source": [
    "smoking_df = smoking_df[['Country Name', 'CountrySmokingRate']]\n",
    "smoking_df.head()"
   ]
  },
  {
   "cell_type": "code",
   "execution_count": 29,
   "metadata": {
    "colab": {
     "base_uri": "https://localhost:8080/",
     "height": 256
    },
    "colab_type": "code",
    "id": "8Mwoe7nBLIww",
    "outputId": "b3c3ca22-c569-4ea6-e2bf-b493d315909b"
   },
   "outputs": [
    {
     "data": {
      "application/vnd.microsoft.datawrangler.viewer.v0+json": {
       "columns": [
        {
         "name": "index",
         "rawType": "int64",
         "type": "integer"
        },
        {
         "name": "Id",
         "rawType": "float64",
         "type": "float"
        },
        {
         "name": "Province/State",
         "rawType": "object",
         "type": "string"
        },
        {
         "name": "Country/Region",
         "rawType": "object",
         "type": "string"
        },
        {
         "name": "Lat",
         "rawType": "float64",
         "type": "float"
        },
        {
         "name": "Long",
         "rawType": "float64",
         "type": "float"
        },
        {
         "name": "Date",
         "rawType": "datetime64[ns]",
         "type": "datetime"
        },
        {
         "name": "ConfirmedCases",
         "rawType": "float64",
         "type": "float"
        },
        {
         "name": "Fatalities",
         "rawType": "float64",
         "type": "float"
        },
        {
         "name": "ForecastId",
         "rawType": "float64",
         "type": "float"
        },
        {
         "name": "LogNewConfirmedCases",
         "rawType": "float64",
         "type": "float"
        },
        {
         "name": "LogNewConfirmedCases_prev_day_1",
         "rawType": "float64",
         "type": "float"
        },
        {
         "name": "LogNewConfirmedCases_prev_day_2",
         "rawType": "float64",
         "type": "float"
        },
        {
         "name": "LogNewConfirmedCases_prev_day_3",
         "rawType": "float64",
         "type": "float"
        },
        {
         "name": "LogNewConfirmedCases_prev_day_4",
         "rawType": "float64",
         "type": "float"
        },
        {
         "name": "LogNewConfirmedCases_prev_day_5",
         "rawType": "float64",
         "type": "float"
        },
        {
         "name": "LogNewConfirmedCases_prev_day_6",
         "rawType": "float64",
         "type": "float"
        },
        {
         "name": "LogNewConfirmedCases_prev_day_7",
         "rawType": "float64",
         "type": "float"
        },
        {
         "name": "LogNewConfirmedCases_prev_day_8",
         "rawType": "float64",
         "type": "float"
        },
        {
         "name": "LogNewConfirmedCases_prev_day_9",
         "rawType": "float64",
         "type": "float"
        },
        {
         "name": "LogNewConfirmedCases_prev_day_10",
         "rawType": "float64",
         "type": "float"
        },
        {
         "name": "LogNewConfirmedCases_prev_day_11",
         "rawType": "float64",
         "type": "float"
        },
        {
         "name": "LogNewConfirmedCases_prev_day_12",
         "rawType": "float64",
         "type": "float"
        },
        {
         "name": "LogNewConfirmedCases_prev_day_13",
         "rawType": "float64",
         "type": "float"
        },
        {
         "name": "LogNewConfirmedCases_prev_day_14",
         "rawType": "float64",
         "type": "float"
        },
        {
         "name": "LogNewConfirmedCases_prev_day_15",
         "rawType": "float64",
         "type": "float"
        },
        {
         "name": "LogNewConfirmedCases_prev_day_16",
         "rawType": "float64",
         "type": "float"
        },
        {
         "name": "LogNewConfirmedCases_prev_day_17",
         "rawType": "float64",
         "type": "float"
        },
        {
         "name": "LogNewConfirmedCases_prev_day_18",
         "rawType": "float64",
         "type": "float"
        },
        {
         "name": "LogNewConfirmedCases_prev_day_19",
         "rawType": "float64",
         "type": "float"
        },
        {
         "name": "LogNewConfirmedCases_prev_day_20",
         "rawType": "float64",
         "type": "float"
        },
        {
         "name": "LogNewConfirmedCases_prev_day_21",
         "rawType": "float64",
         "type": "float"
        },
        {
         "name": "LogNewConfirmedCases_prev_day_22",
         "rawType": "float64",
         "type": "float"
        },
        {
         "name": "LogNewConfirmedCases_prev_day_23",
         "rawType": "float64",
         "type": "float"
        },
        {
         "name": "LogNewConfirmedCases_prev_day_24",
         "rawType": "float64",
         "type": "float"
        },
        {
         "name": "LogNewConfirmedCases_prev_day_25",
         "rawType": "float64",
         "type": "float"
        },
        {
         "name": "LogNewConfirmedCases_prev_day_26",
         "rawType": "float64",
         "type": "float"
        },
        {
         "name": "LogNewConfirmedCases_prev_day_27",
         "rawType": "float64",
         "type": "float"
        },
        {
         "name": "LogNewConfirmedCases_prev_day_28",
         "rawType": "float64",
         "type": "float"
        },
        {
         "name": "LogNewConfirmedCases_prev_day_29",
         "rawType": "float64",
         "type": "float"
        },
        {
         "name": "LogNewConfirmedCases_prev_day_30",
         "rawType": "float64",
         "type": "float"
        },
        {
         "name": "LogNewFatalities",
         "rawType": "float64",
         "type": "float"
        },
        {
         "name": "LogNewFatalities_prev_day_1",
         "rawType": "float64",
         "type": "float"
        },
        {
         "name": "LogNewFatalities_prev_day_2",
         "rawType": "float64",
         "type": "float"
        },
        {
         "name": "LogNewFatalities_prev_day_3",
         "rawType": "float64",
         "type": "float"
        },
        {
         "name": "LogNewFatalities_prev_day_4",
         "rawType": "float64",
         "type": "float"
        },
        {
         "name": "LogNewFatalities_prev_day_5",
         "rawType": "float64",
         "type": "float"
        },
        {
         "name": "LogNewFatalities_prev_day_6",
         "rawType": "float64",
         "type": "float"
        },
        {
         "name": "LogNewFatalities_prev_day_7",
         "rawType": "float64",
         "type": "float"
        },
        {
         "name": "LogNewFatalities_prev_day_8",
         "rawType": "float64",
         "type": "float"
        },
        {
         "name": "LogNewFatalities_prev_day_9",
         "rawType": "float64",
         "type": "float"
        },
        {
         "name": "LogNewFatalities_prev_day_10",
         "rawType": "float64",
         "type": "float"
        },
        {
         "name": "LogNewFatalities_prev_day_11",
         "rawType": "float64",
         "type": "float"
        },
        {
         "name": "LogNewFatalities_prev_day_12",
         "rawType": "float64",
         "type": "float"
        },
        {
         "name": "LogNewFatalities_prev_day_13",
         "rawType": "float64",
         "type": "float"
        },
        {
         "name": "LogNewFatalities_prev_day_14",
         "rawType": "float64",
         "type": "float"
        },
        {
         "name": "LogNewFatalities_prev_day_15",
         "rawType": "float64",
         "type": "float"
        },
        {
         "name": "LogNewFatalities_prev_day_16",
         "rawType": "float64",
         "type": "float"
        },
        {
         "name": "LogNewFatalities_prev_day_17",
         "rawType": "float64",
         "type": "float"
        },
        {
         "name": "LogNewFatalities_prev_day_18",
         "rawType": "float64",
         "type": "float"
        },
        {
         "name": "LogNewFatalities_prev_day_19",
         "rawType": "float64",
         "type": "float"
        },
        {
         "name": "LogNewFatalities_prev_day_20",
         "rawType": "float64",
         "type": "float"
        },
        {
         "name": "LogNewFatalities_prev_day_21",
         "rawType": "float64",
         "type": "float"
        },
        {
         "name": "LogNewFatalities_prev_day_22",
         "rawType": "float64",
         "type": "float"
        },
        {
         "name": "LogNewFatalities_prev_day_23",
         "rawType": "float64",
         "type": "float"
        },
        {
         "name": "LogNewFatalities_prev_day_24",
         "rawType": "float64",
         "type": "float"
        },
        {
         "name": "LogNewFatalities_prev_day_25",
         "rawType": "float64",
         "type": "float"
        },
        {
         "name": "LogNewFatalities_prev_day_26",
         "rawType": "float64",
         "type": "float"
        },
        {
         "name": "LogNewFatalities_prev_day_27",
         "rawType": "float64",
         "type": "float"
        },
        {
         "name": "LogNewFatalities_prev_day_28",
         "rawType": "float64",
         "type": "float"
        },
        {
         "name": "LogNewFatalities_prev_day_29",
         "rawType": "float64",
         "type": "float"
        },
        {
         "name": "LogNewFatalities_prev_day_30",
         "rawType": "float64",
         "type": "float"
        },
        {
         "name": "Day",
         "rawType": "int32",
         "type": "integer"
        },
        {
         "name": "WeekDay",
         "rawType": "int64",
         "type": "integer"
        },
        {
         "name": "Days_since_ConfirmedCases=1",
         "rawType": "float64",
         "type": "float"
        },
        {
         "name": "Days_since_Fatalities=1",
         "rawType": "float64",
         "type": "float"
        },
        {
         "name": "Days_since_ConfirmedCases=10",
         "rawType": "float64",
         "type": "float"
        },
        {
         "name": "Days_since_Fatalities=10",
         "rawType": "float64",
         "type": "float"
        },
        {
         "name": "Days_since_ConfirmedCases=100",
         "rawType": "float64",
         "type": "float"
        },
        {
         "name": "Days_since_Fatalities=100",
         "rawType": "float64",
         "type": "float"
        },
        {
         "name": "Distance_to_origin",
         "rawType": "float64",
         "type": "float"
        },
        {
         "name": "CountryArea",
         "rawType": "float64",
         "type": "float"
        },
        {
         "name": "CountryPop_0-20",
         "rawType": "float64",
         "type": "float"
        },
        {
         "name": "CountryPop_20-40",
         "rawType": "float64",
         "type": "float"
        },
        {
         "name": "CountryPop_40-60",
         "rawType": "float64",
         "type": "float"
        },
        {
         "name": "CountryPop_60-80",
         "rawType": "float64",
         "type": "float"
        },
        {
         "name": "CountryPop_80+",
         "rawType": "float64",
         "type": "float"
        },
        {
         "name": "CountryPopMale",
         "rawType": "float64",
         "type": "float"
        },
        {
         "name": "CountryPopFemale",
         "rawType": "float64",
         "type": "float"
        },
        {
         "name": "CountryPopTotal",
         "rawType": "float64",
         "type": "float"
        },
        {
         "name": "CountryPopDensity",
         "rawType": "float64",
         "type": "float"
        },
        {
         "name": "CountrySmokingRate",
         "rawType": "float64",
         "type": "float"
        }
       ],
       "ref": "0be6799f-22e7-4b37-adf3-70d61e1ec3f5",
       "rows": [
        [
         "0",
         "1.0",
         "",
         "Afghanistan",
         "33.0",
         "65.0",
         "2020-01-22 00:00:00",
         "0.0",
         "0.0",
         null,
         "0.0",
         null,
         null,
         null,
         null,
         null,
         null,
         null,
         null,
         null,
         null,
         null,
         null,
         null,
         null,
         null,
         null,
         null,
         null,
         null,
         null,
         null,
         null,
         null,
         null,
         null,
         null,
         null,
         null,
         null,
         null,
         "0.0",
         null,
         null,
         null,
         null,
         null,
         null,
         null,
         null,
         null,
         null,
         null,
         null,
         null,
         null,
         null,
         null,
         null,
         null,
         null,
         null,
         null,
         null,
         null,
         null,
         null,
         null,
         null,
         null,
         null,
         null,
         "0",
         "2",
         "-1.0",
         "-1.0",
         "-1.0",
         null,
         null,
         null,
         "4435.23261787452",
         "652230.0",
         "20676.364999999998",
         "11160.511",
         "4620.268",
         "1479.526",
         "105.087",
         "19529.727000000003",
         "18512.030000000002",
         "38041.757000000005",
         "0.058325678058353654",
         "26.6"
        ],
        [
         "1",
         "8185.0",
         "",
         "Cyprus",
         "35.1264",
         "33.4299",
         "2020-01-22 00:00:00",
         "0.0",
         "0.0",
         null,
         "0.0",
         null,
         null,
         null,
         null,
         null,
         null,
         null,
         null,
         null,
         null,
         null,
         null,
         null,
         null,
         null,
         null,
         null,
         null,
         null,
         null,
         null,
         null,
         null,
         null,
         null,
         null,
         null,
         null,
         null,
         null,
         "0.0",
         null,
         null,
         null,
         null,
         null,
         null,
         null,
         null,
         null,
         null,
         null,
         null,
         null,
         null,
         null,
         null,
         null,
         null,
         null,
         null,
         null,
         null,
         null,
         null,
         null,
         null,
         null,
         null,
         null,
         null,
         "0",
         "2",
         "-1.0",
         "-1.0",
         "-1.0",
         null,
         "-1.0",
         null,
         "7177.52919479716",
         "9240.0",
         "275.284",
         "382.653",
         "308.911",
         "193.20200000000003",
         "38.52400000000001",
         "599.297",
         "599.2769999999999",
         "1198.574",
         "0.12971580086580087",
         "37.1"
        ],
        [
         "2",
         "21112.0",
         "Guam",
         "US",
         "13.4443",
         "144.7937",
         "2020-01-22 00:00:00",
         "0.0",
         "0.0",
         null,
         "0.0",
         null,
         null,
         null,
         null,
         null,
         null,
         null,
         null,
         null,
         null,
         null,
         null,
         null,
         null,
         null,
         null,
         null,
         null,
         null,
         null,
         null,
         null,
         null,
         null,
         null,
         null,
         null,
         null,
         null,
         null,
         "0.0",
         null,
         null,
         null,
         null,
         null,
         null,
         null,
         null,
         null,
         null,
         null,
         null,
         null,
         null,
         null,
         null,
         null,
         null,
         null,
         null,
         null,
         null,
         null,
         null,
         null,
         null,
         null,
         null,
         null,
         null,
         "0",
         "2",
         "-1.0",
         "-1.0",
         "-1.0",
         null,
         null,
         null,
         "3851.942688846099",
         "9147420.0",
         "82289.916",
         "90159.134",
         "82846.126",
         "60854.331999999995",
         "12915.409",
         "162826.299",
         "166238.61800000002",
         "329064.917",
         "0.03597352226092166",
         null
        ],
        [
         "3",
         "8278.0",
         "",
         "Czechia",
         "49.8175",
         "15.473",
         "2020-01-22 00:00:00",
         "0.0",
         "0.0",
         null,
         "0.0",
         null,
         null,
         null,
         null,
         null,
         null,
         null,
         null,
         null,
         null,
         null,
         null,
         null,
         null,
         null,
         null,
         null,
         null,
         null,
         null,
         null,
         null,
         null,
         null,
         null,
         null,
         null,
         null,
         null,
         null,
         "0.0",
         null,
         null,
         null,
         null,
         null,
         null,
         null,
         null,
         null,
         null,
         null,
         null,
         null,
         null,
         null,
         null,
         null,
         null,
         null,
         null,
         null,
         null,
         null,
         null,
         null,
         null,
         null,
         null,
         null,
         null,
         "0",
         "2",
         null,
         null,
         null,
         null,
         null,
         null,
         "7897.6240377791955",
         "77205.5",
         "2152.923",
         "2656.34",
         "3107.36",
         "2332.215",
         "440.375",
         "5260.628",
         "5428.585",
         "10689.213",
         "0.13845144452143954",
         "31.4"
        ],
        [
         "4",
         "8371.0",
         "Denmark",
         "Denmark",
         "56.2639",
         "9.5018",
         "2020-01-22 00:00:00",
         "0.0",
         "0.0",
         null,
         "0.0",
         null,
         null,
         null,
         null,
         null,
         null,
         null,
         null,
         null,
         null,
         null,
         null,
         null,
         null,
         null,
         null,
         null,
         null,
         null,
         null,
         null,
         null,
         null,
         null,
         null,
         null,
         null,
         null,
         null,
         null,
         "0.0",
         null,
         null,
         null,
         null,
         null,
         null,
         null,
         null,
         null,
         null,
         null,
         null,
         null,
         null,
         null,
         null,
         null,
         null,
         null,
         null,
         null,
         null,
         null,
         null,
         null,
         null,
         null,
         null,
         null,
         null,
         "0",
         "2",
         "-1.0",
         "-1.0",
         "-1.0",
         "-1.0",
         "-1.0",
         null,
         "7931.069186113015",
         "40000.0",
         "1287.864",
         "1437.566",
         "1556.036",
         "1224.13",
         "266.28099999999995",
         "2869.672",
         "2902.205",
         "5771.877",
         "0.14429692500000002",
         "21.2"
        ]
       ],
       "shape": {
        "columns": 91,
        "rows": 5
       }
      },
      "text/html": [
       "<div>\n",
       "<style scoped>\n",
       "    .dataframe tbody tr th:only-of-type {\n",
       "        vertical-align: middle;\n",
       "    }\n",
       "\n",
       "    .dataframe tbody tr th {\n",
       "        vertical-align: top;\n",
       "    }\n",
       "\n",
       "    .dataframe thead th {\n",
       "        text-align: right;\n",
       "    }\n",
       "</style>\n",
       "<table border=\"1\" class=\"dataframe\">\n",
       "  <thead>\n",
       "    <tr style=\"text-align: right;\">\n",
       "      <th></th>\n",
       "      <th>Id</th>\n",
       "      <th>Province/State</th>\n",
       "      <th>Country/Region</th>\n",
       "      <th>Lat</th>\n",
       "      <th>Long</th>\n",
       "      <th>Date</th>\n",
       "      <th>ConfirmedCases</th>\n",
       "      <th>Fatalities</th>\n",
       "      <th>ForecastId</th>\n",
       "      <th>LogNewConfirmedCases</th>\n",
       "      <th>...</th>\n",
       "      <th>CountryPop_0-20</th>\n",
       "      <th>CountryPop_20-40</th>\n",
       "      <th>CountryPop_40-60</th>\n",
       "      <th>CountryPop_60-80</th>\n",
       "      <th>CountryPop_80+</th>\n",
       "      <th>CountryPopMale</th>\n",
       "      <th>CountryPopFemale</th>\n",
       "      <th>CountryPopTotal</th>\n",
       "      <th>CountryPopDensity</th>\n",
       "      <th>CountrySmokingRate</th>\n",
       "    </tr>\n",
       "  </thead>\n",
       "  <tbody>\n",
       "    <tr>\n",
       "      <th>0</th>\n",
       "      <td>1.0</td>\n",
       "      <td></td>\n",
       "      <td>Afghanistan</td>\n",
       "      <td>33.0000</td>\n",
       "      <td>65.0000</td>\n",
       "      <td>2020-01-22</td>\n",
       "      <td>0.0</td>\n",
       "      <td>0.0</td>\n",
       "      <td>NaN</td>\n",
       "      <td>0.0</td>\n",
       "      <td>...</td>\n",
       "      <td>20676.365</td>\n",
       "      <td>11160.511</td>\n",
       "      <td>4620.268</td>\n",
       "      <td>1479.526</td>\n",
       "      <td>105.087</td>\n",
       "      <td>19529.727</td>\n",
       "      <td>18512.030</td>\n",
       "      <td>38041.757</td>\n",
       "      <td>0.058326</td>\n",
       "      <td>26.6</td>\n",
       "    </tr>\n",
       "    <tr>\n",
       "      <th>1</th>\n",
       "      <td>8185.0</td>\n",
       "      <td></td>\n",
       "      <td>Cyprus</td>\n",
       "      <td>35.1264</td>\n",
       "      <td>33.4299</td>\n",
       "      <td>2020-01-22</td>\n",
       "      <td>0.0</td>\n",
       "      <td>0.0</td>\n",
       "      <td>NaN</td>\n",
       "      <td>0.0</td>\n",
       "      <td>...</td>\n",
       "      <td>275.284</td>\n",
       "      <td>382.653</td>\n",
       "      <td>308.911</td>\n",
       "      <td>193.202</td>\n",
       "      <td>38.524</td>\n",
       "      <td>599.297</td>\n",
       "      <td>599.277</td>\n",
       "      <td>1198.574</td>\n",
       "      <td>0.129716</td>\n",
       "      <td>37.1</td>\n",
       "    </tr>\n",
       "    <tr>\n",
       "      <th>2</th>\n",
       "      <td>21112.0</td>\n",
       "      <td>Guam</td>\n",
       "      <td>US</td>\n",
       "      <td>13.4443</td>\n",
       "      <td>144.7937</td>\n",
       "      <td>2020-01-22</td>\n",
       "      <td>0.0</td>\n",
       "      <td>0.0</td>\n",
       "      <td>NaN</td>\n",
       "      <td>0.0</td>\n",
       "      <td>...</td>\n",
       "      <td>82289.916</td>\n",
       "      <td>90159.134</td>\n",
       "      <td>82846.126</td>\n",
       "      <td>60854.332</td>\n",
       "      <td>12915.409</td>\n",
       "      <td>162826.299</td>\n",
       "      <td>166238.618</td>\n",
       "      <td>329064.917</td>\n",
       "      <td>0.035974</td>\n",
       "      <td>NaN</td>\n",
       "    </tr>\n",
       "    <tr>\n",
       "      <th>3</th>\n",
       "      <td>8278.0</td>\n",
       "      <td></td>\n",
       "      <td>Czechia</td>\n",
       "      <td>49.8175</td>\n",
       "      <td>15.4730</td>\n",
       "      <td>2020-01-22</td>\n",
       "      <td>0.0</td>\n",
       "      <td>0.0</td>\n",
       "      <td>NaN</td>\n",
       "      <td>0.0</td>\n",
       "      <td>...</td>\n",
       "      <td>2152.923</td>\n",
       "      <td>2656.340</td>\n",
       "      <td>3107.360</td>\n",
       "      <td>2332.215</td>\n",
       "      <td>440.375</td>\n",
       "      <td>5260.628</td>\n",
       "      <td>5428.585</td>\n",
       "      <td>10689.213</td>\n",
       "      <td>0.138451</td>\n",
       "      <td>31.4</td>\n",
       "    </tr>\n",
       "    <tr>\n",
       "      <th>4</th>\n",
       "      <td>8371.0</td>\n",
       "      <td>Denmark</td>\n",
       "      <td>Denmark</td>\n",
       "      <td>56.2639</td>\n",
       "      <td>9.5018</td>\n",
       "      <td>2020-01-22</td>\n",
       "      <td>0.0</td>\n",
       "      <td>0.0</td>\n",
       "      <td>NaN</td>\n",
       "      <td>0.0</td>\n",
       "      <td>...</td>\n",
       "      <td>1287.864</td>\n",
       "      <td>1437.566</td>\n",
       "      <td>1556.036</td>\n",
       "      <td>1224.130</td>\n",
       "      <td>266.281</td>\n",
       "      <td>2869.672</td>\n",
       "      <td>2902.205</td>\n",
       "      <td>5771.877</td>\n",
       "      <td>0.144297</td>\n",
       "      <td>21.2</td>\n",
       "    </tr>\n",
       "  </tbody>\n",
       "</table>\n",
       "<p>5 rows × 91 columns</p>\n",
       "</div>"
      ],
      "text/plain": [
       "        Id Province/State Country/Region      Lat      Long       Date  \\\n",
       "0      1.0                   Afghanistan  33.0000   65.0000 2020-01-22   \n",
       "1   8185.0                        Cyprus  35.1264   33.4299 2020-01-22   \n",
       "2  21112.0           Guam             US  13.4443  144.7937 2020-01-22   \n",
       "3   8278.0                       Czechia  49.8175   15.4730 2020-01-22   \n",
       "4   8371.0        Denmark        Denmark  56.2639    9.5018 2020-01-22   \n",
       "\n",
       "   ConfirmedCases  Fatalities  ForecastId  LogNewConfirmedCases  ...  \\\n",
       "0             0.0         0.0         NaN                   0.0  ...   \n",
       "1             0.0         0.0         NaN                   0.0  ...   \n",
       "2             0.0         0.0         NaN                   0.0  ...   \n",
       "3             0.0         0.0         NaN                   0.0  ...   \n",
       "4             0.0         0.0         NaN                   0.0  ...   \n",
       "\n",
       "   CountryPop_0-20  CountryPop_20-40  CountryPop_40-60  CountryPop_60-80  \\\n",
       "0        20676.365         11160.511          4620.268          1479.526   \n",
       "1          275.284           382.653           308.911           193.202   \n",
       "2        82289.916         90159.134         82846.126         60854.332   \n",
       "3         2152.923          2656.340          3107.360          2332.215   \n",
       "4         1287.864          1437.566          1556.036          1224.130   \n",
       "\n",
       "   CountryPop_80+  CountryPopMale  CountryPopFemale  CountryPopTotal  \\\n",
       "0         105.087       19529.727         18512.030        38041.757   \n",
       "1          38.524         599.297           599.277         1198.574   \n",
       "2       12915.409      162826.299        166238.618       329064.917   \n",
       "3         440.375        5260.628          5428.585        10689.213   \n",
       "4         266.281        2869.672          2902.205         5771.877   \n",
       "\n",
       "   CountryPopDensity  CountrySmokingRate  \n",
       "0           0.058326                26.6  \n",
       "1           0.129716                37.1  \n",
       "2           0.035974                 NaN  \n",
       "3           0.138451                31.4  \n",
       "4           0.144297                21.2  \n",
       "\n",
       "[5 rows x 91 columns]"
      ]
     },
     "execution_count": 29,
     "metadata": {},
     "output_type": "execute_result"
    }
   ],
   "source": [
    "main_df = merge_with_column_drop(\n",
    "    main_df,\n",
    "    smoking_df,\n",
    "    right_df_column='Country Name'\n",
    ")\n",
    "main_df.head()"
   ]
  },
  {
   "cell_type": "markdown",
   "metadata": {
    "colab_type": "text",
    "id": "xQFM8KLBLr4N"
   },
   "source": [
    "### Country hospital beds per 1000 people\n"
   ]
  },
  {
   "cell_type": "code",
   "execution_count": 30,
   "metadata": {
    "colab": {
     "base_uri": "https://localhost:8080/",
     "height": 394
    },
    "colab_type": "code",
    "id": "6qWbXPD1L-x1",
    "outputId": "3814a0f4-625e-4674-fc63-e58ad9cd2373"
   },
   "outputs": [
    {
     "name": "stdout",
     "output_type": "stream",
     "text": [
      "Downloading hospital_beds.zip...\n",
      "Download complete.\n",
      "Extracted: Metadata_Indicator_API_SH.MED.BEDS.ZS_DS2_en_csv_v2_23583.csv\n",
      "Extracted: API_SH.MED.BEDS.ZS_DS2_en_csv_v2_23583.csv\n",
      "Extracted: Metadata_Country_API_SH.MED.BEDS.ZS_DS2_en_csv_v2_23583.csv\n",
      "\n",
      "Directory contents:\n",
      "API_SH.MED.BEDS.ZS_DS2_en_csv_v2_23583.csv\n",
      "hospital_beds.zip\n",
      "Metadata_Country_API_SH.MED.BEDS.ZS_DS2_en_csv_v2_23583.csv\n",
      "Metadata_Indicator_API_SH.MED.BEDS.ZS_DS2_en_csv_v2_23583.csv\n"
     ]
    }
   ],
   "source": [
    "import os\n",
    "import urllib.request\n",
    "import zipfile\n",
    "\n",
    "# Create and enter directory\n",
    "dir_name = 'hospital_beds'\n",
    "os.makedirs(dir_name, exist_ok=True)\n",
    "os.chdir(dir_name)\n",
    "\n",
    "# Download URL and local filename\n",
    "url = 'http://api.worldbank.org/v2/en/indicator/SH.MED.BEDS.ZS?downloadformat=csv'\n",
    "zip_filename = 'hospital_beds.zip'\n",
    "\n",
    "# Download file if not already downloaded\n",
    "if not os.path.exists(zip_filename):\n",
    "    print(f\"Downloading {zip_filename}...\")\n",
    "    urllib.request.urlretrieve(url, zip_filename)\n",
    "    print(\"Download complete.\")\n",
    "else:\n",
    "    print(f\"{zip_filename} already exists, skipping download.\")\n",
    "\n",
    "# Extract files without overwriting\n",
    "with zipfile.ZipFile(zip_filename, 'r') as zip_ref:\n",
    "    for file in zip_ref.namelist():\n",
    "        if not os.path.exists(file):\n",
    "            zip_ref.extract(file)\n",
    "            print(f\"Extracted: {file}\")\n",
    "        else:\n",
    "            print(f\"Skipped (already exists): {file}\")\n",
    "\n",
    "# List files\n",
    "print(\"\\nDirectory contents:\")\n",
    "for f in os.listdir('.'):\n",
    "    print(f)\n"
   ]
  },
  {
   "cell_type": "code",
   "execution_count": null,
   "metadata": {
    "colab": {
     "base_uri": "https://localhost:8080/",
     "height": 504
    },
    "colab_type": "code",
    "id": "aAuW8w8uMWtD",
    "outputId": "7330f061-777c-4f41-8995-a8faae3b2332"
   },
   "outputs": [
    {
     "name": "stdout",
     "output_type": "stream",
     "text": [
      "Data loaded: unknown shape\n"
     ]
    },
    {
     "data": {
      "application/vnd.microsoft.datawrangler.viewer.v0+json": {
       "columns": [
        {
         "name": "index",
         "rawType": "int64",
         "type": "integer"
        },
        {
         "name": "Country Name",
         "rawType": "object",
         "type": "string"
        },
        {
         "name": "Country Code",
         "rawType": "object",
         "type": "string"
        },
        {
         "name": "Indicator Name",
         "rawType": "object",
         "type": "string"
        },
        {
         "name": "Indicator Code",
         "rawType": "object",
         "type": "string"
        },
        {
         "name": "1960",
         "rawType": "float64",
         "type": "float"
        },
        {
         "name": "1961",
         "rawType": "float64",
         "type": "float"
        },
        {
         "name": "1962",
         "rawType": "float64",
         "type": "float"
        },
        {
         "name": "1963",
         "rawType": "float64",
         "type": "float"
        },
        {
         "name": "1964",
         "rawType": "float64",
         "type": "float"
        },
        {
         "name": "1965",
         "rawType": "float64",
         "type": "float"
        },
        {
         "name": "1966",
         "rawType": "float64",
         "type": "float"
        },
        {
         "name": "1967",
         "rawType": "float64",
         "type": "float"
        },
        {
         "name": "1968",
         "rawType": "float64",
         "type": "float"
        },
        {
         "name": "1969",
         "rawType": "float64",
         "type": "float"
        },
        {
         "name": "1970",
         "rawType": "float64",
         "type": "float"
        },
        {
         "name": "1971",
         "rawType": "float64",
         "type": "float"
        },
        {
         "name": "1972",
         "rawType": "float64",
         "type": "float"
        },
        {
         "name": "1973",
         "rawType": "float64",
         "type": "float"
        },
        {
         "name": "1974",
         "rawType": "float64",
         "type": "float"
        },
        {
         "name": "1975",
         "rawType": "float64",
         "type": "float"
        },
        {
         "name": "1976",
         "rawType": "float64",
         "type": "float"
        },
        {
         "name": "1977",
         "rawType": "float64",
         "type": "float"
        },
        {
         "name": "1978",
         "rawType": "float64",
         "type": "float"
        },
        {
         "name": "1979",
         "rawType": "float64",
         "type": "float"
        },
        {
         "name": "1980",
         "rawType": "float64",
         "type": "float"
        },
        {
         "name": "1981",
         "rawType": "float64",
         "type": "float"
        },
        {
         "name": "1982",
         "rawType": "float64",
         "type": "float"
        },
        {
         "name": "1983",
         "rawType": "float64",
         "type": "float"
        },
        {
         "name": "1984",
         "rawType": "float64",
         "type": "float"
        },
        {
         "name": "1985",
         "rawType": "float64",
         "type": "float"
        },
        {
         "name": "1986",
         "rawType": "float64",
         "type": "float"
        },
        {
         "name": "1987",
         "rawType": "float64",
         "type": "float"
        },
        {
         "name": "1988",
         "rawType": "float64",
         "type": "float"
        },
        {
         "name": "1989",
         "rawType": "float64",
         "type": "float"
        },
        {
         "name": "1990",
         "rawType": "float64",
         "type": "float"
        },
        {
         "name": "1991",
         "rawType": "float64",
         "type": "float"
        },
        {
         "name": "1992",
         "rawType": "float64",
         "type": "float"
        },
        {
         "name": "1993",
         "rawType": "float64",
         "type": "float"
        },
        {
         "name": "1994",
         "rawType": "float64",
         "type": "float"
        },
        {
         "name": "1995",
         "rawType": "float64",
         "type": "float"
        },
        {
         "name": "1996",
         "rawType": "float64",
         "type": "float"
        },
        {
         "name": "1997",
         "rawType": "float64",
         "type": "float"
        },
        {
         "name": "1998",
         "rawType": "float64",
         "type": "float"
        },
        {
         "name": "1999",
         "rawType": "float64",
         "type": "float"
        },
        {
         "name": "2000",
         "rawType": "float64",
         "type": "float"
        },
        {
         "name": "2001",
         "rawType": "float64",
         "type": "float"
        },
        {
         "name": "2002",
         "rawType": "float64",
         "type": "float"
        },
        {
         "name": "2003",
         "rawType": "float64",
         "type": "float"
        },
        {
         "name": "2004",
         "rawType": "float64",
         "type": "float"
        },
        {
         "name": "2005",
         "rawType": "float64",
         "type": "float"
        },
        {
         "name": "2006",
         "rawType": "float64",
         "type": "float"
        },
        {
         "name": "2007",
         "rawType": "float64",
         "type": "float"
        },
        {
         "name": "2008",
         "rawType": "float64",
         "type": "float"
        },
        {
         "name": "2009",
         "rawType": "float64",
         "type": "float"
        },
        {
         "name": "2010",
         "rawType": "float64",
         "type": "float"
        },
        {
         "name": "2011",
         "rawType": "float64",
         "type": "float"
        },
        {
         "name": "2012",
         "rawType": "float64",
         "type": "float"
        },
        {
         "name": "2013",
         "rawType": "float64",
         "type": "float"
        },
        {
         "name": "2014",
         "rawType": "float64",
         "type": "float"
        },
        {
         "name": "2015",
         "rawType": "float64",
         "type": "float"
        },
        {
         "name": "2016",
         "rawType": "float64",
         "type": "float"
        },
        {
         "name": "2017",
         "rawType": "float64",
         "type": "float"
        },
        {
         "name": "2018",
         "rawType": "float64",
         "type": "float"
        },
        {
         "name": "2019",
         "rawType": "float64",
         "type": "float"
        },
        {
         "name": "2020",
         "rawType": "float64",
         "type": "float"
        },
        {
         "name": "2021",
         "rawType": "float64",
         "type": "float"
        },
        {
         "name": "2022",
         "rawType": "float64",
         "type": "float"
        },
        {
         "name": "2023",
         "rawType": "float64",
         "type": "float"
        },
        {
         "name": "2024",
         "rawType": "float64",
         "type": "float"
        },
        {
         "name": "Unnamed: 69",
         "rawType": "float64",
         "type": "float"
        }
       ],
       "ref": "486991f9-d0e5-447b-b980-595f3986baea",
       "rows": [
        [
         "0",
         "Aruba",
         "ABW",
         "Hospital beds (per 1,000 people)",
         "SH.MED.BEDS.ZS",
         null,
         null,
         null,
         null,
         null,
         null,
         null,
         null,
         null,
         null,
         null,
         null,
         null,
         null,
         null,
         null,
         null,
         null,
         null,
         null,
         null,
         null,
         null,
         null,
         null,
         null,
         null,
         null,
         null,
         null,
         null,
         null,
         null,
         null,
         null,
         null,
         null,
         null,
         null,
         null,
         null,
         null,
         null,
         null,
         null,
         null,
         null,
         null,
         null,
         null,
         null,
         null,
         null,
         null,
         null,
         null,
         null,
         null,
         null,
         null,
         null,
         null,
         null,
         null,
         null,
         null
        ],
        [
         "1",
         "Africa Eastern and Southern",
         "AFE",
         "Hospital beds (per 1,000 people)",
         "SH.MED.BEDS.ZS",
         "1.97338348471491",
         null,
         null,
         null,
         null,
         null,
         null,
         null,
         null,
         null,
         "1.72594204776273",
         null,
         null,
         null,
         null,
         null,
         null,
         null,
         null,
         null,
         null,
         null,
         null,
         null,
         null,
         null,
         null,
         null,
         null,
         null,
         "1.01187679426614",
         null,
         null,
         null,
         null,
         null,
         null,
         null,
         null,
         null,
         null,
         null,
         null,
         null,
         null,
         null,
         "0.894870706946066",
         null,
         null,
         null,
         null,
         null,
         null,
         null,
         null,
         null,
         null,
         null,
         null,
         null,
         null,
         null,
         null,
         null,
         null,
         null
        ],
        [
         "2",
         "Afghanistan",
         "AFG",
         "Hospital beds (per 1,000 people)",
         "SH.MED.BEDS.ZS",
         "0.170626997947693",
         null,
         null,
         null,
         null,
         null,
         null,
         null,
         null,
         null,
         "0.199000000953674",
         null,
         null,
         null,
         null,
         null,
         null,
         null,
         null,
         null,
         null,
         "0.275599986314774",
         null,
         null,
         null,
         null,
         null,
         "0.3091000020504",
         null,
         null,
         "0.2497999966",
         null,
         null,
         null,
         null,
         null,
         null,
         null,
         null,
         null,
         "0.3",
         "0.39",
         "0.39",
         "0.39",
         "0.39",
         "0.42",
         "0.42",
         "0.42",
         "0.42",
         "0.42",
         "0.43",
         "0.45",
         "0.47",
         "0.46",
         "0.46",
         "0.44",
         "0.45",
         "0.42",
         "0.4",
         "0.38",
         "0.34",
         "0.36",
         null,
         null,
         null,
         null
        ],
        [
         "3",
         "Africa Western and Central",
         "AFW",
         "Hospital beds (per 1,000 people)",
         "SH.MED.BEDS.ZS",
         "0.786552156401981",
         null,
         null,
         null,
         null,
         null,
         null,
         null,
         null,
         null,
         "0.974116501505531",
         null,
         null,
         null,
         null,
         "0.843071898276109",
         null,
         null,
         null,
         null,
         null,
         null,
         null,
         null,
         null,
         null,
         null,
         null,
         null,
         null,
         "1.46879428524072",
         null,
         null,
         null,
         null,
         null,
         null,
         null,
         null,
         null,
         null,
         null,
         null,
         null,
         null,
         null,
         null,
         null,
         null,
         null,
         null,
         null,
         null,
         null,
         null,
         null,
         null,
         null,
         null,
         null,
         null,
         null,
         null,
         null,
         null,
         null
        ],
        [
         "4",
         "Angola",
         "AGO",
         "Hospital beds (per 1,000 people)",
         "SH.MED.BEDS.ZS",
         "2.06146168708801",
         null,
         null,
         null,
         null,
         null,
         null,
         null,
         null,
         null,
         "2.72099995613098",
         null,
         null,
         null,
         null,
         null,
         null,
         null,
         null,
         null,
         null,
         null,
         null,
         null,
         null,
         null,
         null,
         null,
         null,
         null,
         "1.2913000584",
         null,
         null,
         null,
         null,
         null,
         null,
         null,
         null,
         null,
         null,
         null,
         null,
         null,
         null,
         "0.8",
         null,
         null,
         null,
         null,
         null,
         null,
         null,
         null,
         null,
         null,
         null,
         null,
         null,
         "0.75",
         null,
         null,
         null,
         null,
         null,
         null
        ]
       ],
       "shape": {
        "columns": 70,
        "rows": 5
       }
      },
      "text/html": [
       "<div>\n",
       "<style scoped>\n",
       "    .dataframe tbody tr th:only-of-type {\n",
       "        vertical-align: middle;\n",
       "    }\n",
       "\n",
       "    .dataframe tbody tr th {\n",
       "        vertical-align: top;\n",
       "    }\n",
       "\n",
       "    .dataframe thead th {\n",
       "        text-align: right;\n",
       "    }\n",
       "</style>\n",
       "<table border=\"1\" class=\"dataframe\">\n",
       "  <thead>\n",
       "    <tr style=\"text-align: right;\">\n",
       "      <th></th>\n",
       "      <th>Country Name</th>\n",
       "      <th>Country Code</th>\n",
       "      <th>Indicator Name</th>\n",
       "      <th>Indicator Code</th>\n",
       "      <th>1960</th>\n",
       "      <th>1961</th>\n",
       "      <th>1962</th>\n",
       "      <th>1963</th>\n",
       "      <th>1964</th>\n",
       "      <th>1965</th>\n",
       "      <th>...</th>\n",
       "      <th>2016</th>\n",
       "      <th>2017</th>\n",
       "      <th>2018</th>\n",
       "      <th>2019</th>\n",
       "      <th>2020</th>\n",
       "      <th>2021</th>\n",
       "      <th>2022</th>\n",
       "      <th>2023</th>\n",
       "      <th>2024</th>\n",
       "      <th>Unnamed: 69</th>\n",
       "    </tr>\n",
       "  </thead>\n",
       "  <tbody>\n",
       "    <tr>\n",
       "      <th>0</th>\n",
       "      <td>Aruba</td>\n",
       "      <td>ABW</td>\n",
       "      <td>Hospital beds (per 1,000 people)</td>\n",
       "      <td>SH.MED.BEDS.ZS</td>\n",
       "      <td>NaN</td>\n",
       "      <td>NaN</td>\n",
       "      <td>NaN</td>\n",
       "      <td>NaN</td>\n",
       "      <td>NaN</td>\n",
       "      <td>NaN</td>\n",
       "      <td>...</td>\n",
       "      <td>NaN</td>\n",
       "      <td>NaN</td>\n",
       "      <td>NaN</td>\n",
       "      <td>NaN</td>\n",
       "      <td>NaN</td>\n",
       "      <td>NaN</td>\n",
       "      <td>NaN</td>\n",
       "      <td>NaN</td>\n",
       "      <td>NaN</td>\n",
       "      <td>NaN</td>\n",
       "    </tr>\n",
       "    <tr>\n",
       "      <th>1</th>\n",
       "      <td>Africa Eastern and Southern</td>\n",
       "      <td>AFE</td>\n",
       "      <td>Hospital beds (per 1,000 people)</td>\n",
       "      <td>SH.MED.BEDS.ZS</td>\n",
       "      <td>1.973383</td>\n",
       "      <td>NaN</td>\n",
       "      <td>NaN</td>\n",
       "      <td>NaN</td>\n",
       "      <td>NaN</td>\n",
       "      <td>NaN</td>\n",
       "      <td>...</td>\n",
       "      <td>NaN</td>\n",
       "      <td>NaN</td>\n",
       "      <td>NaN</td>\n",
       "      <td>NaN</td>\n",
       "      <td>NaN</td>\n",
       "      <td>NaN</td>\n",
       "      <td>NaN</td>\n",
       "      <td>NaN</td>\n",
       "      <td>NaN</td>\n",
       "      <td>NaN</td>\n",
       "    </tr>\n",
       "    <tr>\n",
       "      <th>2</th>\n",
       "      <td>Afghanistan</td>\n",
       "      <td>AFG</td>\n",
       "      <td>Hospital beds (per 1,000 people)</td>\n",
       "      <td>SH.MED.BEDS.ZS</td>\n",
       "      <td>0.170627</td>\n",
       "      <td>NaN</td>\n",
       "      <td>NaN</td>\n",
       "      <td>NaN</td>\n",
       "      <td>NaN</td>\n",
       "      <td>NaN</td>\n",
       "      <td>...</td>\n",
       "      <td>0.45</td>\n",
       "      <td>0.42</td>\n",
       "      <td>0.4</td>\n",
       "      <td>0.38</td>\n",
       "      <td>0.34</td>\n",
       "      <td>0.36</td>\n",
       "      <td>NaN</td>\n",
       "      <td>NaN</td>\n",
       "      <td>NaN</td>\n",
       "      <td>NaN</td>\n",
       "    </tr>\n",
       "    <tr>\n",
       "      <th>3</th>\n",
       "      <td>Africa Western and Central</td>\n",
       "      <td>AFW</td>\n",
       "      <td>Hospital beds (per 1,000 people)</td>\n",
       "      <td>SH.MED.BEDS.ZS</td>\n",
       "      <td>0.786552</td>\n",
       "      <td>NaN</td>\n",
       "      <td>NaN</td>\n",
       "      <td>NaN</td>\n",
       "      <td>NaN</td>\n",
       "      <td>NaN</td>\n",
       "      <td>...</td>\n",
       "      <td>NaN</td>\n",
       "      <td>NaN</td>\n",
       "      <td>NaN</td>\n",
       "      <td>NaN</td>\n",
       "      <td>NaN</td>\n",
       "      <td>NaN</td>\n",
       "      <td>NaN</td>\n",
       "      <td>NaN</td>\n",
       "      <td>NaN</td>\n",
       "      <td>NaN</td>\n",
       "    </tr>\n",
       "    <tr>\n",
       "      <th>4</th>\n",
       "      <td>Angola</td>\n",
       "      <td>AGO</td>\n",
       "      <td>Hospital beds (per 1,000 people)</td>\n",
       "      <td>SH.MED.BEDS.ZS</td>\n",
       "      <td>2.061462</td>\n",
       "      <td>NaN</td>\n",
       "      <td>NaN</td>\n",
       "      <td>NaN</td>\n",
       "      <td>NaN</td>\n",
       "      <td>NaN</td>\n",
       "      <td>...</td>\n",
       "      <td>NaN</td>\n",
       "      <td>NaN</td>\n",
       "      <td>NaN</td>\n",
       "      <td>0.75</td>\n",
       "      <td>NaN</td>\n",
       "      <td>NaN</td>\n",
       "      <td>NaN</td>\n",
       "      <td>NaN</td>\n",
       "      <td>NaN</td>\n",
       "      <td>NaN</td>\n",
       "    </tr>\n",
       "  </tbody>\n",
       "</table>\n",
       "<p>5 rows × 70 columns</p>\n",
       "</div>"
      ],
      "text/plain": [
       "                  Country Name Country Code                    Indicator Name  \\\n",
       "0                        Aruba          ABW  Hospital beds (per 1,000 people)   \n",
       "1  Africa Eastern and Southern          AFE  Hospital beds (per 1,000 people)   \n",
       "2                  Afghanistan          AFG  Hospital beds (per 1,000 people)   \n",
       "3   Africa Western and Central          AFW  Hospital beds (per 1,000 people)   \n",
       "4                       Angola          AGO  Hospital beds (per 1,000 people)   \n",
       "\n",
       "   Indicator Code      1960  1961  1962  1963  1964  1965  ...  2016  2017  \\\n",
       "0  SH.MED.BEDS.ZS       NaN   NaN   NaN   NaN   NaN   NaN  ...   NaN   NaN   \n",
       "1  SH.MED.BEDS.ZS  1.973383   NaN   NaN   NaN   NaN   NaN  ...   NaN   NaN   \n",
       "2  SH.MED.BEDS.ZS  0.170627   NaN   NaN   NaN   NaN   NaN  ...  0.45  0.42   \n",
       "3  SH.MED.BEDS.ZS  0.786552   NaN   NaN   NaN   NaN   NaN  ...   NaN   NaN   \n",
       "4  SH.MED.BEDS.ZS  2.061462   NaN   NaN   NaN   NaN   NaN  ...   NaN   NaN   \n",
       "\n",
       "   2018  2019  2020  2021  2022  2023  2024  Unnamed: 69  \n",
       "0   NaN   NaN   NaN   NaN   NaN   NaN   NaN          NaN  \n",
       "1   NaN   NaN   NaN   NaN   NaN   NaN   NaN          NaN  \n",
       "2   0.4  0.38  0.34  0.36   NaN   NaN   NaN          NaN  \n",
       "3   NaN   NaN   NaN   NaN   NaN   NaN   NaN          NaN  \n",
       "4   NaN  0.75   NaN   NaN   NaN   NaN   NaN          NaN  \n",
       "\n",
       "[5 rows x 70 columns]"
      ]
     },
     "execution_count": 31,
     "metadata": {},
     "output_type": "execute_result"
    }
   ],
   "source": [
    "hospital_beds_df = pd.read_csv('./API_SH.MED.BEDS.ZS_DS2_en_csv_v2_23583.csv', skiprows=4)\n",
    "\n",
    "os.chdir('..')\n",
    "hospital_beds_df.head()"
   ]
  },
  {
   "cell_type": "code",
   "execution_count": 32,
   "metadata": {
    "colab": {},
    "colab_type": "code",
    "id": "yZdsXWNyNmxu"
   },
   "outputs": [],
   "source": [
    "recent_year_columns = [str(year) for year in range(2010, 2020)]\n",
    "\n",
    "hospital_beds_df['CountryHospitalBedsRate'] = hospital_beds_df[recent_year_columns].apply(\n",
    "    lambda row: row[row.last_valid_index()] if row.last_valid_index() else np.nan,\n",
    "    axis='columns'    \n",
    ")"
   ]
  },
  {
   "cell_type": "code",
   "execution_count": 33,
   "metadata": {
    "colab": {
     "base_uri": "https://localhost:8080/",
     "height": 206
    },
    "colab_type": "code",
    "id": "UHbZLDwaN95b",
    "outputId": "d91e568a-41b6-4e82-dbca-53d03cc0f101"
   },
   "outputs": [
    {
     "data": {
      "application/vnd.microsoft.datawrangler.viewer.v0+json": {
       "columns": [
        {
         "name": "index",
         "rawType": "int64",
         "type": "integer"
        },
        {
         "name": "Country Name",
         "rawType": "object",
         "type": "string"
        },
        {
         "name": "CountryHospitalBedsRate",
         "rawType": "float64",
         "type": "float"
        }
       ],
       "ref": "b6fae183-69af-46fa-9036-1e8d72d3c757",
       "rows": [
        [
         "0",
         "Aruba",
         null
        ],
        [
         "1",
         "Africa Eastern and Southern",
         null
        ],
        [
         "2",
         "Afghanistan",
         "0.38"
        ],
        [
         "3",
         "Africa Western and Central",
         null
        ],
        [
         "4",
         "Angola",
         "0.75"
        ]
       ],
       "shape": {
        "columns": 2,
        "rows": 5
       }
      },
      "text/html": [
       "<div>\n",
       "<style scoped>\n",
       "    .dataframe tbody tr th:only-of-type {\n",
       "        vertical-align: middle;\n",
       "    }\n",
       "\n",
       "    .dataframe tbody tr th {\n",
       "        vertical-align: top;\n",
       "    }\n",
       "\n",
       "    .dataframe thead th {\n",
       "        text-align: right;\n",
       "    }\n",
       "</style>\n",
       "<table border=\"1\" class=\"dataframe\">\n",
       "  <thead>\n",
       "    <tr style=\"text-align: right;\">\n",
       "      <th></th>\n",
       "      <th>Country Name</th>\n",
       "      <th>CountryHospitalBedsRate</th>\n",
       "    </tr>\n",
       "  </thead>\n",
       "  <tbody>\n",
       "    <tr>\n",
       "      <th>0</th>\n",
       "      <td>Aruba</td>\n",
       "      <td>NaN</td>\n",
       "    </tr>\n",
       "    <tr>\n",
       "      <th>1</th>\n",
       "      <td>Africa Eastern and Southern</td>\n",
       "      <td>NaN</td>\n",
       "    </tr>\n",
       "    <tr>\n",
       "      <th>2</th>\n",
       "      <td>Afghanistan</td>\n",
       "      <td>0.38</td>\n",
       "    </tr>\n",
       "    <tr>\n",
       "      <th>3</th>\n",
       "      <td>Africa Western and Central</td>\n",
       "      <td>NaN</td>\n",
       "    </tr>\n",
       "    <tr>\n",
       "      <th>4</th>\n",
       "      <td>Angola</td>\n",
       "      <td>0.75</td>\n",
       "    </tr>\n",
       "  </tbody>\n",
       "</table>\n",
       "</div>"
      ],
      "text/plain": [
       "                  Country Name  CountryHospitalBedsRate\n",
       "0                        Aruba                      NaN\n",
       "1  Africa Eastern and Southern                      NaN\n",
       "2                  Afghanistan                     0.38\n",
       "3   Africa Western and Central                      NaN\n",
       "4                       Angola                     0.75"
      ]
     },
     "execution_count": 33,
     "metadata": {},
     "output_type": "execute_result"
    }
   ],
   "source": [
    "hospital_beds_df = hospital_beds_df[['Country Name', 'CountryHospitalBedsRate']]\n",
    "hospital_beds_df.head()"
   ]
  },
  {
   "cell_type": "code",
   "execution_count": 34,
   "metadata": {
    "colab": {
     "base_uri": "https://localhost:8080/",
     "height": 256
    },
    "colab_type": "code",
    "id": "l2EcWbVOONxU",
    "outputId": "7ac77b77-8e07-4674-a265-5ab10cde2594"
   },
   "outputs": [
    {
     "data": {
      "application/vnd.microsoft.datawrangler.viewer.v0+json": {
       "columns": [
        {
         "name": "index",
         "rawType": "int64",
         "type": "integer"
        },
        {
         "name": "Id",
         "rawType": "float64",
         "type": "float"
        },
        {
         "name": "Province/State",
         "rawType": "object",
         "type": "string"
        },
        {
         "name": "Country/Region",
         "rawType": "object",
         "type": "string"
        },
        {
         "name": "Lat",
         "rawType": "float64",
         "type": "float"
        },
        {
         "name": "Long",
         "rawType": "float64",
         "type": "float"
        },
        {
         "name": "Date",
         "rawType": "datetime64[ns]",
         "type": "datetime"
        },
        {
         "name": "ConfirmedCases",
         "rawType": "float64",
         "type": "float"
        },
        {
         "name": "Fatalities",
         "rawType": "float64",
         "type": "float"
        },
        {
         "name": "ForecastId",
         "rawType": "float64",
         "type": "float"
        },
        {
         "name": "LogNewConfirmedCases",
         "rawType": "float64",
         "type": "float"
        },
        {
         "name": "LogNewConfirmedCases_prev_day_1",
         "rawType": "float64",
         "type": "float"
        },
        {
         "name": "LogNewConfirmedCases_prev_day_2",
         "rawType": "float64",
         "type": "float"
        },
        {
         "name": "LogNewConfirmedCases_prev_day_3",
         "rawType": "float64",
         "type": "float"
        },
        {
         "name": "LogNewConfirmedCases_prev_day_4",
         "rawType": "float64",
         "type": "float"
        },
        {
         "name": "LogNewConfirmedCases_prev_day_5",
         "rawType": "float64",
         "type": "float"
        },
        {
         "name": "LogNewConfirmedCases_prev_day_6",
         "rawType": "float64",
         "type": "float"
        },
        {
         "name": "LogNewConfirmedCases_prev_day_7",
         "rawType": "float64",
         "type": "float"
        },
        {
         "name": "LogNewConfirmedCases_prev_day_8",
         "rawType": "float64",
         "type": "float"
        },
        {
         "name": "LogNewConfirmedCases_prev_day_9",
         "rawType": "float64",
         "type": "float"
        },
        {
         "name": "LogNewConfirmedCases_prev_day_10",
         "rawType": "float64",
         "type": "float"
        },
        {
         "name": "LogNewConfirmedCases_prev_day_11",
         "rawType": "float64",
         "type": "float"
        },
        {
         "name": "LogNewConfirmedCases_prev_day_12",
         "rawType": "float64",
         "type": "float"
        },
        {
         "name": "LogNewConfirmedCases_prev_day_13",
         "rawType": "float64",
         "type": "float"
        },
        {
         "name": "LogNewConfirmedCases_prev_day_14",
         "rawType": "float64",
         "type": "float"
        },
        {
         "name": "LogNewConfirmedCases_prev_day_15",
         "rawType": "float64",
         "type": "float"
        },
        {
         "name": "LogNewConfirmedCases_prev_day_16",
         "rawType": "float64",
         "type": "float"
        },
        {
         "name": "LogNewConfirmedCases_prev_day_17",
         "rawType": "float64",
         "type": "float"
        },
        {
         "name": "LogNewConfirmedCases_prev_day_18",
         "rawType": "float64",
         "type": "float"
        },
        {
         "name": "LogNewConfirmedCases_prev_day_19",
         "rawType": "float64",
         "type": "float"
        },
        {
         "name": "LogNewConfirmedCases_prev_day_20",
         "rawType": "float64",
         "type": "float"
        },
        {
         "name": "LogNewConfirmedCases_prev_day_21",
         "rawType": "float64",
         "type": "float"
        },
        {
         "name": "LogNewConfirmedCases_prev_day_22",
         "rawType": "float64",
         "type": "float"
        },
        {
         "name": "LogNewConfirmedCases_prev_day_23",
         "rawType": "float64",
         "type": "float"
        },
        {
         "name": "LogNewConfirmedCases_prev_day_24",
         "rawType": "float64",
         "type": "float"
        },
        {
         "name": "LogNewConfirmedCases_prev_day_25",
         "rawType": "float64",
         "type": "float"
        },
        {
         "name": "LogNewConfirmedCases_prev_day_26",
         "rawType": "float64",
         "type": "float"
        },
        {
         "name": "LogNewConfirmedCases_prev_day_27",
         "rawType": "float64",
         "type": "float"
        },
        {
         "name": "LogNewConfirmedCases_prev_day_28",
         "rawType": "float64",
         "type": "float"
        },
        {
         "name": "LogNewConfirmedCases_prev_day_29",
         "rawType": "float64",
         "type": "float"
        },
        {
         "name": "LogNewConfirmedCases_prev_day_30",
         "rawType": "float64",
         "type": "float"
        },
        {
         "name": "LogNewFatalities",
         "rawType": "float64",
         "type": "float"
        },
        {
         "name": "LogNewFatalities_prev_day_1",
         "rawType": "float64",
         "type": "float"
        },
        {
         "name": "LogNewFatalities_prev_day_2",
         "rawType": "float64",
         "type": "float"
        },
        {
         "name": "LogNewFatalities_prev_day_3",
         "rawType": "float64",
         "type": "float"
        },
        {
         "name": "LogNewFatalities_prev_day_4",
         "rawType": "float64",
         "type": "float"
        },
        {
         "name": "LogNewFatalities_prev_day_5",
         "rawType": "float64",
         "type": "float"
        },
        {
         "name": "LogNewFatalities_prev_day_6",
         "rawType": "float64",
         "type": "float"
        },
        {
         "name": "LogNewFatalities_prev_day_7",
         "rawType": "float64",
         "type": "float"
        },
        {
         "name": "LogNewFatalities_prev_day_8",
         "rawType": "float64",
         "type": "float"
        },
        {
         "name": "LogNewFatalities_prev_day_9",
         "rawType": "float64",
         "type": "float"
        },
        {
         "name": "LogNewFatalities_prev_day_10",
         "rawType": "float64",
         "type": "float"
        },
        {
         "name": "LogNewFatalities_prev_day_11",
         "rawType": "float64",
         "type": "float"
        },
        {
         "name": "LogNewFatalities_prev_day_12",
         "rawType": "float64",
         "type": "float"
        },
        {
         "name": "LogNewFatalities_prev_day_13",
         "rawType": "float64",
         "type": "float"
        },
        {
         "name": "LogNewFatalities_prev_day_14",
         "rawType": "float64",
         "type": "float"
        },
        {
         "name": "LogNewFatalities_prev_day_15",
         "rawType": "float64",
         "type": "float"
        },
        {
         "name": "LogNewFatalities_prev_day_16",
         "rawType": "float64",
         "type": "float"
        },
        {
         "name": "LogNewFatalities_prev_day_17",
         "rawType": "float64",
         "type": "float"
        },
        {
         "name": "LogNewFatalities_prev_day_18",
         "rawType": "float64",
         "type": "float"
        },
        {
         "name": "LogNewFatalities_prev_day_19",
         "rawType": "float64",
         "type": "float"
        },
        {
         "name": "LogNewFatalities_prev_day_20",
         "rawType": "float64",
         "type": "float"
        },
        {
         "name": "LogNewFatalities_prev_day_21",
         "rawType": "float64",
         "type": "float"
        },
        {
         "name": "LogNewFatalities_prev_day_22",
         "rawType": "float64",
         "type": "float"
        },
        {
         "name": "LogNewFatalities_prev_day_23",
         "rawType": "float64",
         "type": "float"
        },
        {
         "name": "LogNewFatalities_prev_day_24",
         "rawType": "float64",
         "type": "float"
        },
        {
         "name": "LogNewFatalities_prev_day_25",
         "rawType": "float64",
         "type": "float"
        },
        {
         "name": "LogNewFatalities_prev_day_26",
         "rawType": "float64",
         "type": "float"
        },
        {
         "name": "LogNewFatalities_prev_day_27",
         "rawType": "float64",
         "type": "float"
        },
        {
         "name": "LogNewFatalities_prev_day_28",
         "rawType": "float64",
         "type": "float"
        },
        {
         "name": "LogNewFatalities_prev_day_29",
         "rawType": "float64",
         "type": "float"
        },
        {
         "name": "LogNewFatalities_prev_day_30",
         "rawType": "float64",
         "type": "float"
        },
        {
         "name": "Day",
         "rawType": "int32",
         "type": "integer"
        },
        {
         "name": "WeekDay",
         "rawType": "int64",
         "type": "integer"
        },
        {
         "name": "Days_since_ConfirmedCases=1",
         "rawType": "float64",
         "type": "float"
        },
        {
         "name": "Days_since_Fatalities=1",
         "rawType": "float64",
         "type": "float"
        },
        {
         "name": "Days_since_ConfirmedCases=10",
         "rawType": "float64",
         "type": "float"
        },
        {
         "name": "Days_since_Fatalities=10",
         "rawType": "float64",
         "type": "float"
        },
        {
         "name": "Days_since_ConfirmedCases=100",
         "rawType": "float64",
         "type": "float"
        },
        {
         "name": "Days_since_Fatalities=100",
         "rawType": "float64",
         "type": "float"
        },
        {
         "name": "Distance_to_origin",
         "rawType": "float64",
         "type": "float"
        },
        {
         "name": "CountryArea",
         "rawType": "float64",
         "type": "float"
        },
        {
         "name": "CountryPop_0-20",
         "rawType": "float64",
         "type": "float"
        },
        {
         "name": "CountryPop_20-40",
         "rawType": "float64",
         "type": "float"
        },
        {
         "name": "CountryPop_40-60",
         "rawType": "float64",
         "type": "float"
        },
        {
         "name": "CountryPop_60-80",
         "rawType": "float64",
         "type": "float"
        },
        {
         "name": "CountryPop_80+",
         "rawType": "float64",
         "type": "float"
        },
        {
         "name": "CountryPopMale",
         "rawType": "float64",
         "type": "float"
        },
        {
         "name": "CountryPopFemale",
         "rawType": "float64",
         "type": "float"
        },
        {
         "name": "CountryPopTotal",
         "rawType": "float64",
         "type": "float"
        },
        {
         "name": "CountryPopDensity",
         "rawType": "float64",
         "type": "float"
        },
        {
         "name": "CountrySmokingRate",
         "rawType": "float64",
         "type": "float"
        },
        {
         "name": "CountryHospitalBedsRate",
         "rawType": "float64",
         "type": "float"
        }
       ],
       "ref": "5034fa09-2285-4987-a10b-c738fedfc74b",
       "rows": [
        [
         "0",
         "1.0",
         "",
         "Afghanistan",
         "33.0",
         "65.0",
         "2020-01-22 00:00:00",
         "0.0",
         "0.0",
         null,
         "0.0",
         null,
         null,
         null,
         null,
         null,
         null,
         null,
         null,
         null,
         null,
         null,
         null,
         null,
         null,
         null,
         null,
         null,
         null,
         null,
         null,
         null,
         null,
         null,
         null,
         null,
         null,
         null,
         null,
         null,
         null,
         "0.0",
         null,
         null,
         null,
         null,
         null,
         null,
         null,
         null,
         null,
         null,
         null,
         null,
         null,
         null,
         null,
         null,
         null,
         null,
         null,
         null,
         null,
         null,
         null,
         null,
         null,
         null,
         null,
         null,
         null,
         null,
         "0",
         "2",
         "-1.0",
         "-1.0",
         "-1.0",
         null,
         null,
         null,
         "4435.23261787452",
         "652230.0",
         "20676.364999999998",
         "11160.511",
         "4620.268",
         "1479.526",
         "105.087",
         "19529.727000000003",
         "18512.030000000002",
         "38041.757000000005",
         "0.058325678058353654",
         "26.6",
         "0.38"
        ],
        [
         "1",
         "8185.0",
         "",
         "Cyprus",
         "35.1264",
         "33.4299",
         "2020-01-22 00:00:00",
         "0.0",
         "0.0",
         null,
         "0.0",
         null,
         null,
         null,
         null,
         null,
         null,
         null,
         null,
         null,
         null,
         null,
         null,
         null,
         null,
         null,
         null,
         null,
         null,
         null,
         null,
         null,
         null,
         null,
         null,
         null,
         null,
         null,
         null,
         null,
         null,
         "0.0",
         null,
         null,
         null,
         null,
         null,
         null,
         null,
         null,
         null,
         null,
         null,
         null,
         null,
         null,
         null,
         null,
         null,
         null,
         null,
         null,
         null,
         null,
         null,
         null,
         null,
         null,
         null,
         null,
         null,
         null,
         "0",
         "2",
         "-1.0",
         "-1.0",
         "-1.0",
         null,
         "-1.0",
         null,
         "7177.52919479716",
         "9240.0",
         "275.284",
         "382.653",
         "308.911",
         "193.20200000000003",
         "38.52400000000001",
         "599.297",
         "599.2769999999999",
         "1198.574",
         "0.12971580086580087",
         "37.1",
         "2.24"
        ],
        [
         "2",
         "21112.0",
         "Guam",
         "US",
         "13.4443",
         "144.7937",
         "2020-01-22 00:00:00",
         "0.0",
         "0.0",
         null,
         "0.0",
         null,
         null,
         null,
         null,
         null,
         null,
         null,
         null,
         null,
         null,
         null,
         null,
         null,
         null,
         null,
         null,
         null,
         null,
         null,
         null,
         null,
         null,
         null,
         null,
         null,
         null,
         null,
         null,
         null,
         null,
         "0.0",
         null,
         null,
         null,
         null,
         null,
         null,
         null,
         null,
         null,
         null,
         null,
         null,
         null,
         null,
         null,
         null,
         null,
         null,
         null,
         null,
         null,
         null,
         null,
         null,
         null,
         null,
         null,
         null,
         null,
         null,
         "0",
         "2",
         "-1.0",
         "-1.0",
         "-1.0",
         null,
         null,
         null,
         "3851.942688846099",
         "9147420.0",
         "82289.916",
         "90159.134",
         "82846.126",
         "60854.331999999995",
         "12915.409",
         "162826.299",
         "166238.61800000002",
         "329064.917",
         "0.03597352226092166",
         null,
         null
        ],
        [
         "3",
         "8278.0",
         "",
         "Czechia",
         "49.8175",
         "15.473",
         "2020-01-22 00:00:00",
         "0.0",
         "0.0",
         null,
         "0.0",
         null,
         null,
         null,
         null,
         null,
         null,
         null,
         null,
         null,
         null,
         null,
         null,
         null,
         null,
         null,
         null,
         null,
         null,
         null,
         null,
         null,
         null,
         null,
         null,
         null,
         null,
         null,
         null,
         null,
         null,
         "0.0",
         null,
         null,
         null,
         null,
         null,
         null,
         null,
         null,
         null,
         null,
         null,
         null,
         null,
         null,
         null,
         null,
         null,
         null,
         null,
         null,
         null,
         null,
         null,
         null,
         null,
         null,
         null,
         null,
         null,
         null,
         "0",
         "2",
         null,
         null,
         null,
         null,
         null,
         null,
         "7897.6240377791955",
         "77205.5",
         "2152.923",
         "2656.34",
         "3107.36",
         "2332.215",
         "440.375",
         "5260.628",
         "5428.585",
         "10689.213",
         "0.13845144452143954",
         "31.4",
         "6.66"
        ],
        [
         "4",
         "8371.0",
         "Denmark",
         "Denmark",
         "56.2639",
         "9.5018",
         "2020-01-22 00:00:00",
         "0.0",
         "0.0",
         null,
         "0.0",
         null,
         null,
         null,
         null,
         null,
         null,
         null,
         null,
         null,
         null,
         null,
         null,
         null,
         null,
         null,
         null,
         null,
         null,
         null,
         null,
         null,
         null,
         null,
         null,
         null,
         null,
         null,
         null,
         null,
         null,
         "0.0",
         null,
         null,
         null,
         null,
         null,
         null,
         null,
         null,
         null,
         null,
         null,
         null,
         null,
         null,
         null,
         null,
         null,
         null,
         null,
         null,
         null,
         null,
         null,
         null,
         null,
         null,
         null,
         null,
         null,
         null,
         "0",
         "2",
         "-1.0",
         "-1.0",
         "-1.0",
         "-1.0",
         "-1.0",
         null,
         "7931.069186113015",
         "40000.0",
         "1287.864",
         "1437.566",
         "1556.036",
         "1224.13",
         "266.28099999999995",
         "2869.672",
         "2902.205",
         "5771.877",
         "0.14429692500000002",
         "21.2",
         "2.6"
        ]
       ],
       "shape": {
        "columns": 92,
        "rows": 5
       }
      },
      "text/html": [
       "<div>\n",
       "<style scoped>\n",
       "    .dataframe tbody tr th:only-of-type {\n",
       "        vertical-align: middle;\n",
       "    }\n",
       "\n",
       "    .dataframe tbody tr th {\n",
       "        vertical-align: top;\n",
       "    }\n",
       "\n",
       "    .dataframe thead th {\n",
       "        text-align: right;\n",
       "    }\n",
       "</style>\n",
       "<table border=\"1\" class=\"dataframe\">\n",
       "  <thead>\n",
       "    <tr style=\"text-align: right;\">\n",
       "      <th></th>\n",
       "      <th>Id</th>\n",
       "      <th>Province/State</th>\n",
       "      <th>Country/Region</th>\n",
       "      <th>Lat</th>\n",
       "      <th>Long</th>\n",
       "      <th>Date</th>\n",
       "      <th>ConfirmedCases</th>\n",
       "      <th>Fatalities</th>\n",
       "      <th>ForecastId</th>\n",
       "      <th>LogNewConfirmedCases</th>\n",
       "      <th>...</th>\n",
       "      <th>CountryPop_20-40</th>\n",
       "      <th>CountryPop_40-60</th>\n",
       "      <th>CountryPop_60-80</th>\n",
       "      <th>CountryPop_80+</th>\n",
       "      <th>CountryPopMale</th>\n",
       "      <th>CountryPopFemale</th>\n",
       "      <th>CountryPopTotal</th>\n",
       "      <th>CountryPopDensity</th>\n",
       "      <th>CountrySmokingRate</th>\n",
       "      <th>CountryHospitalBedsRate</th>\n",
       "    </tr>\n",
       "  </thead>\n",
       "  <tbody>\n",
       "    <tr>\n",
       "      <th>0</th>\n",
       "      <td>1.0</td>\n",
       "      <td></td>\n",
       "      <td>Afghanistan</td>\n",
       "      <td>33.0000</td>\n",
       "      <td>65.0000</td>\n",
       "      <td>2020-01-22</td>\n",
       "      <td>0.0</td>\n",
       "      <td>0.0</td>\n",
       "      <td>NaN</td>\n",
       "      <td>0.0</td>\n",
       "      <td>...</td>\n",
       "      <td>11160.511</td>\n",
       "      <td>4620.268</td>\n",
       "      <td>1479.526</td>\n",
       "      <td>105.087</td>\n",
       "      <td>19529.727</td>\n",
       "      <td>18512.030</td>\n",
       "      <td>38041.757</td>\n",
       "      <td>0.058326</td>\n",
       "      <td>26.6</td>\n",
       "      <td>0.38</td>\n",
       "    </tr>\n",
       "    <tr>\n",
       "      <th>1</th>\n",
       "      <td>8185.0</td>\n",
       "      <td></td>\n",
       "      <td>Cyprus</td>\n",
       "      <td>35.1264</td>\n",
       "      <td>33.4299</td>\n",
       "      <td>2020-01-22</td>\n",
       "      <td>0.0</td>\n",
       "      <td>0.0</td>\n",
       "      <td>NaN</td>\n",
       "      <td>0.0</td>\n",
       "      <td>...</td>\n",
       "      <td>382.653</td>\n",
       "      <td>308.911</td>\n",
       "      <td>193.202</td>\n",
       "      <td>38.524</td>\n",
       "      <td>599.297</td>\n",
       "      <td>599.277</td>\n",
       "      <td>1198.574</td>\n",
       "      <td>0.129716</td>\n",
       "      <td>37.1</td>\n",
       "      <td>2.24</td>\n",
       "    </tr>\n",
       "    <tr>\n",
       "      <th>2</th>\n",
       "      <td>21112.0</td>\n",
       "      <td>Guam</td>\n",
       "      <td>US</td>\n",
       "      <td>13.4443</td>\n",
       "      <td>144.7937</td>\n",
       "      <td>2020-01-22</td>\n",
       "      <td>0.0</td>\n",
       "      <td>0.0</td>\n",
       "      <td>NaN</td>\n",
       "      <td>0.0</td>\n",
       "      <td>...</td>\n",
       "      <td>90159.134</td>\n",
       "      <td>82846.126</td>\n",
       "      <td>60854.332</td>\n",
       "      <td>12915.409</td>\n",
       "      <td>162826.299</td>\n",
       "      <td>166238.618</td>\n",
       "      <td>329064.917</td>\n",
       "      <td>0.035974</td>\n",
       "      <td>NaN</td>\n",
       "      <td>NaN</td>\n",
       "    </tr>\n",
       "    <tr>\n",
       "      <th>3</th>\n",
       "      <td>8278.0</td>\n",
       "      <td></td>\n",
       "      <td>Czechia</td>\n",
       "      <td>49.8175</td>\n",
       "      <td>15.4730</td>\n",
       "      <td>2020-01-22</td>\n",
       "      <td>0.0</td>\n",
       "      <td>0.0</td>\n",
       "      <td>NaN</td>\n",
       "      <td>0.0</td>\n",
       "      <td>...</td>\n",
       "      <td>2656.340</td>\n",
       "      <td>3107.360</td>\n",
       "      <td>2332.215</td>\n",
       "      <td>440.375</td>\n",
       "      <td>5260.628</td>\n",
       "      <td>5428.585</td>\n",
       "      <td>10689.213</td>\n",
       "      <td>0.138451</td>\n",
       "      <td>31.4</td>\n",
       "      <td>6.66</td>\n",
       "    </tr>\n",
       "    <tr>\n",
       "      <th>4</th>\n",
       "      <td>8371.0</td>\n",
       "      <td>Denmark</td>\n",
       "      <td>Denmark</td>\n",
       "      <td>56.2639</td>\n",
       "      <td>9.5018</td>\n",
       "      <td>2020-01-22</td>\n",
       "      <td>0.0</td>\n",
       "      <td>0.0</td>\n",
       "      <td>NaN</td>\n",
       "      <td>0.0</td>\n",
       "      <td>...</td>\n",
       "      <td>1437.566</td>\n",
       "      <td>1556.036</td>\n",
       "      <td>1224.130</td>\n",
       "      <td>266.281</td>\n",
       "      <td>2869.672</td>\n",
       "      <td>2902.205</td>\n",
       "      <td>5771.877</td>\n",
       "      <td>0.144297</td>\n",
       "      <td>21.2</td>\n",
       "      <td>2.60</td>\n",
       "    </tr>\n",
       "  </tbody>\n",
       "</table>\n",
       "<p>5 rows × 92 columns</p>\n",
       "</div>"
      ],
      "text/plain": [
       "        Id Province/State Country/Region      Lat      Long       Date  \\\n",
       "0      1.0                   Afghanistan  33.0000   65.0000 2020-01-22   \n",
       "1   8185.0                        Cyprus  35.1264   33.4299 2020-01-22   \n",
       "2  21112.0           Guam             US  13.4443  144.7937 2020-01-22   \n",
       "3   8278.0                       Czechia  49.8175   15.4730 2020-01-22   \n",
       "4   8371.0        Denmark        Denmark  56.2639    9.5018 2020-01-22   \n",
       "\n",
       "   ConfirmedCases  Fatalities  ForecastId  LogNewConfirmedCases  ...  \\\n",
       "0             0.0         0.0         NaN                   0.0  ...   \n",
       "1             0.0         0.0         NaN                   0.0  ...   \n",
       "2             0.0         0.0         NaN                   0.0  ...   \n",
       "3             0.0         0.0         NaN                   0.0  ...   \n",
       "4             0.0         0.0         NaN                   0.0  ...   \n",
       "\n",
       "   CountryPop_20-40  CountryPop_40-60  CountryPop_60-80  CountryPop_80+  \\\n",
       "0         11160.511          4620.268          1479.526         105.087   \n",
       "1           382.653           308.911           193.202          38.524   \n",
       "2         90159.134         82846.126         60854.332       12915.409   \n",
       "3          2656.340          3107.360          2332.215         440.375   \n",
       "4          1437.566          1556.036          1224.130         266.281   \n",
       "\n",
       "   CountryPopMale  CountryPopFemale  CountryPopTotal  CountryPopDensity  \\\n",
       "0       19529.727         18512.030        38041.757           0.058326   \n",
       "1         599.297           599.277         1198.574           0.129716   \n",
       "2      162826.299        166238.618       329064.917           0.035974   \n",
       "3        5260.628          5428.585        10689.213           0.138451   \n",
       "4        2869.672          2902.205         5771.877           0.144297   \n",
       "\n",
       "   CountrySmokingRate  CountryHospitalBedsRate  \n",
       "0                26.6                     0.38  \n",
       "1                37.1                     2.24  \n",
       "2                 NaN                      NaN  \n",
       "3                31.4                     6.66  \n",
       "4                21.2                     2.60  \n",
       "\n",
       "[5 rows x 92 columns]"
      ]
     },
     "execution_count": 34,
     "metadata": {},
     "output_type": "execute_result"
    }
   ],
   "source": [
    "main_df = merge_with_column_drop(\n",
    "    main_df,\n",
    "    hospital_beds_df,\n",
    "    right_df_column='Country Name'\n",
    ")\n",
    "main_df.head()"
   ]
  },
  {
   "cell_type": "markdown",
   "metadata": {
    "colab_type": "text",
    "id": "yxyLUTiLPWGT"
   },
   "source": [
    "### Country Health Expenditure\n"
   ]
  },
  {
   "cell_type": "code",
   "execution_count": 35,
   "metadata": {
    "colab": {
     "base_uri": "https://localhost:8080/",
     "height": 394
    },
    "colab_type": "code",
    "id": "zlOWPWCAQIwp",
    "outputId": "d6e3de73-5c6c-4b2f-e018-9c6ea6776fd5"
   },
   "outputs": [
    {
     "name": "stdout",
     "output_type": "stream",
     "text": [
      "Downloading health_expenditure.zip...\n",
      "Download complete.\n",
      "Extracted: Metadata_Indicator_API_SH.XPD.CHEX.PP.CD_DS2_en_csv_v2_34418.csv\n",
      "Extracted: API_SH.XPD.CHEX.PP.CD_DS2_en_csv_v2_34418.csv\n",
      "Extracted: Metadata_Country_API_SH.XPD.CHEX.PP.CD_DS2_en_csv_v2_34418.csv\n",
      "\n",
      "Directory contents:\n",
      "API_SH.XPD.CHEX.PP.CD_DS2_en_csv_v2_34418.csv\n",
      "health_expenditure.zip\n",
      "Metadata_Country_API_SH.XPD.CHEX.PP.CD_DS2_en_csv_v2_34418.csv\n",
      "Metadata_Indicator_API_SH.XPD.CHEX.PP.CD_DS2_en_csv_v2_34418.csv\n"
     ]
    }
   ],
   "source": [
    "import os\n",
    "import urllib.request\n",
    "import zipfile\n",
    "\n",
    "# Create and enter directory\n",
    "dir_name = 'health_expenditure'\n",
    "os.makedirs(dir_name, exist_ok=True)\n",
    "os.chdir(dir_name)\n",
    "\n",
    "# Define URL and output zip filename\n",
    "url = 'http://api.worldbank.org/v2/en/indicator/SH.XPD.CHEX.PP.CD?downloadformat=csv'\n",
    "zip_filename = 'health_expenditure.zip'\n",
    "\n",
    "# Download the ZIP if not already present\n",
    "if not os.path.exists(zip_filename):\n",
    "    print(f\"Downloading {zip_filename}...\")\n",
    "    urllib.request.urlretrieve(url, zip_filename)\n",
    "    print(\"Download complete.\")\n",
    "else:\n",
    "    print(f\"{zip_filename} already exists, skipping download.\")\n",
    "\n",
    "# Extract files (skip if already extracted)\n",
    "with zipfile.ZipFile(zip_filename, 'r') as zip_ref:\n",
    "    for file in zip_ref.namelist():\n",
    "        if not os.path.exists(file):\n",
    "            zip_ref.extract(file)\n",
    "            print(f\"Extracted: {file}\")\n",
    "        else:\n",
    "            print(f\"Skipped (already exists): {file}\")\n",
    "\n",
    "# List directory contents\n",
    "print(\"\\nDirectory contents:\")\n",
    "for fname in os.listdir('.'):\n",
    "    print(fname)\n"
   ]
  },
  {
   "cell_type": "code",
   "execution_count": null,
   "metadata": {
    "colab": {
     "base_uri": "https://localhost:8080/",
     "height": 591
    },
    "colab_type": "code",
    "id": "Ib3jSvfLQf7o",
    "outputId": "8db56c99-e5f1-422a-ca6e-eecccb4624eb"
   },
   "outputs": [
    {
     "name": "stdout",
     "output_type": "stream",
     "text": [
      "Data loaded: unknown shape\n"
     ]
    },
    {
     "data": {
      "application/vnd.microsoft.datawrangler.viewer.v0+json": {
       "columns": [
        {
         "name": "index",
         "rawType": "int64",
         "type": "integer"
        },
        {
         "name": "Country Name",
         "rawType": "object",
         "type": "string"
        },
        {
         "name": "Country Code",
         "rawType": "object",
         "type": "string"
        },
        {
         "name": "Indicator Name",
         "rawType": "object",
         "type": "string"
        },
        {
         "name": "Indicator Code",
         "rawType": "object",
         "type": "string"
        },
        {
         "name": "1960",
         "rawType": "float64",
         "type": "float"
        },
        {
         "name": "1961",
         "rawType": "float64",
         "type": "float"
        },
        {
         "name": "1962",
         "rawType": "float64",
         "type": "float"
        },
        {
         "name": "1963",
         "rawType": "float64",
         "type": "float"
        },
        {
         "name": "1964",
         "rawType": "float64",
         "type": "float"
        },
        {
         "name": "1965",
         "rawType": "float64",
         "type": "float"
        },
        {
         "name": "1966",
         "rawType": "float64",
         "type": "float"
        },
        {
         "name": "1967",
         "rawType": "float64",
         "type": "float"
        },
        {
         "name": "1968",
         "rawType": "float64",
         "type": "float"
        },
        {
         "name": "1969",
         "rawType": "float64",
         "type": "float"
        },
        {
         "name": "1970",
         "rawType": "float64",
         "type": "float"
        },
        {
         "name": "1971",
         "rawType": "float64",
         "type": "float"
        },
        {
         "name": "1972",
         "rawType": "float64",
         "type": "float"
        },
        {
         "name": "1973",
         "rawType": "float64",
         "type": "float"
        },
        {
         "name": "1974",
         "rawType": "float64",
         "type": "float"
        },
        {
         "name": "1975",
         "rawType": "float64",
         "type": "float"
        },
        {
         "name": "1976",
         "rawType": "float64",
         "type": "float"
        },
        {
         "name": "1977",
         "rawType": "float64",
         "type": "float"
        },
        {
         "name": "1978",
         "rawType": "float64",
         "type": "float"
        },
        {
         "name": "1979",
         "rawType": "float64",
         "type": "float"
        },
        {
         "name": "1980",
         "rawType": "float64",
         "type": "float"
        },
        {
         "name": "1981",
         "rawType": "float64",
         "type": "float"
        },
        {
         "name": "1982",
         "rawType": "float64",
         "type": "float"
        },
        {
         "name": "1983",
         "rawType": "float64",
         "type": "float"
        },
        {
         "name": "1984",
         "rawType": "float64",
         "type": "float"
        },
        {
         "name": "1985",
         "rawType": "float64",
         "type": "float"
        },
        {
         "name": "1986",
         "rawType": "float64",
         "type": "float"
        },
        {
         "name": "1987",
         "rawType": "float64",
         "type": "float"
        },
        {
         "name": "1988",
         "rawType": "float64",
         "type": "float"
        },
        {
         "name": "1989",
         "rawType": "float64",
         "type": "float"
        },
        {
         "name": "1990",
         "rawType": "float64",
         "type": "float"
        },
        {
         "name": "1991",
         "rawType": "float64",
         "type": "float"
        },
        {
         "name": "1992",
         "rawType": "float64",
         "type": "float"
        },
        {
         "name": "1993",
         "rawType": "float64",
         "type": "float"
        },
        {
         "name": "1994",
         "rawType": "float64",
         "type": "float"
        },
        {
         "name": "1995",
         "rawType": "float64",
         "type": "float"
        },
        {
         "name": "1996",
         "rawType": "float64",
         "type": "float"
        },
        {
         "name": "1997",
         "rawType": "float64",
         "type": "float"
        },
        {
         "name": "1998",
         "rawType": "float64",
         "type": "float"
        },
        {
         "name": "1999",
         "rawType": "float64",
         "type": "float"
        },
        {
         "name": "2000",
         "rawType": "float64",
         "type": "float"
        },
        {
         "name": "2001",
         "rawType": "float64",
         "type": "float"
        },
        {
         "name": "2002",
         "rawType": "float64",
         "type": "float"
        },
        {
         "name": "2003",
         "rawType": "float64",
         "type": "float"
        },
        {
         "name": "2004",
         "rawType": "float64",
         "type": "float"
        },
        {
         "name": "2005",
         "rawType": "float64",
         "type": "float"
        },
        {
         "name": "2006",
         "rawType": "float64",
         "type": "float"
        },
        {
         "name": "2007",
         "rawType": "float64",
         "type": "float"
        },
        {
         "name": "2008",
         "rawType": "float64",
         "type": "float"
        },
        {
         "name": "2009",
         "rawType": "float64",
         "type": "float"
        },
        {
         "name": "2010",
         "rawType": "float64",
         "type": "float"
        },
        {
         "name": "2011",
         "rawType": "float64",
         "type": "float"
        },
        {
         "name": "2012",
         "rawType": "float64",
         "type": "float"
        },
        {
         "name": "2013",
         "rawType": "float64",
         "type": "float"
        },
        {
         "name": "2014",
         "rawType": "float64",
         "type": "float"
        },
        {
         "name": "2015",
         "rawType": "float64",
         "type": "float"
        },
        {
         "name": "2016",
         "rawType": "float64",
         "type": "float"
        },
        {
         "name": "2017",
         "rawType": "float64",
         "type": "float"
        },
        {
         "name": "2018",
         "rawType": "float64",
         "type": "float"
        },
        {
         "name": "2019",
         "rawType": "float64",
         "type": "float"
        },
        {
         "name": "2020",
         "rawType": "float64",
         "type": "float"
        },
        {
         "name": "2021",
         "rawType": "float64",
         "type": "float"
        },
        {
         "name": "2022",
         "rawType": "float64",
         "type": "float"
        },
        {
         "name": "2023",
         "rawType": "float64",
         "type": "float"
        },
        {
         "name": "2024",
         "rawType": "float64",
         "type": "float"
        },
        {
         "name": "Unnamed: 69",
         "rawType": "float64",
         "type": "float"
        }
       ],
       "ref": "2ae5031d-c13f-4a7f-b3c3-ead6fdf670a9",
       "rows": [
        [
         "0",
         "Aruba",
         "ABW",
         "Current health expenditure per capita, PPP (current international $)",
         "SH.XPD.CHEX.PP.CD",
         null,
         null,
         null,
         null,
         null,
         null,
         null,
         null,
         null,
         null,
         null,
         null,
         null,
         null,
         null,
         null,
         null,
         null,
         null,
         null,
         null,
         null,
         null,
         null,
         null,
         null,
         null,
         null,
         null,
         null,
         null,
         null,
         null,
         null,
         null,
         null,
         null,
         null,
         null,
         null,
         null,
         null,
         null,
         null,
         null,
         null,
         null,
         null,
         null,
         null,
         null,
         null,
         null,
         null,
         null,
         null,
         null,
         null,
         null,
         null,
         null,
         null,
         null,
         null,
         null,
         null
        ],
        [
         "1",
         "Africa Eastern and Southern",
         "AFE",
         "Current health expenditure per capita, PPP (current international $)",
         "SH.XPD.CHEX.PP.CD",
         null,
         null,
         null,
         null,
         null,
         null,
         null,
         null,
         null,
         null,
         null,
         null,
         null,
         null,
         null,
         null,
         null,
         null,
         null,
         null,
         null,
         null,
         null,
         null,
         null,
         null,
         null,
         null,
         null,
         null,
         null,
         null,
         null,
         null,
         null,
         null,
         null,
         null,
         null,
         null,
         "114.438681035794",
         "121.371282495295",
         "120.145676823026",
         "131.740370354721",
         "140.321054134364",
         "148.210777796072",
         "164.675829667148",
         "177.496526408113",
         "184.595788352499",
         "193.66241207948",
         "195.878201359008",
         "201.900810957857",
         "199.064994191171",
         "206.715095324305",
         "203.261542686226",
         "207.029430680869",
         "214.970205996347",
         "206.302251201775",
         "203.618676450655",
         "208.659980653317",
         "209.392441734401",
         "218.243526724984",
         "228.081065694554",
         null,
         null,
         null
        ],
        [
         "2",
         "Afghanistan",
         "AFG",
         "Current health expenditure per capita, PPP (current international $)",
         "SH.XPD.CHEX.PP.CD",
         null,
         null,
         null,
         null,
         null,
         null,
         null,
         null,
         null,
         null,
         null,
         null,
         null,
         null,
         null,
         null,
         null,
         null,
         null,
         null,
         null,
         null,
         null,
         null,
         null,
         null,
         null,
         null,
         null,
         null,
         null,
         null,
         null,
         null,
         null,
         null,
         null,
         null,
         null,
         null,
         null,
         null,
         "85.8518071050677",
         "85.9267296124687",
         "93.9246419108852",
         "105.91549843299",
         "118.394179135793",
         "112.239283082398",
         "137.415320027982",
         "153.091578828564",
         "148.264513269064",
         "146.844395694768",
         "154.907340394318",
         "177.620084430486",
         "201.790858687031",
         "215.22618730457",
         "238.744805717295",
         "264.206605700799",
         "299.372497750532",
         "320.826991868121",
         "324.667104880284",
         "360.758387791744",
         "383.107287891772",
         null,
         null,
         null
        ],
        [
         "3",
         "Africa Western and Central",
         "AFW",
         "Current health expenditure per capita, PPP (current international $)",
         "SH.XPD.CHEX.PP.CD",
         null,
         null,
         null,
         null,
         null,
         null,
         null,
         null,
         null,
         null,
         null,
         null,
         null,
         null,
         null,
         null,
         null,
         null,
         null,
         null,
         null,
         null,
         null,
         null,
         null,
         null,
         null,
         null,
         null,
         null,
         null,
         null,
         null,
         null,
         null,
         null,
         null,
         null,
         null,
         null,
         "70.1027231162326",
         "73.2619817239841",
         "71.4683521926313",
         "109.929787806578",
         "111.939947511341",
         "116.914932163681",
         "119.354926629629",
         "119.675643704955",
         "122.50900587254",
         "133.069369998995",
         "126.132591464765",
         "130.154728918847",
         "132.136578157236",
         "141.49829579231",
         "149.386374592474",
         "155.315731826652",
         "150.421831594128",
         "149.059208005965",
         "135.2746661156",
         "140.751043907405",
         "160.185249222294",
         "182.2287939559",
         "200.892066874445",
         null,
         null,
         null
        ],
        [
         "4",
         "Angola",
         "AGO",
         "Current health expenditure per capita, PPP (current international $)",
         "SH.XPD.CHEX.PP.CD",
         null,
         null,
         null,
         null,
         null,
         null,
         null,
         null,
         null,
         null,
         null,
         null,
         null,
         null,
         null,
         null,
         null,
         null,
         null,
         null,
         null,
         null,
         null,
         null,
         null,
         null,
         null,
         null,
         null,
         null,
         null,
         null,
         null,
         null,
         null,
         null,
         null,
         null,
         null,
         null,
         "63.4003107420659",
         "153.460841950517",
         "127.319645254125",
         "137.598337063144",
         "169.09787701418",
         "139.065224820371",
         "145.122372218449",
         "181.289148976683",
         "220.963616013354",
         "249.696743806266",
         "178.040358407835",
         "177.55705381199",
         "177.106108624016",
         "208.746520550018",
         "197.489337836377",
         "189.345393720409",
         "190.471974629813",
         "201.261772286835",
         "182.639949683101",
         "173.056601558737",
         "217.194973649642",
         "213.965742674272",
         "216.919253689478",
         null,
         null,
         null
        ]
       ],
       "shape": {
        "columns": 70,
        "rows": 5
       }
      },
      "text/html": [
       "<div>\n",
       "<style scoped>\n",
       "    .dataframe tbody tr th:only-of-type {\n",
       "        vertical-align: middle;\n",
       "    }\n",
       "\n",
       "    .dataframe tbody tr th {\n",
       "        vertical-align: top;\n",
       "    }\n",
       "\n",
       "    .dataframe thead th {\n",
       "        text-align: right;\n",
       "    }\n",
       "</style>\n",
       "<table border=\"1\" class=\"dataframe\">\n",
       "  <thead>\n",
       "    <tr style=\"text-align: right;\">\n",
       "      <th></th>\n",
       "      <th>Country Name</th>\n",
       "      <th>Country Code</th>\n",
       "      <th>Indicator Name</th>\n",
       "      <th>Indicator Code</th>\n",
       "      <th>1960</th>\n",
       "      <th>1961</th>\n",
       "      <th>1962</th>\n",
       "      <th>1963</th>\n",
       "      <th>1964</th>\n",
       "      <th>1965</th>\n",
       "      <th>...</th>\n",
       "      <th>2016</th>\n",
       "      <th>2017</th>\n",
       "      <th>2018</th>\n",
       "      <th>2019</th>\n",
       "      <th>2020</th>\n",
       "      <th>2021</th>\n",
       "      <th>2022</th>\n",
       "      <th>2023</th>\n",
       "      <th>2024</th>\n",
       "      <th>Unnamed: 69</th>\n",
       "    </tr>\n",
       "  </thead>\n",
       "  <tbody>\n",
       "    <tr>\n",
       "      <th>0</th>\n",
       "      <td>Aruba</td>\n",
       "      <td>ABW</td>\n",
       "      <td>Current health expenditure per capita, PPP (cu...</td>\n",
       "      <td>SH.XPD.CHEX.PP.CD</td>\n",
       "      <td>NaN</td>\n",
       "      <td>NaN</td>\n",
       "      <td>NaN</td>\n",
       "      <td>NaN</td>\n",
       "      <td>NaN</td>\n",
       "      <td>NaN</td>\n",
       "      <td>...</td>\n",
       "      <td>NaN</td>\n",
       "      <td>NaN</td>\n",
       "      <td>NaN</td>\n",
       "      <td>NaN</td>\n",
       "      <td>NaN</td>\n",
       "      <td>NaN</td>\n",
       "      <td>NaN</td>\n",
       "      <td>NaN</td>\n",
       "      <td>NaN</td>\n",
       "      <td>NaN</td>\n",
       "    </tr>\n",
       "    <tr>\n",
       "      <th>1</th>\n",
       "      <td>Africa Eastern and Southern</td>\n",
       "      <td>AFE</td>\n",
       "      <td>Current health expenditure per capita, PPP (cu...</td>\n",
       "      <td>SH.XPD.CHEX.PP.CD</td>\n",
       "      <td>NaN</td>\n",
       "      <td>NaN</td>\n",
       "      <td>NaN</td>\n",
       "      <td>NaN</td>\n",
       "      <td>NaN</td>\n",
       "      <td>NaN</td>\n",
       "      <td>...</td>\n",
       "      <td>214.970206</td>\n",
       "      <td>206.302251</td>\n",
       "      <td>203.618676</td>\n",
       "      <td>208.659981</td>\n",
       "      <td>209.392442</td>\n",
       "      <td>218.243527</td>\n",
       "      <td>228.081066</td>\n",
       "      <td>NaN</td>\n",
       "      <td>NaN</td>\n",
       "      <td>NaN</td>\n",
       "    </tr>\n",
       "    <tr>\n",
       "      <th>2</th>\n",
       "      <td>Afghanistan</td>\n",
       "      <td>AFG</td>\n",
       "      <td>Current health expenditure per capita, PPP (cu...</td>\n",
       "      <td>SH.XPD.CHEX.PP.CD</td>\n",
       "      <td>NaN</td>\n",
       "      <td>NaN</td>\n",
       "      <td>NaN</td>\n",
       "      <td>NaN</td>\n",
       "      <td>NaN</td>\n",
       "      <td>NaN</td>\n",
       "      <td>...</td>\n",
       "      <td>238.744806</td>\n",
       "      <td>264.206606</td>\n",
       "      <td>299.372498</td>\n",
       "      <td>320.826992</td>\n",
       "      <td>324.667105</td>\n",
       "      <td>360.758388</td>\n",
       "      <td>383.107288</td>\n",
       "      <td>NaN</td>\n",
       "      <td>NaN</td>\n",
       "      <td>NaN</td>\n",
       "    </tr>\n",
       "    <tr>\n",
       "      <th>3</th>\n",
       "      <td>Africa Western and Central</td>\n",
       "      <td>AFW</td>\n",
       "      <td>Current health expenditure per capita, PPP (cu...</td>\n",
       "      <td>SH.XPD.CHEX.PP.CD</td>\n",
       "      <td>NaN</td>\n",
       "      <td>NaN</td>\n",
       "      <td>NaN</td>\n",
       "      <td>NaN</td>\n",
       "      <td>NaN</td>\n",
       "      <td>NaN</td>\n",
       "      <td>...</td>\n",
       "      <td>150.421832</td>\n",
       "      <td>149.059208</td>\n",
       "      <td>135.274666</td>\n",
       "      <td>140.751044</td>\n",
       "      <td>160.185249</td>\n",
       "      <td>182.228794</td>\n",
       "      <td>200.892067</td>\n",
       "      <td>NaN</td>\n",
       "      <td>NaN</td>\n",
       "      <td>NaN</td>\n",
       "    </tr>\n",
       "    <tr>\n",
       "      <th>4</th>\n",
       "      <td>Angola</td>\n",
       "      <td>AGO</td>\n",
       "      <td>Current health expenditure per capita, PPP (cu...</td>\n",
       "      <td>SH.XPD.CHEX.PP.CD</td>\n",
       "      <td>NaN</td>\n",
       "      <td>NaN</td>\n",
       "      <td>NaN</td>\n",
       "      <td>NaN</td>\n",
       "      <td>NaN</td>\n",
       "      <td>NaN</td>\n",
       "      <td>...</td>\n",
       "      <td>190.471975</td>\n",
       "      <td>201.261772</td>\n",
       "      <td>182.639950</td>\n",
       "      <td>173.056602</td>\n",
       "      <td>217.194974</td>\n",
       "      <td>213.965743</td>\n",
       "      <td>216.919254</td>\n",
       "      <td>NaN</td>\n",
       "      <td>NaN</td>\n",
       "      <td>NaN</td>\n",
       "    </tr>\n",
       "  </tbody>\n",
       "</table>\n",
       "<p>5 rows × 70 columns</p>\n",
       "</div>"
      ],
      "text/plain": [
       "                  Country Name Country Code  \\\n",
       "0                        Aruba          ABW   \n",
       "1  Africa Eastern and Southern          AFE   \n",
       "2                  Afghanistan          AFG   \n",
       "3   Africa Western and Central          AFW   \n",
       "4                       Angola          AGO   \n",
       "\n",
       "                                      Indicator Name     Indicator Code  1960  \\\n",
       "0  Current health expenditure per capita, PPP (cu...  SH.XPD.CHEX.PP.CD   NaN   \n",
       "1  Current health expenditure per capita, PPP (cu...  SH.XPD.CHEX.PP.CD   NaN   \n",
       "2  Current health expenditure per capita, PPP (cu...  SH.XPD.CHEX.PP.CD   NaN   \n",
       "3  Current health expenditure per capita, PPP (cu...  SH.XPD.CHEX.PP.CD   NaN   \n",
       "4  Current health expenditure per capita, PPP (cu...  SH.XPD.CHEX.PP.CD   NaN   \n",
       "\n",
       "   1961  1962  1963  1964  1965  ...        2016        2017        2018  \\\n",
       "0   NaN   NaN   NaN   NaN   NaN  ...         NaN         NaN         NaN   \n",
       "1   NaN   NaN   NaN   NaN   NaN  ...  214.970206  206.302251  203.618676   \n",
       "2   NaN   NaN   NaN   NaN   NaN  ...  238.744806  264.206606  299.372498   \n",
       "3   NaN   NaN   NaN   NaN   NaN  ...  150.421832  149.059208  135.274666   \n",
       "4   NaN   NaN   NaN   NaN   NaN  ...  190.471975  201.261772  182.639950   \n",
       "\n",
       "         2019        2020        2021        2022  2023  2024  Unnamed: 69  \n",
       "0         NaN         NaN         NaN         NaN   NaN   NaN          NaN  \n",
       "1  208.659981  209.392442  218.243527  228.081066   NaN   NaN          NaN  \n",
       "2  320.826992  324.667105  360.758388  383.107288   NaN   NaN          NaN  \n",
       "3  140.751044  160.185249  182.228794  200.892067   NaN   NaN          NaN  \n",
       "4  173.056602  217.194974  213.965743  216.919254   NaN   NaN          NaN  \n",
       "\n",
       "[5 rows x 70 columns]"
      ]
     },
     "execution_count": 38,
     "metadata": {},
     "output_type": "execute_result"
    }
   ],
   "source": [
    "health_expenditure_df = pd.read_csv('./API_SH.XPD.CHEX.PP.CD_DS2_en_csv_v2_34418.csv', skiprows=4)\n",
    "\n",
    "os.chdir('..')\n",
    "health_expenditure_df.head()"
   ]
  },
  {
   "cell_type": "code",
   "execution_count": 39,
   "metadata": {
    "colab": {},
    "colab_type": "code",
    "id": "YHdi0Py_QzOs"
   },
   "outputs": [],
   "source": [
    "recent_year_columns = [str(year) for year in range(2010, 2020)]\n",
    "\n",
    "health_expenditure_df['CountryHealthExpenditurePerCapitaPPP'] = health_expenditure_df[recent_year_columns].apply(\n",
    "    lambda row: row[row.last_valid_index()] if row.last_valid_index() else np.nan,\n",
    "    axis='columns'    \n",
    ")"
   ]
  },
  {
   "cell_type": "code",
   "execution_count": 40,
   "metadata": {
    "colab": {
     "base_uri": "https://localhost:8080/",
     "height": 206
    },
    "colab_type": "code",
    "id": "38g2WZe3RDk3",
    "outputId": "80fcef09-cd26-4756-f385-65490ae4c851"
   },
   "outputs": [
    {
     "data": {
      "application/vnd.microsoft.datawrangler.viewer.v0+json": {
       "columns": [
        {
         "name": "index",
         "rawType": "int64",
         "type": "integer"
        },
        {
         "name": "Country Name",
         "rawType": "object",
         "type": "string"
        },
        {
         "name": "CountryHealthExpenditurePerCapitaPPP",
         "rawType": "float64",
         "type": "float"
        }
       ],
       "ref": "863d317c-cf2a-4f52-92ac-a202c4776e79",
       "rows": [
        [
         "0",
         "Aruba",
         null
        ],
        [
         "1",
         "Africa Eastern and Southern",
         "208.659980653317"
        ],
        [
         "2",
         "Afghanistan",
         "320.826991868121"
        ],
        [
         "3",
         "Africa Western and Central",
         "140.751043907405"
        ],
        [
         "4",
         "Angola",
         "173.056601558737"
        ]
       ],
       "shape": {
        "columns": 2,
        "rows": 5
       }
      },
      "text/html": [
       "<div>\n",
       "<style scoped>\n",
       "    .dataframe tbody tr th:only-of-type {\n",
       "        vertical-align: middle;\n",
       "    }\n",
       "\n",
       "    .dataframe tbody tr th {\n",
       "        vertical-align: top;\n",
       "    }\n",
       "\n",
       "    .dataframe thead th {\n",
       "        text-align: right;\n",
       "    }\n",
       "</style>\n",
       "<table border=\"1\" class=\"dataframe\">\n",
       "  <thead>\n",
       "    <tr style=\"text-align: right;\">\n",
       "      <th></th>\n",
       "      <th>Country Name</th>\n",
       "      <th>CountryHealthExpenditurePerCapitaPPP</th>\n",
       "    </tr>\n",
       "  </thead>\n",
       "  <tbody>\n",
       "    <tr>\n",
       "      <th>0</th>\n",
       "      <td>Aruba</td>\n",
       "      <td>NaN</td>\n",
       "    </tr>\n",
       "    <tr>\n",
       "      <th>1</th>\n",
       "      <td>Africa Eastern and Southern</td>\n",
       "      <td>208.659981</td>\n",
       "    </tr>\n",
       "    <tr>\n",
       "      <th>2</th>\n",
       "      <td>Afghanistan</td>\n",
       "      <td>320.826992</td>\n",
       "    </tr>\n",
       "    <tr>\n",
       "      <th>3</th>\n",
       "      <td>Africa Western and Central</td>\n",
       "      <td>140.751044</td>\n",
       "    </tr>\n",
       "    <tr>\n",
       "      <th>4</th>\n",
       "      <td>Angola</td>\n",
       "      <td>173.056602</td>\n",
       "    </tr>\n",
       "  </tbody>\n",
       "</table>\n",
       "</div>"
      ],
      "text/plain": [
       "                  Country Name  CountryHealthExpenditurePerCapitaPPP\n",
       "0                        Aruba                                   NaN\n",
       "1  Africa Eastern and Southern                            208.659981\n",
       "2                  Afghanistan                            320.826992\n",
       "3   Africa Western and Central                            140.751044\n",
       "4                       Angola                            173.056602"
      ]
     },
     "execution_count": 40,
     "metadata": {},
     "output_type": "execute_result"
    }
   ],
   "source": [
    "health_expenditure_df = health_expenditure_df[['Country Name', 'CountryHealthExpenditurePerCapitaPPP']]\n",
    "health_expenditure_df.head()"
   ]
  },
  {
   "cell_type": "code",
   "execution_count": 41,
   "metadata": {
    "colab": {
     "base_uri": "https://localhost:8080/",
     "height": 256
    },
    "colab_type": "code",
    "id": "011eb8rxRb08",
    "outputId": "a07af4f9-dc09-4bc7-9df2-63029ac4e1e1"
   },
   "outputs": [
    {
     "data": {
      "application/vnd.microsoft.datawrangler.viewer.v0+json": {
       "columns": [
        {
         "name": "index",
         "rawType": "int64",
         "type": "integer"
        },
        {
         "name": "Id",
         "rawType": "float64",
         "type": "float"
        },
        {
         "name": "Province/State",
         "rawType": "object",
         "type": "string"
        },
        {
         "name": "Country/Region",
         "rawType": "object",
         "type": "string"
        },
        {
         "name": "Lat",
         "rawType": "float64",
         "type": "float"
        },
        {
         "name": "Long",
         "rawType": "float64",
         "type": "float"
        },
        {
         "name": "Date",
         "rawType": "datetime64[ns]",
         "type": "datetime"
        },
        {
         "name": "ConfirmedCases",
         "rawType": "float64",
         "type": "float"
        },
        {
         "name": "Fatalities",
         "rawType": "float64",
         "type": "float"
        },
        {
         "name": "ForecastId",
         "rawType": "float64",
         "type": "float"
        },
        {
         "name": "LogNewConfirmedCases",
         "rawType": "float64",
         "type": "float"
        },
        {
         "name": "LogNewConfirmedCases_prev_day_1",
         "rawType": "float64",
         "type": "float"
        },
        {
         "name": "LogNewConfirmedCases_prev_day_2",
         "rawType": "float64",
         "type": "float"
        },
        {
         "name": "LogNewConfirmedCases_prev_day_3",
         "rawType": "float64",
         "type": "float"
        },
        {
         "name": "LogNewConfirmedCases_prev_day_4",
         "rawType": "float64",
         "type": "float"
        },
        {
         "name": "LogNewConfirmedCases_prev_day_5",
         "rawType": "float64",
         "type": "float"
        },
        {
         "name": "LogNewConfirmedCases_prev_day_6",
         "rawType": "float64",
         "type": "float"
        },
        {
         "name": "LogNewConfirmedCases_prev_day_7",
         "rawType": "float64",
         "type": "float"
        },
        {
         "name": "LogNewConfirmedCases_prev_day_8",
         "rawType": "float64",
         "type": "float"
        },
        {
         "name": "LogNewConfirmedCases_prev_day_9",
         "rawType": "float64",
         "type": "float"
        },
        {
         "name": "LogNewConfirmedCases_prev_day_10",
         "rawType": "float64",
         "type": "float"
        },
        {
         "name": "LogNewConfirmedCases_prev_day_11",
         "rawType": "float64",
         "type": "float"
        },
        {
         "name": "LogNewConfirmedCases_prev_day_12",
         "rawType": "float64",
         "type": "float"
        },
        {
         "name": "LogNewConfirmedCases_prev_day_13",
         "rawType": "float64",
         "type": "float"
        },
        {
         "name": "LogNewConfirmedCases_prev_day_14",
         "rawType": "float64",
         "type": "float"
        },
        {
         "name": "LogNewConfirmedCases_prev_day_15",
         "rawType": "float64",
         "type": "float"
        },
        {
         "name": "LogNewConfirmedCases_prev_day_16",
         "rawType": "float64",
         "type": "float"
        },
        {
         "name": "LogNewConfirmedCases_prev_day_17",
         "rawType": "float64",
         "type": "float"
        },
        {
         "name": "LogNewConfirmedCases_prev_day_18",
         "rawType": "float64",
         "type": "float"
        },
        {
         "name": "LogNewConfirmedCases_prev_day_19",
         "rawType": "float64",
         "type": "float"
        },
        {
         "name": "LogNewConfirmedCases_prev_day_20",
         "rawType": "float64",
         "type": "float"
        },
        {
         "name": "LogNewConfirmedCases_prev_day_21",
         "rawType": "float64",
         "type": "float"
        },
        {
         "name": "LogNewConfirmedCases_prev_day_22",
         "rawType": "float64",
         "type": "float"
        },
        {
         "name": "LogNewConfirmedCases_prev_day_23",
         "rawType": "float64",
         "type": "float"
        },
        {
         "name": "LogNewConfirmedCases_prev_day_24",
         "rawType": "float64",
         "type": "float"
        },
        {
         "name": "LogNewConfirmedCases_prev_day_25",
         "rawType": "float64",
         "type": "float"
        },
        {
         "name": "LogNewConfirmedCases_prev_day_26",
         "rawType": "float64",
         "type": "float"
        },
        {
         "name": "LogNewConfirmedCases_prev_day_27",
         "rawType": "float64",
         "type": "float"
        },
        {
         "name": "LogNewConfirmedCases_prev_day_28",
         "rawType": "float64",
         "type": "float"
        },
        {
         "name": "LogNewConfirmedCases_prev_day_29",
         "rawType": "float64",
         "type": "float"
        },
        {
         "name": "LogNewConfirmedCases_prev_day_30",
         "rawType": "float64",
         "type": "float"
        },
        {
         "name": "LogNewFatalities",
         "rawType": "float64",
         "type": "float"
        },
        {
         "name": "LogNewFatalities_prev_day_1",
         "rawType": "float64",
         "type": "float"
        },
        {
         "name": "LogNewFatalities_prev_day_2",
         "rawType": "float64",
         "type": "float"
        },
        {
         "name": "LogNewFatalities_prev_day_3",
         "rawType": "float64",
         "type": "float"
        },
        {
         "name": "LogNewFatalities_prev_day_4",
         "rawType": "float64",
         "type": "float"
        },
        {
         "name": "LogNewFatalities_prev_day_5",
         "rawType": "float64",
         "type": "float"
        },
        {
         "name": "LogNewFatalities_prev_day_6",
         "rawType": "float64",
         "type": "float"
        },
        {
         "name": "LogNewFatalities_prev_day_7",
         "rawType": "float64",
         "type": "float"
        },
        {
         "name": "LogNewFatalities_prev_day_8",
         "rawType": "float64",
         "type": "float"
        },
        {
         "name": "LogNewFatalities_prev_day_9",
         "rawType": "float64",
         "type": "float"
        },
        {
         "name": "LogNewFatalities_prev_day_10",
         "rawType": "float64",
         "type": "float"
        },
        {
         "name": "LogNewFatalities_prev_day_11",
         "rawType": "float64",
         "type": "float"
        },
        {
         "name": "LogNewFatalities_prev_day_12",
         "rawType": "float64",
         "type": "float"
        },
        {
         "name": "LogNewFatalities_prev_day_13",
         "rawType": "float64",
         "type": "float"
        },
        {
         "name": "LogNewFatalities_prev_day_14",
         "rawType": "float64",
         "type": "float"
        },
        {
         "name": "LogNewFatalities_prev_day_15",
         "rawType": "float64",
         "type": "float"
        },
        {
         "name": "LogNewFatalities_prev_day_16",
         "rawType": "float64",
         "type": "float"
        },
        {
         "name": "LogNewFatalities_prev_day_17",
         "rawType": "float64",
         "type": "float"
        },
        {
         "name": "LogNewFatalities_prev_day_18",
         "rawType": "float64",
         "type": "float"
        },
        {
         "name": "LogNewFatalities_prev_day_19",
         "rawType": "float64",
         "type": "float"
        },
        {
         "name": "LogNewFatalities_prev_day_20",
         "rawType": "float64",
         "type": "float"
        },
        {
         "name": "LogNewFatalities_prev_day_21",
         "rawType": "float64",
         "type": "float"
        },
        {
         "name": "LogNewFatalities_prev_day_22",
         "rawType": "float64",
         "type": "float"
        },
        {
         "name": "LogNewFatalities_prev_day_23",
         "rawType": "float64",
         "type": "float"
        },
        {
         "name": "LogNewFatalities_prev_day_24",
         "rawType": "float64",
         "type": "float"
        },
        {
         "name": "LogNewFatalities_prev_day_25",
         "rawType": "float64",
         "type": "float"
        },
        {
         "name": "LogNewFatalities_prev_day_26",
         "rawType": "float64",
         "type": "float"
        },
        {
         "name": "LogNewFatalities_prev_day_27",
         "rawType": "float64",
         "type": "float"
        },
        {
         "name": "LogNewFatalities_prev_day_28",
         "rawType": "float64",
         "type": "float"
        },
        {
         "name": "LogNewFatalities_prev_day_29",
         "rawType": "float64",
         "type": "float"
        },
        {
         "name": "LogNewFatalities_prev_day_30",
         "rawType": "float64",
         "type": "float"
        },
        {
         "name": "Day",
         "rawType": "int32",
         "type": "integer"
        },
        {
         "name": "WeekDay",
         "rawType": "int64",
         "type": "integer"
        },
        {
         "name": "Days_since_ConfirmedCases=1",
         "rawType": "float64",
         "type": "float"
        },
        {
         "name": "Days_since_Fatalities=1",
         "rawType": "float64",
         "type": "float"
        },
        {
         "name": "Days_since_ConfirmedCases=10",
         "rawType": "float64",
         "type": "float"
        },
        {
         "name": "Days_since_Fatalities=10",
         "rawType": "float64",
         "type": "float"
        },
        {
         "name": "Days_since_ConfirmedCases=100",
         "rawType": "float64",
         "type": "float"
        },
        {
         "name": "Days_since_Fatalities=100",
         "rawType": "float64",
         "type": "float"
        },
        {
         "name": "Distance_to_origin",
         "rawType": "float64",
         "type": "float"
        },
        {
         "name": "CountryArea",
         "rawType": "float64",
         "type": "float"
        },
        {
         "name": "CountryPop_0-20",
         "rawType": "float64",
         "type": "float"
        },
        {
         "name": "CountryPop_20-40",
         "rawType": "float64",
         "type": "float"
        },
        {
         "name": "CountryPop_40-60",
         "rawType": "float64",
         "type": "float"
        },
        {
         "name": "CountryPop_60-80",
         "rawType": "float64",
         "type": "float"
        },
        {
         "name": "CountryPop_80+",
         "rawType": "float64",
         "type": "float"
        },
        {
         "name": "CountryPopMale",
         "rawType": "float64",
         "type": "float"
        },
        {
         "name": "CountryPopFemale",
         "rawType": "float64",
         "type": "float"
        },
        {
         "name": "CountryPopTotal",
         "rawType": "float64",
         "type": "float"
        },
        {
         "name": "CountryPopDensity",
         "rawType": "float64",
         "type": "float"
        },
        {
         "name": "CountrySmokingRate",
         "rawType": "float64",
         "type": "float"
        },
        {
         "name": "CountryHospitalBedsRate",
         "rawType": "float64",
         "type": "float"
        },
        {
         "name": "CountryHealthExpenditurePerCapitaPPP",
         "rawType": "float64",
         "type": "float"
        }
       ],
       "ref": "bc64d408-e87f-4cca-b759-60c8f851dcf9",
       "rows": [
        [
         "0",
         "1.0",
         "",
         "Afghanistan",
         "33.0",
         "65.0",
         "2020-01-22 00:00:00",
         "0.0",
         "0.0",
         null,
         "0.0",
         null,
         null,
         null,
         null,
         null,
         null,
         null,
         null,
         null,
         null,
         null,
         null,
         null,
         null,
         null,
         null,
         null,
         null,
         null,
         null,
         null,
         null,
         null,
         null,
         null,
         null,
         null,
         null,
         null,
         null,
         "0.0",
         null,
         null,
         null,
         null,
         null,
         null,
         null,
         null,
         null,
         null,
         null,
         null,
         null,
         null,
         null,
         null,
         null,
         null,
         null,
         null,
         null,
         null,
         null,
         null,
         null,
         null,
         null,
         null,
         null,
         null,
         "0",
         "2",
         "-1.0",
         "-1.0",
         "-1.0",
         null,
         null,
         null,
         "4435.23261787452",
         "652230.0",
         "20676.364999999998",
         "11160.511",
         "4620.268",
         "1479.526",
         "105.087",
         "19529.727000000003",
         "18512.030000000002",
         "38041.757000000005",
         "0.058325678058353654",
         "26.6",
         "0.38",
         "320.826991868121"
        ],
        [
         "1",
         "8185.0",
         "",
         "Cyprus",
         "35.1264",
         "33.4299",
         "2020-01-22 00:00:00",
         "0.0",
         "0.0",
         null,
         "0.0",
         null,
         null,
         null,
         null,
         null,
         null,
         null,
         null,
         null,
         null,
         null,
         null,
         null,
         null,
         null,
         null,
         null,
         null,
         null,
         null,
         null,
         null,
         null,
         null,
         null,
         null,
         null,
         null,
         null,
         null,
         "0.0",
         null,
         null,
         null,
         null,
         null,
         null,
         null,
         null,
         null,
         null,
         null,
         null,
         null,
         null,
         null,
         null,
         null,
         null,
         null,
         null,
         null,
         null,
         null,
         null,
         null,
         null,
         null,
         null,
         null,
         null,
         "0",
         "2",
         "-1.0",
         "-1.0",
         "-1.0",
         null,
         "-1.0",
         null,
         "7177.52919479716",
         "9240.0",
         "275.284",
         "382.653",
         "308.911",
         "193.20200000000003",
         "38.52400000000001",
         "599.297",
         "599.2769999999999",
         "1198.574",
         "0.12971580086580087",
         "37.1",
         "2.24",
         "3179.28447990541"
        ],
        [
         "2",
         "21112.0",
         "Guam",
         "US",
         "13.4443",
         "144.7937",
         "2020-01-22 00:00:00",
         "0.0",
         "0.0",
         null,
         "0.0",
         null,
         null,
         null,
         null,
         null,
         null,
         null,
         null,
         null,
         null,
         null,
         null,
         null,
         null,
         null,
         null,
         null,
         null,
         null,
         null,
         null,
         null,
         null,
         null,
         null,
         null,
         null,
         null,
         null,
         null,
         "0.0",
         null,
         null,
         null,
         null,
         null,
         null,
         null,
         null,
         null,
         null,
         null,
         null,
         null,
         null,
         null,
         null,
         null,
         null,
         null,
         null,
         null,
         null,
         null,
         null,
         null,
         null,
         null,
         null,
         null,
         null,
         "0",
         "2",
         "-1.0",
         "-1.0",
         "-1.0",
         null,
         null,
         null,
         "3851.942688846099",
         "9147420.0",
         "82289.916",
         "90159.134",
         "82846.126",
         "60854.331999999995",
         "12915.409",
         "162826.299",
         "166238.61800000002",
         "329064.917",
         "0.03597352226092166",
         null,
         null,
         null
        ],
        [
         "3",
         "8278.0",
         "",
         "Czechia",
         "49.8175",
         "15.473",
         "2020-01-22 00:00:00",
         "0.0",
         "0.0",
         null,
         "0.0",
         null,
         null,
         null,
         null,
         null,
         null,
         null,
         null,
         null,
         null,
         null,
         null,
         null,
         null,
         null,
         null,
         null,
         null,
         null,
         null,
         null,
         null,
         null,
         null,
         null,
         null,
         null,
         null,
         null,
         null,
         "0.0",
         null,
         null,
         null,
         null,
         null,
         null,
         null,
         null,
         null,
         null,
         null,
         null,
         null,
         null,
         null,
         null,
         null,
         null,
         null,
         null,
         null,
         null,
         null,
         null,
         null,
         null,
         null,
         null,
         null,
         null,
         "0",
         "2",
         null,
         null,
         null,
         null,
         null,
         null,
         "7897.6240377791955",
         "77205.5",
         "2152.923",
         "2656.34",
         "3107.36",
         "2332.215",
         "440.375",
         "5260.628",
         "5428.585",
         "10689.213",
         "0.13845144452143954",
         "31.4",
         "6.66",
         "3422.44658856912"
        ],
        [
         "4",
         "8371.0",
         "Denmark",
         "Denmark",
         "56.2639",
         "9.5018",
         "2020-01-22 00:00:00",
         "0.0",
         "0.0",
         null,
         "0.0",
         null,
         null,
         null,
         null,
         null,
         null,
         null,
         null,
         null,
         null,
         null,
         null,
         null,
         null,
         null,
         null,
         null,
         null,
         null,
         null,
         null,
         null,
         null,
         null,
         null,
         null,
         null,
         null,
         null,
         null,
         "0.0",
         null,
         null,
         null,
         null,
         null,
         null,
         null,
         null,
         null,
         null,
         null,
         null,
         null,
         null,
         null,
         null,
         null,
         null,
         null,
         null,
         null,
         null,
         null,
         null,
         null,
         null,
         null,
         null,
         null,
         null,
         "0",
         "2",
         "-1.0",
         "-1.0",
         "-1.0",
         "-1.0",
         "-1.0",
         null,
         "7931.069186113015",
         "40000.0",
         "1287.864",
         "1437.566",
         "1556.036",
         "1224.13",
         "266.28099999999995",
         "2869.672",
         "2902.205",
         "5771.877",
         "0.14429692500000002",
         "21.2",
         "2.6",
         "6180.27342884579"
        ]
       ],
       "shape": {
        "columns": 93,
        "rows": 5
       }
      },
      "text/html": [
       "<div>\n",
       "<style scoped>\n",
       "    .dataframe tbody tr th:only-of-type {\n",
       "        vertical-align: middle;\n",
       "    }\n",
       "\n",
       "    .dataframe tbody tr th {\n",
       "        vertical-align: top;\n",
       "    }\n",
       "\n",
       "    .dataframe thead th {\n",
       "        text-align: right;\n",
       "    }\n",
       "</style>\n",
       "<table border=\"1\" class=\"dataframe\">\n",
       "  <thead>\n",
       "    <tr style=\"text-align: right;\">\n",
       "      <th></th>\n",
       "      <th>Id</th>\n",
       "      <th>Province/State</th>\n",
       "      <th>Country/Region</th>\n",
       "      <th>Lat</th>\n",
       "      <th>Long</th>\n",
       "      <th>Date</th>\n",
       "      <th>ConfirmedCases</th>\n",
       "      <th>Fatalities</th>\n",
       "      <th>ForecastId</th>\n",
       "      <th>LogNewConfirmedCases</th>\n",
       "      <th>...</th>\n",
       "      <th>CountryPop_40-60</th>\n",
       "      <th>CountryPop_60-80</th>\n",
       "      <th>CountryPop_80+</th>\n",
       "      <th>CountryPopMale</th>\n",
       "      <th>CountryPopFemale</th>\n",
       "      <th>CountryPopTotal</th>\n",
       "      <th>CountryPopDensity</th>\n",
       "      <th>CountrySmokingRate</th>\n",
       "      <th>CountryHospitalBedsRate</th>\n",
       "      <th>CountryHealthExpenditurePerCapitaPPP</th>\n",
       "    </tr>\n",
       "  </thead>\n",
       "  <tbody>\n",
       "    <tr>\n",
       "      <th>0</th>\n",
       "      <td>1.0</td>\n",
       "      <td></td>\n",
       "      <td>Afghanistan</td>\n",
       "      <td>33.0000</td>\n",
       "      <td>65.0000</td>\n",
       "      <td>2020-01-22</td>\n",
       "      <td>0.0</td>\n",
       "      <td>0.0</td>\n",
       "      <td>NaN</td>\n",
       "      <td>0.0</td>\n",
       "      <td>...</td>\n",
       "      <td>4620.268</td>\n",
       "      <td>1479.526</td>\n",
       "      <td>105.087</td>\n",
       "      <td>19529.727</td>\n",
       "      <td>18512.030</td>\n",
       "      <td>38041.757</td>\n",
       "      <td>0.058326</td>\n",
       "      <td>26.6</td>\n",
       "      <td>0.38</td>\n",
       "      <td>320.826992</td>\n",
       "    </tr>\n",
       "    <tr>\n",
       "      <th>1</th>\n",
       "      <td>8185.0</td>\n",
       "      <td></td>\n",
       "      <td>Cyprus</td>\n",
       "      <td>35.1264</td>\n",
       "      <td>33.4299</td>\n",
       "      <td>2020-01-22</td>\n",
       "      <td>0.0</td>\n",
       "      <td>0.0</td>\n",
       "      <td>NaN</td>\n",
       "      <td>0.0</td>\n",
       "      <td>...</td>\n",
       "      <td>308.911</td>\n",
       "      <td>193.202</td>\n",
       "      <td>38.524</td>\n",
       "      <td>599.297</td>\n",
       "      <td>599.277</td>\n",
       "      <td>1198.574</td>\n",
       "      <td>0.129716</td>\n",
       "      <td>37.1</td>\n",
       "      <td>2.24</td>\n",
       "      <td>3179.284480</td>\n",
       "    </tr>\n",
       "    <tr>\n",
       "      <th>2</th>\n",
       "      <td>21112.0</td>\n",
       "      <td>Guam</td>\n",
       "      <td>US</td>\n",
       "      <td>13.4443</td>\n",
       "      <td>144.7937</td>\n",
       "      <td>2020-01-22</td>\n",
       "      <td>0.0</td>\n",
       "      <td>0.0</td>\n",
       "      <td>NaN</td>\n",
       "      <td>0.0</td>\n",
       "      <td>...</td>\n",
       "      <td>82846.126</td>\n",
       "      <td>60854.332</td>\n",
       "      <td>12915.409</td>\n",
       "      <td>162826.299</td>\n",
       "      <td>166238.618</td>\n",
       "      <td>329064.917</td>\n",
       "      <td>0.035974</td>\n",
       "      <td>NaN</td>\n",
       "      <td>NaN</td>\n",
       "      <td>NaN</td>\n",
       "    </tr>\n",
       "    <tr>\n",
       "      <th>3</th>\n",
       "      <td>8278.0</td>\n",
       "      <td></td>\n",
       "      <td>Czechia</td>\n",
       "      <td>49.8175</td>\n",
       "      <td>15.4730</td>\n",
       "      <td>2020-01-22</td>\n",
       "      <td>0.0</td>\n",
       "      <td>0.0</td>\n",
       "      <td>NaN</td>\n",
       "      <td>0.0</td>\n",
       "      <td>...</td>\n",
       "      <td>3107.360</td>\n",
       "      <td>2332.215</td>\n",
       "      <td>440.375</td>\n",
       "      <td>5260.628</td>\n",
       "      <td>5428.585</td>\n",
       "      <td>10689.213</td>\n",
       "      <td>0.138451</td>\n",
       "      <td>31.4</td>\n",
       "      <td>6.66</td>\n",
       "      <td>3422.446589</td>\n",
       "    </tr>\n",
       "    <tr>\n",
       "      <th>4</th>\n",
       "      <td>8371.0</td>\n",
       "      <td>Denmark</td>\n",
       "      <td>Denmark</td>\n",
       "      <td>56.2639</td>\n",
       "      <td>9.5018</td>\n",
       "      <td>2020-01-22</td>\n",
       "      <td>0.0</td>\n",
       "      <td>0.0</td>\n",
       "      <td>NaN</td>\n",
       "      <td>0.0</td>\n",
       "      <td>...</td>\n",
       "      <td>1556.036</td>\n",
       "      <td>1224.130</td>\n",
       "      <td>266.281</td>\n",
       "      <td>2869.672</td>\n",
       "      <td>2902.205</td>\n",
       "      <td>5771.877</td>\n",
       "      <td>0.144297</td>\n",
       "      <td>21.2</td>\n",
       "      <td>2.60</td>\n",
       "      <td>6180.273429</td>\n",
       "    </tr>\n",
       "  </tbody>\n",
       "</table>\n",
       "<p>5 rows × 93 columns</p>\n",
       "</div>"
      ],
      "text/plain": [
       "        Id Province/State Country/Region      Lat      Long       Date  \\\n",
       "0      1.0                   Afghanistan  33.0000   65.0000 2020-01-22   \n",
       "1   8185.0                        Cyprus  35.1264   33.4299 2020-01-22   \n",
       "2  21112.0           Guam             US  13.4443  144.7937 2020-01-22   \n",
       "3   8278.0                       Czechia  49.8175   15.4730 2020-01-22   \n",
       "4   8371.0        Denmark        Denmark  56.2639    9.5018 2020-01-22   \n",
       "\n",
       "   ConfirmedCases  Fatalities  ForecastId  LogNewConfirmedCases  ...  \\\n",
       "0             0.0         0.0         NaN                   0.0  ...   \n",
       "1             0.0         0.0         NaN                   0.0  ...   \n",
       "2             0.0         0.0         NaN                   0.0  ...   \n",
       "3             0.0         0.0         NaN                   0.0  ...   \n",
       "4             0.0         0.0         NaN                   0.0  ...   \n",
       "\n",
       "   CountryPop_40-60  CountryPop_60-80  CountryPop_80+  CountryPopMale  \\\n",
       "0          4620.268          1479.526         105.087       19529.727   \n",
       "1           308.911           193.202          38.524         599.297   \n",
       "2         82846.126         60854.332       12915.409      162826.299   \n",
       "3          3107.360          2332.215         440.375        5260.628   \n",
       "4          1556.036          1224.130         266.281        2869.672   \n",
       "\n",
       "   CountryPopFemale  CountryPopTotal  CountryPopDensity  CountrySmokingRate  \\\n",
       "0         18512.030        38041.757           0.058326                26.6   \n",
       "1           599.277         1198.574           0.129716                37.1   \n",
       "2        166238.618       329064.917           0.035974                 NaN   \n",
       "3          5428.585        10689.213           0.138451                31.4   \n",
       "4          2902.205         5771.877           0.144297                21.2   \n",
       "\n",
       "   CountryHospitalBedsRate  CountryHealthExpenditurePerCapitaPPP  \n",
       "0                     0.38                            320.826992  \n",
       "1                     2.24                           3179.284480  \n",
       "2                      NaN                                   NaN  \n",
       "3                     6.66                           3422.446589  \n",
       "4                     2.60                           6180.273429  \n",
       "\n",
       "[5 rows x 93 columns]"
      ]
     },
     "execution_count": 41,
     "metadata": {},
     "output_type": "execute_result"
    }
   ],
   "source": [
    "main_df = merge_with_column_drop(\n",
    "    main_df,\n",
    "    health_expenditure_df,\n",
    "    right_df_column='Country Name'\n",
    ")\n",
    "main_df.head()"
   ]
  },
  {
   "cell_type": "markdown",
   "metadata": {
    "colab_type": "text",
    "id": "To5EPZPHn5if"
   },
   "source": [
    "## Prepare data for training\n"
   ]
  },
  {
   "cell_type": "code",
   "execution_count": 42,
   "metadata": {
    "colab": {},
    "colab_type": "code",
    "id": "fD9v3eMwHJtz"
   },
   "outputs": [],
   "source": [
    "last_train_date = pd.Timestamp(2020, 3, 11)\n",
    "last_eval_date = pd.Timestamp(2020, 3, 24)\n",
    "last_test_date = pd.Timestamp(2020, 4, 23)\n",
    "\n",
    "train_df = main_df[main_df['Date'] <= last_train_date].copy()\n",
    "eval_df = main_df[(main_df['Date'] > last_train_date) & (main_df['Date'] <= last_eval_date)].copy()\n",
    "test_df = main_df[main_df['Date'] > last_eval_date].copy()\n",
    "\n",
    "# return features_df, labels\n",
    "def preprocess_df(df):\n",
    "    labels = df[['LogNewConfirmedCases', 'LogNewFatalities']].copy()\n",
    "    features_df = df.drop(\n",
    "        columns=['Id', 'ForecastId', 'ConfirmedCases', 'LogNewConfirmedCases', 'Fatalities', 'LogNewFatalities', 'Date']\n",
    "    ).copy()\n",
    "    \n",
    "    return features_df, labels\n",
    "\n",
    "train_features_df, train_labels = preprocess_df(train_df)\n",
    "eval_features_df, eval_labels = preprocess_df(eval_df)\n",
    "test_features_df, _ = preprocess_df(test_df)"
   ]
  },
  {
   "cell_type": "code",
   "execution_count": 43,
   "metadata": {
    "colab": {
     "base_uri": "https://localhost:8080/",
     "height": 256
    },
    "colab_type": "code",
    "id": "CLf7521nJJAM",
    "outputId": "2e597b9e-67a3-4c9b-a471-2948b09096db"
   },
   "outputs": [
    {
     "data": {
      "application/vnd.microsoft.datawrangler.viewer.v0+json": {
       "columns": [
        {
         "name": "index",
         "rawType": "int64",
         "type": "integer"
        },
        {
         "name": "Province/State",
         "rawType": "object",
         "type": "string"
        },
        {
         "name": "Country/Region",
         "rawType": "object",
         "type": "string"
        },
        {
         "name": "Lat",
         "rawType": "float64",
         "type": "float"
        },
        {
         "name": "Long",
         "rawType": "float64",
         "type": "float"
        },
        {
         "name": "LogNewConfirmedCases_prev_day_1",
         "rawType": "float64",
         "type": "float"
        },
        {
         "name": "LogNewConfirmedCases_prev_day_2",
         "rawType": "float64",
         "type": "float"
        },
        {
         "name": "LogNewConfirmedCases_prev_day_3",
         "rawType": "float64",
         "type": "float"
        },
        {
         "name": "LogNewConfirmedCases_prev_day_4",
         "rawType": "float64",
         "type": "float"
        },
        {
         "name": "LogNewConfirmedCases_prev_day_5",
         "rawType": "float64",
         "type": "float"
        },
        {
         "name": "LogNewConfirmedCases_prev_day_6",
         "rawType": "float64",
         "type": "float"
        },
        {
         "name": "LogNewConfirmedCases_prev_day_7",
         "rawType": "float64",
         "type": "float"
        },
        {
         "name": "LogNewConfirmedCases_prev_day_8",
         "rawType": "float64",
         "type": "float"
        },
        {
         "name": "LogNewConfirmedCases_prev_day_9",
         "rawType": "float64",
         "type": "float"
        },
        {
         "name": "LogNewConfirmedCases_prev_day_10",
         "rawType": "float64",
         "type": "float"
        },
        {
         "name": "LogNewConfirmedCases_prev_day_11",
         "rawType": "float64",
         "type": "float"
        },
        {
         "name": "LogNewConfirmedCases_prev_day_12",
         "rawType": "float64",
         "type": "float"
        },
        {
         "name": "LogNewConfirmedCases_prev_day_13",
         "rawType": "float64",
         "type": "float"
        },
        {
         "name": "LogNewConfirmedCases_prev_day_14",
         "rawType": "float64",
         "type": "float"
        },
        {
         "name": "LogNewConfirmedCases_prev_day_15",
         "rawType": "float64",
         "type": "float"
        },
        {
         "name": "LogNewConfirmedCases_prev_day_16",
         "rawType": "float64",
         "type": "float"
        },
        {
         "name": "LogNewConfirmedCases_prev_day_17",
         "rawType": "float64",
         "type": "float"
        },
        {
         "name": "LogNewConfirmedCases_prev_day_18",
         "rawType": "float64",
         "type": "float"
        },
        {
         "name": "LogNewConfirmedCases_prev_day_19",
         "rawType": "float64",
         "type": "float"
        },
        {
         "name": "LogNewConfirmedCases_prev_day_20",
         "rawType": "float64",
         "type": "float"
        },
        {
         "name": "LogNewConfirmedCases_prev_day_21",
         "rawType": "float64",
         "type": "float"
        },
        {
         "name": "LogNewConfirmedCases_prev_day_22",
         "rawType": "float64",
         "type": "float"
        },
        {
         "name": "LogNewConfirmedCases_prev_day_23",
         "rawType": "float64",
         "type": "float"
        },
        {
         "name": "LogNewConfirmedCases_prev_day_24",
         "rawType": "float64",
         "type": "float"
        },
        {
         "name": "LogNewConfirmedCases_prev_day_25",
         "rawType": "float64",
         "type": "float"
        },
        {
         "name": "LogNewConfirmedCases_prev_day_26",
         "rawType": "float64",
         "type": "float"
        },
        {
         "name": "LogNewConfirmedCases_prev_day_27",
         "rawType": "float64",
         "type": "float"
        },
        {
         "name": "LogNewConfirmedCases_prev_day_28",
         "rawType": "float64",
         "type": "float"
        },
        {
         "name": "LogNewConfirmedCases_prev_day_29",
         "rawType": "float64",
         "type": "float"
        },
        {
         "name": "LogNewConfirmedCases_prev_day_30",
         "rawType": "float64",
         "type": "float"
        },
        {
         "name": "LogNewFatalities_prev_day_1",
         "rawType": "float64",
         "type": "float"
        },
        {
         "name": "LogNewFatalities_prev_day_2",
         "rawType": "float64",
         "type": "float"
        },
        {
         "name": "LogNewFatalities_prev_day_3",
         "rawType": "float64",
         "type": "float"
        },
        {
         "name": "LogNewFatalities_prev_day_4",
         "rawType": "float64",
         "type": "float"
        },
        {
         "name": "LogNewFatalities_prev_day_5",
         "rawType": "float64",
         "type": "float"
        },
        {
         "name": "LogNewFatalities_prev_day_6",
         "rawType": "float64",
         "type": "float"
        },
        {
         "name": "LogNewFatalities_prev_day_7",
         "rawType": "float64",
         "type": "float"
        },
        {
         "name": "LogNewFatalities_prev_day_8",
         "rawType": "float64",
         "type": "float"
        },
        {
         "name": "LogNewFatalities_prev_day_9",
         "rawType": "float64",
         "type": "float"
        },
        {
         "name": "LogNewFatalities_prev_day_10",
         "rawType": "float64",
         "type": "float"
        },
        {
         "name": "LogNewFatalities_prev_day_11",
         "rawType": "float64",
         "type": "float"
        },
        {
         "name": "LogNewFatalities_prev_day_12",
         "rawType": "float64",
         "type": "float"
        },
        {
         "name": "LogNewFatalities_prev_day_13",
         "rawType": "float64",
         "type": "float"
        },
        {
         "name": "LogNewFatalities_prev_day_14",
         "rawType": "float64",
         "type": "float"
        },
        {
         "name": "LogNewFatalities_prev_day_15",
         "rawType": "float64",
         "type": "float"
        },
        {
         "name": "LogNewFatalities_prev_day_16",
         "rawType": "float64",
         "type": "float"
        },
        {
         "name": "LogNewFatalities_prev_day_17",
         "rawType": "float64",
         "type": "float"
        },
        {
         "name": "LogNewFatalities_prev_day_18",
         "rawType": "float64",
         "type": "float"
        },
        {
         "name": "LogNewFatalities_prev_day_19",
         "rawType": "float64",
         "type": "float"
        },
        {
         "name": "LogNewFatalities_prev_day_20",
         "rawType": "float64",
         "type": "float"
        },
        {
         "name": "LogNewFatalities_prev_day_21",
         "rawType": "float64",
         "type": "float"
        },
        {
         "name": "LogNewFatalities_prev_day_22",
         "rawType": "float64",
         "type": "float"
        },
        {
         "name": "LogNewFatalities_prev_day_23",
         "rawType": "float64",
         "type": "float"
        },
        {
         "name": "LogNewFatalities_prev_day_24",
         "rawType": "float64",
         "type": "float"
        },
        {
         "name": "LogNewFatalities_prev_day_25",
         "rawType": "float64",
         "type": "float"
        },
        {
         "name": "LogNewFatalities_prev_day_26",
         "rawType": "float64",
         "type": "float"
        },
        {
         "name": "LogNewFatalities_prev_day_27",
         "rawType": "float64",
         "type": "float"
        },
        {
         "name": "LogNewFatalities_prev_day_28",
         "rawType": "float64",
         "type": "float"
        },
        {
         "name": "LogNewFatalities_prev_day_29",
         "rawType": "float64",
         "type": "float"
        },
        {
         "name": "LogNewFatalities_prev_day_30",
         "rawType": "float64",
         "type": "float"
        },
        {
         "name": "Day",
         "rawType": "int32",
         "type": "integer"
        },
        {
         "name": "WeekDay",
         "rawType": "int64",
         "type": "integer"
        },
        {
         "name": "Days_since_ConfirmedCases=1",
         "rawType": "float64",
         "type": "float"
        },
        {
         "name": "Days_since_Fatalities=1",
         "rawType": "float64",
         "type": "float"
        },
        {
         "name": "Days_since_ConfirmedCases=10",
         "rawType": "float64",
         "type": "float"
        },
        {
         "name": "Days_since_Fatalities=10",
         "rawType": "float64",
         "type": "float"
        },
        {
         "name": "Days_since_ConfirmedCases=100",
         "rawType": "float64",
         "type": "float"
        },
        {
         "name": "Days_since_Fatalities=100",
         "rawType": "float64",
         "type": "float"
        },
        {
         "name": "Distance_to_origin",
         "rawType": "float64",
         "type": "float"
        },
        {
         "name": "CountryArea",
         "rawType": "float64",
         "type": "float"
        },
        {
         "name": "CountryPop_0-20",
         "rawType": "float64",
         "type": "float"
        },
        {
         "name": "CountryPop_20-40",
         "rawType": "float64",
         "type": "float"
        },
        {
         "name": "CountryPop_40-60",
         "rawType": "float64",
         "type": "float"
        },
        {
         "name": "CountryPop_60-80",
         "rawType": "float64",
         "type": "float"
        },
        {
         "name": "CountryPop_80+",
         "rawType": "float64",
         "type": "float"
        },
        {
         "name": "CountryPopMale",
         "rawType": "float64",
         "type": "float"
        },
        {
         "name": "CountryPopFemale",
         "rawType": "float64",
         "type": "float"
        },
        {
         "name": "CountryPopTotal",
         "rawType": "float64",
         "type": "float"
        },
        {
         "name": "CountryPopDensity",
         "rawType": "float64",
         "type": "float"
        },
        {
         "name": "CountrySmokingRate",
         "rawType": "float64",
         "type": "float"
        },
        {
         "name": "CountryHospitalBedsRate",
         "rawType": "float64",
         "type": "float"
        },
        {
         "name": "CountryHealthExpenditurePerCapitaPPP",
         "rawType": "float64",
         "type": "float"
        }
       ],
       "ref": "ef95b242-06b6-4622-88f0-1399fe1375cd",
       "rows": [
        [
         "0",
         "",
         "Afghanistan",
         "33.0",
         "65.0",
         null,
         null,
         null,
         null,
         null,
         null,
         null,
         null,
         null,
         null,
         null,
         null,
         null,
         null,
         null,
         null,
         null,
         null,
         null,
         null,
         null,
         null,
         null,
         null,
         null,
         null,
         null,
         null,
         null,
         null,
         null,
         null,
         null,
         null,
         null,
         null,
         null,
         null,
         null,
         null,
         null,
         null,
         null,
         null,
         null,
         null,
         null,
         null,
         null,
         null,
         null,
         null,
         null,
         null,
         null,
         null,
         null,
         null,
         null,
         null,
         "0",
         "2",
         "-1.0",
         "-1.0",
         "-1.0",
         null,
         null,
         null,
         "4435.23261787452",
         "652230.0",
         "20676.364999999998",
         "11160.511",
         "4620.268",
         "1479.526",
         "105.087",
         "19529.727000000003",
         "18512.030000000002",
         "38041.757000000005",
         "0.058325678058353654",
         "26.6",
         "0.38",
         "320.826991868121"
        ],
        [
         "1",
         "",
         "Cyprus",
         "35.1264",
         "33.4299",
         null,
         null,
         null,
         null,
         null,
         null,
         null,
         null,
         null,
         null,
         null,
         null,
         null,
         null,
         null,
         null,
         null,
         null,
         null,
         null,
         null,
         null,
         null,
         null,
         null,
         null,
         null,
         null,
         null,
         null,
         null,
         null,
         null,
         null,
         null,
         null,
         null,
         null,
         null,
         null,
         null,
         null,
         null,
         null,
         null,
         null,
         null,
         null,
         null,
         null,
         null,
         null,
         null,
         null,
         null,
         null,
         null,
         null,
         null,
         null,
         "0",
         "2",
         "-1.0",
         "-1.0",
         "-1.0",
         null,
         "-1.0",
         null,
         "7177.52919479716",
         "9240.0",
         "275.284",
         "382.653",
         "308.911",
         "193.20200000000003",
         "38.52400000000001",
         "599.297",
         "599.2769999999999",
         "1198.574",
         "0.12971580086580087",
         "37.1",
         "2.24",
         "3179.28447990541"
        ],
        [
         "2",
         "Guam",
         "US",
         "13.4443",
         "144.7937",
         null,
         null,
         null,
         null,
         null,
         null,
         null,
         null,
         null,
         null,
         null,
         null,
         null,
         null,
         null,
         null,
         null,
         null,
         null,
         null,
         null,
         null,
         null,
         null,
         null,
         null,
         null,
         null,
         null,
         null,
         null,
         null,
         null,
         null,
         null,
         null,
         null,
         null,
         null,
         null,
         null,
         null,
         null,
         null,
         null,
         null,
         null,
         null,
         null,
         null,
         null,
         null,
         null,
         null,
         null,
         null,
         null,
         null,
         null,
         null,
         "0",
         "2",
         "-1.0",
         "-1.0",
         "-1.0",
         null,
         null,
         null,
         "3851.942688846099",
         "9147420.0",
         "82289.916",
         "90159.134",
         "82846.126",
         "60854.331999999995",
         "12915.409",
         "162826.299",
         "166238.61800000002",
         "329064.917",
         "0.03597352226092166",
         null,
         null,
         null
        ],
        [
         "3",
         "",
         "Czechia",
         "49.8175",
         "15.473",
         null,
         null,
         null,
         null,
         null,
         null,
         null,
         null,
         null,
         null,
         null,
         null,
         null,
         null,
         null,
         null,
         null,
         null,
         null,
         null,
         null,
         null,
         null,
         null,
         null,
         null,
         null,
         null,
         null,
         null,
         null,
         null,
         null,
         null,
         null,
         null,
         null,
         null,
         null,
         null,
         null,
         null,
         null,
         null,
         null,
         null,
         null,
         null,
         null,
         null,
         null,
         null,
         null,
         null,
         null,
         null,
         null,
         null,
         null,
         null,
         "0",
         "2",
         null,
         null,
         null,
         null,
         null,
         null,
         "7897.6240377791955",
         "77205.5",
         "2152.923",
         "2656.34",
         "3107.36",
         "2332.215",
         "440.375",
         "5260.628",
         "5428.585",
         "10689.213",
         "0.13845144452143954",
         "31.4",
         "6.66",
         "3422.44658856912"
        ],
        [
         "4",
         "Denmark",
         "Denmark",
         "56.2639",
         "9.5018",
         null,
         null,
         null,
         null,
         null,
         null,
         null,
         null,
         null,
         null,
         null,
         null,
         null,
         null,
         null,
         null,
         null,
         null,
         null,
         null,
         null,
         null,
         null,
         null,
         null,
         null,
         null,
         null,
         null,
         null,
         null,
         null,
         null,
         null,
         null,
         null,
         null,
         null,
         null,
         null,
         null,
         null,
         null,
         null,
         null,
         null,
         null,
         null,
         null,
         null,
         null,
         null,
         null,
         null,
         null,
         null,
         null,
         null,
         null,
         null,
         "0",
         "2",
         "-1.0",
         "-1.0",
         "-1.0",
         "-1.0",
         "-1.0",
         null,
         "7931.069186113015",
         "40000.0",
         "1287.864",
         "1437.566",
         "1556.036",
         "1224.13",
         "266.28099999999995",
         "2869.672",
         "2902.205",
         "5771.877",
         "0.14429692500000002",
         "21.2",
         "2.6",
         "6180.27342884579"
        ]
       ],
       "shape": {
        "columns": 86,
        "rows": 5
       }
      },
      "text/html": [
       "<div>\n",
       "<style scoped>\n",
       "    .dataframe tbody tr th:only-of-type {\n",
       "        vertical-align: middle;\n",
       "    }\n",
       "\n",
       "    .dataframe tbody tr th {\n",
       "        vertical-align: top;\n",
       "    }\n",
       "\n",
       "    .dataframe thead th {\n",
       "        text-align: right;\n",
       "    }\n",
       "</style>\n",
       "<table border=\"1\" class=\"dataframe\">\n",
       "  <thead>\n",
       "    <tr style=\"text-align: right;\">\n",
       "      <th></th>\n",
       "      <th>Province/State</th>\n",
       "      <th>Country/Region</th>\n",
       "      <th>Lat</th>\n",
       "      <th>Long</th>\n",
       "      <th>LogNewConfirmedCases_prev_day_1</th>\n",
       "      <th>LogNewConfirmedCases_prev_day_2</th>\n",
       "      <th>LogNewConfirmedCases_prev_day_3</th>\n",
       "      <th>LogNewConfirmedCases_prev_day_4</th>\n",
       "      <th>LogNewConfirmedCases_prev_day_5</th>\n",
       "      <th>LogNewConfirmedCases_prev_day_6</th>\n",
       "      <th>...</th>\n",
       "      <th>CountryPop_40-60</th>\n",
       "      <th>CountryPop_60-80</th>\n",
       "      <th>CountryPop_80+</th>\n",
       "      <th>CountryPopMale</th>\n",
       "      <th>CountryPopFemale</th>\n",
       "      <th>CountryPopTotal</th>\n",
       "      <th>CountryPopDensity</th>\n",
       "      <th>CountrySmokingRate</th>\n",
       "      <th>CountryHospitalBedsRate</th>\n",
       "      <th>CountryHealthExpenditurePerCapitaPPP</th>\n",
       "    </tr>\n",
       "  </thead>\n",
       "  <tbody>\n",
       "    <tr>\n",
       "      <th>0</th>\n",
       "      <td></td>\n",
       "      <td>Afghanistan</td>\n",
       "      <td>33.0000</td>\n",
       "      <td>65.0000</td>\n",
       "      <td>NaN</td>\n",
       "      <td>NaN</td>\n",
       "      <td>NaN</td>\n",
       "      <td>NaN</td>\n",
       "      <td>NaN</td>\n",
       "      <td>NaN</td>\n",
       "      <td>...</td>\n",
       "      <td>4620.268</td>\n",
       "      <td>1479.526</td>\n",
       "      <td>105.087</td>\n",
       "      <td>19529.727</td>\n",
       "      <td>18512.030</td>\n",
       "      <td>38041.757</td>\n",
       "      <td>0.058326</td>\n",
       "      <td>26.6</td>\n",
       "      <td>0.38</td>\n",
       "      <td>320.826992</td>\n",
       "    </tr>\n",
       "    <tr>\n",
       "      <th>1</th>\n",
       "      <td></td>\n",
       "      <td>Cyprus</td>\n",
       "      <td>35.1264</td>\n",
       "      <td>33.4299</td>\n",
       "      <td>NaN</td>\n",
       "      <td>NaN</td>\n",
       "      <td>NaN</td>\n",
       "      <td>NaN</td>\n",
       "      <td>NaN</td>\n",
       "      <td>NaN</td>\n",
       "      <td>...</td>\n",
       "      <td>308.911</td>\n",
       "      <td>193.202</td>\n",
       "      <td>38.524</td>\n",
       "      <td>599.297</td>\n",
       "      <td>599.277</td>\n",
       "      <td>1198.574</td>\n",
       "      <td>0.129716</td>\n",
       "      <td>37.1</td>\n",
       "      <td>2.24</td>\n",
       "      <td>3179.284480</td>\n",
       "    </tr>\n",
       "    <tr>\n",
       "      <th>2</th>\n",
       "      <td>Guam</td>\n",
       "      <td>US</td>\n",
       "      <td>13.4443</td>\n",
       "      <td>144.7937</td>\n",
       "      <td>NaN</td>\n",
       "      <td>NaN</td>\n",
       "      <td>NaN</td>\n",
       "      <td>NaN</td>\n",
       "      <td>NaN</td>\n",
       "      <td>NaN</td>\n",
       "      <td>...</td>\n",
       "      <td>82846.126</td>\n",
       "      <td>60854.332</td>\n",
       "      <td>12915.409</td>\n",
       "      <td>162826.299</td>\n",
       "      <td>166238.618</td>\n",
       "      <td>329064.917</td>\n",
       "      <td>0.035974</td>\n",
       "      <td>NaN</td>\n",
       "      <td>NaN</td>\n",
       "      <td>NaN</td>\n",
       "    </tr>\n",
       "    <tr>\n",
       "      <th>3</th>\n",
       "      <td></td>\n",
       "      <td>Czechia</td>\n",
       "      <td>49.8175</td>\n",
       "      <td>15.4730</td>\n",
       "      <td>NaN</td>\n",
       "      <td>NaN</td>\n",
       "      <td>NaN</td>\n",
       "      <td>NaN</td>\n",
       "      <td>NaN</td>\n",
       "      <td>NaN</td>\n",
       "      <td>...</td>\n",
       "      <td>3107.360</td>\n",
       "      <td>2332.215</td>\n",
       "      <td>440.375</td>\n",
       "      <td>5260.628</td>\n",
       "      <td>5428.585</td>\n",
       "      <td>10689.213</td>\n",
       "      <td>0.138451</td>\n",
       "      <td>31.4</td>\n",
       "      <td>6.66</td>\n",
       "      <td>3422.446589</td>\n",
       "    </tr>\n",
       "    <tr>\n",
       "      <th>4</th>\n",
       "      <td>Denmark</td>\n",
       "      <td>Denmark</td>\n",
       "      <td>56.2639</td>\n",
       "      <td>9.5018</td>\n",
       "      <td>NaN</td>\n",
       "      <td>NaN</td>\n",
       "      <td>NaN</td>\n",
       "      <td>NaN</td>\n",
       "      <td>NaN</td>\n",
       "      <td>NaN</td>\n",
       "      <td>...</td>\n",
       "      <td>1556.036</td>\n",
       "      <td>1224.130</td>\n",
       "      <td>266.281</td>\n",
       "      <td>2869.672</td>\n",
       "      <td>2902.205</td>\n",
       "      <td>5771.877</td>\n",
       "      <td>0.144297</td>\n",
       "      <td>21.2</td>\n",
       "      <td>2.60</td>\n",
       "      <td>6180.273429</td>\n",
       "    </tr>\n",
       "  </tbody>\n",
       "</table>\n",
       "<p>5 rows × 86 columns</p>\n",
       "</div>"
      ],
      "text/plain": [
       "  Province/State Country/Region      Lat      Long  \\\n",
       "0                   Afghanistan  33.0000   65.0000   \n",
       "1                        Cyprus  35.1264   33.4299   \n",
       "2           Guam             US  13.4443  144.7937   \n",
       "3                       Czechia  49.8175   15.4730   \n",
       "4        Denmark        Denmark  56.2639    9.5018   \n",
       "\n",
       "   LogNewConfirmedCases_prev_day_1  LogNewConfirmedCases_prev_day_2  \\\n",
       "0                              NaN                              NaN   \n",
       "1                              NaN                              NaN   \n",
       "2                              NaN                              NaN   \n",
       "3                              NaN                              NaN   \n",
       "4                              NaN                              NaN   \n",
       "\n",
       "   LogNewConfirmedCases_prev_day_3  LogNewConfirmedCases_prev_day_4  \\\n",
       "0                              NaN                              NaN   \n",
       "1                              NaN                              NaN   \n",
       "2                              NaN                              NaN   \n",
       "3                              NaN                              NaN   \n",
       "4                              NaN                              NaN   \n",
       "\n",
       "   LogNewConfirmedCases_prev_day_5  LogNewConfirmedCases_prev_day_6  ...  \\\n",
       "0                              NaN                              NaN  ...   \n",
       "1                              NaN                              NaN  ...   \n",
       "2                              NaN                              NaN  ...   \n",
       "3                              NaN                              NaN  ...   \n",
       "4                              NaN                              NaN  ...   \n",
       "\n",
       "   CountryPop_40-60  CountryPop_60-80  CountryPop_80+  CountryPopMale  \\\n",
       "0          4620.268          1479.526         105.087       19529.727   \n",
       "1           308.911           193.202          38.524         599.297   \n",
       "2         82846.126         60854.332       12915.409      162826.299   \n",
       "3          3107.360          2332.215         440.375        5260.628   \n",
       "4          1556.036          1224.130         266.281        2869.672   \n",
       "\n",
       "   CountryPopFemale  CountryPopTotal  CountryPopDensity  CountrySmokingRate  \\\n",
       "0         18512.030        38041.757           0.058326                26.6   \n",
       "1           599.277         1198.574           0.129716                37.1   \n",
       "2        166238.618       329064.917           0.035974                 NaN   \n",
       "3          5428.585        10689.213           0.138451                31.4   \n",
       "4          2902.205         5771.877           0.144297                21.2   \n",
       "\n",
       "   CountryHospitalBedsRate  CountryHealthExpenditurePerCapitaPPP  \n",
       "0                     0.38                            320.826992  \n",
       "1                     2.24                           3179.284480  \n",
       "2                      NaN                                   NaN  \n",
       "3                     6.66                           3422.446589  \n",
       "4                     2.60                           6180.273429  \n",
       "\n",
       "[5 rows x 86 columns]"
      ]
     },
     "execution_count": 43,
     "metadata": {},
     "output_type": "execute_result"
    }
   ],
   "source": [
    "train_features_df.head()"
   ]
  },
  {
   "cell_type": "code",
   "execution_count": 44,
   "metadata": {
    "colab": {},
    "colab_type": "code",
    "id": "CKW31V6JJYrs"
   },
   "outputs": [],
   "source": [
    "cat_features = ['Province/State', 'Country/Region']"
   ]
  },
  {
   "cell_type": "markdown",
   "metadata": {
    "colab_type": "text",
    "id": "Zttyx5vhaXFI"
   },
   "source": [
    "## Models training\n"
   ]
  },
  {
   "cell_type": "code",
   "execution_count": 45,
   "metadata": {
    "colab": {},
    "colab_type": "code",
    "id": "dxgp1LOrJ51V"
   },
   "outputs": [],
   "source": [
    "iterations = 1000"
   ]
  },
  {
   "cell_type": "code",
   "execution_count": 47,
   "metadata": {
    "colab": {
     "base_uri": "https://localhost:8080/",
     "height": 715
    },
    "colab_type": "code",
    "id": "VrJkAewhJk86",
    "outputId": "c969cdb1-17a5-4936-bd5e-c11ae4a69f4c"
   },
   "outputs": [
    {
     "name": "stdout",
     "output_type": "stream",
     "text": [
      "catboost version 1.2.8\n",
      "Learning rate set to 0.076262\n",
      "0:\tlearn: 0.8436973\ttest: 2.2550048\tbest: 2.2550048 (0)\ttotal: 202ms\tremaining: 3m 21s\n",
      "100:\tlearn: 0.2840717\ttest: 0.8897620\tbest: 0.8896260 (99)\ttotal: 5.81s\tremaining: 51.7s\n",
      "200:\tlearn: 0.2525865\ttest: 0.8783127\tbest: 0.8771436 (192)\ttotal: 12.2s\tremaining: 48.6s\n",
      "300:\tlearn: 0.2240557\ttest: 0.8756394\tbest: 0.8756394 (300)\ttotal: 18.6s\tremaining: 43.2s\n",
      "400:\tlearn: 0.2052824\ttest: 0.8813361\tbest: 0.8754837 (307)\ttotal: 25s\tremaining: 37.3s\n",
      "500:\tlearn: 0.1890944\ttest: 0.8843632\tbest: 0.8754837 (307)\ttotal: 31s\tremaining: 30.8s\n",
      "600:\tlearn: 0.1754057\ttest: 0.8890922\tbest: 0.8754837 (307)\ttotal: 36.7s\tremaining: 24.4s\n",
      "700:\tlearn: 0.1622880\ttest: 0.8951605\tbest: 0.8754837 (307)\ttotal: 42.9s\tremaining: 18.3s\n",
      "800:\tlearn: 0.1539521\ttest: 0.9004806\tbest: 0.8754837 (307)\ttotal: 48.9s\tremaining: 12.2s\n",
      "900:\tlearn: 0.1453814\ttest: 0.9047305\tbest: 0.8754837 (307)\ttotal: 54.9s\tremaining: 6.03s\n",
      "999:\tlearn: 0.1369544\ttest: 0.9119975\tbest: 0.8754837 (307)\ttotal: 1m 1s\tremaining: 0us\n",
      "\n",
      "bestTest = 0.8754837011\n",
      "bestIteration = 307\n",
      "\n",
      "Shrink model to first 308 iterations.\n",
      "CatBoost: prediction of LogNewConfirmedCases: RMSLE on test = 0.911997511907284\n",
      "Learning rate set to 0.076262\n",
      "0:\tlearn: 0.2844203\ttest: 0.7750804\tbest: 0.7750804 (0)\ttotal: 61.3ms\tremaining: 1m 1s\n",
      "100:\tlearn: 0.0581013\ttest: 0.3610819\tbest: 0.3610819 (100)\ttotal: 6.08s\tremaining: 54.1s\n",
      "200:\tlearn: 0.0438296\ttest: 0.3585815\tbest: 0.3572600 (133)\ttotal: 12.3s\tremaining: 48.8s\n",
      "300:\tlearn: 0.0338021\ttest: 0.3561229\tbest: 0.3560715 (292)\ttotal: 18.4s\tremaining: 42.7s\n",
      "400:\tlearn: 0.0266172\ttest: 0.3548555\tbest: 0.3547780 (391)\ttotal: 24.3s\tremaining: 36.3s\n",
      "500:\tlearn: 0.0212579\ttest: 0.3543933\tbest: 0.3543843 (499)\ttotal: 30.5s\tremaining: 30.3s\n",
      "600:\tlearn: 0.0168521\ttest: 0.3539158\tbest: 0.3537963 (589)\ttotal: 37.2s\tremaining: 24.7s\n",
      "700:\tlearn: 0.0135774\ttest: 0.3540928\tbest: 0.3537963 (589)\ttotal: 43.1s\tremaining: 18.4s\n",
      "800:\tlearn: 0.0110523\ttest: 0.3539093\tbest: 0.3536630 (736)\ttotal: 49s\tremaining: 12.2s\n",
      "900:\tlearn: 0.0092053\ttest: 0.3540121\tbest: 0.3536630 (736)\ttotal: 55.2s\tremaining: 6.06s\n",
      "999:\tlearn: 0.0076640\ttest: 0.3542095\tbest: 0.3536630 (736)\ttotal: 1m 1s\tremaining: 0us\n",
      "\n",
      "bestTest = 0.353662951\n",
      "bestIteration = 736\n",
      "\n",
      "Shrink model to first 737 iterations.\n",
      "CatBoost: prediction of LogNewFatalities: RMSLE on test = 0.3542094929970892\n"
     ]
    }
   ],
   "source": [
    "catboost_models = {}\n",
    "\n",
    "for prediction_name in ['LogNewConfirmedCases', 'LogNewFatalities']:\n",
    "    model = cb.CatBoostRegressor(\n",
    "        has_time=True,\n",
    "        iterations=iterations\n",
    "    )\n",
    "\n",
    "    model.fit(\n",
    "        train_features_df,\n",
    "        train_labels[prediction_name],\n",
    "        eval_set=(eval_features_df, eval_labels[prediction_name]),\n",
    "        cat_features=cat_features,\n",
    "        verbose=100  # print metrics each 100 iterations\n",
    "    )\n",
    "    \n",
    "    catboost_models[prediction_name] = model\n",
    "    print ('CatBoost: prediction of %s: RMSLE on test = %s' % (prediction_name, model.evals_result_['validation']['RMSE'][-1]))"
   ]
  },
  {
   "cell_type": "markdown",
   "metadata": {
    "colab_type": "text",
    "id": "iI8pVMqdJjRb"
   },
   "source": [
    "## Feature importance in the models\n"
   ]
  },
  {
   "cell_type": "code",
   "execution_count": 48,
   "metadata": {
    "colab": {
     "base_uri": "https://localhost:8080/",
     "height": 1000
    },
    "colab_type": "code",
    "id": "3ydN6CMEJMJ5",
    "outputId": "0180e06e-b3c1-42c4-944c-10abc78eb911"
   },
   "outputs": [
    {
     "name": "stdout",
     "output_type": "stream",
     "text": [
      "\n",
      "CatBoost: prediction of LogNewConfirmedCases. Feature importance. Type=PredictionValuesChange\n",
      "                              Feature Id  Importances\n",
      "0        LogNewConfirmedCases_prev_day_1    20.424578\n",
      "1        LogNewConfirmedCases_prev_day_2    20.082509\n",
      "2           Days_since_ConfirmedCases=10    11.931802\n",
      "3            Days_since_ConfirmedCases=1    10.502644\n",
      "4        LogNewConfirmedCases_prev_day_3     5.969655\n",
      "5                                    Day     2.929013\n",
      "6               Days_since_Fatalities=10     2.807280\n",
      "7          Days_since_ConfirmedCases=100     1.932124\n",
      "8        LogNewConfirmedCases_prev_day_4     1.921999\n",
      "9                     Distance_to_origin     1.816331\n",
      "10      LogNewConfirmedCases_prev_day_10     1.249097\n",
      "11       LogNewConfirmedCases_prev_day_5     1.109792\n",
      "12                      CountryPopFemale     0.939554\n",
      "13      LogNewConfirmedCases_prev_day_24     0.825207\n",
      "14                                  Long     0.734357\n",
      "15             Days_since_Fatalities=100     0.677051\n",
      "16                                   Lat     0.664172\n",
      "17       LogNewConfirmedCases_prev_day_6     0.642264\n",
      "18               Days_since_Fatalities=1     0.615820\n",
      "19       LogNewConfirmedCases_prev_day_7     0.586945\n",
      "20           LogNewFatalities_prev_day_3     0.563361\n",
      "21       LogNewConfirmedCases_prev_day_8     0.529471\n",
      "22          LogNewFatalities_prev_day_26     0.514844\n",
      "23                       CountryPop_0-20     0.484224\n",
      "24  CountryHealthExpenditurePerCapitaPPP     0.438786\n",
      "\n",
      "CatBoost: prediction of LogNewFatalities. Feature importance. Type=PredictionValuesChange\n",
      "                          Feature Id  Importances\n",
      "0           Days_since_Fatalities=10    27.747251\n",
      "1            Days_since_Fatalities=1    13.439057\n",
      "2        LogNewFatalities_prev_day_2     7.874587\n",
      "3          Days_since_Fatalities=100     4.098928\n",
      "4   LogNewConfirmedCases_prev_day_10     2.659207\n",
      "5        LogNewFatalities_prev_day_3     2.474913\n",
      "6    LogNewConfirmedCases_prev_day_2     2.376779\n",
      "7    LogNewConfirmedCases_prev_day_9     2.206629\n",
      "8                  CountryPopDensity     1.939721\n",
      "9                    CountryPop_0-20     1.849582\n",
      "10  LogNewConfirmedCases_prev_day_11     1.760731\n",
      "11       LogNewFatalities_prev_day_1     1.715791\n",
      "12   LogNewConfirmedCases_prev_day_1     1.689373\n",
      "13                    CountryPopMale     1.402611\n",
      "14       LogNewFatalities_prev_day_6     1.368544\n",
      "15                CountrySmokingRate     1.267426\n",
      "16   LogNewConfirmedCases_prev_day_8     1.099749\n",
      "17   LogNewConfirmedCases_prev_day_3     1.088241\n",
      "18   LogNewConfirmedCases_prev_day_6     1.058801\n",
      "19   LogNewConfirmedCases_prev_day_7     0.876064\n",
      "20  LogNewConfirmedCases_prev_day_14     0.796368\n",
      "21                Distance_to_origin     0.792097\n",
      "22      LogNewFatalities_prev_day_24     0.787161\n",
      "23   LogNewConfirmedCases_prev_day_5     0.777288\n",
      "24                              Long     0.776602\n"
     ]
    }
   ],
   "source": [
    "for prediction_name in ['LogNewConfirmedCases', 'LogNewFatalities']:\n",
    "    print ('\\nCatBoost: prediction of %s. Feature importance. Type=PredictionValuesChange' % prediction_name)\n",
    "    print (\n",
    "        catboost_models[prediction_name].get_feature_importance(\n",
    "            type=cb.EFstrType.PredictionValuesChange,\n",
    "            prettified=True\n",
    "        ).head(25).to_string()\n",
    "    )"
   ]
  },
  {
   "cell_type": "markdown",
   "metadata": {
    "colab_type": "text",
    "id": "jRnM6SwW_PHl"
   },
   "source": [
    "## Create predictions for eval and test data.\n"
   ]
  },
  {
   "cell_type": "code",
   "execution_count": 49,
   "metadata": {
    "colab": {},
    "colab_type": "code",
    "id": "ivRAFKbg_Ovv"
   },
   "outputs": [],
   "source": [
    "def predict_for_dataset(df, features_df, prev_day_df, first_date, last_date, update_features_data):\n",
    "    df['PredictedLogNewConfirmedCases'] = np.nan\n",
    "    df['PredictedLogNewFatalities'] = np.nan\n",
    "    df['PredictedConfirmedCases'] = np.nan\n",
    "    df['PredictedFatalities'] = np.nan\n",
    "\n",
    "    for day in pd.date_range(first_date, last_date):\n",
    "        day_df = df[df['Date'] == day]\n",
    "        day_features_pool = cb.Pool(features_df.loc[day_df.index], cat_features=cat_features)\n",
    "\n",
    "        # predict LogNew* data\n",
    "        for prediction_type in ['LogNewConfirmedCases', 'LogNewFatalities']:\n",
    "            # prediction is imprecise and can produce negative values, clip them\n",
    "            df.loc[day_df.index, 'Predicted' + prediction_type] = np.maximum(\n",
    "                catboost_models[prediction_type].predict(day_features_pool),\n",
    "                0.0\n",
    "            )\n",
    "\n",
    "        day_predictions_df = df.loc[day_df.index][\n",
    "            location_columns + ['PredictedLogNewConfirmedCases', 'PredictedLogNewFatalities']\n",
    "        ]\n",
    "\n",
    "        # update Predicted ConfirmedCases and Fatalities\n",
    "        for field in ['ConfirmedCases', 'Fatalities']:\n",
    "            prev_day_field = field if day == first_eval_date else ('Predicted' + field)\n",
    "            merged_df = day_predictions_df.merge(\n",
    "                right=prev_day_df[location_columns + [prev_day_field]],\n",
    "                how='inner',\n",
    "                on=location_columns\n",
    "            )\n",
    "\n",
    "            df.loc[day_df.index, 'Predicted' + field] = merged_df.apply(\n",
    "                lambda row: row[prev_day_field] + np.rint(np.expm1(row['PredictedLogNew' + field])),\n",
    "                axis='columns'\n",
    "            ).values\n",
    "\n",
    "        if update_features_data:\n",
    "            # fill time delay embedding features based on this day for next days\n",
    "            for next_day in pd.date_range(day + pd.Timedelta(days=1), last_date):\n",
    "                next_day_features_df = features_df[df['Date'] == next_day]\n",
    "\n",
    "                merged_df = next_day_features_df[location_columns].merge(\n",
    "                    right=day_predictions_df,\n",
    "                    how='inner',\n",
    "                    on=location_columns\n",
    "                )\n",
    "\n",
    "                prev_day_idx = (next_day - day).days\n",
    "                for prediction_type in ['LogNewConfirmedCases', 'LogNewFatalities']:\n",
    "                    features_df.loc[next_day_features_df.index, prediction_type + '_prev_day_%s' % prev_day_idx] = (\n",
    "                        merged_df['Predicted' + prediction_type].values\n",
    "                    )\n",
    "\n",
    "        # select by day_df.index again to get Predicted* columns\n",
    "        prev_day_df = df.loc[day_df.index]\n"
   ]
  },
  {
   "cell_type": "code",
   "execution_count": 50,
   "metadata": {
    "colab": {
     "base_uri": "https://localhost:8080/",
     "height": 256
    },
    "colab_type": "code",
    "id": "kqBsTO-_kTku",
    "outputId": "6706a429-595a-4601-f40c-35a6b085489e"
   },
   "outputs": [
    {
     "data": {
      "application/vnd.microsoft.datawrangler.viewer.v0+json": {
       "columns": [
        {
         "name": "index",
         "rawType": "int64",
         "type": "integer"
        },
        {
         "name": "Id",
         "rawType": "float64",
         "type": "float"
        },
        {
         "name": "Province/State",
         "rawType": "object",
         "type": "string"
        },
        {
         "name": "Country/Region",
         "rawType": "object",
         "type": "string"
        },
        {
         "name": "Lat",
         "rawType": "float64",
         "type": "float"
        },
        {
         "name": "Long",
         "rawType": "float64",
         "type": "float"
        },
        {
         "name": "Date",
         "rawType": "datetime64[ns]",
         "type": "datetime"
        },
        {
         "name": "ConfirmedCases",
         "rawType": "float64",
         "type": "float"
        },
        {
         "name": "Fatalities",
         "rawType": "float64",
         "type": "float"
        },
        {
         "name": "ForecastId",
         "rawType": "float64",
         "type": "float"
        },
        {
         "name": "LogNewConfirmedCases",
         "rawType": "float64",
         "type": "float"
        },
        {
         "name": "LogNewConfirmedCases_prev_day_1",
         "rawType": "float64",
         "type": "float"
        },
        {
         "name": "LogNewConfirmedCases_prev_day_2",
         "rawType": "float64",
         "type": "float"
        },
        {
         "name": "LogNewConfirmedCases_prev_day_3",
         "rawType": "float64",
         "type": "float"
        },
        {
         "name": "LogNewConfirmedCases_prev_day_4",
         "rawType": "float64",
         "type": "float"
        },
        {
         "name": "LogNewConfirmedCases_prev_day_5",
         "rawType": "float64",
         "type": "float"
        },
        {
         "name": "LogNewConfirmedCases_prev_day_6",
         "rawType": "float64",
         "type": "float"
        },
        {
         "name": "LogNewConfirmedCases_prev_day_7",
         "rawType": "float64",
         "type": "float"
        },
        {
         "name": "LogNewConfirmedCases_prev_day_8",
         "rawType": "float64",
         "type": "float"
        },
        {
         "name": "LogNewConfirmedCases_prev_day_9",
         "rawType": "float64",
         "type": "float"
        },
        {
         "name": "LogNewConfirmedCases_prev_day_10",
         "rawType": "float64",
         "type": "float"
        },
        {
         "name": "LogNewConfirmedCases_prev_day_11",
         "rawType": "float64",
         "type": "float"
        },
        {
         "name": "LogNewConfirmedCases_prev_day_12",
         "rawType": "float64",
         "type": "float"
        },
        {
         "name": "LogNewConfirmedCases_prev_day_13",
         "rawType": "float64",
         "type": "float"
        },
        {
         "name": "LogNewConfirmedCases_prev_day_14",
         "rawType": "float64",
         "type": "float"
        },
        {
         "name": "LogNewConfirmedCases_prev_day_15",
         "rawType": "float64",
         "type": "float"
        },
        {
         "name": "LogNewConfirmedCases_prev_day_16",
         "rawType": "float64",
         "type": "float"
        },
        {
         "name": "LogNewConfirmedCases_prev_day_17",
         "rawType": "float64",
         "type": "float"
        },
        {
         "name": "LogNewConfirmedCases_prev_day_18",
         "rawType": "float64",
         "type": "float"
        },
        {
         "name": "LogNewConfirmedCases_prev_day_19",
         "rawType": "float64",
         "type": "float"
        },
        {
         "name": "LogNewConfirmedCases_prev_day_20",
         "rawType": "float64",
         "type": "float"
        },
        {
         "name": "LogNewConfirmedCases_prev_day_21",
         "rawType": "float64",
         "type": "float"
        },
        {
         "name": "LogNewConfirmedCases_prev_day_22",
         "rawType": "float64",
         "type": "float"
        },
        {
         "name": "LogNewConfirmedCases_prev_day_23",
         "rawType": "float64",
         "type": "float"
        },
        {
         "name": "LogNewConfirmedCases_prev_day_24",
         "rawType": "float64",
         "type": "float"
        },
        {
         "name": "LogNewConfirmedCases_prev_day_25",
         "rawType": "float64",
         "type": "float"
        },
        {
         "name": "LogNewConfirmedCases_prev_day_26",
         "rawType": "float64",
         "type": "float"
        },
        {
         "name": "LogNewConfirmedCases_prev_day_27",
         "rawType": "float64",
         "type": "float"
        },
        {
         "name": "LogNewConfirmedCases_prev_day_28",
         "rawType": "float64",
         "type": "float"
        },
        {
         "name": "LogNewConfirmedCases_prev_day_29",
         "rawType": "float64",
         "type": "float"
        },
        {
         "name": "LogNewConfirmedCases_prev_day_30",
         "rawType": "float64",
         "type": "float"
        },
        {
         "name": "LogNewFatalities",
         "rawType": "float64",
         "type": "float"
        },
        {
         "name": "LogNewFatalities_prev_day_1",
         "rawType": "float64",
         "type": "float"
        },
        {
         "name": "LogNewFatalities_prev_day_2",
         "rawType": "float64",
         "type": "float"
        },
        {
         "name": "LogNewFatalities_prev_day_3",
         "rawType": "float64",
         "type": "float"
        },
        {
         "name": "LogNewFatalities_prev_day_4",
         "rawType": "float64",
         "type": "float"
        },
        {
         "name": "LogNewFatalities_prev_day_5",
         "rawType": "float64",
         "type": "float"
        },
        {
         "name": "LogNewFatalities_prev_day_6",
         "rawType": "float64",
         "type": "float"
        },
        {
         "name": "LogNewFatalities_prev_day_7",
         "rawType": "float64",
         "type": "float"
        },
        {
         "name": "LogNewFatalities_prev_day_8",
         "rawType": "float64",
         "type": "float"
        },
        {
         "name": "LogNewFatalities_prev_day_9",
         "rawType": "float64",
         "type": "float"
        },
        {
         "name": "LogNewFatalities_prev_day_10",
         "rawType": "float64",
         "type": "float"
        },
        {
         "name": "LogNewFatalities_prev_day_11",
         "rawType": "float64",
         "type": "float"
        },
        {
         "name": "LogNewFatalities_prev_day_12",
         "rawType": "float64",
         "type": "float"
        },
        {
         "name": "LogNewFatalities_prev_day_13",
         "rawType": "float64",
         "type": "float"
        },
        {
         "name": "LogNewFatalities_prev_day_14",
         "rawType": "float64",
         "type": "float"
        },
        {
         "name": "LogNewFatalities_prev_day_15",
         "rawType": "float64",
         "type": "float"
        },
        {
         "name": "LogNewFatalities_prev_day_16",
         "rawType": "float64",
         "type": "float"
        },
        {
         "name": "LogNewFatalities_prev_day_17",
         "rawType": "float64",
         "type": "float"
        },
        {
         "name": "LogNewFatalities_prev_day_18",
         "rawType": "float64",
         "type": "float"
        },
        {
         "name": "LogNewFatalities_prev_day_19",
         "rawType": "float64",
         "type": "float"
        },
        {
         "name": "LogNewFatalities_prev_day_20",
         "rawType": "float64",
         "type": "float"
        },
        {
         "name": "LogNewFatalities_prev_day_21",
         "rawType": "float64",
         "type": "float"
        },
        {
         "name": "LogNewFatalities_prev_day_22",
         "rawType": "float64",
         "type": "float"
        },
        {
         "name": "LogNewFatalities_prev_day_23",
         "rawType": "float64",
         "type": "float"
        },
        {
         "name": "LogNewFatalities_prev_day_24",
         "rawType": "float64",
         "type": "float"
        },
        {
         "name": "LogNewFatalities_prev_day_25",
         "rawType": "float64",
         "type": "float"
        },
        {
         "name": "LogNewFatalities_prev_day_26",
         "rawType": "float64",
         "type": "float"
        },
        {
         "name": "LogNewFatalities_prev_day_27",
         "rawType": "float64",
         "type": "float"
        },
        {
         "name": "LogNewFatalities_prev_day_28",
         "rawType": "float64",
         "type": "float"
        },
        {
         "name": "LogNewFatalities_prev_day_29",
         "rawType": "float64",
         "type": "float"
        },
        {
         "name": "LogNewFatalities_prev_day_30",
         "rawType": "float64",
         "type": "float"
        },
        {
         "name": "Day",
         "rawType": "int32",
         "type": "integer"
        },
        {
         "name": "WeekDay",
         "rawType": "int64",
         "type": "integer"
        },
        {
         "name": "Days_since_ConfirmedCases=1",
         "rawType": "float64",
         "type": "float"
        },
        {
         "name": "Days_since_Fatalities=1",
         "rawType": "float64",
         "type": "float"
        },
        {
         "name": "Days_since_ConfirmedCases=10",
         "rawType": "float64",
         "type": "float"
        },
        {
         "name": "Days_since_Fatalities=10",
         "rawType": "float64",
         "type": "float"
        },
        {
         "name": "Days_since_ConfirmedCases=100",
         "rawType": "float64",
         "type": "float"
        },
        {
         "name": "Days_since_Fatalities=100",
         "rawType": "float64",
         "type": "float"
        },
        {
         "name": "Distance_to_origin",
         "rawType": "float64",
         "type": "float"
        },
        {
         "name": "CountryArea",
         "rawType": "float64",
         "type": "float"
        },
        {
         "name": "CountryPop_0-20",
         "rawType": "float64",
         "type": "float"
        },
        {
         "name": "CountryPop_20-40",
         "rawType": "float64",
         "type": "float"
        },
        {
         "name": "CountryPop_40-60",
         "rawType": "float64",
         "type": "float"
        },
        {
         "name": "CountryPop_60-80",
         "rawType": "float64",
         "type": "float"
        },
        {
         "name": "CountryPop_80+",
         "rawType": "float64",
         "type": "float"
        },
        {
         "name": "CountryPopMale",
         "rawType": "float64",
         "type": "float"
        },
        {
         "name": "CountryPopFemale",
         "rawType": "float64",
         "type": "float"
        },
        {
         "name": "CountryPopTotal",
         "rawType": "float64",
         "type": "float"
        },
        {
         "name": "CountryPopDensity",
         "rawType": "float64",
         "type": "float"
        },
        {
         "name": "CountrySmokingRate",
         "rawType": "float64",
         "type": "float"
        },
        {
         "name": "CountryHospitalBedsRate",
         "rawType": "float64",
         "type": "float"
        },
        {
         "name": "CountryHealthExpenditurePerCapitaPPP",
         "rawType": "float64",
         "type": "float"
        },
        {
         "name": "PredictedLogNewConfirmedCases",
         "rawType": "float64",
         "type": "float"
        },
        {
         "name": "PredictedLogNewFatalities",
         "rawType": "float64",
         "type": "float"
        },
        {
         "name": "PredictedConfirmedCases",
         "rawType": "float64",
         "type": "float"
        },
        {
         "name": "PredictedFatalities",
         "rawType": "float64",
         "type": "float"
        }
       ],
       "ref": "0e648001-2426-4a8e-bb00-6d97b9a06e1e",
       "rows": [
        [
         "13100",
         "6003.0",
         "Jiangxi",
         "China",
         "27.614",
         "115.7221",
         "2020-03-12 00:00:00",
         "935.0",
         "1.0",
         null,
         "0.0",
         "0.0",
         "0.0",
         "0.0",
         "0.0",
         "0.0",
         "0.0",
         "0.0",
         "0.0",
         "0.0",
         "0.0",
         "0.0",
         "0.0",
         "0.6931471805599453",
         "0.0",
         "0.0",
         "0.0",
         "0.0",
         "0.0",
         "0.0",
         "0.0",
         "0.0",
         "0.6931471805599453",
         "1.3862943611198906",
         "1.791759469228055",
         "2.5649493574615367",
         "2.6390573296152584",
         "3.367295829986474",
         "3.367295829986474",
         "3.713572066704308",
         "3.5263605246161616",
         "0.0",
         "0.0",
         "0.0",
         "0.0",
         "0.0",
         "0.0",
         "0.0",
         "0.0",
         "0.0",
         "0.0",
         "0.0",
         "0.0",
         "0.0",
         "0.0",
         "0.0",
         "0.0",
         "0.0",
         "0.0",
         "0.0",
         "0.0",
         "0.0",
         "0.0",
         "0.0",
         "0.0",
         "0.0",
         "0.0",
         "0.0",
         "0.0",
         "0.0",
         "0.0",
         "0.0",
         "50",
         "3",
         "50.0",
         "31.0",
         "48.0",
         null,
         "44.0",
         null,
         "501.2145029811162",
         "9388210.0",
         "338099.542",
         "416397.38200000004",
         "437824.994",
         "215315.36200000002",
         "26146.412",
         "735624.2590000003",
         "698159.433",
         "1433783.6920000003",
         "0.15272173204476683",
         "24.4",
         "4.83",
         "884.980671328579",
         "0.1184234765087113",
         "0.0",
         "935.0",
         "1.0"
        ],
        [
         "13101",
         "22278.0",
         "Michigan",
         "US",
         "43.3266",
         "-84.5361",
         "2020-03-12 00:00:00",
         "2.0",
         "0.0",
         null,
         "0.0",
         "1.0986122886681098",
         "0.0",
         "0.0",
         "0.0",
         "0.0",
         "0.0",
         "0.0",
         "0.0",
         "0.0",
         "0.0",
         "0.0",
         "0.0",
         "0.0",
         "0.0",
         "0.0",
         "0.0",
         "0.0",
         "0.0",
         "0.0",
         "0.0",
         "0.0",
         "0.0",
         "0.0",
         "0.0",
         "0.0",
         "0.0",
         "0.0",
         "0.0",
         "0.0",
         "0.0",
         "0.0",
         "0.0",
         "0.0",
         "0.0",
         "0.0",
         "0.0",
         "0.0",
         "0.0",
         "0.0",
         "0.0",
         "0.0",
         "0.0",
         "0.0",
         "0.0",
         "0.0",
         "0.0",
         "0.0",
         "0.0",
         "0.0",
         "0.0",
         "0.0",
         "0.0",
         "0.0",
         "0.0",
         "0.0",
         "0.0",
         "0.0",
         "0.0",
         "0.0",
         "0.0",
         "0.0",
         "50",
         "3",
         "1.0",
         "-1.0",
         "-1.0",
         "-1.0",
         "-1.0",
         null,
         "11600.90825181213",
         "9147420.0",
         "82289.916",
         "90159.134",
         "82846.126",
         "60854.331999999995",
         "12915.409",
         "162826.299",
         "166238.61800000002",
         "329064.917",
         "0.03597352226092166",
         null,
         null,
         null,
         "0.8148731772051535",
         "0.0",
         "3.0",
         "0.0"
        ],
        [
         "13102",
         "14652.0",
         "",
         "Mexico",
         "23.6345",
         "-102.5528",
         "2020-03-12 00:00:00",
         "12.0",
         "0.0",
         null,
         "1.6094379124341003",
         "0.6931471805599453",
         "0.0",
         "0.0",
         "0.6931471805599453",
         "0.0",
         "0.6931471805599453",
         "0.0",
         "0.0",
         "0.0",
         "0.0",
         "0.6931471805599453",
         "1.3862943611198906",
         "0.6931471805599453",
         "0.0",
         "0.0",
         "0.0",
         "0.0",
         "0.0",
         "0.0",
         "0.0",
         "0.0",
         "0.0",
         "0.0",
         "0.0",
         "0.0",
         "0.0",
         "0.0",
         "0.0",
         "0.0",
         "0.0",
         "0.0",
         "0.0",
         "0.0",
         "0.0",
         "0.0",
         "0.0",
         "0.0",
         "0.0",
         "0.0",
         "0.0",
         "0.0",
         "0.0",
         "0.0",
         "0.0",
         "0.0",
         "0.0",
         "0.0",
         "0.0",
         "0.0",
         "0.0",
         "0.0",
         "0.0",
         "0.0",
         "0.0",
         "0.0",
         "0.0",
         "0.0",
         "0.0",
         "0.0",
         "0.0",
         "0.0",
         "50",
         "3",
         "13.0",
         "-1.0",
         "0.0",
         null,
         "-1.0",
         null,
         "12918.884441597063",
         "1943950.0",
         "44602.341",
         "40260.553",
         "28740.666999999998",
         "11970.293999999998",
         "2001.6740000000002",
         "62403.39300000001",
         "65172.13599999999",
         "127575.52900000001",
         "0.06562696005555699",
         "17.0",
         "0.97",
         "1111.3888501635",
         "1.856636987427688",
         "0.0",
         "13.0",
         "0.0"
        ],
        [
         "13103",
         "3771.0",
         "Nova Scotia",
         "Canada",
         "44.682",
         "-63.7443",
         "2020-03-12 00:00:00",
         "0.0",
         "0.0",
         null,
         "0.0",
         "0.0",
         "0.0",
         "0.0",
         "0.0",
         "0.0",
         "0.0",
         "0.0",
         "0.0",
         "0.0",
         "0.0",
         "0.0",
         "0.0",
         "0.0",
         "0.0",
         "0.0",
         "0.0",
         "0.0",
         "0.0",
         "0.0",
         "0.0",
         "0.0",
         "0.0",
         "0.0",
         "0.0",
         "0.0",
         "0.0",
         "0.0",
         "0.0",
         "0.0",
         "0.0",
         "0.0",
         "0.0",
         "0.0",
         "0.0",
         "0.0",
         "0.0",
         "0.0",
         "0.0",
         "0.0",
         "0.0",
         "0.0",
         "0.0",
         "0.0",
         "0.0",
         "0.0",
         "0.0",
         "0.0",
         "0.0",
         "0.0",
         "0.0",
         "0.0",
         "0.0",
         "0.0",
         "0.0",
         "0.0",
         "0.0",
         "0.0",
         "0.0",
         "0.0",
         "0.0",
         "0.0",
         "50",
         "3",
         null,
         null,
         null,
         null,
         null,
         null,
         "11616.360385160922",
         "8965590.0",
         "7934.163",
         "10315.291",
         "10057.76",
         "7475.045999999999",
         "1628.778",
         "18563.538",
         "18847.499999999996",
         "37411.038",
         "0.004172735759721335",
         "15.8",
         "2.53",
         "5560.3609608384",
         "0.04416823958449784",
         "0.0004992729779618836",
         "0.0",
         "0.0"
        ],
        [
         "13104",
         "6375.0",
         "Ningxia",
         "China",
         "37.2692",
         "106.1655",
         "2020-03-12 00:00:00",
         "75.0",
         "0.0",
         null,
         "0.0",
         "0.0",
         "0.0",
         "0.0",
         "0.0",
         "0.0",
         "0.0",
         "0.0",
         "0.6931471805599453",
         "0.0",
         "0.6931471805599453",
         "0.0",
         "0.6931471805599453",
         "0.0",
         "0.6931471805599453",
         "0.0",
         "0.0",
         "0.0",
         "0.0",
         "0.0",
         "0.0",
         "0.0",
         "0.6931471805599453",
         "0.0",
         "0.0",
         "0.0",
         "1.3862943611198906",
         "1.3862943611198906",
         "1.9459101490553132",
         "1.791759469228055",
         "1.6094379124341003",
         "0.0",
         "0.0",
         "0.0",
         "0.0",
         "0.0",
         "0.0",
         "0.0",
         "0.0",
         "0.0",
         "0.0",
         "0.0",
         "0.0",
         "0.0",
         "0.0",
         "0.0",
         "0.0",
         "0.0",
         "0.0",
         "0.0",
         "0.0",
         "0.0",
         "0.0",
         "0.0",
         "0.0",
         "0.0",
         "0.0",
         "0.0",
         "0.0",
         "0.0",
         "0.0",
         "0.0",
         "50",
         "3",
         "50.0",
         null,
         "44.0",
         null,
         null,
         null,
         "896.5088649040636",
         "9388210.0",
         "338099.542",
         "416397.38200000004",
         "437824.994",
         "215315.36200000002",
         "26146.412",
         "735624.2590000003",
         "698159.433",
         "1433783.6920000003",
         "0.15272173204476683",
         "24.4",
         "4.83",
         "884.980671328579",
         "0.040193082146742165",
         "0.0",
         "75.0",
         "0.0"
        ]
       ],
       "shape": {
        "columns": 97,
        "rows": 5
       }
      },
      "text/html": [
       "<div>\n",
       "<style scoped>\n",
       "    .dataframe tbody tr th:only-of-type {\n",
       "        vertical-align: middle;\n",
       "    }\n",
       "\n",
       "    .dataframe tbody tr th {\n",
       "        vertical-align: top;\n",
       "    }\n",
       "\n",
       "    .dataframe thead th {\n",
       "        text-align: right;\n",
       "    }\n",
       "</style>\n",
       "<table border=\"1\" class=\"dataframe\">\n",
       "  <thead>\n",
       "    <tr style=\"text-align: right;\">\n",
       "      <th></th>\n",
       "      <th>Id</th>\n",
       "      <th>Province/State</th>\n",
       "      <th>Country/Region</th>\n",
       "      <th>Lat</th>\n",
       "      <th>Long</th>\n",
       "      <th>Date</th>\n",
       "      <th>ConfirmedCases</th>\n",
       "      <th>Fatalities</th>\n",
       "      <th>ForecastId</th>\n",
       "      <th>LogNewConfirmedCases</th>\n",
       "      <th>...</th>\n",
       "      <th>CountryPopFemale</th>\n",
       "      <th>CountryPopTotal</th>\n",
       "      <th>CountryPopDensity</th>\n",
       "      <th>CountrySmokingRate</th>\n",
       "      <th>CountryHospitalBedsRate</th>\n",
       "      <th>CountryHealthExpenditurePerCapitaPPP</th>\n",
       "      <th>PredictedLogNewConfirmedCases</th>\n",
       "      <th>PredictedLogNewFatalities</th>\n",
       "      <th>PredictedConfirmedCases</th>\n",
       "      <th>PredictedFatalities</th>\n",
       "    </tr>\n",
       "  </thead>\n",
       "  <tbody>\n",
       "    <tr>\n",
       "      <th>13100</th>\n",
       "      <td>6003.0</td>\n",
       "      <td>Jiangxi</td>\n",
       "      <td>China</td>\n",
       "      <td>27.6140</td>\n",
       "      <td>115.7221</td>\n",
       "      <td>2020-03-12</td>\n",
       "      <td>935.0</td>\n",
       "      <td>1.0</td>\n",
       "      <td>NaN</td>\n",
       "      <td>0.000000</td>\n",
       "      <td>...</td>\n",
       "      <td>698159.433</td>\n",
       "      <td>1433783.692</td>\n",
       "      <td>0.152722</td>\n",
       "      <td>24.4</td>\n",
       "      <td>4.83</td>\n",
       "      <td>884.980671</td>\n",
       "      <td>0.118423</td>\n",
       "      <td>0.000000</td>\n",
       "      <td>935.0</td>\n",
       "      <td>1.0</td>\n",
       "    </tr>\n",
       "    <tr>\n",
       "      <th>13101</th>\n",
       "      <td>22278.0</td>\n",
       "      <td>Michigan</td>\n",
       "      <td>US</td>\n",
       "      <td>43.3266</td>\n",
       "      <td>-84.5361</td>\n",
       "      <td>2020-03-12</td>\n",
       "      <td>2.0</td>\n",
       "      <td>0.0</td>\n",
       "      <td>NaN</td>\n",
       "      <td>0.000000</td>\n",
       "      <td>...</td>\n",
       "      <td>166238.618</td>\n",
       "      <td>329064.917</td>\n",
       "      <td>0.035974</td>\n",
       "      <td>NaN</td>\n",
       "      <td>NaN</td>\n",
       "      <td>NaN</td>\n",
       "      <td>0.814873</td>\n",
       "      <td>0.000000</td>\n",
       "      <td>3.0</td>\n",
       "      <td>0.0</td>\n",
       "    </tr>\n",
       "    <tr>\n",
       "      <th>13102</th>\n",
       "      <td>14652.0</td>\n",
       "      <td></td>\n",
       "      <td>Mexico</td>\n",
       "      <td>23.6345</td>\n",
       "      <td>-102.5528</td>\n",
       "      <td>2020-03-12</td>\n",
       "      <td>12.0</td>\n",
       "      <td>0.0</td>\n",
       "      <td>NaN</td>\n",
       "      <td>1.609438</td>\n",
       "      <td>...</td>\n",
       "      <td>65172.136</td>\n",
       "      <td>127575.529</td>\n",
       "      <td>0.065627</td>\n",
       "      <td>17.0</td>\n",
       "      <td>0.97</td>\n",
       "      <td>1111.388850</td>\n",
       "      <td>1.856637</td>\n",
       "      <td>0.000000</td>\n",
       "      <td>13.0</td>\n",
       "      <td>0.0</td>\n",
       "    </tr>\n",
       "    <tr>\n",
       "      <th>13103</th>\n",
       "      <td>3771.0</td>\n",
       "      <td>Nova Scotia</td>\n",
       "      <td>Canada</td>\n",
       "      <td>44.6820</td>\n",
       "      <td>-63.7443</td>\n",
       "      <td>2020-03-12</td>\n",
       "      <td>0.0</td>\n",
       "      <td>0.0</td>\n",
       "      <td>NaN</td>\n",
       "      <td>0.000000</td>\n",
       "      <td>...</td>\n",
       "      <td>18847.500</td>\n",
       "      <td>37411.038</td>\n",
       "      <td>0.004173</td>\n",
       "      <td>15.8</td>\n",
       "      <td>2.53</td>\n",
       "      <td>5560.360961</td>\n",
       "      <td>0.044168</td>\n",
       "      <td>0.000499</td>\n",
       "      <td>0.0</td>\n",
       "      <td>0.0</td>\n",
       "    </tr>\n",
       "    <tr>\n",
       "      <th>13104</th>\n",
       "      <td>6375.0</td>\n",
       "      <td>Ningxia</td>\n",
       "      <td>China</td>\n",
       "      <td>37.2692</td>\n",
       "      <td>106.1655</td>\n",
       "      <td>2020-03-12</td>\n",
       "      <td>75.0</td>\n",
       "      <td>0.0</td>\n",
       "      <td>NaN</td>\n",
       "      <td>0.000000</td>\n",
       "      <td>...</td>\n",
       "      <td>698159.433</td>\n",
       "      <td>1433783.692</td>\n",
       "      <td>0.152722</td>\n",
       "      <td>24.4</td>\n",
       "      <td>4.83</td>\n",
       "      <td>884.980671</td>\n",
       "      <td>0.040193</td>\n",
       "      <td>0.000000</td>\n",
       "      <td>75.0</td>\n",
       "      <td>0.0</td>\n",
       "    </tr>\n",
       "  </tbody>\n",
       "</table>\n",
       "<p>5 rows × 97 columns</p>\n",
       "</div>"
      ],
      "text/plain": [
       "            Id Province/State Country/Region      Lat      Long       Date  \\\n",
       "13100   6003.0        Jiangxi          China  27.6140  115.7221 2020-03-12   \n",
       "13101  22278.0       Michigan             US  43.3266  -84.5361 2020-03-12   \n",
       "13102  14652.0                        Mexico  23.6345 -102.5528 2020-03-12   \n",
       "13103   3771.0    Nova Scotia         Canada  44.6820  -63.7443 2020-03-12   \n",
       "13104   6375.0        Ningxia          China  37.2692  106.1655 2020-03-12   \n",
       "\n",
       "       ConfirmedCases  Fatalities  ForecastId  LogNewConfirmedCases  ...  \\\n",
       "13100           935.0         1.0         NaN              0.000000  ...   \n",
       "13101             2.0         0.0         NaN              0.000000  ...   \n",
       "13102            12.0         0.0         NaN              1.609438  ...   \n",
       "13103             0.0         0.0         NaN              0.000000  ...   \n",
       "13104            75.0         0.0         NaN              0.000000  ...   \n",
       "\n",
       "       CountryPopFemale  CountryPopTotal  CountryPopDensity  \\\n",
       "13100        698159.433      1433783.692           0.152722   \n",
       "13101        166238.618       329064.917           0.035974   \n",
       "13102         65172.136       127575.529           0.065627   \n",
       "13103         18847.500        37411.038           0.004173   \n",
       "13104        698159.433      1433783.692           0.152722   \n",
       "\n",
       "       CountrySmokingRate  CountryHospitalBedsRate  \\\n",
       "13100                24.4                     4.83   \n",
       "13101                 NaN                      NaN   \n",
       "13102                17.0                     0.97   \n",
       "13103                15.8                     2.53   \n",
       "13104                24.4                     4.83   \n",
       "\n",
       "       CountryHealthExpenditurePerCapitaPPP  PredictedLogNewConfirmedCases  \\\n",
       "13100                            884.980671                       0.118423   \n",
       "13101                                   NaN                       0.814873   \n",
       "13102                           1111.388850                       1.856637   \n",
       "13103                           5560.360961                       0.044168   \n",
       "13104                            884.980671                       0.040193   \n",
       "\n",
       "       PredictedLogNewFatalities  PredictedConfirmedCases  PredictedFatalities  \n",
       "13100                   0.000000                    935.0                  1.0  \n",
       "13101                   0.000000                      3.0                  0.0  \n",
       "13102                   0.000000                     13.0                  0.0  \n",
       "13103                   0.000499                      0.0                  0.0  \n",
       "13104                   0.000000                     75.0                  0.0  \n",
       "\n",
       "[5 rows x 97 columns]"
      ]
     },
     "execution_count": 50,
     "metadata": {},
     "output_type": "execute_result"
    }
   ],
   "source": [
    "prev_day_df = train_df.loc[train_df['Date'] == last_train_date] \n",
    "first_eval_date = last_train_date + pd.Timedelta(days=1)\n",
    "\n",
    "predict_for_dataset(eval_df, eval_features_df, prev_day_df, first_eval_date, last_eval_date, update_features_data=False)\n",
    "\n",
    "eval_df.head()"
   ]
  },
  {
   "cell_type": "code",
   "execution_count": 51,
   "metadata": {
    "colab": {
     "base_uri": "https://localhost:8080/",
     "height": 256
    },
    "colab_type": "code",
    "id": "Mz54gwV5K_qJ",
    "outputId": "f673acbb-46bc-4557-ec43-155fab9ec23d"
   },
   "outputs": [
    {
     "data": {
      "application/vnd.microsoft.datawrangler.viewer.v0+json": {
       "columns": [
        {
         "name": "index",
         "rawType": "int64",
         "type": "integer"
        },
        {
         "name": "Id",
         "rawType": "float64",
         "type": "float"
        },
        {
         "name": "Province/State",
         "rawType": "object",
         "type": "string"
        },
        {
         "name": "Country/Region",
         "rawType": "object",
         "type": "string"
        },
        {
         "name": "Lat",
         "rawType": "float64",
         "type": "float"
        },
        {
         "name": "Long",
         "rawType": "float64",
         "type": "float"
        },
        {
         "name": "Date",
         "rawType": "datetime64[ns]",
         "type": "datetime"
        },
        {
         "name": "ConfirmedCases",
         "rawType": "float64",
         "type": "float"
        },
        {
         "name": "Fatalities",
         "rawType": "float64",
         "type": "float"
        },
        {
         "name": "ForecastId",
         "rawType": "float64",
         "type": "float"
        },
        {
         "name": "LogNewConfirmedCases",
         "rawType": "float64",
         "type": "float"
        },
        {
         "name": "LogNewConfirmedCases_prev_day_1",
         "rawType": "float64",
         "type": "float"
        },
        {
         "name": "LogNewConfirmedCases_prev_day_2",
         "rawType": "float64",
         "type": "float"
        },
        {
         "name": "LogNewConfirmedCases_prev_day_3",
         "rawType": "float64",
         "type": "float"
        },
        {
         "name": "LogNewConfirmedCases_prev_day_4",
         "rawType": "float64",
         "type": "float"
        },
        {
         "name": "LogNewConfirmedCases_prev_day_5",
         "rawType": "float64",
         "type": "float"
        },
        {
         "name": "LogNewConfirmedCases_prev_day_6",
         "rawType": "float64",
         "type": "float"
        },
        {
         "name": "LogNewConfirmedCases_prev_day_7",
         "rawType": "float64",
         "type": "float"
        },
        {
         "name": "LogNewConfirmedCases_prev_day_8",
         "rawType": "float64",
         "type": "float"
        },
        {
         "name": "LogNewConfirmedCases_prev_day_9",
         "rawType": "float64",
         "type": "float"
        },
        {
         "name": "LogNewConfirmedCases_prev_day_10",
         "rawType": "float64",
         "type": "float"
        },
        {
         "name": "LogNewConfirmedCases_prev_day_11",
         "rawType": "float64",
         "type": "float"
        },
        {
         "name": "LogNewConfirmedCases_prev_day_12",
         "rawType": "float64",
         "type": "float"
        },
        {
         "name": "LogNewConfirmedCases_prev_day_13",
         "rawType": "float64",
         "type": "float"
        },
        {
         "name": "LogNewConfirmedCases_prev_day_14",
         "rawType": "float64",
         "type": "float"
        },
        {
         "name": "LogNewConfirmedCases_prev_day_15",
         "rawType": "float64",
         "type": "float"
        },
        {
         "name": "LogNewConfirmedCases_prev_day_16",
         "rawType": "float64",
         "type": "float"
        },
        {
         "name": "LogNewConfirmedCases_prev_day_17",
         "rawType": "float64",
         "type": "float"
        },
        {
         "name": "LogNewConfirmedCases_prev_day_18",
         "rawType": "float64",
         "type": "float"
        },
        {
         "name": "LogNewConfirmedCases_prev_day_19",
         "rawType": "float64",
         "type": "float"
        },
        {
         "name": "LogNewConfirmedCases_prev_day_20",
         "rawType": "float64",
         "type": "float"
        },
        {
         "name": "LogNewConfirmedCases_prev_day_21",
         "rawType": "float64",
         "type": "float"
        },
        {
         "name": "LogNewConfirmedCases_prev_day_22",
         "rawType": "float64",
         "type": "float"
        },
        {
         "name": "LogNewConfirmedCases_prev_day_23",
         "rawType": "float64",
         "type": "float"
        },
        {
         "name": "LogNewConfirmedCases_prev_day_24",
         "rawType": "float64",
         "type": "float"
        },
        {
         "name": "LogNewConfirmedCases_prev_day_25",
         "rawType": "float64",
         "type": "float"
        },
        {
         "name": "LogNewConfirmedCases_prev_day_26",
         "rawType": "float64",
         "type": "float"
        },
        {
         "name": "LogNewConfirmedCases_prev_day_27",
         "rawType": "float64",
         "type": "float"
        },
        {
         "name": "LogNewConfirmedCases_prev_day_28",
         "rawType": "float64",
         "type": "float"
        },
        {
         "name": "LogNewConfirmedCases_prev_day_29",
         "rawType": "float64",
         "type": "float"
        },
        {
         "name": "LogNewConfirmedCases_prev_day_30",
         "rawType": "float64",
         "type": "float"
        },
        {
         "name": "LogNewFatalities",
         "rawType": "float64",
         "type": "float"
        },
        {
         "name": "LogNewFatalities_prev_day_1",
         "rawType": "float64",
         "type": "float"
        },
        {
         "name": "LogNewFatalities_prev_day_2",
         "rawType": "float64",
         "type": "float"
        },
        {
         "name": "LogNewFatalities_prev_day_3",
         "rawType": "float64",
         "type": "float"
        },
        {
         "name": "LogNewFatalities_prev_day_4",
         "rawType": "float64",
         "type": "float"
        },
        {
         "name": "LogNewFatalities_prev_day_5",
         "rawType": "float64",
         "type": "float"
        },
        {
         "name": "LogNewFatalities_prev_day_6",
         "rawType": "float64",
         "type": "float"
        },
        {
         "name": "LogNewFatalities_prev_day_7",
         "rawType": "float64",
         "type": "float"
        },
        {
         "name": "LogNewFatalities_prev_day_8",
         "rawType": "float64",
         "type": "float"
        },
        {
         "name": "LogNewFatalities_prev_day_9",
         "rawType": "float64",
         "type": "float"
        },
        {
         "name": "LogNewFatalities_prev_day_10",
         "rawType": "float64",
         "type": "float"
        },
        {
         "name": "LogNewFatalities_prev_day_11",
         "rawType": "float64",
         "type": "float"
        },
        {
         "name": "LogNewFatalities_prev_day_12",
         "rawType": "float64",
         "type": "float"
        },
        {
         "name": "LogNewFatalities_prev_day_13",
         "rawType": "float64",
         "type": "float"
        },
        {
         "name": "LogNewFatalities_prev_day_14",
         "rawType": "float64",
         "type": "float"
        },
        {
         "name": "LogNewFatalities_prev_day_15",
         "rawType": "float64",
         "type": "float"
        },
        {
         "name": "LogNewFatalities_prev_day_16",
         "rawType": "float64",
         "type": "float"
        },
        {
         "name": "LogNewFatalities_prev_day_17",
         "rawType": "float64",
         "type": "float"
        },
        {
         "name": "LogNewFatalities_prev_day_18",
         "rawType": "float64",
         "type": "float"
        },
        {
         "name": "LogNewFatalities_prev_day_19",
         "rawType": "float64",
         "type": "float"
        },
        {
         "name": "LogNewFatalities_prev_day_20",
         "rawType": "float64",
         "type": "float"
        },
        {
         "name": "LogNewFatalities_prev_day_21",
         "rawType": "float64",
         "type": "float"
        },
        {
         "name": "LogNewFatalities_prev_day_22",
         "rawType": "float64",
         "type": "float"
        },
        {
         "name": "LogNewFatalities_prev_day_23",
         "rawType": "float64",
         "type": "float"
        },
        {
         "name": "LogNewFatalities_prev_day_24",
         "rawType": "float64",
         "type": "float"
        },
        {
         "name": "LogNewFatalities_prev_day_25",
         "rawType": "float64",
         "type": "float"
        },
        {
         "name": "LogNewFatalities_prev_day_26",
         "rawType": "float64",
         "type": "float"
        },
        {
         "name": "LogNewFatalities_prev_day_27",
         "rawType": "float64",
         "type": "float"
        },
        {
         "name": "LogNewFatalities_prev_day_28",
         "rawType": "float64",
         "type": "float"
        },
        {
         "name": "LogNewFatalities_prev_day_29",
         "rawType": "float64",
         "type": "float"
        },
        {
         "name": "LogNewFatalities_prev_day_30",
         "rawType": "float64",
         "type": "float"
        },
        {
         "name": "Day",
         "rawType": "int32",
         "type": "integer"
        },
        {
         "name": "WeekDay",
         "rawType": "int64",
         "type": "integer"
        },
        {
         "name": "Days_since_ConfirmedCases=1",
         "rawType": "float64",
         "type": "float"
        },
        {
         "name": "Days_since_Fatalities=1",
         "rawType": "float64",
         "type": "float"
        },
        {
         "name": "Days_since_ConfirmedCases=10",
         "rawType": "float64",
         "type": "float"
        },
        {
         "name": "Days_since_Fatalities=10",
         "rawType": "float64",
         "type": "float"
        },
        {
         "name": "Days_since_ConfirmedCases=100",
         "rawType": "float64",
         "type": "float"
        },
        {
         "name": "Days_since_Fatalities=100",
         "rawType": "float64",
         "type": "float"
        },
        {
         "name": "Distance_to_origin",
         "rawType": "float64",
         "type": "float"
        },
        {
         "name": "CountryArea",
         "rawType": "float64",
         "type": "float"
        },
        {
         "name": "CountryPop_0-20",
         "rawType": "float64",
         "type": "float"
        },
        {
         "name": "CountryPop_20-40",
         "rawType": "float64",
         "type": "float"
        },
        {
         "name": "CountryPop_40-60",
         "rawType": "float64",
         "type": "float"
        },
        {
         "name": "CountryPop_60-80",
         "rawType": "float64",
         "type": "float"
        },
        {
         "name": "CountryPop_80+",
         "rawType": "float64",
         "type": "float"
        },
        {
         "name": "CountryPopMale",
         "rawType": "float64",
         "type": "float"
        },
        {
         "name": "CountryPopFemale",
         "rawType": "float64",
         "type": "float"
        },
        {
         "name": "CountryPopTotal",
         "rawType": "float64",
         "type": "float"
        },
        {
         "name": "CountryPopDensity",
         "rawType": "float64",
         "type": "float"
        },
        {
         "name": "CountrySmokingRate",
         "rawType": "float64",
         "type": "float"
        },
        {
         "name": "CountryHospitalBedsRate",
         "rawType": "float64",
         "type": "float"
        },
        {
         "name": "CountryHealthExpenditurePerCapitaPPP",
         "rawType": "float64",
         "type": "float"
        },
        {
         "name": "PredictedLogNewConfirmedCases",
         "rawType": "float64",
         "type": "float"
        },
        {
         "name": "PredictedLogNewFatalities",
         "rawType": "float64",
         "type": "float"
        },
        {
         "name": "PredictedConfirmedCases",
         "rawType": "float64",
         "type": "float"
        },
        {
         "name": "PredictedFatalities",
         "rawType": "float64",
         "type": "float"
        }
       ],
       "ref": "c43dcc59-0c6b-477b-b495-02ad87caf64a",
       "rows": [
        [
         "16506",
         null,
         "Heilongjiang",
         "China",
         "47.862",
         "127.7615",
         "2020-03-25 00:00:00",
         null,
         null,
         "2465.0",
         null,
         "0.0",
         "0.0",
         "0.0",
         "0.0",
         "0.0",
         "0.0",
         "0.0",
         "0.0",
         "0.0",
         "0.0",
         "0.0",
         "0.0",
         "0.0",
         "0.0",
         "0.0",
         "0.0",
         "0.0",
         "0.0",
         "0.0",
         "0.0",
         "0.0",
         "0.0",
         "0.0",
         "0.0",
         "0.0",
         "0.0",
         "0.0",
         "0.0",
         "0.0",
         "0.0",
         null,
         "0.0",
         "0.0",
         "0.0",
         "0.0",
         "0.0",
         "0.0",
         "0.0",
         "0.0",
         "0.0",
         "0.0",
         "0.0",
         "0.0",
         "0.0",
         "0.0",
         "0.0",
         "0.0",
         "0.0",
         "0.0",
         "0.0",
         "0.0",
         "0.0",
         "0.0",
         "0.0",
         "0.0",
         "0.0",
         "0.0",
         "0.0",
         "0.0",
         "0.0",
         "0.0",
         "63",
         "2",
         null,
         null,
         null,
         null,
         null,
         null,
         "2291.452100302126",
         "9388210.0",
         "338099.542",
         "416397.38200000004",
         "437824.994",
         "215315.36200000002",
         "26146.412",
         "735624.2590000003",
         "698159.433",
         "1433783.6920000003",
         "0.15272173204476683",
         "24.4",
         "4.83",
         "884.980671328579",
         "0.014464020157425539",
         "5.6110925694997926e-05",
         "0.0",
         "0.0"
        ],
        [
         "16507",
         null,
         "Kansas",
         "US",
         "38.5266",
         "-96.7265",
         "2020-03-25 00:00:00",
         null,
         null,
         "10033.0",
         null,
         "2.833213344056216",
         "3.044522437723423",
         "2.0794415416798357",
         "2.6390573296152584",
         "2.3978952727983707",
         "2.833213344056216",
         "0.0",
         "2.0794415416798357",
         "1.3862943611198906",
         "0.0",
         "1.3862943611198906",
         "1.6094379124341003",
         "0.0",
         "0.0",
         "0.6931471805599453",
         "0.0",
         "0.0",
         "0.0",
         "0.0",
         "0.0",
         "0.0",
         "0.0",
         "0.0",
         "0.0",
         "0.0",
         "0.0",
         "0.0",
         "0.0",
         "0.0",
         "0.0",
         null,
         "0.0",
         "0.0",
         "0.0",
         "0.6931471805599453",
         "0.0",
         "0.0",
         "0.0",
         "0.0",
         "0.0",
         "0.0",
         "0.0",
         "0.6931471805599453",
         "0.0",
         "0.0",
         "0.0",
         "0.0",
         "0.0",
         "0.0",
         "0.0",
         "0.0",
         "0.0",
         "0.0",
         "0.0",
         "0.0",
         "0.0",
         "0.0",
         "0.0",
         "0.0",
         "0.0",
         "0.0",
         "63",
         "2",
         "15.0",
         "12.0",
         "9.0",
         null,
         "1.0",
         null,
         "11746.264894015458",
         "9147420.0",
         "82289.916",
         "90159.134",
         "82846.126",
         "60854.331999999995",
         "12915.409",
         "162826.299",
         "166238.61800000002",
         "329064.917",
         "0.03597352226092166",
         null,
         null,
         null,
         "2.6015321624088035",
         "0.06408702872672317",
         "82.0",
         "1.0"
        ],
        [
         "16508",
         null,
         "Hainan",
         "China",
         "19.1959",
         "109.7453",
         "2020-03-25 00:00:00",
         null,
         null,
         "2379.0",
         null,
         "0.0",
         "0.0",
         "0.0",
         "0.0",
         "0.0",
         "0.0",
         "0.0",
         "0.0",
         "0.0",
         "0.0",
         "0.0",
         "0.0",
         "0.0",
         "0.0",
         "0.0",
         "0.0",
         "0.0",
         "0.0",
         "0.0",
         "0.0",
         "0.0",
         "0.0",
         "0.0",
         "0.0",
         "0.0",
         "0.0",
         "0.0",
         "0.0",
         "0.0",
         "0.0",
         null,
         "0.0",
         "0.0",
         "0.0",
         "0.0",
         "0.0",
         "0.0",
         "0.0",
         "0.0",
         "0.0",
         "0.0",
         "0.0",
         "0.0",
         "0.0",
         "0.0",
         "0.0",
         "0.0",
         "0.0",
         "0.0",
         "0.0",
         "0.6931471805599453",
         "0.0",
         "0.0",
         "0.0",
         "0.0",
         "0.0",
         "0.0",
         "0.0",
         "0.0",
         "0.0",
         "0.0",
         "63",
         "2",
         "63.0",
         "58.0",
         "60.0",
         null,
         "48.0",
         null,
         "1329.4092357505886",
         "9388210.0",
         "338099.542",
         "416397.38200000004",
         "437824.994",
         "215315.36200000002",
         "26146.412",
         "735624.2590000003",
         "698159.433",
         "1433783.6920000003",
         "0.15272173204476683",
         "24.4",
         "4.83",
         "884.980671328579",
         "0.6887825309302027",
         "0.02154843629874085",
         "180.0",
         "7.0"
        ],
        [
         "16509",
         null,
         "Missouri",
         "US",
         "38.4561",
         "-92.2884",
         "2020-03-25 00:00:00",
         null,
         null,
         "10420.0",
         null,
         "4.2626798770413155",
         "4.477336814478207",
         "3.295836866004329",
         "3.091042453358316",
         "3.1354942159291497",
         "2.6390573296152584",
         "2.0794415416798357",
         "1.791759469228055",
         "0.6931471805599453",
         "0.6931471805599453",
         "1.0986122886681098",
         "0.6931471805599453",
         "0.0",
         "0.0",
         "0.6931471805599453",
         "0.0",
         "0.0",
         "0.0",
         "0.0",
         "0.0",
         "0.0",
         "0.0",
         "0.0",
         "0.0",
         "0.0",
         "0.0",
         "0.0",
         "0.0",
         "0.0",
         "0.0",
         null,
         "1.3862943611198906",
         "0.6931471805599453",
         "0.0",
         "0.6931471805599453",
         "0.6931471805599453",
         "0.6931471805599453",
         "0.0",
         "0.0",
         "0.0",
         "0.0",
         "0.0",
         "0.0",
         "0.0",
         "0.0",
         "0.0",
         "0.0",
         "0.0",
         "0.0",
         "0.0",
         "0.0",
         "0.0",
         "0.0",
         "0.0",
         "0.0",
         "0.0",
         "0.0",
         "0.0",
         "0.0",
         "0.0",
         "0.0",
         "63",
         "2",
         "15.0",
         "6.0",
         "8.0",
         null,
         "3.0",
         null,
         "11908.808376899055",
         "9147420.0",
         "82289.916",
         "90159.134",
         "82846.126",
         "60854.331999999995",
         "12915.409",
         "162826.299",
         "166238.61800000002",
         "329064.917",
         "0.03597352226092166",
         null,
         null,
         null,
         "3.7795236397702836",
         "0.5439043497267602",
         "161.0",
         "2.0"
        ],
        [
         "16510",
         null,
         "Hebei",
         "China",
         "39.549",
         "116.1306",
         "2020-03-25 00:00:00",
         null,
         null,
         "2422.0",
         null,
         "0.0",
         "0.0",
         "0.6931471805599453",
         "0.0",
         "0.0",
         "0.0",
         "0.0",
         "0.0",
         "0.0",
         "0.0",
         "0.0",
         "0.0",
         "0.0",
         "0.0",
         "0.0",
         "0.0",
         "0.0",
         "0.0",
         "0.0",
         "0.0",
         "0.0",
         "0.0",
         "0.0",
         "0.0",
         "0.0",
         "0.6931471805599453",
         "1.791759469228055",
         "0.6931471805599453",
         "0.0",
         "0.0",
         null,
         "0.0",
         "0.0",
         "0.0",
         "0.0",
         "0.0",
         "0.0",
         "0.0",
         "0.0",
         "0.0",
         "0.0",
         "0.0",
         "0.0",
         "0.0",
         "0.0",
         "0.0",
         "0.0",
         "0.0",
         "0.0",
         "0.0",
         "0.0",
         "0.0",
         "0.0",
         "0.0",
         "0.0",
         "0.0",
         "0.0",
         "0.0",
         "0.0",
         "0.0",
         "0.0",
         "63",
         "2",
         "63.0",
         "62.0",
         "59.0",
         null,
         "52.0",
         null,
         "1013.6701822138255",
         "9388210.0",
         "338099.542",
         "416397.38200000004",
         "437824.994",
         "215315.36200000002",
         "26146.412",
         "735624.2590000003",
         "698159.433",
         "1433783.6920000003",
         "0.15272173204476683",
         "24.4",
         "4.83",
         "884.980671328579",
         "0.8807422999681053",
         "0.003232477526639372",
         "329.0",
         "6.0"
        ]
       ],
       "shape": {
        "columns": 97,
        "rows": 5
       }
      },
      "text/html": [
       "<div>\n",
       "<style scoped>\n",
       "    .dataframe tbody tr th:only-of-type {\n",
       "        vertical-align: middle;\n",
       "    }\n",
       "\n",
       "    .dataframe tbody tr th {\n",
       "        vertical-align: top;\n",
       "    }\n",
       "\n",
       "    .dataframe thead th {\n",
       "        text-align: right;\n",
       "    }\n",
       "</style>\n",
       "<table border=\"1\" class=\"dataframe\">\n",
       "  <thead>\n",
       "    <tr style=\"text-align: right;\">\n",
       "      <th></th>\n",
       "      <th>Id</th>\n",
       "      <th>Province/State</th>\n",
       "      <th>Country/Region</th>\n",
       "      <th>Lat</th>\n",
       "      <th>Long</th>\n",
       "      <th>Date</th>\n",
       "      <th>ConfirmedCases</th>\n",
       "      <th>Fatalities</th>\n",
       "      <th>ForecastId</th>\n",
       "      <th>LogNewConfirmedCases</th>\n",
       "      <th>...</th>\n",
       "      <th>CountryPopFemale</th>\n",
       "      <th>CountryPopTotal</th>\n",
       "      <th>CountryPopDensity</th>\n",
       "      <th>CountrySmokingRate</th>\n",
       "      <th>CountryHospitalBedsRate</th>\n",
       "      <th>CountryHealthExpenditurePerCapitaPPP</th>\n",
       "      <th>PredictedLogNewConfirmedCases</th>\n",
       "      <th>PredictedLogNewFatalities</th>\n",
       "      <th>PredictedConfirmedCases</th>\n",
       "      <th>PredictedFatalities</th>\n",
       "    </tr>\n",
       "  </thead>\n",
       "  <tbody>\n",
       "    <tr>\n",
       "      <th>16506</th>\n",
       "      <td>NaN</td>\n",
       "      <td>Heilongjiang</td>\n",
       "      <td>China</td>\n",
       "      <td>47.8620</td>\n",
       "      <td>127.7615</td>\n",
       "      <td>2020-03-25</td>\n",
       "      <td>NaN</td>\n",
       "      <td>NaN</td>\n",
       "      <td>2465.0</td>\n",
       "      <td>NaN</td>\n",
       "      <td>...</td>\n",
       "      <td>698159.433</td>\n",
       "      <td>1433783.692</td>\n",
       "      <td>0.152722</td>\n",
       "      <td>24.4</td>\n",
       "      <td>4.83</td>\n",
       "      <td>884.980671</td>\n",
       "      <td>0.014464</td>\n",
       "      <td>0.000056</td>\n",
       "      <td>0.0</td>\n",
       "      <td>0.0</td>\n",
       "    </tr>\n",
       "    <tr>\n",
       "      <th>16507</th>\n",
       "      <td>NaN</td>\n",
       "      <td>Kansas</td>\n",
       "      <td>US</td>\n",
       "      <td>38.5266</td>\n",
       "      <td>-96.7265</td>\n",
       "      <td>2020-03-25</td>\n",
       "      <td>NaN</td>\n",
       "      <td>NaN</td>\n",
       "      <td>10033.0</td>\n",
       "      <td>NaN</td>\n",
       "      <td>...</td>\n",
       "      <td>166238.618</td>\n",
       "      <td>329064.917</td>\n",
       "      <td>0.035974</td>\n",
       "      <td>NaN</td>\n",
       "      <td>NaN</td>\n",
       "      <td>NaN</td>\n",
       "      <td>2.601532</td>\n",
       "      <td>0.064087</td>\n",
       "      <td>82.0</td>\n",
       "      <td>1.0</td>\n",
       "    </tr>\n",
       "    <tr>\n",
       "      <th>16508</th>\n",
       "      <td>NaN</td>\n",
       "      <td>Hainan</td>\n",
       "      <td>China</td>\n",
       "      <td>19.1959</td>\n",
       "      <td>109.7453</td>\n",
       "      <td>2020-03-25</td>\n",
       "      <td>NaN</td>\n",
       "      <td>NaN</td>\n",
       "      <td>2379.0</td>\n",
       "      <td>NaN</td>\n",
       "      <td>...</td>\n",
       "      <td>698159.433</td>\n",
       "      <td>1433783.692</td>\n",
       "      <td>0.152722</td>\n",
       "      <td>24.4</td>\n",
       "      <td>4.83</td>\n",
       "      <td>884.980671</td>\n",
       "      <td>0.688783</td>\n",
       "      <td>0.021548</td>\n",
       "      <td>180.0</td>\n",
       "      <td>7.0</td>\n",
       "    </tr>\n",
       "    <tr>\n",
       "      <th>16509</th>\n",
       "      <td>NaN</td>\n",
       "      <td>Missouri</td>\n",
       "      <td>US</td>\n",
       "      <td>38.4561</td>\n",
       "      <td>-92.2884</td>\n",
       "      <td>2020-03-25</td>\n",
       "      <td>NaN</td>\n",
       "      <td>NaN</td>\n",
       "      <td>10420.0</td>\n",
       "      <td>NaN</td>\n",
       "      <td>...</td>\n",
       "      <td>166238.618</td>\n",
       "      <td>329064.917</td>\n",
       "      <td>0.035974</td>\n",
       "      <td>NaN</td>\n",
       "      <td>NaN</td>\n",
       "      <td>NaN</td>\n",
       "      <td>3.779524</td>\n",
       "      <td>0.543904</td>\n",
       "      <td>161.0</td>\n",
       "      <td>2.0</td>\n",
       "    </tr>\n",
       "    <tr>\n",
       "      <th>16510</th>\n",
       "      <td>NaN</td>\n",
       "      <td>Hebei</td>\n",
       "      <td>China</td>\n",
       "      <td>39.5490</td>\n",
       "      <td>116.1306</td>\n",
       "      <td>2020-03-25</td>\n",
       "      <td>NaN</td>\n",
       "      <td>NaN</td>\n",
       "      <td>2422.0</td>\n",
       "      <td>NaN</td>\n",
       "      <td>...</td>\n",
       "      <td>698159.433</td>\n",
       "      <td>1433783.692</td>\n",
       "      <td>0.152722</td>\n",
       "      <td>24.4</td>\n",
       "      <td>4.83</td>\n",
       "      <td>884.980671</td>\n",
       "      <td>0.880742</td>\n",
       "      <td>0.003232</td>\n",
       "      <td>329.0</td>\n",
       "      <td>6.0</td>\n",
       "    </tr>\n",
       "  </tbody>\n",
       "</table>\n",
       "<p>5 rows × 97 columns</p>\n",
       "</div>"
      ],
      "text/plain": [
       "       Id Province/State Country/Region      Lat      Long       Date  \\\n",
       "16506 NaN   Heilongjiang          China  47.8620  127.7615 2020-03-25   \n",
       "16507 NaN         Kansas             US  38.5266  -96.7265 2020-03-25   \n",
       "16508 NaN         Hainan          China  19.1959  109.7453 2020-03-25   \n",
       "16509 NaN       Missouri             US  38.4561  -92.2884 2020-03-25   \n",
       "16510 NaN          Hebei          China  39.5490  116.1306 2020-03-25   \n",
       "\n",
       "       ConfirmedCases  Fatalities  ForecastId  LogNewConfirmedCases  ...  \\\n",
       "16506             NaN         NaN      2465.0                   NaN  ...   \n",
       "16507             NaN         NaN     10033.0                   NaN  ...   \n",
       "16508             NaN         NaN      2379.0                   NaN  ...   \n",
       "16509             NaN         NaN     10420.0                   NaN  ...   \n",
       "16510             NaN         NaN      2422.0                   NaN  ...   \n",
       "\n",
       "       CountryPopFemale  CountryPopTotal  CountryPopDensity  \\\n",
       "16506        698159.433      1433783.692           0.152722   \n",
       "16507        166238.618       329064.917           0.035974   \n",
       "16508        698159.433      1433783.692           0.152722   \n",
       "16509        166238.618       329064.917           0.035974   \n",
       "16510        698159.433      1433783.692           0.152722   \n",
       "\n",
       "       CountrySmokingRate  CountryHospitalBedsRate  \\\n",
       "16506                24.4                     4.83   \n",
       "16507                 NaN                      NaN   \n",
       "16508                24.4                     4.83   \n",
       "16509                 NaN                      NaN   \n",
       "16510                24.4                     4.83   \n",
       "\n",
       "       CountryHealthExpenditurePerCapitaPPP  PredictedLogNewConfirmedCases  \\\n",
       "16506                            884.980671                       0.014464   \n",
       "16507                                   NaN                       2.601532   \n",
       "16508                            884.980671                       0.688783   \n",
       "16509                                   NaN                       3.779524   \n",
       "16510                            884.980671                       0.880742   \n",
       "\n",
       "       PredictedLogNewFatalities  PredictedConfirmedCases  PredictedFatalities  \n",
       "16506                   0.000056                      0.0                  0.0  \n",
       "16507                   0.064087                     82.0                  1.0  \n",
       "16508                   0.021548                    180.0                  7.0  \n",
       "16509                   0.543904                    161.0                  2.0  \n",
       "16510                   0.003232                    329.0                  6.0  \n",
       "\n",
       "[5 rows x 97 columns]"
      ]
     },
     "execution_count": 51,
     "metadata": {},
     "output_type": "execute_result"
    }
   ],
   "source": [
    "prev_day_df = eval_df.loc[eval_df['Date'] == last_eval_date] \n",
    "first_test_date = last_eval_date + pd.Timedelta(days=1)\n",
    "\n",
    "predict_for_dataset(test_df, test_features_df, prev_day_df, first_test_date, last_test_date, update_features_data=True)\n",
    "\n",
    "test_df.head()"
   ]
  },
  {
   "cell_type": "markdown",
   "metadata": {
    "colab_type": "text",
    "id": "kGvuRuKs_Fyz"
   },
   "source": [
    "## Plots with predictions\n"
   ]
  },
  {
   "cell_type": "code",
   "execution_count": 52,
   "metadata": {
    "colab": {},
    "colab_type": "code",
    "id": "XcXpdsQjTodz"
   },
   "outputs": [],
   "source": [
    "main_df = pd.concat([train_df, eval_df, test_df])"
   ]
  },
  {
   "cell_type": "code",
   "execution_count": 53,
   "metadata": {
    "colab": {
     "base_uri": "https://localhost:8080/",
     "height": 1000
    },
    "colab_type": "code",
    "id": "bWFfwZA1_7uI",
    "outputId": "09beab14-9b28-43d9-c4ee-e3dae161579f"
   },
   "outputs": [
    {
     "data": {
      "image/png": "[encoded data removed]",
      "text/plain": [
       "<Figure size 1600x1000 with 1 Axes>"
      ]
     },
     "metadata": {},
     "output_type": "display_data"
    },
    {
     "data": {
      "image/png": "[encoded data removed]",
      "text/plain": [
       "<Figure size 1600x1000 with 1 Axes>"
      ]
     },
     "metadata": {},
     "output_type": "display_data"
    },
    {
     "data": {
      "image/png": "[encoded data removed]",
      "text/plain": [
       "<Figure size 1600x1000 with 1 Axes>"
      ]
     },
     "metadata": {},
     "output_type": "display_data"
    },
    {
     "data": {
      "image/png": "[encoded data removed]",
      "text/plain": [
       "<Figure size 1600x1000 with 1 Axes>"
      ]
     },
     "metadata": {},
     "output_type": "display_data"
    },
    {
     "data": {
      "image/png": "[encoded data removed]",
      "text/plain": [
       "<Figure size 1600x1000 with 1 Axes>"
      ]
     },
     "metadata": {},
     "output_type": "display_data"
    },
    {
     "data": {
      "image/png": "[encoded data removed]",
      "text/plain": [
       "<Figure size 1600x1000 with 1 Axes>"
      ]
     },
     "metadata": {},
     "output_type": "display_data"
    }
   ],
   "source": [
    "%matplotlib inline\n",
    "import matplotlib.pyplot as plt\n",
    "import matplotlib\n",
    "\n",
    "\n",
    "def plot_graph(country_region, province_state, field, log_scale=True):\n",
    "    location_df = main_df.loc[\n",
    "        (main_df['Country/Region'] == country_region) & (main_df['Province/State'] == province_state)\n",
    "    ]\n",
    "\n",
    "    if province_state:\n",
    "        title = '%s for %s, %s' % (field, country_region, province_state)\n",
    "    else:\n",
    "        title = '%s for %s' % (field, country_region)\n",
    "    \n",
    "    plt.figure(figsize = (16, 10))\n",
    "    plt.suptitle(title, fontsize=14)\n",
    "    if log_scale:\n",
    "        plt.yscale('log')\n",
    "\n",
    "    for sub_field in [field, 'Predicted' + field]:\n",
    "        plt.plot(location_df['Date'], location_df[sub_field], label=sub_field)\n",
    "\n",
    "\n",
    "    # add vertical lines splitting train, test and eval parts of the graph\n",
    "    ax = plt.gca()\n",
    "\n",
    "    # the x coords of this transformation are data, and the\n",
    "    # y coord are axes\n",
    "    transform_for_text = matplotlib.transforms.blended_transform_factory(ax.transData, ax.transAxes)\n",
    "\n",
    "    plt.axvline(x=last_train_date, color='#000000')\n",
    "    plt.text(first_eval_date, 0.95, 'eval', transform = transform_for_text)\n",
    "    plt.axvline(x=last_eval_date, color='#000000')\n",
    "    plt.text(first_test_date, 0.95, 'test', transform = transform_for_text)\n",
    "\n",
    "\n",
    "    plt.legend()\n",
    "    plt.show()\n",
    "\n",
    "plot_graph('US', 'Kansas', 'ConfirmedCases')\n",
    "plot_graph('US', 'Kansas', 'Fatalities')\n",
    "plot_graph('China', 'Hubei', 'ConfirmedCases')\n",
    "plot_graph('China', 'Hubei', 'Fatalities')\n",
    "plot_graph('Germany', '', 'ConfirmedCases', log_scale=False)\n",
    "plot_graph('Germany', '', 'Fatalities', log_scale=False)"
   ]
  },
  {
   "cell_type": "code",
   "execution_count": null,
   "metadata": {},
   "outputs": [],
   "source": []
  }
 ],
 "metadata": {
  "colab": {
   "collapsed_sections": [],
   "name": "COVID_19_2.ipynb",
   "provenance": []
  },
  "kernelspec": {
   "display_name": "Python 3",
   "language": "python",
   "name": "python3"
  },
  "language_info": {
   "codemirror_mode": {
    "name": "ipython",
    "version": 3
   },
   "file_extension": ".py",
   "mimetype": "text/x-python",
   "name": "python",
   "nbconvert_exporter": "python",
   "pygments_lexer": "ipython3",
   "version": "3.11.3"
  }
 },
 "nbformat": 4,
 "nbformat_minor": 0
}
